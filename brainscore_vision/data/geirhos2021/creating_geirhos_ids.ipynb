{
 "cells": [
  {
   "cell_type": "code",
   "execution_count": 97,
   "metadata": {
    "collapsed": true
   },
   "outputs": [],
   "source": [
    "import pandas as pd\n",
    "import numpy as np"
   ]
  },
  {
   "cell_type": "code",
   "execution_count": 51,
   "outputs": [],
   "source": [
    "DATASETS = ['colour', 'contrast', 'cue-conflict', 'edge',\n",
    "            'eidolonI', 'eidolonII', 'eidolonIII',\n",
    "            'false-colour', 'high-pass', 'low-pass', 'phase-scrambling', 'power-equalisation',\n",
    "            'rotation', 'silhouette', 'sketch', 'stylized', 'uniform-noise']"
   ],
   "metadata": {
    "collapsed": false
   }
  },
  {
   "cell_type": "code",
   "execution_count": 3,
   "outputs": [],
   "source": [
    "lookup_csv = pd.read_csv('lookup.csv')"
   ],
   "metadata": {
    "collapsed": false
   }
  },
  {
   "cell_type": "code",
   "execution_count": 7,
   "outputs": [
    {
     "data": {
      "text/plain": "                            identifier   lookup_type               class  \\\n0                          dicarlo.hvm  stimulus_set         StimulusSet   \n1                          dicarlo.hvm  stimulus_set                 NaN   \n2                    gallant.David2004  stimulus_set         StimulusSet   \n3                    gallant.David2004  stimulus_set                 NaN   \n4                    tolias.Cadena2017  stimulus_set         StimulusSet   \n..                                 ...           ...                 ...   \n164         brendel.Geirhos2021_sketch      assembly  BehavioralAssembly   \n165       brendel.Geirhos2021_stylized      assembly  BehavioralAssembly   \n166  brendel.Geirhos2021_uniform-noise      assembly  BehavioralAssembly   \n167                 katz.BarbuMayo2019  stimulus_set         StimulusSet   \n168                 katz.BarbuMayo2019  stimulus_set                 NaN   \n\n    location_type                                           location  \\\n0              S3  https://brainio-brainscore.s3.amazonaws.com/image...   \n1              S3  https://brainio-brainscore.s3.amazonaws.com/image...   \n2              S3  https://brainio-brainscore.s3.amazonaws.com/image...   \n3              S3  https://brainio-brainscore.s3.amazonaws.com/image...   \n4              S3  https://brainio-brainscore.s3.amazonaws.com/image...   \n..            ...                                                ...   \n164            S3  https://brainio-brainscore.s3.amazonaws.com/as...   \n165            S3  https://brainio-brainscore.s3.amazonaws.com/as...   \n166            S3  https://brainio-brainscore.s3.amazonaws.com/as...   \n167            S3  https://brainio-brainscore.s3.amazonaws.com/im...   \n168            S3  https://brainio-brainscore.s3.amazonaws.com/im...   \n\n                                         sha1  \\\n0    a56f55205904d5fb5ead4d0dc7bfad5cc4083b94   \n1    6fd5080deccfb061699909ffcb86a26209516811   \n2    8ec76338b998cadcdf1e57edd2dd992e2ab2355b   \n3    0200421d66a0613946d39cab64c00b561160016e   \n4    f55b174cc4540e5612cfba5e695324328064b051   \n..                                        ...   \n164  6709850864cea16d99a29fb31ae3c4a489983562   \n165  dcf15f292e787a88e1e0f271e6b2838d6bdadfd3   \n166  f5e8b2636738f978c71591b8df6f8a21a66b72d1   \n167  e4d8888ccb6beca28636e6698e7beb130e278e12   \n168  1365eb2a7231516806127a7d2a908343a7ac9464   \n\n               stimulus_set_identifier       lookup_source  \n0                                  NaN  brainio_brainscore  \n1                                  NaN  brainio_brainscore  \n2                                  NaN  brainio_brainscore  \n3                                  NaN  brainio_brainscore  \n4                                  NaN  brainio_brainscore  \n..                                 ...                 ...  \n164         brendel.Geirhos2021_sketch  brainio_brainscore  \n165       brendel.Geirhos2021_stylized  brainio_brainscore  \n166  brendel.Geirhos2021_uniform-noise  brainio_brainscore  \n167                                NaN  brainio_brainscore  \n168                                NaN  brainio_brainscore  \n\n[169 rows x 8 columns]",
      "text/html": "<div>\n<style scoped>\n    .dataframe tbody tr th:only-of-type {\n        vertical-align: middle;\n    }\n\n    .dataframe tbody tr th {\n        vertical-align: top;\n    }\n\n    .dataframe thead th {\n        text-align: right;\n    }\n</style>\n<table border=\"1\" class=\"dataframe\">\n  <thead>\n    <tr style=\"text-align: right;\">\n      <th></th>\n      <th>identifier</th>\n      <th>lookup_type</th>\n      <th>class</th>\n      <th>location_type</th>\n      <th>location</th>\n      <th>sha1</th>\n      <th>stimulus_set_identifier</th>\n      <th>lookup_source</th>\n    </tr>\n  </thead>\n  <tbody>\n    <tr>\n      <th>0</th>\n      <td>dicarlo.hvm</td>\n      <td>stimulus_set</td>\n      <td>StimulusSet</td>\n      <td>S3</td>\n      <td>https://brainio-brainscore.s3.amazonaws.com/image...</td>\n      <td>a56f55205904d5fb5ead4d0dc7bfad5cc4083b94</td>\n      <td>NaN</td>\n      <td>brainio_brainscore</td>\n    </tr>\n    <tr>\n      <th>1</th>\n      <td>dicarlo.hvm</td>\n      <td>stimulus_set</td>\n      <td>NaN</td>\n      <td>S3</td>\n      <td>https://brainio-brainscore.s3.amazonaws.com/image...</td>\n      <td>6fd5080deccfb061699909ffcb86a26209516811</td>\n      <td>NaN</td>\n      <td>brainio_brainscore</td>\n    </tr>\n    <tr>\n      <th>2</th>\n      <td>gallant.David2004</td>\n      <td>stimulus_set</td>\n      <td>StimulusSet</td>\n      <td>S3</td>\n      <td>https://brainio-brainscore.s3.amazonaws.com/image...</td>\n      <td>8ec76338b998cadcdf1e57edd2dd992e2ab2355b</td>\n      <td>NaN</td>\n      <td>brainio_brainscore</td>\n    </tr>\n    <tr>\n      <th>3</th>\n      <td>gallant.David2004</td>\n      <td>stimulus_set</td>\n      <td>NaN</td>\n      <td>S3</td>\n      <td>https://brainio-brainscore.s3.amazonaws.com/image...</td>\n      <td>0200421d66a0613946d39cab64c00b561160016e</td>\n      <td>NaN</td>\n      <td>brainio_brainscore</td>\n    </tr>\n    <tr>\n      <th>4</th>\n      <td>tolias.Cadena2017</td>\n      <td>stimulus_set</td>\n      <td>StimulusSet</td>\n      <td>S3</td>\n      <td>https://brainio-brainscore.s3.amazonaws.com/image...</td>\n      <td>f55b174cc4540e5612cfba5e695324328064b051</td>\n      <td>NaN</td>\n      <td>brainio_brainscore</td>\n    </tr>\n    <tr>\n      <th>...</th>\n      <td>...</td>\n      <td>...</td>\n      <td>...</td>\n      <td>...</td>\n      <td>...</td>\n      <td>...</td>\n      <td>...</td>\n      <td>...</td>\n    </tr>\n    <tr>\n      <th>164</th>\n      <td>brendel.Geirhos2021_sketch</td>\n      <td>assembly</td>\n      <td>BehavioralAssembly</td>\n      <td>S3</td>\n      <td>https://brainio-brainscore.s3.amazonaws.com/as...</td>\n      <td>6709850864cea16d99a29fb31ae3c4a489983562</td>\n      <td>brendel.Geirhos2021_sketch</td>\n      <td>brainio_brainscore</td>\n    </tr>\n    <tr>\n      <th>165</th>\n      <td>brendel.Geirhos2021_stylized</td>\n      <td>assembly</td>\n      <td>BehavioralAssembly</td>\n      <td>S3</td>\n      <td>https://brainio-brainscore.s3.amazonaws.com/as...</td>\n      <td>dcf15f292e787a88e1e0f271e6b2838d6bdadfd3</td>\n      <td>brendel.Geirhos2021_stylized</td>\n      <td>brainio_brainscore</td>\n    </tr>\n    <tr>\n      <th>166</th>\n      <td>brendel.Geirhos2021_uniform-noise</td>\n      <td>assembly</td>\n      <td>BehavioralAssembly</td>\n      <td>S3</td>\n      <td>https://brainio-brainscore.s3.amazonaws.com/as...</td>\n      <td>f5e8b2636738f978c71591b8df6f8a21a66b72d1</td>\n      <td>brendel.Geirhos2021_uniform-noise</td>\n      <td>brainio_brainscore</td>\n    </tr>\n    <tr>\n      <th>167</th>\n      <td>katz.BarbuMayo2019</td>\n      <td>stimulus_set</td>\n      <td>StimulusSet</td>\n      <td>S3</td>\n      <td>https://brainio-brainscore.s3.amazonaws.com/im...</td>\n      <td>e4d8888ccb6beca28636e6698e7beb130e278e12</td>\n      <td>NaN</td>\n      <td>brainio_brainscore</td>\n    </tr>\n    <tr>\n      <th>168</th>\n      <td>katz.BarbuMayo2019</td>\n      <td>stimulus_set</td>\n      <td>NaN</td>\n      <td>S3</td>\n      <td>https://brainio-brainscore.s3.amazonaws.com/im...</td>\n      <td>1365eb2a7231516806127a7d2a908343a7ac9464</td>\n      <td>NaN</td>\n      <td>brainio_brainscore</td>\n    </tr>\n  </tbody>\n</table>\n<p>169 rows × 8 columns</p>\n</div>"
     },
     "execution_count": 7,
     "metadata": {},
     "output_type": "execute_result"
    }
   ],
   "source": [
    "lookup_csv"
   ],
   "metadata": {
    "collapsed": false
   }
  },
  {
   "cell_type": "code",
   "execution_count": 26,
   "outputs": [
    {
     "data": {
      "text/plain": "                                 identifier   lookup_type               class  \\\n116              brendel.Geirhos2021_colour  stimulus_set         StimulusSet   \n117              brendel.Geirhos2021_colour  stimulus_set                 NaN   \n118              brendel.Geirhos2021_sketch  stimulus_set         StimulusSet   \n119              brendel.Geirhos2021_sketch  stimulus_set                 NaN   \n120            brendel.Geirhos2021_contrast  stimulus_set         StimulusSet   \n121            brendel.Geirhos2021_contrast  stimulus_set                 NaN   \n122            brendel.Geirhos2021_eidolonI  stimulus_set         StimulusSet   \n123            brendel.Geirhos2021_eidolonI  stimulus_set                 NaN   \n124          brendel.Geirhos2021_eidolonIII  stimulus_set         StimulusSet   \n125          brendel.Geirhos2021_eidolonIII  stimulus_set                 NaN   \n126           brendel.Geirhos2021_high-pass  stimulus_set         StimulusSet   \n127           brendel.Geirhos2021_high-pass  stimulus_set                 NaN   \n128            brendel.Geirhos2021_low-pass  stimulus_set         StimulusSet   \n129            brendel.Geirhos2021_low-pass  stimulus_set                 NaN   \n130    brendel.Geirhos2021_phase-scrambling  stimulus_set         StimulusSet   \n131    brendel.Geirhos2021_phase-scrambling  stimulus_set                 NaN   \n132            brendel.Geirhos2021_rotation  stimulus_set         StimulusSet   \n133            brendel.Geirhos2021_rotation  stimulus_set                 NaN   \n134       brendel.Geirhos2021_uniform-noise  stimulus_set         StimulusSet   \n135       brendel.Geirhos2021_uniform-noise  stimulus_set                 NaN   \n136           brendel.Geirhos2021_eidolonII  stimulus_set         StimulusSet   \n137           brendel.Geirhos2021_eidolonII  stimulus_set                 NaN   \n138  brendel.Geirhos2021_power-equalisation  stimulus_set         StimulusSet   \n139  brendel.Geirhos2021_power-equalisation  stimulus_set                 NaN   \n140            brendel.Geirhos2021_stylized  stimulus_set         StimulusSet   \n141            brendel.Geirhos2021_stylized  stimulus_set                 NaN   \n142                brendel.Geirhos2021_edge  stimulus_set         StimulusSet   \n143                brendel.Geirhos2021_edge  stimulus_set                 NaN   \n144          brendel.Geirhos2021_silhouette  stimulus_set         StimulusSet   \n145          brendel.Geirhos2021_silhouette  stimulus_set                 NaN   \n146        brendel.Geirhos2021_false-colour  stimulus_set         StimulusSet   \n147        brendel.Geirhos2021_false-colour  stimulus_set                 NaN   \n148        brendel.Geirhos2021_cue-conflict  stimulus_set         StimulusSet   \n149        brendel.Geirhos2021_cue-conflict  stimulus_set                 NaN   \n150              brendel.Geirhos2021_colour      assembly  BehavioralAssembly   \n151            brendel.Geirhos2021_contrast      assembly  BehavioralAssembly   \n152        brendel.Geirhos2021_cue-conflict      assembly  BehavioralAssembly   \n153                brendel.Geirhos2021_edge      assembly  BehavioralAssembly   \n154            brendel.Geirhos2021_eidolonI      assembly  BehavioralAssembly   \n155           brendel.Geirhos2021_eidolonII      assembly  BehavioralAssembly   \n156          brendel.Geirhos2021_eidolonIII      assembly  BehavioralAssembly   \n157        brendel.Geirhos2021_false-colour      assembly  BehavioralAssembly   \n158           brendel.Geirhos2021_high-pass      assembly  BehavioralAssembly   \n159            brendel.Geirhos2021_low-pass      assembly  BehavioralAssembly   \n160    brendel.Geirhos2021_phase-scrambling      assembly  BehavioralAssembly   \n161  brendel.Geirhos2021_power-equalisation      assembly  BehavioralAssembly   \n162            brendel.Geirhos2021_rotation      assembly  BehavioralAssembly   \n163          brendel.Geirhos2021_silhouette      assembly  BehavioralAssembly   \n164              brendel.Geirhos2021_sketch      assembly  BehavioralAssembly   \n165            brendel.Geirhos2021_stylized      assembly  BehavioralAssembly   \n166       brendel.Geirhos2021_uniform-noise      assembly  BehavioralAssembly   \n\n    location_type                                           location  \\\n116            S3  https://brainio-brainscore.s3.amazonaws.com/im...   \n117            S3  https://brainio-brainscore.s3.amazonaws.com/im...   \n118            S3  https://brainio-brainscore.s3.amazonaws.com/im...   \n119            S3  https://brainio-brainscore.s3.amazonaws.com/im...   \n120            S3  https://brainio-brainscore.s3.amazonaws.com/im...   \n121            S3  https://brainio-brainscore.s3.amazonaws.com/im...   \n122            S3  https://brainio-brainscore.s3.amazonaws.com/im...   \n123            S3  https://brainio-brainscore.s3.amazonaws.com/im...   \n124            S3  https://brainio-brainscore.s3.amazonaws.com/im...   \n125            S3  https://brainio-brainscore.s3.amazonaws.com/im...   \n126            S3  https://brainio-brainscore.s3.amazonaws.com/im...   \n127            S3  https://brainio-brainscore.s3.amazonaws.com/im...   \n128            S3  https://brainio-brainscore.s3.amazonaws.com/im...   \n129            S3  https://brainio-brainscore.s3.amazonaws.com/im...   \n130            S3  https://brainio-brainscore.s3.amazonaws.com/im...   \n131            S3  https://brainio-brainscore.s3.amazonaws.com/im...   \n132            S3  https://brainio-brainscore.s3.amazonaws.com/im...   \n133            S3  https://brainio-brainscore.s3.amazonaws.com/im...   \n134            S3  https://brainio-brainscore.s3.amazonaws.com/im...   \n135            S3  https://brainio-brainscore.s3.amazonaws.com/im...   \n136            S3  https://brainio-brainscore.s3.amazonaws.com/im...   \n137            S3  https://brainio-brainscore.s3.amazonaws.com/im...   \n138            S3  https://brainio-brainscore.s3.amazonaws.com/im...   \n139            S3  https://brainio-brainscore.s3.amazonaws.com/im...   \n140            S3  https://brainio-brainscore.s3.amazonaws.com/im...   \n141            S3  https://brainio-brainscore.s3.amazonaws.com/im...   \n142            S3  https://brainio-brainscore.s3.amazonaws.com/im...   \n143            S3  https://brainio-brainscore.s3.amazonaws.com/im...   \n144            S3  https://brainio-brainscore.s3.amazonaws.com/im...   \n145            S3  https://brainio-brainscore.s3.amazonaws.com/im...   \n146            S3  https://brainio-brainscore.s3.amazonaws.com/im...   \n147            S3  https://brainio-brainscore.s3.amazonaws.com/im...   \n148            S3  https://brainio-brainscore.s3.amazonaws.com/im...   \n149            S3  https://brainio-brainscore.s3.amazonaws.com/im...   \n150            S3  https://brainio-brainscore.s3.amazonaws.com/as...   \n151            S3  https://brainio-brainscore.s3.amazonaws.com/as...   \n152            S3  https://brainio-brainscore.s3.amazonaws.com/as...   \n153            S3  https://brainio-brainscore.s3.amazonaws.com/as...   \n154            S3  https://brainio-brainscore.s3.amazonaws.com/as...   \n155            S3  https://brainio-brainscore.s3.amazonaws.com/as...   \n156            S3  https://brainio-brainscore.s3.amazonaws.com/as...   \n157            S3  https://brainio-brainscore.s3.amazonaws.com/as...   \n158            S3  https://brainio-brainscore.s3.amazonaws.com/as...   \n159            S3  https://brainio-brainscore.s3.amazonaws.com/as...   \n160            S3  https://brainio-brainscore.s3.amazonaws.com/as...   \n161            S3  https://brainio-brainscore.s3.amazonaws.com/as...   \n162            S3  https://brainio-brainscore.s3.amazonaws.com/as...   \n163            S3  https://brainio-brainscore.s3.amazonaws.com/as...   \n164            S3  https://brainio-brainscore.s3.amazonaws.com/as...   \n165            S3  https://brainio-brainscore.s3.amazonaws.com/as...   \n166            S3  https://brainio-brainscore.s3.amazonaws.com/as...   \n\n                                         sha1  \\\n116  9c97c155fd6039a95978be89eb604c6894c5fa16   \n117  d166f1d3dc3d00c4f51a489e6fcf96dbbe778d2c   \n118  a5741b2f7bd08541a0dbefd7fb2d6a3845ca800b   \n119  8e8712f08a5ad3655ea2bd8cd675db8cdf65129a   \n120  f6ef69a2e8937e1d0d83c8a21b325b4273494cb5   \n121  ebeeef2f9c6a7282e20ef2026dc77eefa026957b   \n122  049adbed36fed52c609d38d5230e6084336df6b9   \n123  abaa45a225628dd66e424ec7d8e2b10a0c88bc0d   \n124  ba0173b315f02df16d418dc3ff1df7dc498b4893   \n125  d0304c0c0024d0f493ea9c0c47ae0221da391016   \n126  ddf523dcf43398cc15894c7b51c436d526e6c992   \n127  12322bb17270a5dde206314fcdc125c4bb235e3b   \n128  1264f9be407c7d428cf3d62a7bb1b1bb45a821bc   \n129  ad087676e04e51adadea7c7c5c1fa28e4dd6360c   \n130  0cc87f7ac42c2266f98d3a08783f7173499ec2fc   \n131  462e77ab9533072b7036118f1f697e8c9bf30ae4   \n132  2577831e9ead905669613fa17cb2651d0c48a455   \n133  8f5d9cb217807e96ace61337144e429d0d4ba04c   \n134  89b62a6af878974d388278ed0e23e8ed1c2fd855   \n135  ff4566542d65056028660293e2409b532e887714   \n136  1806ada128c260ab54db570d2e73aea71d679754   \n137  2654ba55291f8ab972f18b36565f9ead80a45339   \n138  743935476b1fe4b7bd4d01a4eed24cd9ed5b3a22   \n139  a0d5307525bccf8da8f3d293e7e324b9b20248c6   \n140  2265a540dee6915150bf7c61143eaf788f603866   \n141  75d273e8de643b0d814fbe60cd237c31ebe19c44   \n142  fb57005ecb80e4e37b01e084f1f176fe7f59ff7f   \n143  6c1199d90836a26be454aa799864a63c5efacaa1   \n144  fb57005ecb80e4e37b01e084f1f176fe7f59ff7f   \n145  36c8a481f7876a2af2ad4fe80890b302fe3ae91e   \n146  8a09a7af8ec44339bcae5500ae5900d9c4309042   \n147  ec0ba347fc14d0c0587d38bfa96e4ab5d2f7979a   \n148  8d3ae89d8870fb7d7c5d5ff387085b1f0116e2b7   \n149  7e601186b181102939cd0b43a4e8a3ca95c18259   \n150  258862d82467614e45cc1e488a5ac909eb6e122d   \n151  1e114c987dc035ccca43781ff8cee9689acd3c3f   \n152  cc214e3595d34565b13963c5f56049769a39a5c9   \n153  ab1dc9e188e248da07215b375eb3dbcc58fde7fb   \n154  0f01f351ae19eafc2cb5e504d98e5cd01b4c07b4   \n155  499eea0f0c0817d02b5b97d2ebab89bc4c40a153   \n156  e7c9a49e729f8666f8aedc6e47c746fbbe2ebe36   \n157  4dc072264651c81575564ba4818a12b8e8039c65   \n158  5df45c69127758f1ba3391671c521711050e3b4d   \n159  75ab628d9e6d0d634290567b1cb261d7f8dc61e2   \n160  4124f9f5b86fb6ed82c98197d292eef50b608aba   \n161  0aba1b50a7e0802d76c41d332a121a3f96ef4f7d   \n162  e51a5c3bc95ade159e71aa602232063730bcd57b   \n163  7dc94991465fe8009244e0d6fb8283419a1f9885   \n164  6709850864cea16d99a29fb31ae3c4a489983562   \n165  dcf15f292e787a88e1e0f271e6b2838d6bdadfd3   \n166  f5e8b2636738f978c71591b8df6f8a21a66b72d1   \n\n                    stimulus_set_identifier       lookup_source  \n116                                     NaN  brainio_brainscore  \n117                                     NaN  brainio_brainscore  \n118                                     NaN  brainio_brainscore  \n119                                     NaN  brainio_brainscore  \n120                                     NaN  brainio_brainscore  \n121                                     NaN  brainio_brainscore  \n122                                     NaN  brainio_brainscore  \n123                                     NaN  brainio_brainscore  \n124                                     NaN  brainio_brainscore  \n125                                     NaN  brainio_brainscore  \n126                                     NaN  brainio_brainscore  \n127                                     NaN  brainio_brainscore  \n128                                     NaN  brainio_brainscore  \n129                                     NaN  brainio_brainscore  \n130                                     NaN  brainio_brainscore  \n131                                     NaN  brainio_brainscore  \n132                                     NaN  brainio_brainscore  \n133                                     NaN  brainio_brainscore  \n134                                     NaN  brainio_brainscore  \n135                                     NaN  brainio_brainscore  \n136                                     NaN  brainio_brainscore  \n137                                     NaN  brainio_brainscore  \n138                                     NaN  brainio_brainscore  \n139                                     NaN  brainio_brainscore  \n140                                     NaN  brainio_brainscore  \n141                                     NaN  brainio_brainscore  \n142                                     NaN  brainio_brainscore  \n143                                     NaN  brainio_brainscore  \n144                                     NaN  brainio_brainscore  \n145                                     NaN  brainio_brainscore  \n146                                     NaN  brainio_brainscore  \n147                                     NaN  brainio_brainscore  \n148                                     NaN  brainio_brainscore  \n149                                     NaN  brainio_brainscore  \n150              brendel.Geirhos2021_colour  brainio_brainscore  \n151            brendel.Geirhos2021_contrast  brainio_brainscore  \n152        brendel.Geirhos2021_cue-conflict  brainio_brainscore  \n153                brendel.Geirhos2021_edge  brainio_brainscore  \n154            brendel.Geirhos2021_eidolonI  brainio_brainscore  \n155           brendel.Geirhos2021_eidolonII  brainio_brainscore  \n156          brendel.Geirhos2021_eidolonIII  brainio_brainscore  \n157        brendel.Geirhos2021_false-colour  brainio_brainscore  \n158           brendel.Geirhos2021_high-pass  brainio_brainscore  \n159            brendel.Geirhos2021_low-pass  brainio_brainscore  \n160    brendel.Geirhos2021_phase-scrambling  brainio_brainscore  \n161  brendel.Geirhos2021_power-equalisation  brainio_brainscore  \n162            brendel.Geirhos2021_rotation  brainio_brainscore  \n163          brendel.Geirhos2021_silhouette  brainio_brainscore  \n164              brendel.Geirhos2021_sketch  brainio_brainscore  \n165            brendel.Geirhos2021_stylized  brainio_brainscore  \n166       brendel.Geirhos2021_uniform-noise  brainio_brainscore  ",
      "text/html": "<div>\n<style scoped>\n    .dataframe tbody tr th:only-of-type {\n        vertical-align: middle;\n    }\n\n    .dataframe tbody tr th {\n        vertical-align: top;\n    }\n\n    .dataframe thead th {\n        text-align: right;\n    }\n</style>\n<table border=\"1\" class=\"dataframe\">\n  <thead>\n    <tr style=\"text-align: right;\">\n      <th></th>\n      <th>identifier</th>\n      <th>lookup_type</th>\n      <th>class</th>\n      <th>location_type</th>\n      <th>location</th>\n      <th>sha1</th>\n      <th>stimulus_set_identifier</th>\n      <th>lookup_source</th>\n    </tr>\n  </thead>\n  <tbody>\n    <tr>\n      <th>116</th>\n      <td>brendel.Geirhos2021_colour</td>\n      <td>stimulus_set</td>\n      <td>StimulusSet</td>\n      <td>S3</td>\n      <td>https://brainio-brainscore.s3.amazonaws.com/im...</td>\n      <td>9c97c155fd6039a95978be89eb604c6894c5fa16</td>\n      <td>NaN</td>\n      <td>brainio_brainscore</td>\n    </tr>\n    <tr>\n      <th>117</th>\n      <td>brendel.Geirhos2021_colour</td>\n      <td>stimulus_set</td>\n      <td>NaN</td>\n      <td>S3</td>\n      <td>https://brainio-brainscore.s3.amazonaws.com/im...</td>\n      <td>d166f1d3dc3d00c4f51a489e6fcf96dbbe778d2c</td>\n      <td>NaN</td>\n      <td>brainio_brainscore</td>\n    </tr>\n    <tr>\n      <th>118</th>\n      <td>brendel.Geirhos2021_sketch</td>\n      <td>stimulus_set</td>\n      <td>StimulusSet</td>\n      <td>S3</td>\n      <td>https://brainio-brainscore.s3.amazonaws.com/im...</td>\n      <td>a5741b2f7bd08541a0dbefd7fb2d6a3845ca800b</td>\n      <td>NaN</td>\n      <td>brainio_brainscore</td>\n    </tr>\n    <tr>\n      <th>119</th>\n      <td>brendel.Geirhos2021_sketch</td>\n      <td>stimulus_set</td>\n      <td>NaN</td>\n      <td>S3</td>\n      <td>https://brainio-brainscore.s3.amazonaws.com/im...</td>\n      <td>8e8712f08a5ad3655ea2bd8cd675db8cdf65129a</td>\n      <td>NaN</td>\n      <td>brainio_brainscore</td>\n    </tr>\n    <tr>\n      <th>120</th>\n      <td>brendel.Geirhos2021_contrast</td>\n      <td>stimulus_set</td>\n      <td>StimulusSet</td>\n      <td>S3</td>\n      <td>https://brainio-brainscore.s3.amazonaws.com/im...</td>\n      <td>f6ef69a2e8937e1d0d83c8a21b325b4273494cb5</td>\n      <td>NaN</td>\n      <td>brainio_brainscore</td>\n    </tr>\n    <tr>\n      <th>121</th>\n      <td>brendel.Geirhos2021_contrast</td>\n      <td>stimulus_set</td>\n      <td>NaN</td>\n      <td>S3</td>\n      <td>https://brainio-brainscore.s3.amazonaws.com/im...</td>\n      <td>ebeeef2f9c6a7282e20ef2026dc77eefa026957b</td>\n      <td>NaN</td>\n      <td>brainio_brainscore</td>\n    </tr>\n    <tr>\n      <th>122</th>\n      <td>brendel.Geirhos2021_eidolonI</td>\n      <td>stimulus_set</td>\n      <td>StimulusSet</td>\n      <td>S3</td>\n      <td>https://brainio-brainscore.s3.amazonaws.com/im...</td>\n      <td>049adbed36fed52c609d38d5230e6084336df6b9</td>\n      <td>NaN</td>\n      <td>brainio_brainscore</td>\n    </tr>\n    <tr>\n      <th>123</th>\n      <td>brendel.Geirhos2021_eidolonI</td>\n      <td>stimulus_set</td>\n      <td>NaN</td>\n      <td>S3</td>\n      <td>https://brainio-brainscore.s3.amazonaws.com/im...</td>\n      <td>abaa45a225628dd66e424ec7d8e2b10a0c88bc0d</td>\n      <td>NaN</td>\n      <td>brainio_brainscore</td>\n    </tr>\n    <tr>\n      <th>124</th>\n      <td>brendel.Geirhos2021_eidolonIII</td>\n      <td>stimulus_set</td>\n      <td>StimulusSet</td>\n      <td>S3</td>\n      <td>https://brainio-brainscore.s3.amazonaws.com/im...</td>\n      <td>ba0173b315f02df16d418dc3ff1df7dc498b4893</td>\n      <td>NaN</td>\n      <td>brainio_brainscore</td>\n    </tr>\n    <tr>\n      <th>125</th>\n      <td>brendel.Geirhos2021_eidolonIII</td>\n      <td>stimulus_set</td>\n      <td>NaN</td>\n      <td>S3</td>\n      <td>https://brainio-brainscore.s3.amazonaws.com/im...</td>\n      <td>d0304c0c0024d0f493ea9c0c47ae0221da391016</td>\n      <td>NaN</td>\n      <td>brainio_brainscore</td>\n    </tr>\n    <tr>\n      <th>126</th>\n      <td>brendel.Geirhos2021_high-pass</td>\n      <td>stimulus_set</td>\n      <td>StimulusSet</td>\n      <td>S3</td>\n      <td>https://brainio-brainscore.s3.amazonaws.com/im...</td>\n      <td>ddf523dcf43398cc15894c7b51c436d526e6c992</td>\n      <td>NaN</td>\n      <td>brainio_brainscore</td>\n    </tr>\n    <tr>\n      <th>127</th>\n      <td>brendel.Geirhos2021_high-pass</td>\n      <td>stimulus_set</td>\n      <td>NaN</td>\n      <td>S3</td>\n      <td>https://brainio-brainscore.s3.amazonaws.com/im...</td>\n      <td>12322bb17270a5dde206314fcdc125c4bb235e3b</td>\n      <td>NaN</td>\n      <td>brainio_brainscore</td>\n    </tr>\n    <tr>\n      <th>128</th>\n      <td>brendel.Geirhos2021_low-pass</td>\n      <td>stimulus_set</td>\n      <td>StimulusSet</td>\n      <td>S3</td>\n      <td>https://brainio-brainscore.s3.amazonaws.com/im...</td>\n      <td>1264f9be407c7d428cf3d62a7bb1b1bb45a821bc</td>\n      <td>NaN</td>\n      <td>brainio_brainscore</td>\n    </tr>\n    <tr>\n      <th>129</th>\n      <td>brendel.Geirhos2021_low-pass</td>\n      <td>stimulus_set</td>\n      <td>NaN</td>\n      <td>S3</td>\n      <td>https://brainio-brainscore.s3.amazonaws.com/im...</td>\n      <td>ad087676e04e51adadea7c7c5c1fa28e4dd6360c</td>\n      <td>NaN</td>\n      <td>brainio_brainscore</td>\n    </tr>\n    <tr>\n      <th>130</th>\n      <td>brendel.Geirhos2021_phase-scrambling</td>\n      <td>stimulus_set</td>\n      <td>StimulusSet</td>\n      <td>S3</td>\n      <td>https://brainio-brainscore.s3.amazonaws.com/im...</td>\n      <td>0cc87f7ac42c2266f98d3a08783f7173499ec2fc</td>\n      <td>NaN</td>\n      <td>brainio_brainscore</td>\n    </tr>\n    <tr>\n      <th>131</th>\n      <td>brendel.Geirhos2021_phase-scrambling</td>\n      <td>stimulus_set</td>\n      <td>NaN</td>\n      <td>S3</td>\n      <td>https://brainio-brainscore.s3.amazonaws.com/im...</td>\n      <td>462e77ab9533072b7036118f1f697e8c9bf30ae4</td>\n      <td>NaN</td>\n      <td>brainio_brainscore</td>\n    </tr>\n    <tr>\n      <th>132</th>\n      <td>brendel.Geirhos2021_rotation</td>\n      <td>stimulus_set</td>\n      <td>StimulusSet</td>\n      <td>S3</td>\n      <td>https://brainio-brainscore.s3.amazonaws.com/im...</td>\n      <td>2577831e9ead905669613fa17cb2651d0c48a455</td>\n      <td>NaN</td>\n      <td>brainio_brainscore</td>\n    </tr>\n    <tr>\n      <th>133</th>\n      <td>brendel.Geirhos2021_rotation</td>\n      <td>stimulus_set</td>\n      <td>NaN</td>\n      <td>S3</td>\n      <td>https://brainio-brainscore.s3.amazonaws.com/im...</td>\n      <td>8f5d9cb217807e96ace61337144e429d0d4ba04c</td>\n      <td>NaN</td>\n      <td>brainio_brainscore</td>\n    </tr>\n    <tr>\n      <th>134</th>\n      <td>brendel.Geirhos2021_uniform-noise</td>\n      <td>stimulus_set</td>\n      <td>StimulusSet</td>\n      <td>S3</td>\n      <td>https://brainio-brainscore.s3.amazonaws.com/im...</td>\n      <td>89b62a6af878974d388278ed0e23e8ed1c2fd855</td>\n      <td>NaN</td>\n      <td>brainio_brainscore</td>\n    </tr>\n    <tr>\n      <th>135</th>\n      <td>brendel.Geirhos2021_uniform-noise</td>\n      <td>stimulus_set</td>\n      <td>NaN</td>\n      <td>S3</td>\n      <td>https://brainio-brainscore.s3.amazonaws.com/im...</td>\n      <td>ff4566542d65056028660293e2409b532e887714</td>\n      <td>NaN</td>\n      <td>brainio_brainscore</td>\n    </tr>\n    <tr>\n      <th>136</th>\n      <td>brendel.Geirhos2021_eidolonII</td>\n      <td>stimulus_set</td>\n      <td>StimulusSet</td>\n      <td>S3</td>\n      <td>https://brainio-brainscore.s3.amazonaws.com/im...</td>\n      <td>1806ada128c260ab54db570d2e73aea71d679754</td>\n      <td>NaN</td>\n      <td>brainio_brainscore</td>\n    </tr>\n    <tr>\n      <th>137</th>\n      <td>brendel.Geirhos2021_eidolonII</td>\n      <td>stimulus_set</td>\n      <td>NaN</td>\n      <td>S3</td>\n      <td>https://brainio-brainscore.s3.amazonaws.com/im...</td>\n      <td>2654ba55291f8ab972f18b36565f9ead80a45339</td>\n      <td>NaN</td>\n      <td>brainio_brainscore</td>\n    </tr>\n    <tr>\n      <th>138</th>\n      <td>brendel.Geirhos2021_power-equalisation</td>\n      <td>stimulus_set</td>\n      <td>StimulusSet</td>\n      <td>S3</td>\n      <td>https://brainio-brainscore.s3.amazonaws.com/im...</td>\n      <td>743935476b1fe4b7bd4d01a4eed24cd9ed5b3a22</td>\n      <td>NaN</td>\n      <td>brainio_brainscore</td>\n    </tr>\n    <tr>\n      <th>139</th>\n      <td>brendel.Geirhos2021_power-equalisation</td>\n      <td>stimulus_set</td>\n      <td>NaN</td>\n      <td>S3</td>\n      <td>https://brainio-brainscore.s3.amazonaws.com/im...</td>\n      <td>a0d5307525bccf8da8f3d293e7e324b9b20248c6</td>\n      <td>NaN</td>\n      <td>brainio_brainscore</td>\n    </tr>\n    <tr>\n      <th>140</th>\n      <td>brendel.Geirhos2021_stylized</td>\n      <td>stimulus_set</td>\n      <td>StimulusSet</td>\n      <td>S3</td>\n      <td>https://brainio-brainscore.s3.amazonaws.com/im...</td>\n      <td>2265a540dee6915150bf7c61143eaf788f603866</td>\n      <td>NaN</td>\n      <td>brainio_brainscore</td>\n    </tr>\n    <tr>\n      <th>141</th>\n      <td>brendel.Geirhos2021_stylized</td>\n      <td>stimulus_set</td>\n      <td>NaN</td>\n      <td>S3</td>\n      <td>https://brainio-brainscore.s3.amazonaws.com/im...</td>\n      <td>75d273e8de643b0d814fbe60cd237c31ebe19c44</td>\n      <td>NaN</td>\n      <td>brainio_brainscore</td>\n    </tr>\n    <tr>\n      <th>142</th>\n      <td>brendel.Geirhos2021_edge</td>\n      <td>stimulus_set</td>\n      <td>StimulusSet</td>\n      <td>S3</td>\n      <td>https://brainio-brainscore.s3.amazonaws.com/im...</td>\n      <td>fb57005ecb80e4e37b01e084f1f176fe7f59ff7f</td>\n      <td>NaN</td>\n      <td>brainio_brainscore</td>\n    </tr>\n    <tr>\n      <th>143</th>\n      <td>brendel.Geirhos2021_edge</td>\n      <td>stimulus_set</td>\n      <td>NaN</td>\n      <td>S3</td>\n      <td>https://brainio-brainscore.s3.amazonaws.com/im...</td>\n      <td>6c1199d90836a26be454aa799864a63c5efacaa1</td>\n      <td>NaN</td>\n      <td>brainio_brainscore</td>\n    </tr>\n    <tr>\n      <th>144</th>\n      <td>brendel.Geirhos2021_silhouette</td>\n      <td>stimulus_set</td>\n      <td>StimulusSet</td>\n      <td>S3</td>\n      <td>https://brainio-brainscore.s3.amazonaws.com/im...</td>\n      <td>fb57005ecb80e4e37b01e084f1f176fe7f59ff7f</td>\n      <td>NaN</td>\n      <td>brainio_brainscore</td>\n    </tr>\n    <tr>\n      <th>145</th>\n      <td>brendel.Geirhos2021_silhouette</td>\n      <td>stimulus_set</td>\n      <td>NaN</td>\n      <td>S3</td>\n      <td>https://brainio-brainscore.s3.amazonaws.com/im...</td>\n      <td>36c8a481f7876a2af2ad4fe80890b302fe3ae91e</td>\n      <td>NaN</td>\n      <td>brainio_brainscore</td>\n    </tr>\n    <tr>\n      <th>146</th>\n      <td>brendel.Geirhos2021_false-colour</td>\n      <td>stimulus_set</td>\n      <td>StimulusSet</td>\n      <td>S3</td>\n      <td>https://brainio-brainscore.s3.amazonaws.com/im...</td>\n      <td>8a09a7af8ec44339bcae5500ae5900d9c4309042</td>\n      <td>NaN</td>\n      <td>brainio_brainscore</td>\n    </tr>\n    <tr>\n      <th>147</th>\n      <td>brendel.Geirhos2021_false-colour</td>\n      <td>stimulus_set</td>\n      <td>NaN</td>\n      <td>S3</td>\n      <td>https://brainio-brainscore.s3.amazonaws.com/im...</td>\n      <td>ec0ba347fc14d0c0587d38bfa96e4ab5d2f7979a</td>\n      <td>NaN</td>\n      <td>brainio_brainscore</td>\n    </tr>\n    <tr>\n      <th>148</th>\n      <td>brendel.Geirhos2021_cue-conflict</td>\n      <td>stimulus_set</td>\n      <td>StimulusSet</td>\n      <td>S3</td>\n      <td>https://brainio-brainscore.s3.amazonaws.com/im...</td>\n      <td>8d3ae89d8870fb7d7c5d5ff387085b1f0116e2b7</td>\n      <td>NaN</td>\n      <td>brainio_brainscore</td>\n    </tr>\n    <tr>\n      <th>149</th>\n      <td>brendel.Geirhos2021_cue-conflict</td>\n      <td>stimulus_set</td>\n      <td>NaN</td>\n      <td>S3</td>\n      <td>https://brainio-brainscore.s3.amazonaws.com/im...</td>\n      <td>7e601186b181102939cd0b43a4e8a3ca95c18259</td>\n      <td>NaN</td>\n      <td>brainio_brainscore</td>\n    </tr>\n    <tr>\n      <th>150</th>\n      <td>brendel.Geirhos2021_colour</td>\n      <td>assembly</td>\n      <td>BehavioralAssembly</td>\n      <td>S3</td>\n      <td>https://brainio-brainscore.s3.amazonaws.com/as...</td>\n      <td>258862d82467614e45cc1e488a5ac909eb6e122d</td>\n      <td>brendel.Geirhos2021_colour</td>\n      <td>brainio_brainscore</td>\n    </tr>\n    <tr>\n      <th>151</th>\n      <td>brendel.Geirhos2021_contrast</td>\n      <td>assembly</td>\n      <td>BehavioralAssembly</td>\n      <td>S3</td>\n      <td>https://brainio-brainscore.s3.amazonaws.com/as...</td>\n      <td>1e114c987dc035ccca43781ff8cee9689acd3c3f</td>\n      <td>brendel.Geirhos2021_contrast</td>\n      <td>brainio_brainscore</td>\n    </tr>\n    <tr>\n      <th>152</th>\n      <td>brendel.Geirhos2021_cue-conflict</td>\n      <td>assembly</td>\n      <td>BehavioralAssembly</td>\n      <td>S3</td>\n      <td>https://brainio-brainscore.s3.amazonaws.com/as...</td>\n      <td>cc214e3595d34565b13963c5f56049769a39a5c9</td>\n      <td>brendel.Geirhos2021_cue-conflict</td>\n      <td>brainio_brainscore</td>\n    </tr>\n    <tr>\n      <th>153</th>\n      <td>brendel.Geirhos2021_edge</td>\n      <td>assembly</td>\n      <td>BehavioralAssembly</td>\n      <td>S3</td>\n      <td>https://brainio-brainscore.s3.amazonaws.com/as...</td>\n      <td>ab1dc9e188e248da07215b375eb3dbcc58fde7fb</td>\n      <td>brendel.Geirhos2021_edge</td>\n      <td>brainio_brainscore</td>\n    </tr>\n    <tr>\n      <th>154</th>\n      <td>brendel.Geirhos2021_eidolonI</td>\n      <td>assembly</td>\n      <td>BehavioralAssembly</td>\n      <td>S3</td>\n      <td>https://brainio-brainscore.s3.amazonaws.com/as...</td>\n      <td>0f01f351ae19eafc2cb5e504d98e5cd01b4c07b4</td>\n      <td>brendel.Geirhos2021_eidolonI</td>\n      <td>brainio_brainscore</td>\n    </tr>\n    <tr>\n      <th>155</th>\n      <td>brendel.Geirhos2021_eidolonII</td>\n      <td>assembly</td>\n      <td>BehavioralAssembly</td>\n      <td>S3</td>\n      <td>https://brainio-brainscore.s3.amazonaws.com/as...</td>\n      <td>499eea0f0c0817d02b5b97d2ebab89bc4c40a153</td>\n      <td>brendel.Geirhos2021_eidolonII</td>\n      <td>brainio_brainscore</td>\n    </tr>\n    <tr>\n      <th>156</th>\n      <td>brendel.Geirhos2021_eidolonIII</td>\n      <td>assembly</td>\n      <td>BehavioralAssembly</td>\n      <td>S3</td>\n      <td>https://brainio-brainscore.s3.amazonaws.com/as...</td>\n      <td>e7c9a49e729f8666f8aedc6e47c746fbbe2ebe36</td>\n      <td>brendel.Geirhos2021_eidolonIII</td>\n      <td>brainio_brainscore</td>\n    </tr>\n    <tr>\n      <th>157</th>\n      <td>brendel.Geirhos2021_false-colour</td>\n      <td>assembly</td>\n      <td>BehavioralAssembly</td>\n      <td>S3</td>\n      <td>https://brainio-brainscore.s3.amazonaws.com/as...</td>\n      <td>4dc072264651c81575564ba4818a12b8e8039c65</td>\n      <td>brendel.Geirhos2021_false-colour</td>\n      <td>brainio_brainscore</td>\n    </tr>\n    <tr>\n      <th>158</th>\n      <td>brendel.Geirhos2021_high-pass</td>\n      <td>assembly</td>\n      <td>BehavioralAssembly</td>\n      <td>S3</td>\n      <td>https://brainio-brainscore.s3.amazonaws.com/as...</td>\n      <td>5df45c69127758f1ba3391671c521711050e3b4d</td>\n      <td>brendel.Geirhos2021_high-pass</td>\n      <td>brainio_brainscore</td>\n    </tr>\n    <tr>\n      <th>159</th>\n      <td>brendel.Geirhos2021_low-pass</td>\n      <td>assembly</td>\n      <td>BehavioralAssembly</td>\n      <td>S3</td>\n      <td>https://brainio-brainscore.s3.amazonaws.com/as...</td>\n      <td>75ab628d9e6d0d634290567b1cb261d7f8dc61e2</td>\n      <td>brendel.Geirhos2021_low-pass</td>\n      <td>brainio_brainscore</td>\n    </tr>\n    <tr>\n      <th>160</th>\n      <td>brendel.Geirhos2021_phase-scrambling</td>\n      <td>assembly</td>\n      <td>BehavioralAssembly</td>\n      <td>S3</td>\n      <td>https://brainio-brainscore.s3.amazonaws.com/as...</td>\n      <td>4124f9f5b86fb6ed82c98197d292eef50b608aba</td>\n      <td>brendel.Geirhos2021_phase-scrambling</td>\n      <td>brainio_brainscore</td>\n    </tr>\n    <tr>\n      <th>161</th>\n      <td>brendel.Geirhos2021_power-equalisation</td>\n      <td>assembly</td>\n      <td>BehavioralAssembly</td>\n      <td>S3</td>\n      <td>https://brainio-brainscore.s3.amazonaws.com/as...</td>\n      <td>0aba1b50a7e0802d76c41d332a121a3f96ef4f7d</td>\n      <td>brendel.Geirhos2021_power-equalisation</td>\n      <td>brainio_brainscore</td>\n    </tr>\n    <tr>\n      <th>162</th>\n      <td>brendel.Geirhos2021_rotation</td>\n      <td>assembly</td>\n      <td>BehavioralAssembly</td>\n      <td>S3</td>\n      <td>https://brainio-brainscore.s3.amazonaws.com/as...</td>\n      <td>e51a5c3bc95ade159e71aa602232063730bcd57b</td>\n      <td>brendel.Geirhos2021_rotation</td>\n      <td>brainio_brainscore</td>\n    </tr>\n    <tr>\n      <th>163</th>\n      <td>brendel.Geirhos2021_silhouette</td>\n      <td>assembly</td>\n      <td>BehavioralAssembly</td>\n      <td>S3</td>\n      <td>https://brainio-brainscore.s3.amazonaws.com/as...</td>\n      <td>7dc94991465fe8009244e0d6fb8283419a1f9885</td>\n      <td>brendel.Geirhos2021_silhouette</td>\n      <td>brainio_brainscore</td>\n    </tr>\n    <tr>\n      <th>164</th>\n      <td>brendel.Geirhos2021_sketch</td>\n      <td>assembly</td>\n      <td>BehavioralAssembly</td>\n      <td>S3</td>\n      <td>https://brainio-brainscore.s3.amazonaws.com/as...</td>\n      <td>6709850864cea16d99a29fb31ae3c4a489983562</td>\n      <td>brendel.Geirhos2021_sketch</td>\n      <td>brainio_brainscore</td>\n    </tr>\n    <tr>\n      <th>165</th>\n      <td>brendel.Geirhos2021_stylized</td>\n      <td>assembly</td>\n      <td>BehavioralAssembly</td>\n      <td>S3</td>\n      <td>https://brainio-brainscore.s3.amazonaws.com/as...</td>\n      <td>dcf15f292e787a88e1e0f271e6b2838d6bdadfd3</td>\n      <td>brendel.Geirhos2021_stylized</td>\n      <td>brainio_brainscore</td>\n    </tr>\n    <tr>\n      <th>166</th>\n      <td>brendel.Geirhos2021_uniform-noise</td>\n      <td>assembly</td>\n      <td>BehavioralAssembly</td>\n      <td>S3</td>\n      <td>https://brainio-brainscore.s3.amazonaws.com/as...</td>\n      <td>f5e8b2636738f978c71591b8df6f8a21a66b72d1</td>\n      <td>brendel.Geirhos2021_uniform-noise</td>\n      <td>brainio_brainscore</td>\n    </tr>\n  </tbody>\n</table>\n</div>"
     },
     "execution_count": 26,
     "metadata": {},
     "output_type": "execute_result"
    }
   ],
   "source": [
    "brendel = lookup_csv[116:167]\n",
    "brendel"
   ],
   "metadata": {
    "collapsed": false
   }
  },
  {
   "cell_type": "code",
   "execution_count": 41,
   "outputs": [],
   "source": [
    "sorted_brendel = brendel.sort_values(by=['identifier', 'class'])\n",
    "sorted_brendel.reset_index(drop=True, inplace=True)\n",
    "sorted_brendel.to_csv('geirhos_hashes.csv', index=False)"
   ],
   "metadata": {
    "collapsed": false
   }
  },
  {
   "cell_type": "code",
   "execution_count": 34,
   "outputs": [
    {
     "data": {
      "text/plain": "str"
     },
     "execution_count": 34,
     "metadata": {},
     "output_type": "execute_result"
    }
   ],
   "source": [
    "sorted_brendel.loc[0, 'sha1']"
   ],
   "metadata": {
    "collapsed": false
   }
  },
  {
   "cell_type": "code",
   "execution_count": 50,
   "outputs": [
    {
     "data": {
      "text/plain": "                                identifier   lookup_type               class  \\\n0               brendel.Geirhos2021_colour      assembly  BehavioralAssembly   \n1               brendel.Geirhos2021_colour  stimulus_set         StimulusSet   \n2               brendel.Geirhos2021_colour  stimulus_set                 NaN   \n3             brendel.Geirhos2021_contrast      assembly  BehavioralAssembly   \n4             brendel.Geirhos2021_contrast  stimulus_set         StimulusSet   \n5             brendel.Geirhos2021_contrast  stimulus_set                 NaN   \n6         brendel.Geirhos2021_cue-conflict      assembly  BehavioralAssembly   \n7         brendel.Geirhos2021_cue-conflict  stimulus_set         StimulusSet   \n8         brendel.Geirhos2021_cue-conflict  stimulus_set                 NaN   \n9                 brendel.Geirhos2021_edge      assembly  BehavioralAssembly   \n10                brendel.Geirhos2021_edge  stimulus_set         StimulusSet   \n11                brendel.Geirhos2021_edge  stimulus_set                 NaN   \n12            brendel.Geirhos2021_eidolonI      assembly  BehavioralAssembly   \n13            brendel.Geirhos2021_eidolonI  stimulus_set         StimulusSet   \n14            brendel.Geirhos2021_eidolonI  stimulus_set                 NaN   \n15           brendel.Geirhos2021_eidolonII      assembly  BehavioralAssembly   \n16           brendel.Geirhos2021_eidolonII  stimulus_set         StimulusSet   \n17           brendel.Geirhos2021_eidolonII  stimulus_set                 NaN   \n18          brendel.Geirhos2021_eidolonIII      assembly  BehavioralAssembly   \n19          brendel.Geirhos2021_eidolonIII  stimulus_set         StimulusSet   \n20          brendel.Geirhos2021_eidolonIII  stimulus_set                 NaN   \n21        brendel.Geirhos2021_false-colour      assembly  BehavioralAssembly   \n22        brendel.Geirhos2021_false-colour  stimulus_set         StimulusSet   \n23        brendel.Geirhos2021_false-colour  stimulus_set                 NaN   \n24           brendel.Geirhos2021_high-pass      assembly  BehavioralAssembly   \n25           brendel.Geirhos2021_high-pass  stimulus_set         StimulusSet   \n26           brendel.Geirhos2021_high-pass  stimulus_set                 NaN   \n27            brendel.Geirhos2021_low-pass      assembly  BehavioralAssembly   \n28            brendel.Geirhos2021_low-pass  stimulus_set         StimulusSet   \n29            brendel.Geirhos2021_low-pass  stimulus_set                 NaN   \n30    brendel.Geirhos2021_phase-scrambling      assembly  BehavioralAssembly   \n31    brendel.Geirhos2021_phase-scrambling  stimulus_set         StimulusSet   \n32    brendel.Geirhos2021_phase-scrambling  stimulus_set                 NaN   \n33  brendel.Geirhos2021_power-equalisation      assembly  BehavioralAssembly   \n34  brendel.Geirhos2021_power-equalisation  stimulus_set         StimulusSet   \n35  brendel.Geirhos2021_power-equalisation  stimulus_set                 NaN   \n36            brendel.Geirhos2021_rotation      assembly  BehavioralAssembly   \n37            brendel.Geirhos2021_rotation  stimulus_set         StimulusSet   \n38            brendel.Geirhos2021_rotation  stimulus_set                 NaN   \n39          brendel.Geirhos2021_silhouette      assembly  BehavioralAssembly   \n40          brendel.Geirhos2021_silhouette  stimulus_set         StimulusSet   \n41          brendel.Geirhos2021_silhouette  stimulus_set                 NaN   \n42              brendel.Geirhos2021_sketch      assembly  BehavioralAssembly   \n43              brendel.Geirhos2021_sketch  stimulus_set         StimulusSet   \n44              brendel.Geirhos2021_sketch  stimulus_set                 NaN   \n45            brendel.Geirhos2021_stylized      assembly  BehavioralAssembly   \n46            brendel.Geirhos2021_stylized  stimulus_set         StimulusSet   \n47            brendel.Geirhos2021_stylized  stimulus_set                 NaN   \n48       brendel.Geirhos2021_uniform-noise      assembly  BehavioralAssembly   \n49       brendel.Geirhos2021_uniform-noise  stimulus_set         StimulusSet   \n50       brendel.Geirhos2021_uniform-noise  stimulus_set                 NaN   \n\n   location_type                                           location  \\\n0             S3  https://brainio-brainscore.s3.amazonaws.com/as...   \n1             S3  https://brainio-brainscore.s3.amazonaws.com/im...   \n2             S3  https://brainio-brainscore.s3.amazonaws.com/im...   \n3             S3  https://brainio-brainscore.s3.amazonaws.com/as...   \n4             S3  https://brainio-brainscore.s3.amazonaws.com/im...   \n5             S3  https://brainio-brainscore.s3.amazonaws.com/im...   \n6             S3  https://brainio-brainscore.s3.amazonaws.com/as...   \n7             S3  https://brainio-brainscore.s3.amazonaws.com/im...   \n8             S3  https://brainio-brainscore.s3.amazonaws.com/im...   \n9             S3  https://brainio-brainscore.s3.amazonaws.com/as...   \n10            S3  https://brainio-brainscore.s3.amazonaws.com/im...   \n11            S3  https://brainio-brainscore.s3.amazonaws.com/im...   \n12            S3  https://brainio-brainscore.s3.amazonaws.com/as...   \n13            S3  https://brainio-brainscore.s3.amazonaws.com/im...   \n14            S3  https://brainio-brainscore.s3.amazonaws.com/im...   \n15            S3  https://brainio-brainscore.s3.amazonaws.com/as...   \n16            S3  https://brainio-brainscore.s3.amazonaws.com/im...   \n17            S3  https://brainio-brainscore.s3.amazonaws.com/im...   \n18            S3  https://brainio-brainscore.s3.amazonaws.com/as...   \n19            S3  https://brainio-brainscore.s3.amazonaws.com/im...   \n20            S3  https://brainio-brainscore.s3.amazonaws.com/im...   \n21            S3  https://brainio-brainscore.s3.amazonaws.com/as...   \n22            S3  https://brainio-brainscore.s3.amazonaws.com/im...   \n23            S3  https://brainio-brainscore.s3.amazonaws.com/im...   \n24            S3  https://brainio-brainscore.s3.amazonaws.com/as...   \n25            S3  https://brainio-brainscore.s3.amazonaws.com/im...   \n26            S3  https://brainio-brainscore.s3.amazonaws.com/im...   \n27            S3  https://brainio-brainscore.s3.amazonaws.com/as...   \n28            S3  https://brainio-brainscore.s3.amazonaws.com/im...   \n29            S3  https://brainio-brainscore.s3.amazonaws.com/im...   \n30            S3  https://brainio-brainscore.s3.amazonaws.com/as...   \n31            S3  https://brainio-brainscore.s3.amazonaws.com/im...   \n32            S3  https://brainio-brainscore.s3.amazonaws.com/im...   \n33            S3  https://brainio-brainscore.s3.amazonaws.com/as...   \n34            S3  https://brainio-brainscore.s3.amazonaws.com/im...   \n35            S3  https://brainio-brainscore.s3.amazonaws.com/im...   \n36            S3  https://brainio-brainscore.s3.amazonaws.com/as...   \n37            S3  https://brainio-brainscore.s3.amazonaws.com/im...   \n38            S3  https://brainio-brainscore.s3.amazonaws.com/im...   \n39            S3  https://brainio-brainscore.s3.amazonaws.com/as...   \n40            S3  https://brainio-brainscore.s3.amazonaws.com/im...   \n41            S3  https://brainio-brainscore.s3.amazonaws.com/im...   \n42            S3  https://brainio-brainscore.s3.amazonaws.com/as...   \n43            S3  https://brainio-brainscore.s3.amazonaws.com/im...   \n44            S3  https://brainio-brainscore.s3.amazonaws.com/im...   \n45            S3  https://brainio-brainscore.s3.amazonaws.com/as...   \n46            S3  https://brainio-brainscore.s3.amazonaws.com/im...   \n47            S3  https://brainio-brainscore.s3.amazonaws.com/im...   \n48            S3  https://brainio-brainscore.s3.amazonaws.com/as...   \n49            S3  https://brainio-brainscore.s3.amazonaws.com/im...   \n50            S3  https://brainio-brainscore.s3.amazonaws.com/im...   \n\n                                        sha1  \\\n0   258862d82467614e45cc1e488a5ac909eb6e122d   \n1   9c97c155fd6039a95978be89eb604c6894c5fa16   \n2   d166f1d3dc3d00c4f51a489e6fcf96dbbe778d2c   \n3   1e114c987dc035ccca43781ff8cee9689acd3c3f   \n4   f6ef69a2e8937e1d0d83c8a21b325b4273494cb5   \n5   ebeeef2f9c6a7282e20ef2026dc77eefa026957b   \n6   cc214e3595d34565b13963c5f56049769a39a5c9   \n7   8d3ae89d8870fb7d7c5d5ff387085b1f0116e2b7   \n8   7e601186b181102939cd0b43a4e8a3ca95c18259   \n9   ab1dc9e188e248da07215b375eb3dbcc58fde7fb   \n10  fb57005ecb80e4e37b01e084f1f176fe7f59ff7f   \n11  6c1199d90836a26be454aa799864a63c5efacaa1   \n12  0f01f351ae19eafc2cb5e504d98e5cd01b4c07b4   \n13  049adbed36fed52c609d38d5230e6084336df6b9   \n14  abaa45a225628dd66e424ec7d8e2b10a0c88bc0d   \n15  499eea0f0c0817d02b5b97d2ebab89bc4c40a153   \n16  1806ada128c260ab54db570d2e73aea71d679754   \n17  2654ba55291f8ab972f18b36565f9ead80a45339   \n18  e7c9a49e729f8666f8aedc6e47c746fbbe2ebe36   \n19  ba0173b315f02df16d418dc3ff1df7dc498b4893   \n20  d0304c0c0024d0f493ea9c0c47ae0221da391016   \n21  4dc072264651c81575564ba4818a12b8e8039c65   \n22  8a09a7af8ec44339bcae5500ae5900d9c4309042   \n23  ec0ba347fc14d0c0587d38bfa96e4ab5d2f7979a   \n24  5df45c69127758f1ba3391671c521711050e3b4d   \n25  ddf523dcf43398cc15894c7b51c436d526e6c992   \n26  12322bb17270a5dde206314fcdc125c4bb235e3b   \n27  75ab628d9e6d0d634290567b1cb261d7f8dc61e2   \n28  1264f9be407c7d428cf3d62a7bb1b1bb45a821bc   \n29  ad087676e04e51adadea7c7c5c1fa28e4dd6360c   \n30  4124f9f5b86fb6ed82c98197d292eef50b608aba   \n31  0cc87f7ac42c2266f98d3a08783f7173499ec2fc   \n32  462e77ab9533072b7036118f1f697e8c9bf30ae4   \n33  0aba1b50a7e0802d76c41d332a121a3f96ef4f7d   \n34  743935476b1fe4b7bd4d01a4eed24cd9ed5b3a22   \n35  a0d5307525bccf8da8f3d293e7e324b9b20248c6   \n36  e51a5c3bc95ade159e71aa602232063730bcd57b   \n37  2577831e9ead905669613fa17cb2651d0c48a455   \n38  8f5d9cb217807e96ace61337144e429d0d4ba04c   \n39  7dc94991465fe8009244e0d6fb8283419a1f9885   \n40  fb57005ecb80e4e37b01e084f1f176fe7f59ff7f   \n41  36c8a481f7876a2af2ad4fe80890b302fe3ae91e   \n42  6709850864cea16d99a29fb31ae3c4a489983562   \n43  a5741b2f7bd08541a0dbefd7fb2d6a3845ca800b   \n44  8e8712f08a5ad3655ea2bd8cd675db8cdf65129a   \n45  dcf15f292e787a88e1e0f271e6b2838d6bdadfd3   \n46  2265a540dee6915150bf7c61143eaf788f603866   \n47  75d273e8de643b0d814fbe60cd237c31ebe19c44   \n48  f5e8b2636738f978c71591b8df6f8a21a66b72d1   \n49  89b62a6af878974d388278ed0e23e8ed1c2fd855   \n50  ff4566542d65056028660293e2409b532e887714   \n\n                   stimulus_set_identifier       lookup_source  \n0               brendel.Geirhos2021_colour  brainio_brainscore  \n1                                      NaN  brainio_brainscore  \n2                                      NaN  brainio_brainscore  \n3             brendel.Geirhos2021_contrast  brainio_brainscore  \n4                                      NaN  brainio_brainscore  \n5                                      NaN  brainio_brainscore  \n6         brendel.Geirhos2021_cue-conflict  brainio_brainscore  \n7                                      NaN  brainio_brainscore  \n8                                      NaN  brainio_brainscore  \n9                 brendel.Geirhos2021_edge  brainio_brainscore  \n10                                     NaN  brainio_brainscore  \n11                                     NaN  brainio_brainscore  \n12            brendel.Geirhos2021_eidolonI  brainio_brainscore  \n13                                     NaN  brainio_brainscore  \n14                                     NaN  brainio_brainscore  \n15           brendel.Geirhos2021_eidolonII  brainio_brainscore  \n16                                     NaN  brainio_brainscore  \n17                                     NaN  brainio_brainscore  \n18          brendel.Geirhos2021_eidolonIII  brainio_brainscore  \n19                                     NaN  brainio_brainscore  \n20                                     NaN  brainio_brainscore  \n21        brendel.Geirhos2021_false-colour  brainio_brainscore  \n22                                     NaN  brainio_brainscore  \n23                                     NaN  brainio_brainscore  \n24           brendel.Geirhos2021_high-pass  brainio_brainscore  \n25                                     NaN  brainio_brainscore  \n26                                     NaN  brainio_brainscore  \n27            brendel.Geirhos2021_low-pass  brainio_brainscore  \n28                                     NaN  brainio_brainscore  \n29                                     NaN  brainio_brainscore  \n30    brendel.Geirhos2021_phase-scrambling  brainio_brainscore  \n31                                     NaN  brainio_brainscore  \n32                                     NaN  brainio_brainscore  \n33  brendel.Geirhos2021_power-equalisation  brainio_brainscore  \n34                                     NaN  brainio_brainscore  \n35                                     NaN  brainio_brainscore  \n36            brendel.Geirhos2021_rotation  brainio_brainscore  \n37                                     NaN  brainio_brainscore  \n38                                     NaN  brainio_brainscore  \n39          brendel.Geirhos2021_silhouette  brainio_brainscore  \n40                                     NaN  brainio_brainscore  \n41                                     NaN  brainio_brainscore  \n42              brendel.Geirhos2021_sketch  brainio_brainscore  \n43                                     NaN  brainio_brainscore  \n44                                     NaN  brainio_brainscore  \n45            brendel.Geirhos2021_stylized  brainio_brainscore  \n46                                     NaN  brainio_brainscore  \n47                                     NaN  brainio_brainscore  \n48       brendel.Geirhos2021_uniform-noise  brainio_brainscore  \n49                                     NaN  brainio_brainscore  \n50                                     NaN  brainio_brainscore  ",
      "text/html": "<div>\n<style scoped>\n    .dataframe tbody tr th:only-of-type {\n        vertical-align: middle;\n    }\n\n    .dataframe tbody tr th {\n        vertical-align: top;\n    }\n\n    .dataframe thead th {\n        text-align: right;\n    }\n</style>\n<table border=\"1\" class=\"dataframe\">\n  <thead>\n    <tr style=\"text-align: right;\">\n      <th></th>\n      <th>identifier</th>\n      <th>lookup_type</th>\n      <th>class</th>\n      <th>location_type</th>\n      <th>location</th>\n      <th>sha1</th>\n      <th>stimulus_set_identifier</th>\n      <th>lookup_source</th>\n    </tr>\n  </thead>\n  <tbody>\n    <tr>\n      <th>0</th>\n      <td>brendel.Geirhos2021_colour</td>\n      <td>assembly</td>\n      <td>BehavioralAssembly</td>\n      <td>S3</td>\n      <td>https://brainio-brainscore.s3.amazonaws.com/as...</td>\n      <td>258862d82467614e45cc1e488a5ac909eb6e122d</td>\n      <td>brendel.Geirhos2021_colour</td>\n      <td>brainio_brainscore</td>\n    </tr>\n    <tr>\n      <th>1</th>\n      <td>brendel.Geirhos2021_colour</td>\n      <td>stimulus_set</td>\n      <td>StimulusSet</td>\n      <td>S3</td>\n      <td>https://brainio-brainscore.s3.amazonaws.com/im...</td>\n      <td>9c97c155fd6039a95978be89eb604c6894c5fa16</td>\n      <td>NaN</td>\n      <td>brainio_brainscore</td>\n    </tr>\n    <tr>\n      <th>2</th>\n      <td>brendel.Geirhos2021_colour</td>\n      <td>stimulus_set</td>\n      <td>NaN</td>\n      <td>S3</td>\n      <td>https://brainio-brainscore.s3.amazonaws.com/im...</td>\n      <td>d166f1d3dc3d00c4f51a489e6fcf96dbbe778d2c</td>\n      <td>NaN</td>\n      <td>brainio_brainscore</td>\n    </tr>\n    <tr>\n      <th>3</th>\n      <td>brendel.Geirhos2021_contrast</td>\n      <td>assembly</td>\n      <td>BehavioralAssembly</td>\n      <td>S3</td>\n      <td>https://brainio-brainscore.s3.amazonaws.com/as...</td>\n      <td>1e114c987dc035ccca43781ff8cee9689acd3c3f</td>\n      <td>brendel.Geirhos2021_contrast</td>\n      <td>brainio_brainscore</td>\n    </tr>\n    <tr>\n      <th>4</th>\n      <td>brendel.Geirhos2021_contrast</td>\n      <td>stimulus_set</td>\n      <td>StimulusSet</td>\n      <td>S3</td>\n      <td>https://brainio-brainscore.s3.amazonaws.com/im...</td>\n      <td>f6ef69a2e8937e1d0d83c8a21b325b4273494cb5</td>\n      <td>NaN</td>\n      <td>brainio_brainscore</td>\n    </tr>\n    <tr>\n      <th>5</th>\n      <td>brendel.Geirhos2021_contrast</td>\n      <td>stimulus_set</td>\n      <td>NaN</td>\n      <td>S3</td>\n      <td>https://brainio-brainscore.s3.amazonaws.com/im...</td>\n      <td>ebeeef2f9c6a7282e20ef2026dc77eefa026957b</td>\n      <td>NaN</td>\n      <td>brainio_brainscore</td>\n    </tr>\n    <tr>\n      <th>6</th>\n      <td>brendel.Geirhos2021_cue-conflict</td>\n      <td>assembly</td>\n      <td>BehavioralAssembly</td>\n      <td>S3</td>\n      <td>https://brainio-brainscore.s3.amazonaws.com/as...</td>\n      <td>cc214e3595d34565b13963c5f56049769a39a5c9</td>\n      <td>brendel.Geirhos2021_cue-conflict</td>\n      <td>brainio_brainscore</td>\n    </tr>\n    <tr>\n      <th>7</th>\n      <td>brendel.Geirhos2021_cue-conflict</td>\n      <td>stimulus_set</td>\n      <td>StimulusSet</td>\n      <td>S3</td>\n      <td>https://brainio-brainscore.s3.amazonaws.com/im...</td>\n      <td>8d3ae89d8870fb7d7c5d5ff387085b1f0116e2b7</td>\n      <td>NaN</td>\n      <td>brainio_brainscore</td>\n    </tr>\n    <tr>\n      <th>8</th>\n      <td>brendel.Geirhos2021_cue-conflict</td>\n      <td>stimulus_set</td>\n      <td>NaN</td>\n      <td>S3</td>\n      <td>https://brainio-brainscore.s3.amazonaws.com/im...</td>\n      <td>7e601186b181102939cd0b43a4e8a3ca95c18259</td>\n      <td>NaN</td>\n      <td>brainio_brainscore</td>\n    </tr>\n    <tr>\n      <th>9</th>\n      <td>brendel.Geirhos2021_edge</td>\n      <td>assembly</td>\n      <td>BehavioralAssembly</td>\n      <td>S3</td>\n      <td>https://brainio-brainscore.s3.amazonaws.com/as...</td>\n      <td>ab1dc9e188e248da07215b375eb3dbcc58fde7fb</td>\n      <td>brendel.Geirhos2021_edge</td>\n      <td>brainio_brainscore</td>\n    </tr>\n    <tr>\n      <th>10</th>\n      <td>brendel.Geirhos2021_edge</td>\n      <td>stimulus_set</td>\n      <td>StimulusSet</td>\n      <td>S3</td>\n      <td>https://brainio-brainscore.s3.amazonaws.com/im...</td>\n      <td>fb57005ecb80e4e37b01e084f1f176fe7f59ff7f</td>\n      <td>NaN</td>\n      <td>brainio_brainscore</td>\n    </tr>\n    <tr>\n      <th>11</th>\n      <td>brendel.Geirhos2021_edge</td>\n      <td>stimulus_set</td>\n      <td>NaN</td>\n      <td>S3</td>\n      <td>https://brainio-brainscore.s3.amazonaws.com/im...</td>\n      <td>6c1199d90836a26be454aa799864a63c5efacaa1</td>\n      <td>NaN</td>\n      <td>brainio_brainscore</td>\n    </tr>\n    <tr>\n      <th>12</th>\n      <td>brendel.Geirhos2021_eidolonI</td>\n      <td>assembly</td>\n      <td>BehavioralAssembly</td>\n      <td>S3</td>\n      <td>https://brainio-brainscore.s3.amazonaws.com/as...</td>\n      <td>0f01f351ae19eafc2cb5e504d98e5cd01b4c07b4</td>\n      <td>brendel.Geirhos2021_eidolonI</td>\n      <td>brainio_brainscore</td>\n    </tr>\n    <tr>\n      <th>13</th>\n      <td>brendel.Geirhos2021_eidolonI</td>\n      <td>stimulus_set</td>\n      <td>StimulusSet</td>\n      <td>S3</td>\n      <td>https://brainio-brainscore.s3.amazonaws.com/im...</td>\n      <td>049adbed36fed52c609d38d5230e6084336df6b9</td>\n      <td>NaN</td>\n      <td>brainio_brainscore</td>\n    </tr>\n    <tr>\n      <th>14</th>\n      <td>brendel.Geirhos2021_eidolonI</td>\n      <td>stimulus_set</td>\n      <td>NaN</td>\n      <td>S3</td>\n      <td>https://brainio-brainscore.s3.amazonaws.com/im...</td>\n      <td>abaa45a225628dd66e424ec7d8e2b10a0c88bc0d</td>\n      <td>NaN</td>\n      <td>brainio_brainscore</td>\n    </tr>\n    <tr>\n      <th>15</th>\n      <td>brendel.Geirhos2021_eidolonII</td>\n      <td>assembly</td>\n      <td>BehavioralAssembly</td>\n      <td>S3</td>\n      <td>https://brainio-brainscore.s3.amazonaws.com/as...</td>\n      <td>499eea0f0c0817d02b5b97d2ebab89bc4c40a153</td>\n      <td>brendel.Geirhos2021_eidolonII</td>\n      <td>brainio_brainscore</td>\n    </tr>\n    <tr>\n      <th>16</th>\n      <td>brendel.Geirhos2021_eidolonII</td>\n      <td>stimulus_set</td>\n      <td>StimulusSet</td>\n      <td>S3</td>\n      <td>https://brainio-brainscore.s3.amazonaws.com/im...</td>\n      <td>1806ada128c260ab54db570d2e73aea71d679754</td>\n      <td>NaN</td>\n      <td>brainio_brainscore</td>\n    </tr>\n    <tr>\n      <th>17</th>\n      <td>brendel.Geirhos2021_eidolonII</td>\n      <td>stimulus_set</td>\n      <td>NaN</td>\n      <td>S3</td>\n      <td>https://brainio-brainscore.s3.amazonaws.com/im...</td>\n      <td>2654ba55291f8ab972f18b36565f9ead80a45339</td>\n      <td>NaN</td>\n      <td>brainio_brainscore</td>\n    </tr>\n    <tr>\n      <th>18</th>\n      <td>brendel.Geirhos2021_eidolonIII</td>\n      <td>assembly</td>\n      <td>BehavioralAssembly</td>\n      <td>S3</td>\n      <td>https://brainio-brainscore.s3.amazonaws.com/as...</td>\n      <td>e7c9a49e729f8666f8aedc6e47c746fbbe2ebe36</td>\n      <td>brendel.Geirhos2021_eidolonIII</td>\n      <td>brainio_brainscore</td>\n    </tr>\n    <tr>\n      <th>19</th>\n      <td>brendel.Geirhos2021_eidolonIII</td>\n      <td>stimulus_set</td>\n      <td>StimulusSet</td>\n      <td>S3</td>\n      <td>https://brainio-brainscore.s3.amazonaws.com/im...</td>\n      <td>ba0173b315f02df16d418dc3ff1df7dc498b4893</td>\n      <td>NaN</td>\n      <td>brainio_brainscore</td>\n    </tr>\n    <tr>\n      <th>20</th>\n      <td>brendel.Geirhos2021_eidolonIII</td>\n      <td>stimulus_set</td>\n      <td>NaN</td>\n      <td>S3</td>\n      <td>https://brainio-brainscore.s3.amazonaws.com/im...</td>\n      <td>d0304c0c0024d0f493ea9c0c47ae0221da391016</td>\n      <td>NaN</td>\n      <td>brainio_brainscore</td>\n    </tr>\n    <tr>\n      <th>21</th>\n      <td>brendel.Geirhos2021_false-colour</td>\n      <td>assembly</td>\n      <td>BehavioralAssembly</td>\n      <td>S3</td>\n      <td>https://brainio-brainscore.s3.amazonaws.com/as...</td>\n      <td>4dc072264651c81575564ba4818a12b8e8039c65</td>\n      <td>brendel.Geirhos2021_false-colour</td>\n      <td>brainio_brainscore</td>\n    </tr>\n    <tr>\n      <th>22</th>\n      <td>brendel.Geirhos2021_false-colour</td>\n      <td>stimulus_set</td>\n      <td>StimulusSet</td>\n      <td>S3</td>\n      <td>https://brainio-brainscore.s3.amazonaws.com/im...</td>\n      <td>8a09a7af8ec44339bcae5500ae5900d9c4309042</td>\n      <td>NaN</td>\n      <td>brainio_brainscore</td>\n    </tr>\n    <tr>\n      <th>23</th>\n      <td>brendel.Geirhos2021_false-colour</td>\n      <td>stimulus_set</td>\n      <td>NaN</td>\n      <td>S3</td>\n      <td>https://brainio-brainscore.s3.amazonaws.com/im...</td>\n      <td>ec0ba347fc14d0c0587d38bfa96e4ab5d2f7979a</td>\n      <td>NaN</td>\n      <td>brainio_brainscore</td>\n    </tr>\n    <tr>\n      <th>24</th>\n      <td>brendel.Geirhos2021_high-pass</td>\n      <td>assembly</td>\n      <td>BehavioralAssembly</td>\n      <td>S3</td>\n      <td>https://brainio-brainscore.s3.amazonaws.com/as...</td>\n      <td>5df45c69127758f1ba3391671c521711050e3b4d</td>\n      <td>brendel.Geirhos2021_high-pass</td>\n      <td>brainio_brainscore</td>\n    </tr>\n    <tr>\n      <th>25</th>\n      <td>brendel.Geirhos2021_high-pass</td>\n      <td>stimulus_set</td>\n      <td>StimulusSet</td>\n      <td>S3</td>\n      <td>https://brainio-brainscore.s3.amazonaws.com/im...</td>\n      <td>ddf523dcf43398cc15894c7b51c436d526e6c992</td>\n      <td>NaN</td>\n      <td>brainio_brainscore</td>\n    </tr>\n    <tr>\n      <th>26</th>\n      <td>brendel.Geirhos2021_high-pass</td>\n      <td>stimulus_set</td>\n      <td>NaN</td>\n      <td>S3</td>\n      <td>https://brainio-brainscore.s3.amazonaws.com/im...</td>\n      <td>12322bb17270a5dde206314fcdc125c4bb235e3b</td>\n      <td>NaN</td>\n      <td>brainio_brainscore</td>\n    </tr>\n    <tr>\n      <th>27</th>\n      <td>brendel.Geirhos2021_low-pass</td>\n      <td>assembly</td>\n      <td>BehavioralAssembly</td>\n      <td>S3</td>\n      <td>https://brainio-brainscore.s3.amazonaws.com/as...</td>\n      <td>75ab628d9e6d0d634290567b1cb261d7f8dc61e2</td>\n      <td>brendel.Geirhos2021_low-pass</td>\n      <td>brainio_brainscore</td>\n    </tr>\n    <tr>\n      <th>28</th>\n      <td>brendel.Geirhos2021_low-pass</td>\n      <td>stimulus_set</td>\n      <td>StimulusSet</td>\n      <td>S3</td>\n      <td>https://brainio-brainscore.s3.amazonaws.com/im...</td>\n      <td>1264f9be407c7d428cf3d62a7bb1b1bb45a821bc</td>\n      <td>NaN</td>\n      <td>brainio_brainscore</td>\n    </tr>\n    <tr>\n      <th>29</th>\n      <td>brendel.Geirhos2021_low-pass</td>\n      <td>stimulus_set</td>\n      <td>NaN</td>\n      <td>S3</td>\n      <td>https://brainio-brainscore.s3.amazonaws.com/im...</td>\n      <td>ad087676e04e51adadea7c7c5c1fa28e4dd6360c</td>\n      <td>NaN</td>\n      <td>brainio_brainscore</td>\n    </tr>\n    <tr>\n      <th>30</th>\n      <td>brendel.Geirhos2021_phase-scrambling</td>\n      <td>assembly</td>\n      <td>BehavioralAssembly</td>\n      <td>S3</td>\n      <td>https://brainio-brainscore.s3.amazonaws.com/as...</td>\n      <td>4124f9f5b86fb6ed82c98197d292eef50b608aba</td>\n      <td>brendel.Geirhos2021_phase-scrambling</td>\n      <td>brainio_brainscore</td>\n    </tr>\n    <tr>\n      <th>31</th>\n      <td>brendel.Geirhos2021_phase-scrambling</td>\n      <td>stimulus_set</td>\n      <td>StimulusSet</td>\n      <td>S3</td>\n      <td>https://brainio-brainscore.s3.amazonaws.com/im...</td>\n      <td>0cc87f7ac42c2266f98d3a08783f7173499ec2fc</td>\n      <td>NaN</td>\n      <td>brainio_brainscore</td>\n    </tr>\n    <tr>\n      <th>32</th>\n      <td>brendel.Geirhos2021_phase-scrambling</td>\n      <td>stimulus_set</td>\n      <td>NaN</td>\n      <td>S3</td>\n      <td>https://brainio-brainscore.s3.amazonaws.com/im...</td>\n      <td>462e77ab9533072b7036118f1f697e8c9bf30ae4</td>\n      <td>NaN</td>\n      <td>brainio_brainscore</td>\n    </tr>\n    <tr>\n      <th>33</th>\n      <td>brendel.Geirhos2021_power-equalisation</td>\n      <td>assembly</td>\n      <td>BehavioralAssembly</td>\n      <td>S3</td>\n      <td>https://brainio-brainscore.s3.amazonaws.com/as...</td>\n      <td>0aba1b50a7e0802d76c41d332a121a3f96ef4f7d</td>\n      <td>brendel.Geirhos2021_power-equalisation</td>\n      <td>brainio_brainscore</td>\n    </tr>\n    <tr>\n      <th>34</th>\n      <td>brendel.Geirhos2021_power-equalisation</td>\n      <td>stimulus_set</td>\n      <td>StimulusSet</td>\n      <td>S3</td>\n      <td>https://brainio-brainscore.s3.amazonaws.com/im...</td>\n      <td>743935476b1fe4b7bd4d01a4eed24cd9ed5b3a22</td>\n      <td>NaN</td>\n      <td>brainio_brainscore</td>\n    </tr>\n    <tr>\n      <th>35</th>\n      <td>brendel.Geirhos2021_power-equalisation</td>\n      <td>stimulus_set</td>\n      <td>NaN</td>\n      <td>S3</td>\n      <td>https://brainio-brainscore.s3.amazonaws.com/im...</td>\n      <td>a0d5307525bccf8da8f3d293e7e324b9b20248c6</td>\n      <td>NaN</td>\n      <td>brainio_brainscore</td>\n    </tr>\n    <tr>\n      <th>36</th>\n      <td>brendel.Geirhos2021_rotation</td>\n      <td>assembly</td>\n      <td>BehavioralAssembly</td>\n      <td>S3</td>\n      <td>https://brainio-brainscore.s3.amazonaws.com/as...</td>\n      <td>e51a5c3bc95ade159e71aa602232063730bcd57b</td>\n      <td>brendel.Geirhos2021_rotation</td>\n      <td>brainio_brainscore</td>\n    </tr>\n    <tr>\n      <th>37</th>\n      <td>brendel.Geirhos2021_rotation</td>\n      <td>stimulus_set</td>\n      <td>StimulusSet</td>\n      <td>S3</td>\n      <td>https://brainio-brainscore.s3.amazonaws.com/im...</td>\n      <td>2577831e9ead905669613fa17cb2651d0c48a455</td>\n      <td>NaN</td>\n      <td>brainio_brainscore</td>\n    </tr>\n    <tr>\n      <th>38</th>\n      <td>brendel.Geirhos2021_rotation</td>\n      <td>stimulus_set</td>\n      <td>NaN</td>\n      <td>S3</td>\n      <td>https://brainio-brainscore.s3.amazonaws.com/im...</td>\n      <td>8f5d9cb217807e96ace61337144e429d0d4ba04c</td>\n      <td>NaN</td>\n      <td>brainio_brainscore</td>\n    </tr>\n    <tr>\n      <th>39</th>\n      <td>brendel.Geirhos2021_silhouette</td>\n      <td>assembly</td>\n      <td>BehavioralAssembly</td>\n      <td>S3</td>\n      <td>https://brainio-brainscore.s3.amazonaws.com/as...</td>\n      <td>7dc94991465fe8009244e0d6fb8283419a1f9885</td>\n      <td>brendel.Geirhos2021_silhouette</td>\n      <td>brainio_brainscore</td>\n    </tr>\n    <tr>\n      <th>40</th>\n      <td>brendel.Geirhos2021_silhouette</td>\n      <td>stimulus_set</td>\n      <td>StimulusSet</td>\n      <td>S3</td>\n      <td>https://brainio-brainscore.s3.amazonaws.com/im...</td>\n      <td>fb57005ecb80e4e37b01e084f1f176fe7f59ff7f</td>\n      <td>NaN</td>\n      <td>brainio_brainscore</td>\n    </tr>\n    <tr>\n      <th>41</th>\n      <td>brendel.Geirhos2021_silhouette</td>\n      <td>stimulus_set</td>\n      <td>NaN</td>\n      <td>S3</td>\n      <td>https://brainio-brainscore.s3.amazonaws.com/im...</td>\n      <td>36c8a481f7876a2af2ad4fe80890b302fe3ae91e</td>\n      <td>NaN</td>\n      <td>brainio_brainscore</td>\n    </tr>\n    <tr>\n      <th>42</th>\n      <td>brendel.Geirhos2021_sketch</td>\n      <td>assembly</td>\n      <td>BehavioralAssembly</td>\n      <td>S3</td>\n      <td>https://brainio-brainscore.s3.amazonaws.com/as...</td>\n      <td>6709850864cea16d99a29fb31ae3c4a489983562</td>\n      <td>brendel.Geirhos2021_sketch</td>\n      <td>brainio_brainscore</td>\n    </tr>\n    <tr>\n      <th>43</th>\n      <td>brendel.Geirhos2021_sketch</td>\n      <td>stimulus_set</td>\n      <td>StimulusSet</td>\n      <td>S3</td>\n      <td>https://brainio-brainscore.s3.amazonaws.com/im...</td>\n      <td>a5741b2f7bd08541a0dbefd7fb2d6a3845ca800b</td>\n      <td>NaN</td>\n      <td>brainio_brainscore</td>\n    </tr>\n    <tr>\n      <th>44</th>\n      <td>brendel.Geirhos2021_sketch</td>\n      <td>stimulus_set</td>\n      <td>NaN</td>\n      <td>S3</td>\n      <td>https://brainio-brainscore.s3.amazonaws.com/im...</td>\n      <td>8e8712f08a5ad3655ea2bd8cd675db8cdf65129a</td>\n      <td>NaN</td>\n      <td>brainio_brainscore</td>\n    </tr>\n    <tr>\n      <th>45</th>\n      <td>brendel.Geirhos2021_stylized</td>\n      <td>assembly</td>\n      <td>BehavioralAssembly</td>\n      <td>S3</td>\n      <td>https://brainio-brainscore.s3.amazonaws.com/as...</td>\n      <td>dcf15f292e787a88e1e0f271e6b2838d6bdadfd3</td>\n      <td>brendel.Geirhos2021_stylized</td>\n      <td>brainio_brainscore</td>\n    </tr>\n    <tr>\n      <th>46</th>\n      <td>brendel.Geirhos2021_stylized</td>\n      <td>stimulus_set</td>\n      <td>StimulusSet</td>\n      <td>S3</td>\n      <td>https://brainio-brainscore.s3.amazonaws.com/im...</td>\n      <td>2265a540dee6915150bf7c61143eaf788f603866</td>\n      <td>NaN</td>\n      <td>brainio_brainscore</td>\n    </tr>\n    <tr>\n      <th>47</th>\n      <td>brendel.Geirhos2021_stylized</td>\n      <td>stimulus_set</td>\n      <td>NaN</td>\n      <td>S3</td>\n      <td>https://brainio-brainscore.s3.amazonaws.com/im...</td>\n      <td>75d273e8de643b0d814fbe60cd237c31ebe19c44</td>\n      <td>NaN</td>\n      <td>brainio_brainscore</td>\n    </tr>\n    <tr>\n      <th>48</th>\n      <td>brendel.Geirhos2021_uniform-noise</td>\n      <td>assembly</td>\n      <td>BehavioralAssembly</td>\n      <td>S3</td>\n      <td>https://brainio-brainscore.s3.amazonaws.com/as...</td>\n      <td>f5e8b2636738f978c71591b8df6f8a21a66b72d1</td>\n      <td>brendel.Geirhos2021_uniform-noise</td>\n      <td>brainio_brainscore</td>\n    </tr>\n    <tr>\n      <th>49</th>\n      <td>brendel.Geirhos2021_uniform-noise</td>\n      <td>stimulus_set</td>\n      <td>StimulusSet</td>\n      <td>S3</td>\n      <td>https://brainio-brainscore.s3.amazonaws.com/im...</td>\n      <td>89b62a6af878974d388278ed0e23e8ed1c2fd855</td>\n      <td>NaN</td>\n      <td>brainio_brainscore</td>\n    </tr>\n    <tr>\n      <th>50</th>\n      <td>brendel.Geirhos2021_uniform-noise</td>\n      <td>stimulus_set</td>\n      <td>NaN</td>\n      <td>S3</td>\n      <td>https://brainio-brainscore.s3.amazonaws.com/im...</td>\n      <td>ff4566542d65056028660293e2409b532e887714</td>\n      <td>NaN</td>\n      <td>brainio_brainscore</td>\n    </tr>\n  </tbody>\n</table>\n</div>"
     },
     "execution_count": 50,
     "metadata": {},
     "output_type": "execute_result"
    }
   ],
   "source": [
    "geirhos_csv = pd.read_csv('geirhos_hashes.csv')\n",
    "geirhos_csv"
   ],
   "metadata": {
    "collapsed": false
   }
  },
  {
   "cell_type": "code",
   "execution_count": 68,
   "outputs": [
    {
     "data": {
      "text/plain": "'colour'"
     },
     "execution_count": 68,
     "metadata": {},
     "output_type": "execute_result"
    }
   ],
   "source": [
    "geirhos_csv['identifier'].str.split('_')[:][-1]"
   ],
   "metadata": {
    "collapsed": false
   }
  },
  {
   "cell_type": "code",
   "execution_count": 78,
   "outputs": [],
   "source": [
    "geirhos_csv[['general', 'dataset_id']] = geirhos_csv['identifier'].str.split('_', expand=True)"
   ],
   "metadata": {
    "collapsed": false
   }
  },
  {
   "cell_type": "code",
   "execution_count": 119,
   "outputs": [],
   "source": [
    "class HashCollection:\n",
    "    def __init__(self, dataset_identifier, assembly_sha1, stim_csv_sha1, stim_zip_sha1):\n",
    "        self.dataset_identifier = dataset_identifier\n",
    "        self.assembly_sha1 = assembly_sha1\n",
    "        self.stim_csv_sha1 = stim_csv_sha1\n",
    "        self.stim_zip_sha1 = stim_zip_sha1"
   ],
   "metadata": {
    "collapsed": false
   }
  },
  {
   "cell_type": "code",
   "execution_count": 122,
   "outputs": [
    {
     "data": {
      "text/plain": "'colour'"
     },
     "execution_count": 122,
     "metadata": {},
     "output_type": "execute_result"
    }
   ],
   "source": [
    "hash_dict = {}\n",
    "for dataset_id in DATASETS:\n",
    "    dataset_subset = geirhos_csv[geirhos_csv['dataset_id']==dataset_id]\n",
    "\n",
    "    # use classes (Assembly vs. Stim Set vs. Nan) to determine file type\n",
    "    assembly_hash = dataset_subset[dataset_subset['class']=='BehavioralAssembly']['sha1'].item()\n",
    "    stim_csv_hash = dataset_subset[dataset_subset['class']=='StimulusSet']['sha1'].item()\n",
    "    stim_zip_hash = dataset_subset[dataset_subset['class'].isnull()]['sha1'].item()\n",
    "    hash_dict[dataset_id] = HashCollection(dataset_id, assembly_hash, stim_csv_hash, stim_zip_hash)\n",
    "\n",
    "hash_dict['colour'].dataset_identifier"
   ],
   "metadata": {
    "collapsed": false
   }
  },
  {
   "cell_type": "code",
   "execution_count": 113,
   "outputs": [
    {
     "data": {
      "text/plain": "{'colour': ('258862d82467614e45cc1e488a5ac909eb6e122d',\n  '9c97c155fd6039a95978be89eb604c6894c5fa16',\n  'd166f1d3dc3d00c4f51a489e6fcf96dbbe778d2c'),\n 'contrast': ('1e114c987dc035ccca43781ff8cee9689acd3c3f',\n  'f6ef69a2e8937e1d0d83c8a21b325b4273494cb5',\n  'ebeeef2f9c6a7282e20ef2026dc77eefa026957b'),\n 'cue-conflict': ('cc214e3595d34565b13963c5f56049769a39a5c9',\n  '8d3ae89d8870fb7d7c5d5ff387085b1f0116e2b7',\n  '7e601186b181102939cd0b43a4e8a3ca95c18259'),\n 'edge': ('ab1dc9e188e248da07215b375eb3dbcc58fde7fb',\n  'fb57005ecb80e4e37b01e084f1f176fe7f59ff7f',\n  '6c1199d90836a26be454aa799864a63c5efacaa1'),\n 'eidolonI': ('0f01f351ae19eafc2cb5e504d98e5cd01b4c07b4',\n  '049adbed36fed52c609d38d5230e6084336df6b9',\n  'abaa45a225628dd66e424ec7d8e2b10a0c88bc0d'),\n 'eidolonII': ('499eea0f0c0817d02b5b97d2ebab89bc4c40a153',\n  '1806ada128c260ab54db570d2e73aea71d679754',\n  '2654ba55291f8ab972f18b36565f9ead80a45339'),\n 'eidolonIII': ('e7c9a49e729f8666f8aedc6e47c746fbbe2ebe36',\n  'ba0173b315f02df16d418dc3ff1df7dc498b4893',\n  'd0304c0c0024d0f493ea9c0c47ae0221da391016'),\n 'false-colour': ('4dc072264651c81575564ba4818a12b8e8039c65',\n  '8a09a7af8ec44339bcae5500ae5900d9c4309042',\n  'ec0ba347fc14d0c0587d38bfa96e4ab5d2f7979a'),\n 'high-pass': ('5df45c69127758f1ba3391671c521711050e3b4d',\n  'ddf523dcf43398cc15894c7b51c436d526e6c992',\n  '12322bb17270a5dde206314fcdc125c4bb235e3b'),\n 'low-pass': ('75ab628d9e6d0d634290567b1cb261d7f8dc61e2',\n  '1264f9be407c7d428cf3d62a7bb1b1bb45a821bc',\n  'ad087676e04e51adadea7c7c5c1fa28e4dd6360c'),\n 'phase-scrambling': ('4124f9f5b86fb6ed82c98197d292eef50b608aba',\n  '0cc87f7ac42c2266f98d3a08783f7173499ec2fc',\n  '462e77ab9533072b7036118f1f697e8c9bf30ae4'),\n 'power-equalisation': ('0aba1b50a7e0802d76c41d332a121a3f96ef4f7d',\n  '743935476b1fe4b7bd4d01a4eed24cd9ed5b3a22',\n  'a0d5307525bccf8da8f3d293e7e324b9b20248c6'),\n 'rotation': ('e51a5c3bc95ade159e71aa602232063730bcd57b',\n  '2577831e9ead905669613fa17cb2651d0c48a455',\n  '8f5d9cb217807e96ace61337144e429d0d4ba04c'),\n 'silhouette': ('7dc94991465fe8009244e0d6fb8283419a1f9885',\n  'fb57005ecb80e4e37b01e084f1f176fe7f59ff7f',\n  '36c8a481f7876a2af2ad4fe80890b302fe3ae91e'),\n 'sketch': ('6709850864cea16d99a29fb31ae3c4a489983562',\n  'a5741b2f7bd08541a0dbefd7fb2d6a3845ca800b',\n  '8e8712f08a5ad3655ea2bd8cd675db8cdf65129a'),\n 'stylized': ('dcf15f292e787a88e1e0f271e6b2838d6bdadfd3',\n  '2265a540dee6915150bf7c61143eaf788f603866',\n  '75d273e8de643b0d814fbe60cd237c31ebe19c44'),\n 'uniform-noise': ('f5e8b2636738f978c71591b8df6f8a21a66b72d1',\n  '89b62a6af878974d388278ed0e23e8ed1c2fd855',\n  'ff4566542d65056028660293e2409b532e887714')}"
     },
     "execution_count": 113,
     "metadata": {},
     "output_type": "execute_result"
    }
   ],
   "source": [
    "hash_dict = {}\n",
    "for dataset_id in DATASETS:\n",
    "    dataset_subset = geirhos_csv[geirhos_csv['dataset_id']==dataset_id]\n",
    "\n",
    "    # use classes (Assembly vs. Stim Set vs. Nan) to determine file type\n",
    "    assembly_hash = dataset_subset[dataset_subset['class']=='BehavioralAssembly']['sha1'].item()\n",
    "    stim_csv_hash = dataset_subset[dataset_subset['class']=='StimulusSet']['sha1'].item()\n",
    "    stim_zip_hash = dataset_subset[dataset_subset['class'].isnull()]['sha1'].item()\n",
    "    hash_dict[dataset_id] = (assembly_hash, stim_csv_hash, stim_zip_hash)\n",
    "\n",
    "hash_dict"
   ],
   "metadata": {
    "collapsed": false
   }
  },
  {
   "cell_type": "code",
   "execution_count": 114,
   "outputs": [
    {
     "name": "stdout",
     "output_type": "stream",
     "text": [
      "colour\n",
      "258862d82467614e45cc1e488a5ac909eb6e122d\n",
      "9c97c155fd6039a95978be89eb604c6894c5fa16\n",
      "d166f1d3dc3d00c4f51a489e6fcf96dbbe778d2c\n",
      "contrast\n",
      "1e114c987dc035ccca43781ff8cee9689acd3c3f\n",
      "f6ef69a2e8937e1d0d83c8a21b325b4273494cb5\n",
      "ebeeef2f9c6a7282e20ef2026dc77eefa026957b\n",
      "cue-conflict\n",
      "cc214e3595d34565b13963c5f56049769a39a5c9\n",
      "8d3ae89d8870fb7d7c5d5ff387085b1f0116e2b7\n",
      "7e601186b181102939cd0b43a4e8a3ca95c18259\n",
      "edge\n",
      "ab1dc9e188e248da07215b375eb3dbcc58fde7fb\n",
      "fb57005ecb80e4e37b01e084f1f176fe7f59ff7f\n",
      "6c1199d90836a26be454aa799864a63c5efacaa1\n",
      "eidolonI\n",
      "0f01f351ae19eafc2cb5e504d98e5cd01b4c07b4\n",
      "049adbed36fed52c609d38d5230e6084336df6b9\n",
      "abaa45a225628dd66e424ec7d8e2b10a0c88bc0d\n",
      "eidolonII\n",
      "499eea0f0c0817d02b5b97d2ebab89bc4c40a153\n",
      "1806ada128c260ab54db570d2e73aea71d679754\n",
      "2654ba55291f8ab972f18b36565f9ead80a45339\n",
      "eidolonIII\n",
      "e7c9a49e729f8666f8aedc6e47c746fbbe2ebe36\n",
      "ba0173b315f02df16d418dc3ff1df7dc498b4893\n",
      "d0304c0c0024d0f493ea9c0c47ae0221da391016\n",
      "false-colour\n",
      "4dc072264651c81575564ba4818a12b8e8039c65\n",
      "8a09a7af8ec44339bcae5500ae5900d9c4309042\n",
      "ec0ba347fc14d0c0587d38bfa96e4ab5d2f7979a\n",
      "high-pass\n",
      "5df45c69127758f1ba3391671c521711050e3b4d\n",
      "ddf523dcf43398cc15894c7b51c436d526e6c992\n",
      "12322bb17270a5dde206314fcdc125c4bb235e3b\n",
      "low-pass\n",
      "75ab628d9e6d0d634290567b1cb261d7f8dc61e2\n",
      "1264f9be407c7d428cf3d62a7bb1b1bb45a821bc\n",
      "ad087676e04e51adadea7c7c5c1fa28e4dd6360c\n",
      "phase-scrambling\n",
      "4124f9f5b86fb6ed82c98197d292eef50b608aba\n",
      "0cc87f7ac42c2266f98d3a08783f7173499ec2fc\n",
      "462e77ab9533072b7036118f1f697e8c9bf30ae4\n",
      "power-equalisation\n",
      "0aba1b50a7e0802d76c41d332a121a3f96ef4f7d\n",
      "743935476b1fe4b7bd4d01a4eed24cd9ed5b3a22\n",
      "a0d5307525bccf8da8f3d293e7e324b9b20248c6\n",
      "rotation\n",
      "e51a5c3bc95ade159e71aa602232063730bcd57b\n",
      "2577831e9ead905669613fa17cb2651d0c48a455\n",
      "8f5d9cb217807e96ace61337144e429d0d4ba04c\n",
      "silhouette\n",
      "7dc94991465fe8009244e0d6fb8283419a1f9885\n",
      "fb57005ecb80e4e37b01e084f1f176fe7f59ff7f\n",
      "36c8a481f7876a2af2ad4fe80890b302fe3ae91e\n",
      "sketch\n",
      "6709850864cea16d99a29fb31ae3c4a489983562\n",
      "a5741b2f7bd08541a0dbefd7fb2d6a3845ca800b\n",
      "8e8712f08a5ad3655ea2bd8cd675db8cdf65129a\n",
      "stylized\n",
      "dcf15f292e787a88e1e0f271e6b2838d6bdadfd3\n",
      "2265a540dee6915150bf7c61143eaf788f603866\n",
      "75d273e8de643b0d814fbe60cd237c31ebe19c44\n",
      "uniform-noise\n",
      "f5e8b2636738f978c71591b8df6f8a21a66b72d1\n",
      "89b62a6af878974d388278ed0e23e8ed1c2fd855\n",
      "ff4566542d65056028660293e2409b532e887714\n"
     ]
    }
   ],
   "source": [
    "for dataset, (assembly_hash, stim_csv_hash, stim_zip_hash) in hash_dict.items():\n",
    "    print(dataset)\n",
    "    print(assembly_hash)\n",
    "    print(stim_csv_hash)\n",
    "    print(stim_zip_hash)"
   ],
   "metadata": {
    "collapsed": false
   }
  },
  {
   "cell_type": "code",
   "execution_count": 43,
   "outputs": [
    {
     "data": {
      "text/plain": "[['258862d82467614e45cc1e488a5ac909eb6e122d',\n  '9c97c155fd6039a95978be89eb604c6894c5fa16',\n  'd166f1d3dc3d00c4f51a489e6fcf96dbbe778d2c'],\n ['1e114c987dc035ccca43781ff8cee9689acd3c3f',\n  'f6ef69a2e8937e1d0d83c8a21b325b4273494cb5',\n  'ebeeef2f9c6a7282e20ef2026dc77eefa026957b'],\n ['cc214e3595d34565b13963c5f56049769a39a5c9',\n  '8d3ae89d8870fb7d7c5d5ff387085b1f0116e2b7',\n  '7e601186b181102939cd0b43a4e8a3ca95c18259'],\n ['ab1dc9e188e248da07215b375eb3dbcc58fde7fb',\n  'fb57005ecb80e4e37b01e084f1f176fe7f59ff7f',\n  '6c1199d90836a26be454aa799864a63c5efacaa1'],\n ['0f01f351ae19eafc2cb5e504d98e5cd01b4c07b4',\n  '049adbed36fed52c609d38d5230e6084336df6b9',\n  'abaa45a225628dd66e424ec7d8e2b10a0c88bc0d'],\n ['499eea0f0c0817d02b5b97d2ebab89bc4c40a153',\n  '1806ada128c260ab54db570d2e73aea71d679754',\n  '2654ba55291f8ab972f18b36565f9ead80a45339'],\n ['e7c9a49e729f8666f8aedc6e47c746fbbe2ebe36',\n  'ba0173b315f02df16d418dc3ff1df7dc498b4893',\n  'd0304c0c0024d0f493ea9c0c47ae0221da391016'],\n ['4dc072264651c81575564ba4818a12b8e8039c65',\n  '8a09a7af8ec44339bcae5500ae5900d9c4309042',\n  'ec0ba347fc14d0c0587d38bfa96e4ab5d2f7979a'],\n ['5df45c69127758f1ba3391671c521711050e3b4d',\n  'ddf523dcf43398cc15894c7b51c436d526e6c992',\n  '12322bb17270a5dde206314fcdc125c4bb235e3b'],\n ['75ab628d9e6d0d634290567b1cb261d7f8dc61e2',\n  '1264f9be407c7d428cf3d62a7bb1b1bb45a821bc',\n  'ad087676e04e51adadea7c7c5c1fa28e4dd6360c'],\n ['4124f9f5b86fb6ed82c98197d292eef50b608aba',\n  '0cc87f7ac42c2266f98d3a08783f7173499ec2fc',\n  '462e77ab9533072b7036118f1f697e8c9bf30ae4'],\n ['0aba1b50a7e0802d76c41d332a121a3f96ef4f7d',\n  '743935476b1fe4b7bd4d01a4eed24cd9ed5b3a22',\n  'a0d5307525bccf8da8f3d293e7e324b9b20248c6'],\n ['e51a5c3bc95ade159e71aa602232063730bcd57b',\n  '2577831e9ead905669613fa17cb2651d0c48a455',\n  '8f5d9cb217807e96ace61337144e429d0d4ba04c'],\n ['7dc94991465fe8009244e0d6fb8283419a1f9885',\n  'fb57005ecb80e4e37b01e084f1f176fe7f59ff7f',\n  '36c8a481f7876a2af2ad4fe80890b302fe3ae91e'],\n ['6709850864cea16d99a29fb31ae3c4a489983562',\n  'a5741b2f7bd08541a0dbefd7fb2d6a3845ca800b',\n  '8e8712f08a5ad3655ea2bd8cd675db8cdf65129a'],\n ['dcf15f292e787a88e1e0f271e6b2838d6bdadfd3',\n  '2265a540dee6915150bf7c61143eaf788f603866',\n  '75d273e8de643b0d814fbe60cd237c31ebe19c44'],\n ['f5e8b2636738f978c71591b8df6f8a21a66b72d1',\n  '89b62a6af878974d388278ed0e23e8ed1c2fd855',\n  'ff4566542d65056028660293e2409b532e887714']]"
     },
     "execution_count": 43,
     "metadata": {},
     "output_type": "execute_result"
    }
   ],
   "source": [
    "# grouping the three hashes together for each assembly/stimulus set pairing\n",
    "hashes = []\n",
    "for i in range(0, len(geirhos_csv), 3):\n",
    "    assembly_hash = geirhos_csv.loc[i, 'sha1']\n",
    "    stim_csv_hash = geirhos_csv.loc[i+1, 'sha1']\n",
    "    stim_zip_hash = geirhos_csv.loc[i+2, 'sha1']\n",
    "    hashes.append([assembly_hash, stim_csv_hash, stim_zip_hash])\n",
    "hashes\n"
   ],
   "metadata": {
    "collapsed": false
   }
  },
  {
   "cell_type": "code",
   "execution_count": 44,
   "outputs": [],
   "source": [
    "DATASETS = ['colour', 'contrast', 'cue-conflict', 'edge',\n",
    "            'eidolonI', 'eidolonII', 'eidolonIII',\n",
    "            'false-colour', 'high-pass', 'low-pass', 'phase-scrambling', 'power-equalisation',\n",
    "            'rotation', 'silhouette', 'sketch', 'stylized', 'uniform-noise']"
   ],
   "metadata": {
    "collapsed": false
   }
  },
  {
   "cell_type": "code",
   "execution_count": 45,
   "outputs": [
    {
     "data": {
      "text/plain": "[('colour',\n  ['258862d82467614e45cc1e488a5ac909eb6e122d',\n   '9c97c155fd6039a95978be89eb604c6894c5fa16',\n   'd166f1d3dc3d00c4f51a489e6fcf96dbbe778d2c']),\n ('contrast',\n  ['1e114c987dc035ccca43781ff8cee9689acd3c3f',\n   'f6ef69a2e8937e1d0d83c8a21b325b4273494cb5',\n   'ebeeef2f9c6a7282e20ef2026dc77eefa026957b']),\n ('cue-conflict',\n  ['cc214e3595d34565b13963c5f56049769a39a5c9',\n   '8d3ae89d8870fb7d7c5d5ff387085b1f0116e2b7',\n   '7e601186b181102939cd0b43a4e8a3ca95c18259']),\n ('edge',\n  ['ab1dc9e188e248da07215b375eb3dbcc58fde7fb',\n   'fb57005ecb80e4e37b01e084f1f176fe7f59ff7f',\n   '6c1199d90836a26be454aa799864a63c5efacaa1']),\n ('eidolonI',\n  ['0f01f351ae19eafc2cb5e504d98e5cd01b4c07b4',\n   '049adbed36fed52c609d38d5230e6084336df6b9',\n   'abaa45a225628dd66e424ec7d8e2b10a0c88bc0d']),\n ('eidolonII',\n  ['499eea0f0c0817d02b5b97d2ebab89bc4c40a153',\n   '1806ada128c260ab54db570d2e73aea71d679754',\n   '2654ba55291f8ab972f18b36565f9ead80a45339']),\n ('eidolonIII',\n  ['e7c9a49e729f8666f8aedc6e47c746fbbe2ebe36',\n   'ba0173b315f02df16d418dc3ff1df7dc498b4893',\n   'd0304c0c0024d0f493ea9c0c47ae0221da391016']),\n ('false-colour',\n  ['4dc072264651c81575564ba4818a12b8e8039c65',\n   '8a09a7af8ec44339bcae5500ae5900d9c4309042',\n   'ec0ba347fc14d0c0587d38bfa96e4ab5d2f7979a']),\n ('high-pass',\n  ['5df45c69127758f1ba3391671c521711050e3b4d',\n   'ddf523dcf43398cc15894c7b51c436d526e6c992',\n   '12322bb17270a5dde206314fcdc125c4bb235e3b']),\n ('low-pass',\n  ['75ab628d9e6d0d634290567b1cb261d7f8dc61e2',\n   '1264f9be407c7d428cf3d62a7bb1b1bb45a821bc',\n   'ad087676e04e51adadea7c7c5c1fa28e4dd6360c']),\n ('phase-scrambling',\n  ['4124f9f5b86fb6ed82c98197d292eef50b608aba',\n   '0cc87f7ac42c2266f98d3a08783f7173499ec2fc',\n   '462e77ab9533072b7036118f1f697e8c9bf30ae4']),\n ('power-equalisation',\n  ['0aba1b50a7e0802d76c41d332a121a3f96ef4f7d',\n   '743935476b1fe4b7bd4d01a4eed24cd9ed5b3a22',\n   'a0d5307525bccf8da8f3d293e7e324b9b20248c6']),\n ('rotation',\n  ['e51a5c3bc95ade159e71aa602232063730bcd57b',\n   '2577831e9ead905669613fa17cb2651d0c48a455',\n   '8f5d9cb217807e96ace61337144e429d0d4ba04c']),\n ('silhouette',\n  ['7dc94991465fe8009244e0d6fb8283419a1f9885',\n   'fb57005ecb80e4e37b01e084f1f176fe7f59ff7f',\n   '36c8a481f7876a2af2ad4fe80890b302fe3ae91e']),\n ('sketch',\n  ['6709850864cea16d99a29fb31ae3c4a489983562',\n   'a5741b2f7bd08541a0dbefd7fb2d6a3845ca800b',\n   '8e8712f08a5ad3655ea2bd8cd675db8cdf65129a']),\n ('stylized',\n  ['dcf15f292e787a88e1e0f271e6b2838d6bdadfd3',\n   '2265a540dee6915150bf7c61143eaf788f603866',\n   '75d273e8de643b0d814fbe60cd237c31ebe19c44']),\n ('uniform-noise',\n  ['f5e8b2636738f978c71591b8df6f8a21a66b72d1',\n   '89b62a6af878974d388278ed0e23e8ed1c2fd855',\n   'ff4566542d65056028660293e2409b532e887714'])]"
     },
     "execution_count": 45,
     "metadata": {},
     "output_type": "execute_result"
    }
   ],
   "source": [
    "zipped = list(zip(DATASETS, hashes))\n",
    "zipped"
   ],
   "metadata": {
    "collapsed": false
   }
  },
  {
   "cell_type": "code",
   "execution_count": 47,
   "outputs": [
    {
     "data": {
      "text/plain": "'colour'"
     },
     "execution_count": 47,
     "metadata": {},
     "output_type": "execute_result"
    }
   ],
   "source": [
    "zipped[0][0]"
   ],
   "metadata": {
    "collapsed": false
   }
  },
  {
   "cell_type": "code",
   "execution_count": 49,
   "outputs": [
    {
     "data": {
      "text/plain": "'258862d82467614e45cc1e488a5ac909eb6e122d'"
     },
     "execution_count": 49,
     "metadata": {},
     "output_type": "execute_result"
    }
   ],
   "source": [
    "zipped[0][1][0]"
   ],
   "metadata": {
    "collapsed": false
   }
  },
  {
   "cell_type": "code",
   "execution_count": null,
   "outputs": [],
   "source": [],
   "metadata": {
    "collapsed": false
   }
  }
 ],
 "metadata": {
  "kernelspec": {
   "display_name": "Python 3",
   "language": "python",
   "name": "python3"
  },
  "language_info": {
   "codemirror_mode": {
    "name": "ipython",
    "version": 2
   },
   "file_extension": ".py",
   "mimetype": "text/x-python",
   "name": "python",
   "nbconvert_exporter": "python",
   "pygments_lexer": "ipython2",
   "version": "2.7.6"
  }
 },
 "nbformat": 4,
 "nbformat_minor": 0
}
