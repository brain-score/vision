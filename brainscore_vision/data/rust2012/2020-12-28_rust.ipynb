{
  "cells": [
    {
      "cell_type": "code",
      "source": [
        "from dldata.stimulus_sets.rust_datasets import Rust305ImageSet"
      ],
      "outputs": [
        {
          "output_type": "stream",
          "name": "stdout",
          "text": [
            "Can't import h5py\n",
            "Can't import separate mcc package\n",
            "Can't import asgd.\n"
          ]
        },
        {
          "output_type": "stream",
          "name": "stderr",
          "text": [
            "/Users/jjpr/anaconda/envs/dldata/lib/python2.7/site-packages/sklearn/cross_validation.py:44: DeprecationWarning: This module was deprecated in version 0.18 in favor of the model_selection module into which all the refactored classes and functions are moved. Also note that the interface of the new CV iterators are different from that of this module. This module will be removed in 0.20.\n",
            "  \"This module will be removed in 0.20.\", DeprecationWarning)\n",
            "/Users/jjpr/anaconda/envs/dldata/lib/python2.7/site-packages/sklearn/grid_search.py:43: DeprecationWarning: This module was deprecated in version 0.18 in favor of the model_selection module into which all the refactored classes and functions are moved. This module will be removed in 0.20.\n",
            "  DeprecationWarning)\n",
            "/Users/jjpr/anaconda/envs/dldata/lib/python2.7/site-packages/sklearn/lda.py:6: DeprecationWarning: lda.LDA has been moved to discriminant_analysis.LinearDiscriminantAnalysis in 0.17 and will be removed in 0.19\n",
            "  \"in 0.17 and will be removed in 0.19\", DeprecationWarning)\n",
            "/Users/jjpr/anaconda/envs/dldata/lib/python2.7/site-packages/sklearn/qda.py:6: DeprecationWarning: qda.QDA has been moved to discriminant_analysis.QuadraticDiscriminantAnalysis in 0.17 and will be removed in 0.19.\n",
            "  \"in 0.17 and will be removed in 0.19.\", DeprecationWarning)\n"
          ]
        }
      ],
      "execution_count": 1,
      "metadata": {
        "execution": {
          "iopub.status.busy": "2021-01-10T20:51:12.170Z",
          "iopub.execute_input": "2021-01-10T20:51:12.194Z",
          "iopub.status.idle": "2021-01-10T20:51:13.563Z",
          "shell.execute_reply": "2021-01-10T20:51:13.584Z"
        }
      }
    },
    {
      "cell_type": "code",
      "source": [
        "rust_dldata = Rust305ImageSet()\n",
        "rust_dldata"
      ],
      "outputs": [
        {
          "output_type": "execute_result",
          "execution_count": 2,
          "data": {
            "text/plain": "<dldata.stimulus_sets.rust_datasets.Rust305ImageSet at 0x7fa42cc8e490>"
          },
          "metadata": {}
        }
      ],
      "execution_count": 2,
      "metadata": {
        "execution": {
          "iopub.status.busy": "2021-01-10T20:51:17.791Z",
          "iopub.execute_input": "2021-01-10T20:51:17.808Z",
          "iopub.status.idle": "2021-01-10T20:51:17.851Z",
          "shell.execute_reply": "2021-01-10T20:51:17.866Z"
        }
      }
    },
    {
      "cell_type": "code",
      "source": [
        "rust_dldata.get_images"
      ],
      "outputs": [
        {
          "output_type": "execute_result",
          "execution_count": 3,
          "data": {
            "text/plain": "<bound method Rust305ImageSet.get_images of <dldata.stimulus_sets.rust_datasets.Rust305ImageSet object at 0x7fd4ccd8f4d0>>"
          },
          "metadata": {}
        }
      ],
      "execution_count": 3,
      "metadata": {
        "execution": {
          "iopub.status.busy": "2021-01-07T18:56:37.993Z",
          "iopub.execute_input": "2021-01-07T18:56:38.005Z",
          "iopub.status.idle": "2021-01-07T18:56:38.128Z",
          "shell.execute_reply": "2021-01-07T18:56:38.138Z"
        }
      }
    },
    {
      "cell_type": "code",
      "source": [
        "rust_dldata.neuronal_features_Rust"
      ],
      "outputs": [
        {
          "output_type": "stream",
          "name": "stdout",
          "text": [
            "downloading http://dicarlocox-datasets.s3.amazonaws.com/Nicole305Images.tar.gz\n",
            "getting Nicole305Images.tar.gz\n",
            "Extracting '/Users/jjpr/.skdata/Rust305/Nicole305Images.tar.gz' to '/Users/jjpr/.skdata/Rust305'\n",
            " SHA-1 verification...\n",
            "Progress:                    1 files extracted [ 0.3%]\b\b\b\b\b\b\b\b\b\b\b\b\b\b\b\b\b\b\b\b\b\b\b\b\b\b\b\b\b\b\b\b\b\b\b\b\b\b\b\b\b\b\b\b\b\b\b\b\b\b\b\b\b\b\b Progress:                    2 files extracted [ 0.7%]\b\b\b\b\b\b\b\b\b\b\b\b\b\b\b\b\b\b\b\b\b\b\b\b\b\b\b\b\b\b\b\b\b\b\b\b\b\b\b\b\b\b\b\b\b\b\b\b\b\b\b\b\b\b\b Progress:                    3 files extracted [ 1.0%]\b\b\b\b\b\b\b\b\b\b\b\b\b\b\b\b\b\b\b\b\b\b\b\b\b\b\b\b\b\b\b\b\b\b\b\b\b\b\b\b\b\b\b\b\b\b\b\b\b\b\b\b\b\b\b Progress:                    4 files extracted [ 1.3%]\b\b\b\b\b\b\b\b\b\b\b\b\b\b\b\b\b\b\b\b\b\b\b\b\b\b\b\b\b\b\b\b\b\b\b\b\b\b\b\b\b\b\b\b\b\b\b\b\b\b\b\b\b\b\b Progress:                    5 files extracted [ 1.6%]\b\b\b\b\b\b\b\b\b\b\b\b\b\b\b\b\b\b\b\b\b\b\b\b\b\b\b\b\b\b\b\b\b\b\b\b\b\b\b\b\b\b\b\b\b\b\b\b\b\b\b\b\b\b\b Progress:                    6 files extracted [ 2.0%]\b\b\b\b\b\b\b\b\b\b\b\b\b\b\b\b\b\b\b\b\b\b\b\b\b\b\b\b\b\b\b\b\b\b\b\b\b\b\b\b\b\b\b\b\b\b\b\b\b\b\b\b\b\b\b Progress:                    7 files extracted [ 2.3%]\b\b\b\b\b\b\b\b\b\b\b\b\b\b\b\b\b\b\b\b\b\b\b\b\b\b\b\b\b\b\b\b\b\b\b\b\b\b\b\b\b\b\b\b\b\b\b\b\b\b\b\b\b\b\b Progress:                    8 files extracted [ 2.6%]\b\b\b\b\b\b\b\b\b\b\b\b\b\b\b\b\b\b\b\b\b\b\b\b\b\b\b\b\b\b\b\b\b\b\b\b\b\b\b\b\b\b\b\b\b\b\b\b\b\b\b\b\b\b\b Progress:                    9 files extracted [ 2.9%]\b\b\b\b\b\b\b\b\b\b\b\b\b\b\b\b\b\b\b\b\b\b\b\b\b\b\b\b\b\b\b\b\b\b\b\b\b\b\b\b\b\b\b\b\b\b\b\b\b\b\b\b\b\b\b Progress:                   10 files extracted [ 3.3%]\b\b\b\b\b\b\b\b\b\b\b\b\b\b\b\b\b\b\b\b\b\b\b\b\b\b\b\b\b\b\b\b\b\b\b\b\b\b\b\b\b\b\b\b\b\b\b\b\b\b\b\b\b\b\b Progress:                   11 files extracted [ 3.6%]\b\b\b\b\b\b\b\b\b\b\b\b\b\b\b\b\b\b\b\b\b\b\b\b\b\b\b\b\b\b\b\b\b\b\b\b\b\b\b\b\b\b\b\b\b\b\b\b\b\b\b\b\b\b\b Progress:                   12 files extracted [ 3.9%]\b\b\b\b\b\b\b\b\b\b\b\b\b\b\b\b\b\b\b\b\b\b\b\b\b\b\b\b\b\b\b\b\b\b\b\b\b\b\b\b\b\b\b\b\b\b\b\b\b\b\b\b\b\b\b Progress:                   13 files extracted [ 4.2%]\b\b\b\b\b\b\b\b\b\b\b\b\b\b\b\b\b\b\b\b\b\b\b\b\b\b\b\b\b\b\b\b\b\b\b\b\b\b\b\b\b\b\b\b\b\b\b\b\b\b\b\b\b\b\b Progress:                   14 files extracted [ 4.6%]\b\b\b\b\b\b\b\b\b\b\b\b\b\b\b\b\b\b\b\b\b\b\b\b\b\b\b\b\b\b\b\b\b\b\b\b\b\b\b\b\b\b\b\b\b\b\b\b\b\b\b\b\b\b\b Progress:                   15 files extracted [ 4.9%]\b\b\b\b\b\b\b\b\b\b\b\b\b\b\b\b\b\b\b\b\b\b\b\b\b\b\b\b\b\b\b\b\b\b\b\b\b\b\b\b\b\b\b\b\b\b\b\b\b\b\b\b\b\b\b Progress:                   16 files extracted [ 5.2%]\b\b\b\b\b\b\b\b\b\b\b\b\b\b\b\b\b\b\b\b\b\b\b\b\b\b\b\b\b\b\b\b\b\b\b\b\b\b\b\b\b\b\b\b\b\b\b\b\b\b\b\b\b\b\b Progress:                   17 files extracted [ 5.6%]\b\b\b\b\b\b\b\b\b\b\b\b\b\b\b\b\b\b\b\b\b\b\b\b\b\b\b\b\b\b\b\b\b\b\b\b\b\b\b\b\b\b\b\b\b\b\b\b\b\b\b\b\b\b\b Progress:                   18 files extracted [ 5.9%]\b\b\b\b\b\b\b\b\b\b\b\b\b\b\b\b\b\b\b\b\b\b\b\b\b\b\b\b\b\b\b\b\b\b\b\b\b\b\b\b\b\b\b\b\b\b\b\b\b\b\b\b\b\b\b Progress:                   19 files extracted [ 6.2%]\b\b\b\b\b\b\b\b\b\b\b\b\b\b\b\b\b\b\b\b\b\b\b\b\b\b\b\b\b\b\b\b\b\b\b\b\b\b\b\b\b\b\b\b\b\b\b\b\b\b\b\b\b\b\b Progress:                   20 files extracted [ 6.5%]\b\b\b\b\b\b\b\b\b\b\b\b\b\b\b\b\b\b\b\b\b\b\b\b\b\b\b\b\b\b\b\b\b\b\b\b\b\b\b\b\b\b\b\b\b\b\b\b\b\b\b\b\b\b\b Progress:                   21 files extracted [ 6.9%]\b\b\b\b\b\b\b\b\b\b\b\b\b\b\b\b\b\b\b\b\b\b\b\b\b\b\b\b\b\b\b\b\b\b\b\b\b\b\b\b\b\b\b\b\b\b\b\b\b\b\b\b\b\b\b Progress:                   22 files extracted [ 7.2%]\b\b\b\b\b\b\b\b\b\b\b\b\b\b\b\b\b\b\b\b\b\b\b\b\b\b\b\b\b\b\b\b\b\b\b\b\b\b\b\b\b\b\b\b\b\b\b\b\b\b\b\b\b\b\b Progress:                   23 files extracted [ 7.5%]\b\b\b\b\b\b\b\b\b\b\b\b\b\b\b\b\b\b\b\b\b\b\b\b\b\b\b\b\b\b\b\b\b\b\b\b\b\b\b\b\b\b\b\b\b\b\b\b\b\b\b\b\b\b\b Progress:                   24 files extracted [ 7.8%]\b\b\b\b\b\b\b\b\b\b\b\b\b\b\b\b\b\b\b\b\b\b\b\b\b\b\b\b\b\b\b\b\b\b\b\b\b\b\b\b\b\b\b\b\b\b\b\b\b\b\b\b\b\b\b Progress:                   25 files extracted [ 8.2%]\b\b\b\b\b\b\b\b\b\b\b\b\b\b\b\b\b\b\b\b\b\b\b\b\b\b\b\b\b\b\b\b\b\b\b\b\b\b\b\b\b\b\b\b\b\b\b\b\b\b\b\b\b\b\b Progress:                   26 files extracted [ 8.5%]\b\b\b\b\b\b\b\b\b\b\b\b\b\b\b\b\b\b\b\b\b\b\b\b\b\b\b\b\b\b\b\b\b\b\b\b\b\b\b\b\b\b\b\b\b\b\b\b\b\b\b\b\b\b\b Progress:                   27 files extracted [ 8.8%]\b\b\b\b\b\b\b\b\b\b\b\b\b\b\b\b\b\b\b\b\b\b\b\b\b\b\b\b\b\b\b\b\b\b\b\b\b\b\b\b\b\b\b\b\b\b\b\b\b\b\b\b\b\b\b Progress:                   28 files extracted [ 9.2%]\b\b\b\b\b\b\b\b\b\b\b\b\b\b\b\b\b\b\b\b\b\b\b\b\b\b\b\b\b\b\b\b\b\b\b\b\b\b\b\b\b\b\b\b\b\b\b\b\b\b\b\b\b\b\b Progress:                   29 files extracted [ 9.5%]\b\b\b\b\b\b\b\b\b\b\b\b\b\b\b\b\b\b\b\b\b\b\b\b\b\b\b\b\b\b\b\b\b\b\b\b\b\b\b\b\b\b\b\b\b\b\b\b\b\b\b\b\b\b\b Progress:                   30 files extracted [ 9.8%]\b\b\b\b\b\b\b\b\b\b\b\b\b\b\b\b\b\b\b\b\b\b\b\b\b\b\b\b\b\b\b\b\b\b\b\b\b\b\b\b\b\b\b\b\b\b\b\b\b\b\b\b\b\b\b Progress:                   31 files extracted [10.1%]\b\b\b\b\b\b\b\b\b\b\b\b\b\b\b\b\b\b\b\b\b\b\b\b\b\b\b\b\b\b\b\b\b\b\b\b\b\b\b\b\b\b\b\b\b\b\b\b\b\b\b\b\b\b\b Progress:                   32 files extracted [10.5%]\b\b\b\b\b\b\b\b\b\b\b\b\b\b\b\b\b\b\b\b\b\b\b\b\b\b\b\b\b\b\b\b\b\b\b\b\b\b\b\b\b\b\b\b\b\b\b\b\b\b\b\b\b\b\b Progress:                   33 files extracted [10.8%]\b\b\b\b\b\b\b\b\b\b\b\b\b\b\b\b\b\b\b\b\b\b\b\b\b\b\b\b\b\b\b\b\b\b\b\b\b\b\b\b\b\b\b\b\b\b\b\b\b\b\b\b\b\b\b Progress:                   34 files extracted [11.1%]\b\b\b\b\b\b\b\b\b\b\b\b\b\b\b\b\b\b\b\b\b\b\b\b\b\b\b\b\b\b\b\b\b\b\b\b\b\b\b\b\b\b\b\b\b\b\b\b\b\b\b\b\b\b\b Progress:                   35 files extracted [11.4%]\b\b\b\b\b\b\b\b\b\b\b\b\b\b\b\b\b\b\b\b\b\b\b\b\b\b\b\b\b\b\b\b\b\b\b\b\b\b\b\b\b\b\b\b\b\b\b\b\b\b\b\b\b\b\b Progress:                   36 files extracted [11.8%]\b\b\b\b\b\b\b\b\b\b\b\b\b\b\b\b\b\b\b\b\b\b\b\b\b\b\b\b\b\b\b\b\b\b\b\b\b\b\b\b\b\b\b\b\b\b\b\b\b\b\b\b\b\b\b Progress:                   37 files extracted [12.1%]\b\b\b\b\b\b\b\b\b\b\b\b\b\b\b\b\b\b\b\b\b\b\b\b\b\b\b\b\b\b\b\b\b\b\b\b\b\b\b\b\b\b\b\b\b\b\b\b\b\b\b\b\b\b\b Progress:                   38 files extracted [12.4%]\b\b\b\b\b\b\b\b\b\b\b\b\b\b\b\b\b\b\b\b\b\b\b\b\b\b\b\b\b\b\b\b\b\b\b\b\b\b\b\b\b\b\b\b\b\b\b\b\b\b\b\b\b\b\b Progress:                   39 files extracted [12.7%]\b\b\b\b\b\b\b\b\b\b\b\b\b\b\b\b\b\b\b\b\b\b\b\b\b\b\b\b\b\b\b\b\b\b\b\b\b\b\b\b\b\b\b\b\b\b\b\b\b\b\b\b\b\b\b Progress:                   40 files extracted [13.1%]\b\b\b\b\b\b\b\b\b\b\b\b\b\b\b\b\b\b\b\b\b\b\b\b\b\b\b\b\b\b\b\b\b\b\b\b\b\b\b\b\b\b\b\b\b\b\b\b\b\b\b\b\b\b\b Progress:                   41 files extracted [13.4%]\b\b\b\b\b\b\b\b\b\b\b\b\b\b\b\b\b\b\b\b\b\b\b\b\b\b\b\b\b\b\b\b\b\b\b\b\b\b\b\b\b\b\b\b\b\b\b\b\b\b\b\b\b\b\b Progress:                   42 files extracted [13.7%]\b\b\b\b\b\b\b\b\b\b\b\b\b\b\b\b\b\b\b\b\b\b\b\b\b\b\b\b\b\b\b\b\b\b\b\b\b\b\b\b\b\b\b\b\b\b\b\b\b\b\b\b\b\b\b Progress:                   43 files extracted [14.1%]\b\b\b\b\b\b\b\b\b\b\b\b\b\b\b\b\b\b\b\b\b\b\b\b\b\b\b\b\b\b\b\b\b\b\b\b\b\b\b\b\b\b\b\b\b\b\b\b\b\b\b\b\b\b\b Progress:                   44 files extracted [14.4%]\b\b\b\b\b\b\b\b\b\b\b\b\b\b\b\b\b\b\b\b\b\b\b\b\b\b\b\b\b\b\b\b\b\b\b\b\b\b\b\b\b\b\b\b\b\b\b\b\b\b\b\b\b\b\b Progress:                   45 files extracted [14.7%]\b\b\b\b\b\b\b\b\b\b\b\b\b\b\b\b\b\b\b\b\b\b\b\b\b\b\b\b\b\b\b\b\b\b\b\b\b\b\b\b\b\b\b\b\b\b\b\b\b\b\b\b\b\b\b Progress:                   46 files extracted [15.0%]\b\b\b\b\b\b\b\b\b\b\b\b\b\b\b\b\b\b\b\b\b\b\b\b\b\b\b\b\b\b\b\b\b\b\b\b\b\b\b\b\b\b\b\b\b\b\b\b\b\b\b\b\b\b\b Progress:                   47 files extracted [15.4%]\b\b\b\b\b\b\b\b\b\b\b\b\b\b\b\b\b\b\b\b\b\b\b\b\b\b\b\b\b\b\b\b\b\b\b\b\b\b\b\b\b\b\b\b\b\b\b\b\b\b\b\b\b\b\b Progress:                   48 files extracted [15.7%]\b\b\b\b\b\b\b\b\b\b\b\b\b\b\b\b\b\b\b\b\b\b\b\b\b\b\b\b\b\b\b\b\b\b\b\b\b\b\b\b\b\b\b\b\b\b\b\b\b\b\b\b\b\b\b Progress:                   49 files extracted [16.0%]\b\b\b\b\b\b\b\b\b\b\b\b\b\b\b\b\b\b\b\b\b\b\b\b\b\b\b\b\b\b\b\b\b\b\b\b\b\b\b\b\b\b\b\b\b\b\b\b\b\b\b\b\b\b\b Progress:                   50 files extracted [16.3%]\b\b\b\b\b\b\b\b\b\b\b\b\b\b\b\b\b\b\b\b\b\b\b\b\b\b\b\b\b\b\b\b\b\b\b\b\b\b\b\b\b\b\b\b\b\b\b\b\b\b\b\b\b\b\b Progress:                   51 files extracted [16.7%]\b\b\b\b\b\b\b\b\b\b\b\b\b\b\b\b\b\b\b\b\b\b\b\b\b\b\b\b\b\b\b\b\b\b\b\b\b\b\b\b\b\b\b\b\b\b\b\b\b\b\b\b\b\b\b Progress:                   52 files extracted [17.0%]\b\b\b\b\b\b\b\b\b\b\b\b\b\b\b\b\b\b\b\b\b\b\b\b\b\b\b\b\b\b\b\b\b\b\b\b\b\b\b\b\b\b\b\b\b\b\b\b\b\b\b\b\b\b\b Progress:                   53 files extracted [17.3%]\b\b\b\b\b\b\b\b\b\b\b\b\b\b\b\b\b\b\b\b\b\b\b\b\b\b\b\b\b\b\b\b\b\b\b\b\b\b\b\b\b\b\b\b\b\b\b\b\b\b\b\b\b\b\b Progress:                   54 files extracted [17.6%]\b\b\b\b\b\b\b\b\b\b\b\b\b\b\b\b\b\b\b\b\b\b\b\b\b\b\b\b\b\b\b\b\b\b\b\b\b\b\b\b\b\b\b\b\b\b\b\b\b\b\b\b\b\b\b Progress:                   55 files extracted [18.0%]\b\b\b\b\b\b\b\b\b\b\b\b\b\b\b\b\b\b\b\b\b\b\b\b\b\b\b\b\b\b\b\b\b\b\b\b\b\b\b\b\b\b\b\b\b\b\b\b\b\b\b\b\b\b\b Progress:                   56 files extracted [18.3%]\b\b\b\b\b\b\b\b\b\b\b\b\b\b\b\b\b\b\b\b\b\b\b\b\b\b\b\b\b\b\b\b\b\b\b\b\b\b\b\b\b\b\b\b\b\b\b\b\b\b\b\b\b\b\b Progress:                   57 files extracted [18.6%]\b\b\b\b\b\b\b\b\b\b\b\b\b\b\b\b\b\b\b\b\b\b\b\b\b\b\b\b\b\b\b\b\b\b\b\b\b\b\b\b\b\b\b\b\b\b\b\b\b\b\b\b\b\b\b Progress:                   58 files extracted [19.0%]\b\b\b\b\b\b\b\b\b\b\b\b\b\b\b\b\b\b\b\b\b\b\b\b\b\b\b\b\b\b\b\b\b\b\b\b\b\b\b\b\b\b\b\b\b\b\b\b\b\b\b\b\b\b\b Progress:                   59 files extracted [19.3%]\b\b\b\b\b\b\b\b\b\b\b\b\b\b\b\b\b\b\b\b\b\b\b\b\b\b\b\b\b\b\b\b\b\b\b\b\b\b\b\b\b\b\b\b\b\b\b\b\b\b\b\b\b\b\b Progress:                   60 files extracted [19.6%]\b\b\b\b\b\b\b\b\b\b\b\b\b\b\b\b\b\b\b\b\b\b\b\b\b\b\b\b\b\b\b\b\b\b\b\b\b\b\b\b\b\b\b\b\b\b\b\b\b\b\b\b\b\b\b Progress:                   61 files extracted [19.9%]\b\b\b\b\b\b\b\b\b\b\b\b\b\b\b\b\b\b\b\b\b\b\b\b\b\b\b\b\b\b\b\b\b\b\b\b\b\b\b\b\b\b\b\b\b\b\b\b\b\b\b\b\b\b\b Progress:                   62 files extracted [20.3%]\b\b\b\b\b\b\b\b\b\b\b\b\b\b\b\b\b\b\b\b\b\b\b\b\b\b\b\b\b\b\b\b\b\b\b\b\b\b\b\b\b\b\b\b\b\b\b\b\b\b\b\b\b\b\b Progress:                   63 files extracted [20.6%]\b\b\b\b\b\b\b\b\b\b\b\b\b\b\b\b\b\b\b\b\b\b\b\b\b\b\b\b\b\b\b\b\b\b\b\b\b\b\b\b\b\b\b\b\b\b\b\b\b\b\b\b\b\b\b Progress:                   64 files extracted [20.9%]\b\b\b\b\b\b\b\b\b\b\b\b\b\b\b\b\b\b\b\b\b\b\b\b\b\b\b\b\b\b\b\b\b\b\b\b\b\b\b\b\b\b\b\b\b\b\b\b\b\b\b\b\b\b\b Progress:                   65 files extracted [21.2%]\b\b\b\b\b\b\b\b\b\b\b\b\b\b\b\b\b\b\b\b\b\b\b\b\b\b\b\b\b\b\b\b\b\b\b\b\b\b\b\b\b\b\b\b\b\b\b\b\b\b\b\b\b\b\b Progress:                   66 files extracted [21.6%]\b\b\b\b\b\b\b\b\b\b\b\b\b\b\b\b\b\b\b\b\b\b\b\b\b\b\b\b\b\b\b\b\b\b\b\b\b\b\b\b\b\b\b\b\b\b\b\b\b\b\b\b\b\b\b Progress:                   67 files extracted [21.9%]\b\b\b\b\b\b\b\b\b\b\b\b\b\b\b\b\b\b\b\b\b\b\b\b\b\b\b\b\b\b\b\b\b\b\b\b\b\b\b\b\b\b\b\b\b\b\b\b\b\b\b\b\b\b\b Progress:                   68 files extracted [22.2%]\b\b\b\b\b\b\b\b\b\b\b\b\b\b\b\b\b\b\b\b\b\b\b\b\b\b\b\b\b\b\b\b\b\b\b\b\b\b\b\b\b\b\b\b\b\b\b\b\b\b\b\b\b\b\b Progress:                   69 files extracted [22.5%]\b\b\b\b\b\b\b\b\b\b\b\b\b\b\b\b\b\b\b\b\b\b\b\b\b\b\b\b\b\b\b\b\b\b\b\b\b\b\b\b\b\b\b\b\b\b\b\b\b\b\b\b\b\b\b Progress:                   70 files extracted [22.9%]\b\b\b\b\b\b\b\b\b\b\b\b\b\b\b\b\b\b\b\b\b\b\b\b\b\b\b\b\b\b\b\b\b\b\b\b\b\b\b\b\b\b\b\b\b\b\b\b\b\b\b\b\b\b\b Progress:                   71 files extracted [23.2%]\b\b\b\b\b\b\b\b\b\b\b\b\b\b\b\b\b\b\b\b\b\b\b\b\b\b\b\b\b\b\b\b\b\b\b\b\b\b\b\b\b\b\b\b\b\b\b\b\b\b\b\b\b\b\b Progress:                   72 files extracted [23.5%]\b\b\b\b\b\b\b\b\b\b\b\b\b\b\b\b\b\b\b\b\b\b\b\b\b\b\b\b\b\b\b\b\b\b\b\b\b\b\b\b\b\b\b\b\b\b\b\b\b\b\b\b\b\b\b Progress:                   73 files extracted [23.9%]\b\b\b\b\b\b\b\b\b\b\b\b\b\b\b\b\b\b\b\b\b\b\b\b\b\b\b\b\b\b\b\b\b\b\b\b\b\b\b\b\b\b\b\b\b\b\b\b\b\b\b\b\b\b\b Progress:                   74 files extracted [24.2%]\b\b\b\b\b\b\b\b\b\b\b\b\b\b\b\b\b\b\b\b\b\b\b\b\b\b\b\b\b\b\b\b\b\b\b\b\b\b\b\b\b\b\b\b\b\b\b\b\b\b\b\b\b\b\b Progress:                   75 files extracted [24.5%]\b\b\b\b\b\b\b\b\b\b\b\b\b\b\b\b\b\b\b\b\b\b\b\b\b\b\b\b\b\b\b\b\b\b\b\b\b\b\b\b\b\b\b\b\b\b\b\b\b\b\b\b\b\b\b Progress:                   76 files extracted [24.8%]\b\b\b\b\b\b\b\b\b\b\b\b\b\b\b\b\b\b\b\b\b\b\b\b\b\b\b\b\b\b\b\b\b\b\b\b\b\b\b\b\b\b\b\b\b\b\b\b\b\b\b\b\b\b\b Progress:                   77 files extracted [25.2%]\b\b\b\b\b\b\b\b\b\b\b\b\b\b\b\b\b\b\b\b\b\b\b\b\b\b\b\b\b\b\b\b\b\b\b\b\b\b\b\b\b\b\b\b\b\b\b\b\b\b\b\b\b\b\b Progress:                   78 files extracted [25.5%]\b\b\b\b\b\b\b\b\b\b\b\b\b\b\b\b\b\b\b\b\b\b\b\b\b\b\b\b\b\b\b\b\b\b\b\b\b\b\b\b\b\b\b\b\b\b\b\b\b\b\b\b\b\b\b Progress:                   79 files extracted [25.8%]\b\b\b\b\b\b\b\b\b\b\b\b\b\b\b\b\b\b\b\b\b\b\b\b\b\b\b\b\b\b\b\b\b\b\b\b\b\b\b\b\b\b\b\b\b\b\b\b\b\b\b\b\b\b\b Progress:                   80 files extracted [26.1%]\b\b\b\b\b\b\b\b\b\b\b\b\b\b\b\b\b\b\b\b\b\b\b\b\b\b\b\b\b\b\b\b\b\b\b\b\b\b\b\b\b\b\b\b\b\b\b\b\b\b\b\b\b\b\b Progress:                   81 files extracted [26.5%]\b\b\b\b\b\b\b\b\b\b\b\b\b\b\b\b\b\b\b\b\b\b\b\b\b\b\b\b\b\b\b\b\b\b\b\b\b\b\b\b\b\b\b\b\b\b\b\b\b\b\b\b\b\b\b Progress:                   82 files extracted [26.8%]\b\b\b\b\b\b\b\b\b\b\b\b\b\b\b\b\b\b\b\b\b\b\b\b\b\b\b\b\b\b\b\b\b\b\b\b\b\b\b\b\b\b\b\b\b\b\b\b\b\b\b\b\b\b\b Progress:                   83 files extracted [27.1%]\b\b\b\b\b\b\b\b\b\b\b\b\b\b\b\b\b\b\b\b\b\b\b\b\b\b\b\b\b\b\b\b\b\b\b\b\b\b\b\b\b\b\b\b\b\b\b\b\b\b\b\b\b\b\b Progress:                   84 files extracted [27.5%]\b\b\b\b\b\b\b\b\b\b\b\b\b\b\b\b\b\b\b\b\b\b\b\b\b\b\b\b\b\b\b\b\b\b\b\b\b\b\b\b\b\b\b\b\b\b\b\b\b\b\b\b\b\b\b Progress:                   85 files extracted [27.8%]\b\b\b\b\b\b\b\b\b\b\b\b\b\b\b\b\b\b\b\b\b\b\b\b\b\b\b\b\b\b\b\b\b\b\b\b\b\b\b\b\b\b\b\b\b\b\b\b\b\b\b\b\b\b\b Progress:                   86 files extracted [28.1%]\b\b\b\b\b\b\b\b\b\b\b\b\b\b\b\b\b\b\b\b\b\b\b\b\b\b\b\b\b\b\b\b\b\b\b\b\b\b\b\b\b\b\b\b\b\b\b\b\b\b\b\b\b\b\b Progress:                   87 files extracted [28.4%]\b\b\b\b\b\b\b\b\b\b\b\b\b\b\b\b\b\b\b\b\b\b\b\b\b\b\b\b\b\b\b\b\b\b\b\b\b\b\b\b\b\b\b\b\b\b\b\b\b\b\b\b\b\b\b Progress:                   88 files extracted [28.8%]\b\b\b\b\b\b\b\b\b\b\b\b\b\b\b\b\b\b\b\b\b\b\b\b\b\b\b\b\b\b\b\b\b\b\b\b\b\b\b\b\b\b\b\b\b\b\b\b\b\b\b\b\b\b\b Progress:                   89 files extracted [29.1%]\b\b\b\b\b\b\b\b\b\b\b\b\b\b\b\b\b\b\b\b\b\b\b\b\b\b\b\b\b\b\b\b\b\b\b\b\b\b\b\b\b\b\b\b\b\b\b\b\b\b\b\b\b\b\b Progress:                   90 files extracted [29.4%]\b\b\b\b\b\b\b\b\b\b\b\b\b\b\b\b\b\b\b\b\b\b\b\b\b\b\b\b\b\b\b\b\b\b\b\b\b\b\b\b\b\b\b\b\b\b\b\b\b\b\b\b\b\b\b Progress:                   91 files extracted [29.7%]\b\b\b\b\b\b\b\b\b\b\b\b\b\b\b\b\b\b\b\b\b\b\b\b\b\b\b\b\b\b\b\b\b\b\b\b\b\b\b\b\b\b\b\b\b\b\b\b\b\b\b\b\b\b\b Progress:                   92 files extracted [30.1%]\b\b\b\b\b\b\b\b\b\b\b\b\b\b\b\b\b\b\b\b\b\b\b\b\b\b\b\b\b\b\b\b\b\b\b\b\b\b\b\b\b\b\b\b\b\b\b\b\b\b\b\b\b\b\b Progress:                   93 files extracted [30.4%]\b\b\b\b\b\b\b\b\b\b\b\b\b\b\b\b\b\b\b\b\b\b\b\b\b\b\b\b\b\b\b\b\b\b\b\b\b\b\b\b\b\b\b\b\b\b\b\b\b\b\b\b\b\b\b Progress:                   94 files extracted [30.7%]\b\b\b\b\b\b\b\b\b\b\b\b\b\b\b\b\b\b\b\b\b\b\b\b\b\b\b\b\b\b\b\b\b\b\b\b\b\b\b\b\b\b\b\b\b\b\b\b\b\b\b\b\b\b\b Progress:                   95 files extracted [31.0%]\b\b\b\b\b\b\b\b\b\b\b\b\b\b\b\b\b\b\b\b\b\b\b\b\b\b\b\b\b\b\b\b\b\b\b\b\b\b\b\b\b\b\b\b\b\b\b\b\b\b\b\b\b\b\b Progress:                   96 files extracted [31.4%]\b\b\b\b\b\b\b\b\b\b\b\b\b\b\b\b\b\b\b\b\b\b\b\b\b\b\b\b\b\b\b\b\b\b\b\b\b\b\b\b\b\b\b\b\b\b\b\b\b\b\b\b\b\b\b Progress:                   97 files extracted [31.7%]\b\b\b\b\b\b\b\b\b\b\b\b\b\b\b\b\b\b\b\b\b\b\b\b\b\b\b\b\b\b\b\b\b\b\b\b\b\b\b\b\b\b\b\b\b\b\b\b\b\b\b\b\b\b\b Progress:                   98 files extracted [32.0%]\b\b\b\b\b\b\b\b\b\b\b\b\b\b\b\b\b\b\b\b\b\b\b\b\b\b\b\b\b\b\b\b\b\b\b\b\b\b\b\b\b\b\b\b\b\b\b\b\b\b\b\b\b\b\b Progress:                   99 files extracted [32.4%]\b\b\b\b\b\b\b\b\b\b\b\b\b\b\b\b\b\b\b\b\b\b\b\b\b\b\b\b\b\b\b\b\b\b\b\b\b\b\b\b\b\b\b\b\b\b\b\b\b\b\b\b\b\b\b Progress:                  100 files extracted [32.7%]\b\b\b\b\b\b\b\b\b\b\b\b\b\b\b\b\b\b\b\b\b\b\b\b\b\b\b\b\b\b\b\b\b\b\b\b\b\b\b\b\b\b\b\b\b\b\b\b\b\b\b\b\b\b\b Progress:                  101 files extracted [33.0%]\b\b\b\b\b\b\b\b\b\b\b\b\b\b\b\b\b\b\b\b\b\b\b\b\b\b\b\b\b\b\b\b\b\b\b\b\b\b\b\b\b\b\b\b\b\b\b\b\b\b\b\b\b\b\b Progress:                  102 files extracted [33.3%]\b\b\b\b\b\b\b\b\b\b\b\b\b\b\b\b\b\b\b\b\b\b\b\b\b\b\b\b\b\b\b\b\b\b\b\b\b\b\b\b\b\b\b\b\b\b\b\b\b\b\b\b\b\b\b Progress:                  103 files extracted [33.7%]\b\b\b\b\b\b\b\b\b\b\b\b\b\b\b\b\b\b\b\b\b\b\b\b\b\b\b\b\b\b\b\b\b\b\b\b\b\b\b\b\b\b\b\b\b\b\b\b\b\b\b\b\b\b\b Progress:                  104 files extracted [34.0%]\b\b\b\b\b\b\b\b\b\b\b\b\b\b\b\b\b\b\b\b\b\b\b\b\b\b\b\b\b\b\b\b\b\b\b\b\b\b\b\b\b\b\b\b\b\b\b\b\b\b\b\b\b\b\b Progress:                  105 files extracted [34.3%]\b\b\b\b\b\b\b\b\b\b\b\b\b\b\b\b\b\b\b\b\b\b\b\b\b\b\b\b\b\b\b\b\b\b\b\b\b\b\b\b\b\b\b\b\b\b\b\b\b\b\b\b\b\b\b Progress:                  106 files extracted [34.6%]\b\b\b\b\b\b\b\b\b\b\b\b\b\b\b\b\b\b\b\b\b\b\b\b\b\b\b\b\b\b\b\b\b\b\b\b\b\b\b\b\b\b\b\b\b\b\b\b\b\b\b\b\b\b\b Progress:                  107 files extracted [35.0%]\b\b\b\b\b\b\b\b\b\b\b\b\b\b\b\b\b\b\b\b\b\b\b\b\b\b\b\b\b\b\b\b\b\b\b\b\b\b\b\b\b\b\b\b\b\b\b\b\b\b\b\b\b\b\b Progress:                  108 files extracted [35.3%]\b\b\b\b\b\b\b\b\b\b\b\b\b\b\b\b\b\b\b\b\b\b\b\b\b\b\b\b\b\b\b\b\b\b\b\b\b\b\b\b\b\b\b\b\b\b\b\b\b\b\b\b\b\b\b Progress:                  109 files extracted [35.6%]\b\b\b\b\b\b\b\b\b\b\b\b\b\b\b\b\b\b\b\b\b\b\b\b\b\b\b\b\b\b\b\b\b\b\b\b\b\b\b\b\b\b\b\b\b\b\b\b\b\b\b\b\b\b\b Progress:                  110 files extracted [35.9%]\b\b\b\b\b\b\b\b\b\b\b\b\b\b\b\b\b\b\b\b\b\b\b\b\b\b\b\b\b\b\b\b\b\b\b\b\b\b\b\b\b\b\b\b\b\b\b\b\b\b\b\b\b\b\b Progress:                  111 files extracted [36.3%]\b\b\b\b\b\b\b\b\b\b\b\b\b\b\b\b\b\b\b\b\b\b\b\b\b\b\b\b\b\b\b\b\b\b\b\b\b\b\b\b\b\b\b\b\b\b\b\b\b\b\b\b\b\b\b Progress:                  112 files extracted [36.6%]\b\b\b\b\b\b\b\b\b\b\b\b\b\b\b\b\b\b\b\b\b\b\b\b\b\b\b\b\b\b\b\b\b\b\b\b\b\b\b\b\b\b\b\b\b\b\b\b\b\b\b\b\b\b\b Progress:                  113 files extracted [36.9%]\b\b\b\b\b\b\b\b\b\b\b\b\b\b\b\b\b\b\b\b\b\b\b\b\b\b\b\b\b\b\b\b\b\b\b\b\b\b\b\b\b\b\b\b\b\b\b\b\b\b\b\b\b\b\b Progress:                  114 files extracted [37.3%]\b\b\b\b\b\b\b\b\b\b\b\b\b\b\b\b\b\b\b\b\b\b\b\b\b\b\b\b\b\b\b\b\b\b\b\b\b\b\b\b\b\b\b\b\b\b\b\b\b\b\b\b\b\b\b Progress:                  115 files extracted [37.6%]\b\b\b\b\b\b\b\b\b\b\b\b\b\b\b\b\b\b\b\b\b\b\b\b\b\b\b\b\b\b\b\b\b\b\b\b\b\b\b\b\b\b\b\b\b\b\b\b\b\b\b\b\b\b\b Progress:                  116 files extracted [37.9%]\b\b\b\b\b\b\b\b\b\b\b\b\b\b\b\b\b\b\b\b\b\b\b\b\b\b\b\b\b\b\b\b\b\b\b\b\b\b\b\b\b\b\b\b\b\b\b\b\b\b\b\b\b\b\b Progress:                  117 files extracted [38.2%]\b\b\b\b\b\b\b\b\b\b\b\b\b\b\b\b\b\b\b\b\b\b\b\b\b\b\b\b\b\b\b\b\b\b\b\b\b\b\b\b\b\b\b\b\b\b\b\b\b\b\b\b\b\b\b Progress:                  118 files extracted [38.6%]\b\b\b\b\b\b\b\b\b\b\b\b\b\b\b\b\b\b\b\b\b\b\b\b\b\b\b\b\b\b\b\b\b\b\b\b\b\b\b\b\b\b\b\b\b\b\b\b\b\b\b\b\b\b\b Progress:                  119 files extracted [38.9%]\b\b\b\b\b\b\b\b\b\b\b\b\b\b\b\b\b\b\b\b\b\b\b\b\b\b\b\b\b\b\b\b\b\b\b\b\b\b\b\b\b\b\b\b\b\b\b\b\b\b\b\b\b\b\b Progress:                  120 files extracted [39.2%]\b\b\b\b\b\b\b\b\b\b\b\b\b\b\b\b\b\b\b\b\b\b\b\b\b\b\b\b\b\b\b\b\b\b\b\b\b\b\b\b\b\b\b\b\b\b\b\b\b\b\b\b\b\b\b Progress:                  121 files extracted [39.5%]\b\b\b\b\b\b\b\b\b\b\b\b\b\b\b\b\b\b\b\b\b\b\b\b\b\b\b\b\b\b\b\b\b\b\b\b\b\b\b\b\b\b\b\b\b\b\b\b\b\b\b\b\b\b\b Progress:                  122 files extracted [39.9%]\b\b\b\b\b\b\b\b\b\b\b\b\b\b\b\b\b\b\b\b\b\b\b\b\b\b\b\b\b\b\b\b\b\b\b\b\b\b\b\b\b\b\b\b\b\b\b\b\b\b\b\b\b\b\b Progress:                  123 files extracted [40.2%]\b\b\b\b\b\b\b\b\b\b\b\b\b\b\b\b\b\b\b\b\b\b\b\b\b\b\b\b\b\b\b\b\b\b\b\b\b\b\b\b\b\b\b\b\b\b\b\b\b\b\b\b\b\b\b Progress:                  124 files extracted [40.5%]\b\b\b\b\b\b\b\b\b\b\b\b\b\b\b\b\b\b\b\b\b\b\b\b\b\b\b\b\b\b\b\b\b\b\b\b\b\b\b\b\b\b\b\b\b\b\b\b\b\b\b\b\b\b\b Progress:                  125 files extracted [40.8%]\b\b\b\b\b\b\b\b\b\b\b\b\b\b\b\b\b\b\b\b\b\b\b\b\b\b\b\b\b\b\b\b\b\b\b\b\b\b\b\b\b\b\b\b\b\b\b\b\b\b\b\b\b\b\b Progress:                  126 files extracted [41.2%]\b\b\b\b\b\b\b\b\b\b\b\b\b\b\b\b\b\b\b\b\b\b\b\b\b\b\b\b\b\b\b\b\b\b\b\b\b\b\b\b\b\b\b\b\b\b\b\b\b\b\b\b\b\b\b Progress:                  127 files extracted [41.5%]\b\b\b\b\b\b\b\b\b\b\b\b\b\b\b\b\b\b\b\b\b\b\b\b\b\b\b\b\b\b\b\b\b\b\b\b\b\b\b\b\b\b\b\b\b\b\b\b\b\b\b\b\b\b\b Progress:                  128 files extracted [41.8%]\b\b\b\b\b\b\b\b\b\b\b\b\b\b\b\b\b\b\b\b\b\b\b\b\b\b\b\b\b\b\b\b\b\b\b\b\b\b\b\b\b\b\b\b\b\b\b\b\b\b\b\b\b\b\b Progress:                  129 files extracted [42.2%]\b\b\b\b\b\b\b\b\b\b\b\b\b\b\b\b\b\b\b\b\b\b\b\b\b\b\b\b\b\b\b\b\b\b\b\b\b\b\b\b\b\b\b\b\b\b\b\b\b\b\b\b\b\b\b Progress:                  130 files extracted [42.5%]\b\b\b\b\b\b\b\b\b\b\b\b\b\b\b\b\b\b\b\b\b\b\b\b\b\b\b\b\b\b\b\b\b\b\b\b\b\b\b\b\b\b\b\b\b\b\b\b\b\b\b\b\b\b\b Progress:                  131 files extracted [42.8%]\b\b\b\b\b\b\b\b\b\b\b\b\b\b\b\b\b\b\b\b\b\b\b\b\b\b\b\b\b\b\b\b\b\b\b\b\b\b\b\b\b\b\b\b\b\b\b\b\b\b\b\b\b\b\b Progress:                  132 files extracted [43.1%]\b\b\b\b\b\b\b\b\b\b\b\b\b\b\b\b\b\b\b\b\b\b\b\b\b\b\b\b\b\b\b\b\b\b\b\b\b\b\b\b\b\b\b\b\b\b\b\b\b\b\b\b\b\b\b Progress:                  133 files extracted [43.5%]\b\b\b\b\b\b\b\b\b\b\b\b\b\b\b\b\b\b\b\b\b\b\b\b\b\b\b\b\b\b\b\b\b\b\b\b\b\b\b\b\b\b\b\b\b\b\b\b\b\b\b\b\b\b\b Progress:                  134 files extracted [43.8%]\b\b\b\b\b\b\b\b\b\b\b\b\b\b\b\b\b\b\b\b\b\b\b\b\b\b\b\b\b\b\b\b\b\b\b\b\b\b\b\b\b\b\b\b\b\b\b\b\b\b\b\b\b\b\b Progress:                  135 files extracted [44.1%]\b\b\b\b\b\b\b\b\b\b\b\b\b\b\b\b\b\b\b\b\b\b\b\b\b\b\b\b\b\b\b\b\b\b\b\b\b\b\b\b\b\b\b\b\b\b\b\b\b\b\b\b\b\b\b Progress:                  136 files extracted [44.4%]\b\b\b\b\b\b\b\b\b\b\b\b\b\b\b\b\b\b\b\b\b\b\b\b\b\b\b\b\b\b\b\b\b\b\b\b\b\b\b\b\b\b\b\b\b\b\b\b\b\b\b\b\b\b\b Progress:                  137 files extracted [44.8%]\b\b\b\b\b\b\b\b\b\b\b\b\b\b\b\b\b\b\b\b\b\b\b\b\b\b\b\b\b\b\b\b\b\b\b\b\b\b\b\b\b\b\b\b\b\b\b\b\b\b\b\b\b\b\b Progress:                  138 files extracted [45.1%]\b\b\b\b\b\b\b\b\b\b\b\b\b\b\b\b\b\b\b\b\b\b\b\b\b\b\b\b\b\b\b\b\b\b\b\b\b\b\b\b\b\b\b\b\b\b\b\b\b\b\b\b\b\b\b Progress:                  139 files extracted [45.4%]\b\b\b\b\b\b\b\b\b\b\b\b\b\b\b\b\b\b\b\b\b\b\b\b\b\b\b\b\b\b\b\b\b\b\b\b\b\b\b\b\b\b\b\b\b\b\b\b\b\b\b\b\b\b\b Progress:                  140 files extracted [45.8%]\b\b\b\b\b\b\b\b\b\b\b\b\b\b\b\b\b\b\b\b\b\b\b\b\b\b\b\b\b\b\b\b\b\b\b\b\b\b\b\b\b\b\b\b\b\b\b\b\b\b\b\b\b\b\b Progress:                  141 files extracted [46.1%]\b\b\b\b\b\b\b\b\b\b\b\b\b\b\b\b\b\b\b\b\b\b\b\b\b\b\b\b\b\b\b\b\b\b\b\b\b\b\b\b\b\b\b\b\b\b\b\b\b\b\b\b\b\b\b Progress:                  142 files extracted [46.4%]\b\b\b\b\b\b\b\b\b\b\b\b\b\b\b\b\b\b\b\b\b\b\b\b\b\b\b\b\b\b\b\b\b\b\b\b\b\b\b\b\b\b\b\b\b\b\b\b\b\b\b\b\b\b\b Progress:                  143 files extracted [46.7%]\b\b\b\b\b\b\b\b\b\b\b\b\b\b\b\b\b\b\b\b\b\b\b\b\b\b\b\b\b\b\b\b\b\b\b\b\b\b\b\b\b\b\b\b\b\b\b\b\b\b\b\b\b\b\b Progress:                  144 files extracted [47.1%]\b\b\b\b\b\b\b\b\b\b\b\b\b\b\b\b\b\b\b\b\b\b\b\b\b\b\b\b\b\b\b\b\b\b\b\b\b\b\b\b\b\b\b\b\b\b\b\b\b\b\b\b\b\b\b Progress:                  145 files extracted [47.4%]\b\b\b\b\b\b\b\b\b\b\b\b\b\b\b\b\b\b\b\b\b\b\b\b\b\b\b\b\b\b\b\b\b\b\b\b\b\b\b\b\b\b\b\b\b\b\b\b\b\b\b\b\b\b\b Progress:                  146 files extracted [47.7%]\b\b\b\b\b\b\b\b\b\b\b\b\b\b\b\b\b\b\b\b\b\b\b\b\b\b\b\b\b\b\b\b\b\b\b\b\b\b\b\b\b\b\b\b\b\b\b\b\b\b\b\b\b\b\b Progress:                  147 files extracted [48.0%]\b\b\b\b\b\b\b\b\b\b\b\b\b\b\b\b\b\b\b\b\b\b\b\b\b\b\b\b\b\b\b\b\b\b\b\b\b\b\b\b\b\b\b\b\b\b\b\b\b\b\b\b\b\b\b Progress:                  148 files extracted [48.4%]\b\b\b\b\b\b\b\b\b\b\b\b\b\b\b\b\b\b\b\b\b\b\b\b\b\b\b\b\b\b\b\b\b\b\b\b\b\b\b\b\b\b\b\b\b\b\b\b\b\b\b\b\b\b\b Progress:                  149 files extracted [48.7%]\b\b\b\b\b\b\b\b\b\b\b\b\b\b\b\b\b\b\b\b\b\b\b\b\b\b\b\b\b\b\b\b\b\b\b\b\b\b\b\b\b\b\b\b\b\b\b\b\b\b\b\b\b\b\b Progress:                  150 files extracted [49.0%]\b\b\b\b\b\b\b\b\b\b\b\b\b\b\b\b\b\b\b\b\b\b\b\b\b\b\b\b\b\b\b\b\b\b\b\b\b\b\b\b\b\b\b\b\b\b\b\b\b\b\b\b\b\b\b Progress:                  151 files extracted [49.3%]\b\b\b\b\b\b\b\b\b\b\b\b\b\b\b\b\b\b\b\b\b\b\b\b\b\b\b\b\b\b\b\b\b\b\b\b\b\b\b\b\b\b\b\b\b\b\b\b\b\b\b\b\b\b\b Progress:                  152 files extracted [49.7%]\b\b\b\b\b\b\b\b\b\b\b\b\b\b\b\b\b\b\b\b\b\b\b\b\b\b\b\b\b\b\b\b\b\b\b\b\b\b\b\b\b\b\b\b\b\b\b\b\b\b\b\b\b\b\b Progress:                  153 files extracted [50.0%]\b\b\b\b\b\b\b\b\b\b\b\b\b\b\b\b\b\b\b\b\b\b\b\b\b\b\b\b\b\b\b\b\b\b\b\b\b\b\b\b\b\b\b\b\b\b\b\b\b\b\b\b\b\b\b Progress:                  154 files extracted [50.3%]\b\b\b\b\b\b\b\b\b\b\b\b\b\b\b\b\b\b\b\b\b\b\b\b\b\b\b\b\b\b\b\b\b\b\b\b\b\b\b\b\b\b\b\b\b\b\b\b\b\b\b\b\b\b\b Progress:                  155 files extracted [50.7%]\b\b\b\b\b\b\b\b\b\b\b\b\b\b\b\b\b\b\b\b\b\b\b\b\b\b\b\b\b\b\b\b\b\b\b\b\b\b\b\b\b\b\b\b\b\b\b\b\b\b\b\b\b\b\b Progress:                  156 files extracted [51.0%]\b\b\b\b\b\b\b\b\b\b\b\b\b\b\b\b\b\b\b\b\b\b\b\b\b\b\b\b\b\b\b\b\b\b\b\b\b\b\b\b\b\b\b\b\b\b\b\b\b\b\b\b\b\b\b Progress:                  157 files extracted [51.3%]\b\b\b\b\b\b\b\b\b\b\b\b\b\b\b\b\b\b\b\b\b\b\b\b\b\b\b\b\b\b\b\b\b\b\b\b\b\b\b\b\b\b\b\b\b\b\b\b\b\b\b\b\b\b\b Progress:                  158 files extracted [51.6%]\b\b\b\b\b\b\b\b\b\b\b\b\b\b\b\b\b\b\b\b\b\b\b\b\b\b\b\b\b\b\b\b\b\b\b\b\b\b\b\b\b\b\b\b\b\b\b\b\b\b\b\b\b\b\b Progress:                  159 files extracted [52.0%]\b\b\b\b\b\b\b\b\b\b\b\b\b\b\b\b\b\b\b\b\b\b\b\b\b\b\b\b\b\b\b\b\b\b\b\b\b\b\b\b\b\b\b\b\b\b\b\b\b\b\b\b\b\b\b Progress:                  160 files extracted [52.3%]\b\b\b\b\b\b\b\b\b\b\b\b\b\b\b\b\b\b\b\b\b\b\b\b\b\b\b\b\b\b\b\b\b\b\b\b\b\b\b\b\b\b\b\b\b\b\b\b\b\b\b\b\b\b\b Progress:                  161 files extracted [52.6%]\b\b\b\b\b\b\b\b\b\b\b\b\b\b\b\b\b\b\b\b\b\b\b\b\b\b\b\b\b\b\b\b\b\b\b\b\b\b\b\b\b\b\b\b\b\b\b\b\b\b\b\b\b\b\b Progress:                  162 files extracted [52.9%]\b\b\b\b\b\b\b\b\b\b\b\b\b\b\b\b\b\b\b\b\b\b\b\b\b\b\b\b\b\b\b\b\b\b\b\b\b\b\b\b\b\b\b\b\b\b\b\b\b\b\b\b\b\b\b Progress:                  163 files extracted [53.3%]\b\b\b\b\b\b\b\b\b\b\b\b\b\b\b\b\b\b\b\b\b\b\b\b\b\b\b\b\b\b\b\b\b\b\b\b\b\b\b\b\b\b\b\b\b\b\b\b\b\b\b\b\b\b\b Progress:                  164 files extracted [53.6%]\b\b\b\b\b\b\b\b\b\b\b\b\b\b\b\b\b\b\b\b\b\b\b\b\b\b\b\b\b\b\b\b\b\b\b\b\b\b\b\b\b\b\b\b\b\b\b\b\b\b\b\b\b\b\b Progress:                  165 files extracted [53.9%]\b\b\b\b\b\b\b\b\b\b\b\b\b\b\b\b\b\b\b\b\b\b\b\b\b\b\b\b\b\b\b\b\b\b\b\b\b\b\b\b\b\b\b\b\b\b\b\b\b\b\b\b\b\b\b Progress:                  166 files extracted [54.2%]\b\b\b\b\b\b\b\b\b\b\b\b\b\b\b\b\b\b\b\b\b\b\b\b\b\b\b\b\b\b\b\b\b\b\b\b\b\b\b\b\b\b\b\b\b\b\b\b\b\b\b\b\b\b\b Progress:                  167 files extracted [54.6%]\b\b\b\b\b\b\b\b\b\b\b\b\b\b\b\b\b\b\b\b\b\b\b\b\b\b\b\b\b\b\b\b\b\b\b\b\b\b\b\b\b\b\b\b\b\b\b\b\b\b\b\b\b\b\b Progress:                  168 files extracted [54.9%]\b\b\b\b\b\b\b\b\b\b\b\b\b\b\b\b\b\b\b\b\b\b\b\b\b\b\b\b\b\b\b\b\b\b\b\b\b\b\b\b\b\b\b\b\b\b\b\b\b\b\b\b\b\b\b Progress:                  169 files extracted [55.2%]\b\b\b\b\b\b\b\b\b\b\b\b\b\b\b\b\b\b\b\b\b\b\b\b\b\b\b\b\b\b\b\b\b\b\b\b\b\b\b\b\b\b\b\b\b\b\b\b\b\b\b\b\b\b\b Progress:                  170 files extracted [55.6%]\b\b\b\b\b\b\b\b\b\b\b\b\b\b\b\b\b\b\b\b\b\b\b\b\b\b\b\b\b\b\b\b\b\b\b\b\b\b\b\b\b\b\b\b\b\b\b\b\b\b\b\b\b\b\b Progress:                  171 files extracted [55.9%]\b\b\b\b\b\b\b\b\b\b\b\b\b\b\b\b\b\b\b\b\b\b\b\b\b\b\b\b\b\b\b\b\b\b\b\b\b\b\b\b\b\b\b\b\b\b\b\b\b\b\b\b\b\b\b Progress:                  172 files extracted [56.2%]\b\b\b\b\b\b\b\b\b\b\b\b\b\b\b\b\b\b\b\b\b\b\b\b\b\b\b\b\b\b\b\b\b\b\b\b\b\b\b\b\b\b\b\b\b\b\b\b\b\b\b\b\b\b\b Progress:                  173 files extracted [56.5%]\b\b\b\b\b\b\b\b\b\b\b\b\b\b\b\b\b\b\b\b\b\b\b\b\b\b\b\b\b\b\b\b\b\b\b\b\b\b\b\b\b\b\b\b\b\b\b\b\b\b\b\b\b\b\b Progress:                  174 files extracted [56.9%]\b\b\b\b\b\b\b\b\b\b\b\b\b\b\b\b\b\b\b\b\b\b\b\b\b\b\b\b\b\b\b\b\b\b\b\b\b\b\b\b\b\b\b\b\b\b\b\b\b\b\b\b\b\b\b Progress:                  175 files extracted [57.2%]\b\b\b\b\b\b\b\b\b\b\b\b\b\b\b\b\b\b\b\b\b\b\b\b\b\b\b\b\b\b\b\b\b\b\b\b\b\b\b\b\b\b\b\b\b\b\b\b\b\b\b\b\b\b\b Progress:                  176 files extracted [57.5%]\b\b\b\b\b\b\b\b\b\b\b\b\b\b\b\b\b\b\b\b\b\b\b\b\b\b\b\b\b\b\b\b\b\b\b\b\b\b\b\b\b\b\b\b\b\b\b\b\b\b\b\b\b\b\b Progress:                  177 files extracted [57.8%]\b\b\b\b\b\b\b\b\b\b\b\b\b\b\b\b\b\b\b\b\b\b\b\b\b\b\b\b\b\b\b\b\b\b\b\b\b\b\b\b\b\b\b\b\b\b\b\b\b\b\b\b\b\b\b Progress:                  178 files extracted [58.2%]\b\b\b\b\b\b\b\b\b\b\b\b\b\b\b\b\b\b\b\b\b\b\b\b\b\b\b\b\b\b\b\b\b\b\b\b\b\b\b\b\b\b\b\b\b\b\b\b\b\b\b\b\b\b\b Progress:                  179 files extracted [58.5%]\b\b\b\b\b\b\b\b\b\b\b\b\b\b\b\b\b\b\b\b\b\b\b\b\b\b\b\b\b\b\b\b\b\b\b\b\b\b\b\b\b\b\b\b\b\b\b\b\b\b\b\b\b\b\b Progress:                  180 files extracted [58.8%]\b\b\b\b\b\b\b\b\b\b\b\b\b\b\b\b\b\b\b\b\b\b\b\b\b\b\b\b\b\b\b\b\b\b\b\b\b\b\b\b\b\b\b\b\b\b\b\b\b\b\b\b\b\b\b Progress:                  181 files extracted [59.2%]\b\b\b\b\b\b\b\b\b\b\b\b\b\b\b\b\b\b\b\b\b\b\b\b\b\b\b\b\b\b\b\b\b\b\b\b\b\b\b\b\b\b\b\b\b\b\b\b\b\b\b\b\b\b\b Progress:                  182 files extracted [59.5%]\b\b\b\b\b\b\b\b\b\b\b\b\b\b\b\b\b\b\b\b\b\b\b\b\b\b\b\b\b\b\b\b\b\b\b\b\b\b\b\b\b\b\b\b\b\b\b\b\b\b\b\b\b\b\b Progress:                  183 files extracted [59.8%]\b\b\b\b\b\b\b\b\b\b\b\b\b\b\b\b\b\b\b\b\b\b\b\b\b\b\b\b\b\b\b\b\b\b\b\b\b\b\b\b\b\b\b\b\b\b\b\b\b\b\b\b\b\b\b Progress:                  184 files extracted [60.1%]\b\b\b\b\b\b\b\b\b\b\b\b\b\b\b\b\b\b\b\b\b\b\b\b\b\b\b\b\b\b\b\b\b\b\b\b\b\b\b\b\b\b\b\b\b\b\b\b\b\b\b\b\b\b\b Progress:                  185 files extracted [60.5%]\b\b\b\b\b\b\b\b\b\b\b\b\b\b\b\b\b\b\b\b\b\b\b\b\b\b\b\b\b\b\b\b\b\b\b\b\b\b\b\b\b\b\b\b\b\b\b\b\b\b\b\b\b\b\b Progress:                  186 files extracted [60.8%]\b\b\b\b\b\b\b\b\b\b\b\b\b\b\b\b\b\b\b\b\b\b\b\b\b\b\b\b\b\b\b\b\b\b\b\b\b\b\b\b\b\b\b\b\b\b\b\b\b\b\b\b\b\b\b Progress:                  187 files extracted [61.1%]\b\b\b\b\b\b\b\b\b\b\b\b\b\b\b\b\b\b\b\b\b\b\b\b\b\b\b\b\b\b\b\b\b\b\b\b\b\b\b\b\b\b\b\b\b\b\b\b\b\b\b\b\b\b\b Progress:                  188 files extracted [61.4%]\b\b\b\b\b\b\b\b\b\b\b\b\b\b\b\b\b\b\b\b\b\b\b\b\b\b\b\b\b\b\b\b\b\b\b\b\b\b\b\b\b\b\b\b\b\b\b\b\b\b\b\b\b\b\b Progress:                  189 files extracted [61.8%]\b\b\b\b\b\b\b\b\b\b\b\b\b\b\b\b\b\b\b\b\b\b\b\b\b\b\b\b\b\b\b\b\b\b\b\b\b\b\b\b\b\b\b\b\b\b\b\b\b\b\b\b\b\b\b Progress:                  190 files extracted [62.1%]\b\b\b\b\b\b\b\b\b\b\b\b\b\b\b\b\b\b\b\b\b\b\b\b\b\b\b\b\b\b\b\b\b\b\b\b\b\b\b\b\b\b\b\b\b\b\b\b\b\b\b\b\b\b\b Progress:                  191 files extracted [62.4%]\b\b\b\b\b\b\b\b\b\b\b\b\b\b\b\b\b\b\b\b\b\b\b\b\b\b\b\b\b\b\b\b\b\b\b\b\b\b\b\b\b\b\b\b\b\b\b\b\b\b\b\b\b\b\b Progress:                  192 files extracted [62.7%]\b\b\b\b\b\b\b\b\b\b\b\b\b\b\b\b\b\b\b\b\b\b\b\b\b\b\b\b\b\b\b\b\b\b\b\b\b\b\b\b\b\b\b\b\b\b\b\b\b\b\b\b\b\b\b Progress:                  193 files extracted [63.1%]\b\b\b\b\b\b\b\b\b\b\b\b\b\b\b\b\b\b\b\b\b\b\b\b\b\b\b\b\b\b\b\b\b\b\b\b\b\b\b\b\b\b\b\b\b\b\b\b\b\b\b\b\b\b\b Progress:                  194 files extracted [63.4%]\b\b\b\b\b\b\b\b\b\b\b\b\b\b\b\b\b\b\b\b\b\b\b\b\b\b\b\b\b\b\b\b\b\b\b\b\b\b\b\b\b\b\b\b\b\b\b\b\b\b\b\b\b\b\b Progress:                  195 files extracted [63.7%]\b\b\b\b\b\b\b\b\b\b\b\b\b\b\b\b\b\b\b\b\b\b\b\b\b\b\b\b\b\b\b\b\b\b\b\b\b\b\b\b\b\b\b\b\b\b\b\b\b\b\b\b\b\b\b Progress:                  196 files extracted [64.1%]\b\b\b\b\b\b\b\b\b\b\b\b\b\b\b\b\b\b\b\b\b\b\b\b\b\b\b\b\b\b\b\b\b\b\b\b\b\b\b\b\b\b\b\b\b\b\b\b\b\b\b\b\b\b\b Progress:                  197 files extracted [64.4%]\b\b\b\b\b\b\b\b\b\b\b\b\b\b\b\b\b\b\b\b\b\b\b\b\b\b\b\b\b\b\b\b\b\b\b\b\b\b\b\b\b\b\b\b\b\b\b\b\b\b\b\b\b\b\b Progress:                  198 files extracted [64.7%]\b\b\b\b\b\b\b\b\b\b\b\b\b\b\b\b\b\b\b\b\b\b\b\b\b\b\b\b\b\b\b\b\b\b\b\b\b\b\b\b\b\b\b\b\b\b\b\b\b\b\b\b\b\b\b Progress:                  199 files extracted [65.0%]\b\b\b\b\b\b\b\b\b\b\b\b\b\b\b\b\b\b\b\b\b\b\b\b\b\b\b\b\b\b\b\b\b\b\b\b\b\b\b\b\b\b\b\b\b\b\b\b\b\b\b\b\b\b\b Progress:                  200 files extracted [65.4%]\b\b\b\b\b\b\b\b\b\b\b\b\b\b\b\b\b\b\b\b\b\b\b\b\b\b\b\b\b\b\b\b\b\b\b\b\b\b\b\b\b\b\b\b\b\b\b\b\b\b\b\b\b\b\b Progress:                  201 files extracted [65.7%]\b\b\b\b\b\b\b\b\b\b\b\b\b\b\b\b\b\b\b\b\b\b\b\b\b\b\b\b\b\b\b\b\b\b\b\b\b\b\b\b\b\b\b\b\b\b\b\b\b\b\b\b\b\b\b Progress:                  202 files extracted [66.0%]\b\b\b\b\b\b\b\b\b\b\b\b\b\b\b\b\b\b\b\b\b\b\b\b\b\b\b\b\b\b\b\b\b\b\b\b\b\b\b\b\b\b\b\b\b\b\b\b\b\b\b\b\b\b\b Progress:                  203 files extracted [66.3%]\b\b\b\b\b\b\b\b\b\b\b\b\b\b\b\b\b\b\b\b\b\b\b\b\b\b\b\b\b\b\b\b\b\b\b\b\b\b\b\b\b\b\b\b\b\b\b\b\b\b\b\b\b\b\b Progress:                  204 files extracted [66.7%]\b\b\b\b\b\b\b\b\b\b\b\b\b\b\b\b\b\b\b\b\b\b\b\b\b\b\b\b\b\b\b\b\b\b\b\b\b\b\b\b\b\b\b\b\b\b\b\b\b\b\b\b\b\b\b Progress:                  205 files extracted [67.0%]\b\b\b\b\b\b\b\b\b\b\b\b\b\b\b\b\b\b\b\b\b\b\b\b\b\b\b\b\b\b\b\b\b\b\b\b\b\b\b\b\b\b\b\b\b\b\b\b\b\b\b\b\b\b\b Progress:                  206 files extracted [67.3%]\b\b\b\b\b\b\b\b\b\b\b\b\b\b\b\b\b\b\b\b\b\b\b\b\b\b\b\b\b\b\b\b\b\b\b\b\b\b\b\b\b\b\b\b\b\b\b\b\b\b\b\b\b\b\b Progress:                  207 files extracted [67.6%]\b\b\b\b\b\b\b\b\b\b\b\b\b\b\b\b\b\b\b\b\b\b\b\b\b\b\b\b\b\b\b\b\b\b\b\b\b\b\b\b\b\b\b\b\b\b\b\b\b\b\b\b\b\b\b Progress:                  208 files extracted [68.0%]\b\b\b\b\b\b\b\b\b\b\b\b\b\b\b\b\b\b\b\b\b\b\b\b\b\b\b\b\b\b\b\b\b\b\b\b\b\b\b\b\b\b\b\b\b\b\b\b\b\b\b\b\b\b\b Progress:                  209 files extracted [68.3%]\b\b\b\b\b\b\b\b\b\b\b\b\b\b\b\b\b\b\b\b\b\b\b\b\b\b\b\b\b\b\b\b\b\b\b\b\b\b\b\b\b\b\b\b\b\b\b\b\b\b\b\b\b\b\b Progress:                  210 files extracted [68.6%]\b\b\b\b\b\b\b\b\b\b\b\b\b\b\b\b\b\b\b\b\b\b\b\b\b\b\b\b\b\b\b\b\b\b\b\b\b\b\b\b\b\b\b\b\b\b\b\b\b\b\b\b\b\b\b Progress:                  211 files extracted [69.0%]\b\b\b\b\b\b\b\b\b\b\b\b\b\b\b\b\b\b\b\b\b\b\b\b\b\b\b\b\b\b\b\b\b\b\b\b\b\b\b\b\b\b\b\b\b\b\b\b\b\b\b\b\b\b\b Progress:                  212 files extracted [69.3%]\b\b\b\b\b\b\b\b\b\b\b\b\b\b\b\b\b\b\b\b\b\b\b\b\b\b\b\b\b\b\b\b\b\b\b\b\b\b\b\b\b\b\b\b\b\b\b\b\b\b\b\b\b\b\b Progress:                  213 files extracted [69.6%]\b\b\b\b\b\b\b\b\b\b\b\b\b\b\b\b\b\b\b\b\b\b\b\b\b\b\b\b\b\b\b\b\b\b\b\b\b\b\b\b\b\b\b\b\b\b\b\b\b\b\b\b\b\b\b Progress:                  214 files extracted [69.9%]\b\b\b\b\b\b\b\b\b\b\b\b\b\b\b\b\b\b\b\b\b\b\b\b\b\b\b\b\b\b\b\b\b\b\b\b\b\b\b\b\b\b\b\b\b\b\b\b\b\b\b\b\b\b\b Progress:                  215 files extracted [70.3%]\b\b\b\b\b\b\b\b\b\b\b\b\b\b\b\b\b\b\b\b\b\b\b\b\b\b\b\b\b\b\b\b\b\b\b\b\b\b\b\b\b\b\b\b\b\b\b\b\b\b\b\b\b\b\b Progress:                  216 files extracted [70.6%]\b\b\b\b\b\b\b\b\b\b\b\b\b\b\b\b\b\b\b\b\b\b\b\b\b\b\b\b\b\b\b\b\b\b\b\b\b\b\b\b\b\b\b\b\b\b\b\b\b\b\b\b\b\b\b Progress:                  217 files extracted [70.9%]\b\b\b\b\b\b\b\b\b\b\b\b\b\b\b\b\b\b\b\b\b\b\b\b\b\b\b\b\b\b\b\b\b\b\b\b\b\b\b\b\b\b\b\b\b\b\b\b\b\b\b\b\b\b\b Progress:                  218 files extracted [71.2%]\b\b\b\b\b\b\b\b\b\b\b\b\b\b\b\b\b\b\b\b\b\b\b\b\b\b\b\b\b\b\b\b\b\b\b\b\b\b\b\b\b\b\b\b\b\b\b\b\b\b\b\b\b\b\b Progress:                  219 files extracted [71.6%]\b\b\b\b\b\b\b\b\b\b\b\b\b\b\b\b\b\b\b\b\b\b\b\b\b\b\b\b\b\b\b\b\b\b\b\b\b\b\b\b\b\b\b\b\b\b\b\b\b\b\b\b\b\b\b Progress:                  220 files extracted [71.9%]\b\b\b\b\b\b\b\b\b\b\b\b\b\b\b\b\b\b\b\b\b\b\b\b\b\b\b\b\b\b\b\b\b\b\b\b\b\b\b\b\b\b\b\b\b\b\b\b\b\b\b\b\b\b\b Progress:                  221 files extracted [72.2%]\b\b\b\b\b\b\b\b\b\b\b\b\b\b\b\b\b\b\b\b\b\b\b\b\b\b\b\b\b\b\b\b\b\b\b\b\b\b\b\b\b\b\b\b\b\b\b\b\b\b\b\b\b\b\b Progress:                  222 files extracted [72.5%]\b\b\b\b\b\b\b\b\b\b\b\b\b\b\b\b\b\b\b\b\b\b\b\b\b\b\b\b\b\b\b\b\b\b\b\b\b\b\b\b\b\b\b\b\b\b\b\b\b\b\b\b\b\b\b Progress:                  223 files extracted [72.9%]\b\b\b\b\b\b\b\b\b\b\b\b\b\b\b\b\b\b\b\b\b\b\b\b\b\b\b\b\b\b\b\b\b\b\b\b\b\b\b\b\b\b\b\b\b\b\b\b\b\b\b\b\b\b\b Progress:                  224 files extracted [73.2%]\b\b\b\b\b\b\b\b\b\b\b\b\b\b\b\b\b\b\b\b\b\b\b\b\b\b\b\b\b\b\b\b\b\b\b\b\b\b\b\b\b\b\b\b\b\b\b\b\b\b\b\b\b\b\b Progress:                  225 files extracted [73.5%]\b\b\b\b\b\b\b\b\b\b\b\b\b\b\b\b\b\b\b\b\b\b\b\b\b\b\b\b\b\b\b\b\b\b\b\b\b\b\b\b\b\b\b\b\b\b\b\b\b\b\b\b\b\b\b Progress:                  226 files extracted [73.9%]\b\b\b\b\b\b\b\b\b\b\b\b\b\b\b\b\b\b\b\b\b\b\b\b\b\b\b\b\b\b\b\b\b\b\b\b\b\b\b\b\b\b\b\b\b\b\b\b\b\b\b\b\b\b\b Progress:                  227 files extracted [74.2%]\b\b\b\b\b\b\b\b\b\b\b\b\b\b\b\b\b\b\b\b\b\b\b\b\b\b\b\b\b\b\b\b\b\b\b\b\b\b\b\b\b\b\b\b\b\b\b\b\b\b\b\b\b\b\b Progress:                  228 files extracted [74.5%]\b\b\b\b\b\b\b\b\b\b\b\b\b\b\b\b\b\b\b\b\b\b\b\b\b\b\b\b\b\b\b\b\b\b\b\b\b\b\b\b\b\b\b\b\b\b\b\b\b\b\b\b\b\b\b Progress:                  229 files extracted [74.8%]\b\b\b\b\b\b\b\b\b\b\b\b\b\b\b\b\b\b\b\b\b\b\b\b\b\b\b\b\b\b\b\b\b\b\b\b\b\b\b\b\b\b\b\b\b\b\b\b\b\b\b\b\b\b\b Progress:                  230 files extracted [75.2%]\b\b\b\b\b\b\b\b\b\b\b\b\b\b\b\b\b\b\b\b\b\b\b\b\b\b\b\b\b\b\b\b\b\b\b\b\b\b\b\b\b\b\b\b\b\b\b\b\b\b\b\b\b\b\b Progress:                  231 files extracted [75.5%]\b\b\b\b\b\b\b\b\b\b\b\b\b\b\b\b\b\b\b\b\b\b\b\b\b\b\b\b\b\b\b\b\b\b\b\b\b\b\b\b\b\b\b\b\b\b\b\b\b\b\b\b\b\b\b Progress:                  232 files extracted [75.8%]\b\b\b\b\b\b\b\b\b\b\b\b\b\b\b\b\b\b\b\b\b\b\b\b\b\b\b\b\b\b\b\b\b\b\b\b\b\b\b\b\b\b\b\b\b\b\b\b\b\b\b\b\b\b\b Progress:                  233 files extracted [76.1%]\b\b\b\b\b\b\b\b\b\b\b\b\b\b\b\b\b\b\b\b\b\b\b\b\b\b\b\b\b\b\b\b\b\b\b\b\b\b\b\b\b\b\b\b\b\b\b\b\b\b\b\b\b\b\b Progress:                  234 files extracted [76.5%]\b\b\b\b\b\b\b\b\b\b\b\b\b\b\b\b\b\b\b\b\b\b\b\b\b\b\b\b\b\b\b\b\b\b\b\b\b\b\b\b\b\b\b\b\b\b\b\b\b\b\b\b\b\b\b Progress:                  235 files extracted [76.8%]\b\b\b\b\b\b\b\b\b\b\b\b\b\b\b\b\b\b\b\b\b\b\b\b\b\b\b\b\b\b\b\b\b\b\b\b\b\b\b\b\b\b\b\b\b\b\b\b\b\b\b\b\b\b\b Progress:                  236 files extracted [77.1%]\b\b\b\b\b\b\b\b\b\b\b\b\b\b\b\b\b\b\b\b\b\b\b\b\b\b\b\b\b\b\b\b\b\b\b\b\b\b\b\b\b\b\b\b\b\b\b\b\b\b\b\b\b\b\b Progress:                  237 files extracted [77.5%]\b\b\b\b\b\b\b\b\b\b\b\b\b\b\b\b\b\b\b\b\b\b\b\b\b\b\b\b\b\b\b\b\b\b\b\b\b\b\b\b\b\b\b\b\b\b\b\b\b\b\b\b\b\b\b Progress:                  238 files extracted [77.8%]\b\b\b\b\b\b\b\b\b\b\b\b\b\b\b\b\b\b\b\b\b\b\b\b\b\b\b\b\b\b\b\b\b\b\b\b\b\b\b\b\b\b\b\b\b\b\b\b\b\b\b\b\b\b\b Progress:                  239 files extracted [78.1%]\b\b\b\b\b\b\b\b\b\b\b\b\b\b\b\b\b\b\b\b\b\b\b\b\b\b\b\b\b\b\b\b\b\b\b\b\b\b\b\b\b\b\b\b\b\b\b\b\b\b\b\b\b\b\b Progress:                  240 files extracted [78.4%]\b\b\b\b\b\b\b\b\b\b\b\b\b\b\b\b\b\b\b\b\b\b\b\b\b\b\b\b\b\b\b\b\b\b\b\b\b\b\b\b\b\b\b\b\b\b\b\b\b\b\b\b\b\b\b Progress:                  241 files extracted [78.8%]\b\b\b\b\b\b\b\b\b\b\b\b\b\b\b\b\b\b\b\b\b\b\b\b\b\b\b\b\b\b\b\b\b\b\b\b\b\b\b\b\b\b\b\b\b\b\b\b\b\b\b\b\b\b\b Progress:                  242 files extracted [79.1%]\b\b\b\b\b\b\b\b\b\b\b\b\b\b\b\b\b\b\b\b\b\b\b\b\b\b\b\b\b\b\b\b\b\b\b\b\b\b\b\b\b\b\b\b\b\b\b\b\b\b\b\b\b\b\b Progress:                  243 files extracted [79.4%]\b\b\b\b\b\b\b\b\b\b\b\b\b\b\b\b\b\b\b\b\b\b\b\b\b\b\b\b\b\b\b\b\b\b\b\b\b\b\b\b\b\b\b\b\b\b\b\b\b\b\b\b\b\b\b Progress:                  244 files extracted [79.7%]\b\b\b\b\b\b\b\b\b\b\b\b\b\b\b\b\b\b\b\b\b\b\b\b\b\b\b\b\b\b\b\b\b\b\b\b\b\b\b\b\b\b\b\b\b\b\b\b\b\b\b\b\b\b\b Progress:                  245 files extracted [80.1%]\b\b\b\b\b\b\b\b\b\b\b\b\b\b\b\b\b\b\b\b\b\b\b\b\b\b\b\b\b\b\b\b\b\b\b\b\b\b\b\b\b\b\b\b\b\b\b\b\b\b\b\b\b\b\b Progress:                  246 files extracted [80.4%]\b\b\b\b\b\b\b\b\b\b\b\b\b\b\b\b\b\b\b\b\b\b\b\b\b\b\b\b\b\b\b\b\b\b\b\b\b\b\b\b\b\b\b\b\b\b\b\b\b\b\b\b\b\b\b Progress:                  247 files extracted [80.7%]\b\b\b\b\b\b\b\b\b\b\b\b\b\b\b\b\b\b\b\b\b\b\b\b\b\b\b\b\b\b\b\b\b\b\b\b\b\b\b\b\b\b\b\b\b\b\b\b\b\b\b\b\b\b\b Progress:                  248 files extracted [81.0%]\b\b\b\b\b\b\b\b\b\b\b\b\b\b\b\b\b\b\b\b\b\b\b\b\b\b\b\b\b\b\b\b\b\b\b\b\b\b\b\b\b\b\b\b\b\b\b\b\b\b\b\b\b\b\b Progress:                  249 files extracted [81.4%]\b\b\b\b\b\b\b\b\b\b\b\b\b\b\b\b\b\b\b\b\b\b\b\b\b\b\b\b\b\b\b\b\b\b\b\b\b\b\b\b\b\b\b\b\b\b\b\b\b\b\b\b\b\b\b Progress:                  250 files extracted [81.7%]\b\b\b\b\b\b\b\b\b\b\b\b\b\b\b\b\b\b\b\b\b\b\b\b\b\b\b\b\b\b\b\b\b\b\b\b\b\b\b\b\b\b\b\b\b\b\b\b\b\b\b\b\b\b\b Progress:                  251 files extracted [82.0%]\b\b\b\b\b\b\b\b\b\b\b\b\b\b\b\b\b\b\b\b\b\b\b\b\b\b\b\b\b\b\b\b\b\b\b\b\b\b\b\b\b\b\b\b\b\b\b\b\b\b\b\b\b\b\b Progress:                  252 files extracted [82.4%]\b\b\b\b\b\b\b\b\b\b\b\b\b\b\b\b\b\b\b\b\b\b\b\b\b\b\b\b\b\b\b\b\b\b\b\b\b\b\b\b\b\b\b\b\b\b\b\b\b\b\b\b\b\b\b Progress:                  253 files extracted [82.7%]\b\b\b\b\b\b\b\b\b\b\b\b\b\b\b\b\b\b\b\b\b\b\b\b\b\b\b\b\b\b\b\b\b\b\b\b\b\b\b\b\b\b\b\b\b\b\b\b\b\b\b\b\b\b\b Progress:                  254 files extracted [83.0%]\b\b\b\b\b\b\b\b\b\b\b\b\b\b\b\b\b\b\b\b\b\b\b\b\b\b\b\b\b\b\b\b\b\b\b\b\b\b\b\b\b\b\b\b\b\b\b\b\b\b\b\b\b\b\b Progress:                  255 files extracted [83.3%]\b\b\b\b\b\b\b\b\b\b\b\b\b\b\b\b\b\b\b\b\b\b\b\b\b\b\b\b\b\b\b\b\b\b\b\b\b\b\b\b\b\b\b\b\b\b\b\b\b\b\b\b\b\b\b Progress:                  256 files extracted [83.7%]\b\b\b\b\b\b\b\b\b\b\b\b\b\b\b\b\b\b\b\b\b\b\b\b\b\b\b\b\b\b\b\b\b\b\b\b\b\b\b\b\b\b\b\b\b\b\b\b\b\b\b\b\b\b\b Progress:                  257 files extracted [84.0%]\b\b\b\b\b\b\b\b\b\b\b\b\b\b\b\b\b\b\b\b\b\b\b\b\b\b\b\b\b\b\b\b\b\b\b\b\b\b\b\b\b\b\b\b\b\b\b\b\b\b\b\b\b\b\b Progress:                  258 files extracted [84.3%]\b\b\b\b\b\b\b\b\b\b\b\b\b\b\b\b\b\b\b\b\b\b\b\b\b\b\b\b\b\b\b\b\b\b\b\b\b\b\b\b\b\b\b\b\b\b\b\b\b\b\b\b\b\b\b Progress:                  259 files extracted [84.6%]\b\b\b\b\b\b\b\b\b\b\b\b\b\b\b\b\b\b\b\b\b\b\b\b\b\b\b\b\b\b\b\b\b\b\b\b\b\b\b\b\b\b\b\b\b\b\b\b\b\b\b\b\b\b\b Progress:                  260 files extracted [85.0%]\b\b\b\b\b\b\b\b\b\b\b\b\b\b\b\b\b\b\b\b\b\b\b\b\b\b\b\b\b\b\b\b\b\b\b\b\b\b\b\b\b\b\b\b\b\b\b\b\b\b\b\b\b\b\b Progress:                  261 files extracted [85.3%]\b\b\b\b\b\b\b\b\b\b\b\b\b\b\b\b\b\b\b\b\b\b\b\b\b\b\b\b\b\b\b\b\b\b\b\b\b\b\b\b\b\b\b\b\b\b\b\b\b\b\b\b\b\b\b Progress:                  262 files extracted [85.6%]\b\b\b\b\b\b\b\b\b\b\b\b\b\b\b\b\b\b\b\b\b\b\b\b\b\b\b\b\b\b\b\b\b\b\b\b\b\b\b\b\b\b\b\b\b\b\b\b\b\b\b\b\b\b\b Progress:                  263 files extracted [85.9%]\b\b\b\b\b\b\b\b\b\b\b\b\b\b\b\b\b\b\b\b\b\b\b\b\b\b\b\b\b\b\b\b\b\b\b\b\b\b\b\b\b\b\b\b\b\b\b\b\b\b\b\b\b\b\b Progress:                  264 files extracted [86.3%]\b\b\b\b\b\b\b\b\b\b\b\b\b\b\b\b\b\b\b\b\b\b\b\b\b\b\b\b\b\b\b\b\b\b\b\b\b\b\b\b\b\b\b\b\b\b\b\b\b\b\b\b\b\b\b Progress:                  265 files extracted [86.6%]\b\b\b\b\b\b\b\b\b\b\b\b\b\b\b\b\b\b\b\b\b\b\b\b\b\b\b\b\b\b\b\b\b\b\b\b\b\b\b\b\b\b\b\b\b\b\b\b\b\b\b\b\b\b\b Progress:                  266 files extracted [86.9%]\b\b\b\b\b\b\b\b\b\b\b\b\b\b\b\b\b\b\b\b\b\b\b\b\b\b\b\b\b\b\b\b\b\b\b\b\b\b\b\b\b\b\b\b\b\b\b\b\b\b\b\b\b\b\b Progress:                  267 files extracted [87.3%]\b\b\b\b\b\b\b\b\b\b\b\b\b\b\b\b\b\b\b\b\b\b\b\b\b\b\b\b\b\b\b\b\b\b\b\b\b\b\b\b\b\b\b\b\b\b\b\b\b\b\b\b\b\b\b Progress:                  268 files extracted [87.6%]\b\b\b\b\b\b\b\b\b\b\b\b\b\b\b\b\b\b\b\b\b\b\b\b\b\b\b\b\b\b\b\b\b\b\b\b\b\b\b\b\b\b\b\b\b\b\b\b\b\b\b\b\b\b\b Progress:                  269 files extracted [87.9%]\b\b\b\b\b\b\b\b\b\b\b\b\b\b\b\b\b\b\b\b\b\b\b\b\b\b\b\b\b\b\b\b\b\b\b\b\b\b\b\b\b\b\b\b\b\b\b\b\b\b\b\b\b\b\b Progress:                  270 files extracted [88.2%]\b\b\b\b\b\b\b\b\b\b\b\b\b\b\b\b\b\b\b\b\b\b\b\b\b\b\b\b\b\b\b\b\b\b\b\b\b\b\b\b\b\b\b\b\b\b\b\b\b\b\b\b\b\b\b Progress:                  271 files extracted [88.6%]\b\b\b\b\b\b\b\b\b\b\b\b\b\b\b\b\b\b\b\b\b\b\b\b\b\b\b\b\b\b\b\b\b\b\b\b\b\b\b\b\b\b\b\b\b\b\b\b\b\b\b\b\b\b\b Progress:                  272 files extracted [88.9%]\b\b\b\b\b\b\b\b\b\b\b\b\b\b\b\b\b\b\b\b\b\b\b\b\b\b\b\b\b\b\b\b\b\b\b\b\b\b\b\b\b\b\b\b\b\b\b\b\b\b\b\b\b\b\b Progress:                  273 files extracted [89.2%]\b\b\b\b\b\b\b\b\b\b\b\b\b\b\b\b\b\b\b\b\b\b\b\b\b\b\b\b\b\b\b\b\b\b\b\b\b\b\b\b\b\b\b\b\b\b\b\b\b\b\b\b\b\b\b Progress:                  274 files extracted [89.5%]\b\b\b\b\b\b\b\b\b\b\b\b\b\b\b\b\b\b\b\b\b\b\b\b\b\b\b\b\b\b\b\b\b\b\b\b\b\b\b\b\b\b\b\b\b\b\b\b\b\b\b\b\b\b\b Progress:                  275 files extracted [89.9%]\b\b\b\b\b\b\b\b\b\b\b\b\b\b\b\b\b\b\b\b\b\b\b\b\b\b\b\b\b\b\b\b\b\b\b\b\b\b\b\b\b\b\b\b\b\b\b\b\b\b\b\b\b\b\b Progress:                  276 files extracted [90.2%]\b\b\b\b\b\b\b\b\b\b\b\b\b\b\b\b\b\b\b\b\b\b\b\b\b\b\b\b\b\b\b\b\b\b\b\b\b\b\b\b\b\b\b\b\b\b\b\b\b\b\b\b\b\b\b Progress:                  277 files extracted [90.5%]\b\b\b\b\b\b\b\b\b\b\b\b\b\b\b\b\b\b\b\b\b\b\b\b\b\b\b\b\b\b\b\b\b\b\b\b\b\b\b\b\b\b\b\b\b\b\b\b\b\b\b\b\b\b\b Progress:                  278 files extracted [90.8%]\b\b\b\b\b\b\b\b\b\b\b\b\b\b\b\b\b\b\b\b\b\b\b\b\b\b\b\b\b\b\b\b\b\b\b\b\b\b\b\b\b\b\b\b\b\b\b\b\b\b\b\b\b\b\b Progress:                  279 files extracted [91.2%]\b\b\b\b\b\b\b\b\b\b\b\b\b\b\b\b\b\b\b\b\b\b\b\b\b\b\b\b\b\b\b\b\b\b\b\b\b\b\b\b\b\b\b\b\b\b\b\b\b\b\b\b\b\b\b Progress:                  280 files extracted [91.5%]\b\b\b\b\b\b\b\b\b\b\b\b\b\b\b\b\b\b\b\b\b\b\b\b\b\b\b\b\b\b\b\b\b\b\b\b\b\b\b\b\b\b\b\b\b\b\b\b\b\b\b\b\b\b\b Progress:                  281 files extracted [91.8%]\b\b\b\b\b\b\b\b\b\b\b\b\b\b\b\b\b\b\b\b\b\b\b\b\b\b\b\b\b\b\b\b\b\b\b\b\b\b\b\b\b\b\b\b\b\b\b\b\b\b\b\b\b\b\b Progress:                  282 files extracted [92.2%]\b\b\b\b\b\b\b\b\b\b\b\b\b\b\b\b\b\b\b\b\b\b\b\b\b\b\b\b\b\b\b\b\b\b\b\b\b\b\b\b\b\b\b\b\b\b\b\b\b\b\b\b\b\b\b Progress:                  283 files extracted [92.5%]\b\b\b\b\b\b\b\b\b\b\b\b\b\b\b\b\b\b\b\b\b\b\b\b\b\b\b\b\b\b\b\b\b\b\b\b\b\b\b\b\b\b\b\b\b\b\b\b\b\b\b\b\b\b\b Progress:                  284 files extracted [92.8%]\b\b\b\b\b\b\b\b\b\b\b\b\b\b\b\b\b\b\b\b\b\b\b\b\b\b\b\b\b\b\b\b\b\b\b\b\b\b\b\b\b\b\b\b\b\b\b\b\b\b\b\b\b\b\b Progress:                  285 files extracted [93.1%]\b\b\b\b\b\b\b\b\b\b\b\b\b\b\b\b\b\b\b\b\b\b\b\b\b\b\b\b\b\b\b\b\b\b\b\b\b\b\b\b\b\b\b\b\b\b\b\b\b\b\b\b\b\b\b Progress:                  286 files extracted [93.5%]\b\b\b\b\b\b\b\b\b\b\b\b\b\b\b\b\b\b\b\b\b\b\b\b\b\b\b\b\b\b\b\b\b\b\b\b\b\b\b\b\b\b\b\b\b\b\b\b\b\b\b\b\b\b\b Progress:                  287 files extracted [93.8%]\b\b\b\b\b\b\b\b\b\b\b\b\b\b\b\b\b\b\b\b\b\b\b\b\b\b\b\b\b\b\b\b\b\b\b\b\b\b\b\b\b\b\b\b\b\b\b\b\b\b\b\b\b\b\b Progress:                  288 files extracted [94.1%]\b\b\b\b\b\b\b\b\b\b\b\b\b\b\b\b\b\b\b\b\b\b\b\b\b\b\b\b\b\b\b\b\b\b\b\b\b\b\b\b\b\b\b\b\b\b\b\b\b\b\b\b\b\b\b Progress:                  289 files extracted [94.4%]\b\b\b\b\b\b\b\b\b\b\b\b\b\b\b\b\b\b\b\b\b\b\b\b\b\b\b\b\b\b\b\b\b\b\b\b\b\b\b\b\b\b\b\b\b\b\b\b\b\b\b\b\b\b\b Progress:                  290 files extracted [94.8%]\b\b\b\b\b\b\b\b\b\b\b\b\b\b\b\b\b\b\b\b\b\b\b\b\b\b\b\b\b\b\b\b\b\b\b\b\b\b\b\b\b\b\b\b\b\b\b\b\b\b\b\b\b\b\b Progress:                  291 files extracted [95.1%]\b\b\b\b\b\b\b\b\b\b\b\b\b\b\b\b\b\b\b\b\b\b\b\b\b\b\b\b\b\b\b\b\b\b\b\b\b\b\b\b\b\b\b\b\b\b\b\b\b\b\b\b\b\b\b Progress:                  292 files extracted [95.4%]\b\b\b\b\b\b\b\b\b\b\b\b\b\b\b\b\b\b\b\b\b\b\b\b\b\b\b\b\b\b\b\b\b\b\b\b\b\b\b\b\b\b\b\b\b\b\b\b\b\b\b\b\b\b\b Progress:                  293 files extracted [95.8%]\b\b\b\b\b\b\b\b\b\b\b\b\b\b\b\b\b\b\b\b\b\b\b\b\b\b\b\b\b\b\b\b\b\b\b\b\b\b\b\b\b\b\b\b\b\b\b\b\b\b\b\b\b\b\b Progress:                  294 files extracted [96.1%]\b\b\b\b\b\b\b\b\b\b\b\b\b\b\b\b\b\b\b\b\b\b\b\b\b\b\b\b\b\b\b\b\b\b\b\b\b\b\b\b\b\b\b\b\b\b\b\b\b\b\b\b\b\b\b Progress:                  295 files extracted [96.4%]\b\b\b\b\b\b\b\b\b\b\b\b\b\b\b\b\b\b\b\b\b\b\b\b\b\b\b\b\b\b\b\b\b\b\b\b\b\b\b\b\b\b\b\b\b\b\b\b\b\b\b\b\b\b\b Progress:                  296 files extracted [96.7%]\b\b\b\b\b\b\b\b\b\b\b\b\b\b\b\b\b\b\b\b\b\b\b\b\b\b\b\b\b\b\b\b\b\b\b\b\b\b\b\b\b\b\b\b\b\b\b\b\b\b\b\b\b\b\b Progress:                  297 files extracted [97.1%]\b\b\b\b\b\b\b\b\b\b\b\b\b\b\b\b\b\b\b\b\b\b\b\b\b\b\b\b\b\b\b\b\b\b\b\b\b\b\b\b\b\b\b\b\b\b\b\b\b\b\b\b\b\b\b Progress:                  298 files extracted [97.4%]\b\b\b\b\b\b\b\b\b\b\b\b\b\b\b\b\b\b\b\b\b\b\b\b\b\b\b\b\b\b\b\b\b\b\b\b\b\b\b\b\b\b\b\b\b\b\b\b\b\b\b\b\b\b\b Progress:                  299 files extracted [97.7%]\b\b\b\b\b\b\b\b\b\b\b\b\b\b\b\b\b\b\b\b\b\b\b\b\b\b\b\b\b\b\b\b\b\b\b\b\b\b\b\b\b\b\b\b\b\b\b\b\b\b\b\b\b\b\b Progress:                  300 files extracted [98.0%]\b\b\b\b\b\b\b\b\b\b\b\b\b\b\b\b\b\b\b\b\b\b\b\b\b\b\b\b\b\b\b\b\b\b\b\b\b\b\b\b\b\b\b\b\b\b\b\b\b\b\b\b\b\b\b Progress:                  301 files extracted [98.4%]\b\b\b\b\b\b\b\b\b\b\b\b\b\b\b\b\b\b\b\b\b\b\b\b\b\b\b\b\b\b\b\b\b\b\b\b\b\b\b\b\b\b\b\b\b\b\b\b\b\b\b\b\b\b\b Progress:                  302 files extracted [98.7%]\b\b\b\b\b\b\b\b\b\b\b\b\b\b\b\b\b\b\b\b\b\b\b\b\b\b\b\b\b\b\b\b\b\b\b\b\b\b\b\b\b\b\b\b\b\b\b\b\b\b\b\b\b\b\b Progress:                  303 files extracted [99.0%]\b\b\b\b\b\b\b\b\b\b\b\b\b\b\b\b\b\b\b\b\b\b\b\b\b\b\b\b\b\b\b\b\b\b\b\b\b\b\b\b\b\b\b\b\b\b\b\b\b\b\b\b\b\b\b Progress:                  304 files extracted [99.3%]\b\b\b\b\b\b\b\b\b\b\b\b\b\b\b\b\b\b\b\b\b\b\b\b\b\b\b\b\b\b\b\b\b\b\b\b\b\b\b\b\b\b\b\b\b\b\b\b\b\b\b\b\b\b\b Progress:                  305 files extracted [99.7%]\b\b\b\b\b\b\b\b\b\b\b\b\b\b\b\b\b\b\b\b\b\b\b\b\b\b\b\b\b\b\b\b\b\b\b\b\b\b\b\b\b\b\b\b\b\b\b\b\b\b\b\b\b\b\b Progress:                  306 files extracted [100.0%]\b\b\b\b\b\b\b\b\b\b\b\b\b\b\b\b\b\b\b\b\b\b\b\b\b\b\b\b\b\b\b\b\b\b\b\b\b\b\b\b\b\b\b\b\b\b\b\b\b\b\b\b\b\b\b\b\n",
            "downloading http://dicarlocox-datasets.s3.amazonaws.com/Chabo_Tito_20130419_Nicole305_pooled_P58.trim.wh.evoked.repr.h5\n",
            "getting Chabo_Tito_20130419_Nicole305_pooled_P58.trim.wh.evoked.repr.h5\n",
            "downloading http://dicarlocox-datasets.s3.amazonaws.com/Nicole305DataCollectedByNicole.mat\n",
            "getting Nicole305DataCollectedByNicole.mat\n"
          ]
        },
        {
          "output_type": "execute_result",
          "execution_count": 4,
          "data": {
            "text/plain": "array([[ 3.4,  1.4,  2.6, ...,  0.6,  3.4,  1.2],\n       [ 2.4,  0.8,  0.4, ...,  0.2,  4.4,  0.6],\n       [ 3. ,  4.6,  2. , ...,  0.2,  3.6,  0. ],\n       ..., \n       [ 0. ,  0. ,  0. , ...,  0. ,  0. ,  0. ],\n       [ 0. ,  0. ,  0. , ...,  0. ,  0. ,  0. ],\n       [ 0. ,  0. ,  0. , ...,  0. ,  0. ,  0. ]])"
          },
          "metadata": {}
        }
      ],
      "execution_count": 4,
      "metadata": {
        "execution": {
          "iopub.status.busy": "2021-01-07T18:56:41.897Z",
          "iopub.execute_input": "2021-01-07T18:56:41.909Z",
          "iopub.status.idle": "2021-01-07T18:59:23.434Z",
          "shell.execute_reply": "2021-01-07T18:59:23.469Z"
        }
      }
    },
    {
      "cell_type": "code",
      "source": [
        "rust_dldata.neuronal_features_Rust.shape"
      ],
      "outputs": [
        {
          "output_type": "execute_result",
          "execution_count": 5,
          "data": {
            "text/plain": "(305, 285)"
          },
          "metadata": {}
        }
      ],
      "execution_count": 5,
      "metadata": {
        "execution": {
          "iopub.status.busy": "2021-01-07T19:32:17.086Z",
          "iopub.execute_input": "2021-01-07T19:32:17.095Z",
          "iopub.status.idle": "2021-01-07T19:32:17.117Z",
          "shell.execute_reply": "2021-01-07T19:32:17.127Z"
        }
      }
    },
    {
      "cell_type": "code",
      "source": [
        "rust_dldata.neuronal_features_reps_Rust"
      ],
      "outputs": [
        {
          "output_type": "execute_result",
          "execution_count": 6,
          "data": {
            "text/plain": "array([[[ 5.,  0.,  3., ...,  2.,  3.,  0.],\n        [ 4.,  4.,  0., ...,  1.,  7.,  0.],\n        [ 3.,  2.,  1., ...,  1.,  2.,  0.],\n        ..., \n        [ 0.,  0.,  0., ...,  0.,  0.,  0.],\n        [ 0.,  0.,  0., ...,  0.,  0.,  0.],\n        [ 0.,  0.,  0., ...,  0.,  0.,  0.]],\n\n       [[ 0.,  1.,  1., ...,  1.,  3.,  4.],\n        [ 3.,  0.,  0., ...,  0.,  4.,  1.],\n        [ 0.,  9.,  4., ...,  0.,  4.,  0.],\n        ..., \n        [ 0.,  0.,  0., ...,  0.,  0.,  0.],\n        [ 0.,  0.,  0., ...,  0.,  0.,  0.],\n        [ 0.,  0.,  0., ...,  0.,  0.,  0.]],\n\n       [[ 3.,  3.,  0., ...,  0.,  4.,  0.],\n        [ 1.,  0.,  0., ...,  0.,  4.,  1.],\n        [ 4.,  0.,  0., ...,  0.,  6.,  0.],\n        ..., \n        [ 0.,  0.,  0., ...,  0.,  0.,  0.],\n        [ 0.,  0.,  0., ...,  0.,  0.,  0.],\n        [ 0.,  0.,  0., ...,  0.,  0.,  0.]],\n\n       [[ 7.,  3.,  2., ...,  0.,  3.,  2.],\n        [ 2.,  0.,  2., ...,  0.,  5.,  1.],\n        [ 5.,  6.,  1., ...,  0.,  2.,  0.],\n        ..., \n        [ 0.,  0.,  0., ...,  0.,  0.,  0.],\n        [ 0.,  0.,  0., ...,  0.,  0.,  0.],\n        [ 0.,  0.,  0., ...,  0.,  0.,  0.]],\n\n       [[ 2.,  0.,  7., ...,  0.,  4.,  0.],\n        [ 2.,  0.,  0., ...,  0.,  2.,  0.],\n        [ 3.,  6.,  4., ...,  0.,  4.,  0.],\n        ..., \n        [ 0.,  0.,  0., ...,  0.,  0.,  0.],\n        [ 0.,  0.,  0., ...,  0.,  0.,  0.],\n        [ 0.,  0.,  0., ...,  0.,  0.,  0.]]])"
          },
          "metadata": {}
        }
      ],
      "execution_count": 6,
      "metadata": {
        "execution": {
          "iopub.status.busy": "2021-01-07T19:32:19.713Z",
          "iopub.execute_input": "2021-01-07T19:32:19.722Z",
          "iopub.status.idle": "2021-01-07T19:32:19.740Z",
          "shell.execute_reply": "2021-01-07T19:32:19.749Z"
        }
      }
    },
    {
      "cell_type": "code",
      "source": [
        "rust_dldata.neuronal_features_reps_Rust.shape"
      ],
      "outputs": [
        {
          "output_type": "execute_result",
          "execution_count": 7,
          "data": {
            "text/plain": "(5, 305, 285)"
          },
          "metadata": {}
        }
      ],
      "execution_count": 7,
      "metadata": {
        "execution": {
          "iopub.status.busy": "2021-01-07T19:32:29.664Z",
          "iopub.execute_input": "2021-01-07T19:32:29.675Z",
          "iopub.status.idle": "2021-01-07T19:32:29.697Z",
          "shell.execute_reply": "2021-01-07T19:32:29.705Z"
        }
      }
    },
    {
      "cell_type": "code",
      "source": [
        "rust_dldata.meta"
      ],
      "outputs": [
        {
          "output_type": "execute_result",
          "execution_count": 8,
          "data": {
            "text/plain": "tabarray([(0, '/Users/jjpr/.skdata/Rust305/imgs/Nat300_1.png'),\n       (0, '/Users/jjpr/.skdata/Rust305/imgs/Nat300_2.png'),\n       (0, '/Users/jjpr/.skdata/Rust305/imgs/Nat300_3.png'),\n       (0, '/Users/jjpr/.skdata/Rust305/imgs/Nat300_4.png'),\n       (0, '/Users/jjpr/.skdata/Rust305/imgs/Nat300_5.png'),\n       (0, '/Users/jjpr/.skdata/Rust305/imgs/Nat300_6.png'),\n       (0, '/Users/jjpr/.skdata/Rust305/imgs/Nat300_7.png'),\n       (0, '/Users/jjpr/.skdata/Rust305/imgs/Nat300_8.png'),\n       (0, '/Users/jjpr/.skdata/Rust305/imgs/Nat300_9.png'),\n       (0, '/Users/jjpr/.skdata/Rust305/imgs/Nat300_10.png'),\n       (0, '/Users/jjpr/.skdata/Rust305/imgs/Nat300_11.png'),\n       (0, '/Users/jjpr/.skdata/Rust305/imgs/Nat300_12.png'),\n       (0, '/Users/jjpr/.skdata/Rust305/imgs/Nat300_13.png'),\n       (0, '/Users/jjpr/.skdata/Rust305/imgs/Nat300_14.png'),\n       (0, '/Users/jjpr/.skdata/Rust305/imgs/Nat300_15.png'),\n       (0, '/Users/jjpr/.skdata/Rust305/imgs/Nat300_16.png'),\n       (0, '/Users/jjpr/.skdata/Rust305/imgs/Nat300_17.png'),\n       (0, '/Users/jjpr/.skdata/Rust305/imgs/Nat300_18.png'),\n       (0, '/Users/jjpr/.skdata/Rust305/imgs/Nat300_19.png'),\n       (0, '/Users/jjpr/.skdata/Rust305/imgs/Nat300_20.png'),\n       (0, '/Users/jjpr/.skdata/Rust305/imgs/Nat300_21.png'),\n       (0, '/Users/jjpr/.skdata/Rust305/imgs/Nat300_22.png'),\n       (0, '/Users/jjpr/.skdata/Rust305/imgs/Nat300_23.png'),\n       (0, '/Users/jjpr/.skdata/Rust305/imgs/Nat300_24.png'),\n       (0, '/Users/jjpr/.skdata/Rust305/imgs/Nat300_25.png'),\n       (0, '/Users/jjpr/.skdata/Rust305/imgs/Nat300_26.png'),\n       (0, '/Users/jjpr/.skdata/Rust305/imgs/Nat300_27.png'),\n       (0, '/Users/jjpr/.skdata/Rust305/imgs/Nat300_28.png'),\n       (0, '/Users/jjpr/.skdata/Rust305/imgs/Nat300_29.png'),\n       (0, '/Users/jjpr/.skdata/Rust305/imgs/Nat300_30.png'),\n       (0, '/Users/jjpr/.skdata/Rust305/imgs/Nat300_31.png'),\n       (0, '/Users/jjpr/.skdata/Rust305/imgs/Nat300_32.png'),\n       (0, '/Users/jjpr/.skdata/Rust305/imgs/Nat300_33.png'),\n       (0, '/Users/jjpr/.skdata/Rust305/imgs/Nat300_34.png'),\n       (0, '/Users/jjpr/.skdata/Rust305/imgs/Nat300_35.png'),\n       (0, '/Users/jjpr/.skdata/Rust305/imgs/Nat300_36.png'),\n       (0, '/Users/jjpr/.skdata/Rust305/imgs/Nat300_37.png'),\n       (0, '/Users/jjpr/.skdata/Rust305/imgs/Nat300_38.png'),\n       (0, '/Users/jjpr/.skdata/Rust305/imgs/Nat300_39.png'),\n       (0, '/Users/jjpr/.skdata/Rust305/imgs/Nat300_40.png'),\n       (0, '/Users/jjpr/.skdata/Rust305/imgs/Nat300_41.png'),\n       (0, '/Users/jjpr/.skdata/Rust305/imgs/Nat300_42.png'),\n       (0, '/Users/jjpr/.skdata/Rust305/imgs/Nat300_43.png'),\n       (0, '/Users/jjpr/.skdata/Rust305/imgs/Nat300_44.png'),\n       (0, '/Users/jjpr/.skdata/Rust305/imgs/Nat300_45.png'),\n       (0, '/Users/jjpr/.skdata/Rust305/imgs/Nat300_46.png'),\n       (0, '/Users/jjpr/.skdata/Rust305/imgs/Nat300_47.png'),\n       (0, '/Users/jjpr/.skdata/Rust305/imgs/Nat300_48.png'),\n       (0, '/Users/jjpr/.skdata/Rust305/imgs/Nat300_49.png'),\n       (0, '/Users/jjpr/.skdata/Rust305/imgs/Nat300_50.png'),\n       (0, '/Users/jjpr/.skdata/Rust305/imgs/Nat300_51.png'),\n       (0, '/Users/jjpr/.skdata/Rust305/imgs/Nat300_52.png'),\n       (0, '/Users/jjpr/.skdata/Rust305/imgs/Nat300_53.png'),\n       (0, '/Users/jjpr/.skdata/Rust305/imgs/Nat300_54.png'),\n       (0, '/Users/jjpr/.skdata/Rust305/imgs/Nat300_55.png'),\n       (0, '/Users/jjpr/.skdata/Rust305/imgs/Nat300_56.png'),\n       (0, '/Users/jjpr/.skdata/Rust305/imgs/Nat300_57.png'),\n       (0, '/Users/jjpr/.skdata/Rust305/imgs/Nat300_58.png'),\n       (0, '/Users/jjpr/.skdata/Rust305/imgs/Nat300_59.png'),\n       (0, '/Users/jjpr/.skdata/Rust305/imgs/Nat300_60.png'),\n       (0, '/Users/jjpr/.skdata/Rust305/imgs/Nat300_61.png'),\n       (0, '/Users/jjpr/.skdata/Rust305/imgs/Nat300_62.png'),\n       (0, '/Users/jjpr/.skdata/Rust305/imgs/Nat300_63.png'),\n       (0, '/Users/jjpr/.skdata/Rust305/imgs/Nat300_64.png'),\n       (0, '/Users/jjpr/.skdata/Rust305/imgs/Nat300_65.png'),\n       (0, '/Users/jjpr/.skdata/Rust305/imgs/Nat300_66.png'),\n       (0, '/Users/jjpr/.skdata/Rust305/imgs/Nat300_67.png'),\n       (0, '/Users/jjpr/.skdata/Rust305/imgs/Nat300_68.png'),\n       (0, '/Users/jjpr/.skdata/Rust305/imgs/Nat300_69.png'),\n       (0, '/Users/jjpr/.skdata/Rust305/imgs/Nat300_70.png'),\n       (0, '/Users/jjpr/.skdata/Rust305/imgs/Nat300_71.png'),\n       (0, '/Users/jjpr/.skdata/Rust305/imgs/Nat300_72.png'),\n       (0, '/Users/jjpr/.skdata/Rust305/imgs/Nat300_73.png'),\n       (0, '/Users/jjpr/.skdata/Rust305/imgs/Nat300_74.png'),\n       (0, '/Users/jjpr/.skdata/Rust305/imgs/Nat300_75.png'),\n       (0, '/Users/jjpr/.skdata/Rust305/imgs/Nat300_76.png'),\n       (0, '/Users/jjpr/.skdata/Rust305/imgs/Nat300_77.png'),\n       (0, '/Users/jjpr/.skdata/Rust305/imgs/Nat300_78.png'),\n       (0, '/Users/jjpr/.skdata/Rust305/imgs/Nat300_79.png'),\n       (0, '/Users/jjpr/.skdata/Rust305/imgs/Nat300_80.png'),\n       (0, '/Users/jjpr/.skdata/Rust305/imgs/Nat300_81.png'),\n       (0, '/Users/jjpr/.skdata/Rust305/imgs/Nat300_82.png'),\n       (0, '/Users/jjpr/.skdata/Rust305/imgs/Nat300_83.png'),\n       (0, '/Users/jjpr/.skdata/Rust305/imgs/Nat300_84.png'),\n       (0, '/Users/jjpr/.skdata/Rust305/imgs/Nat300_85.png'),\n       (0, '/Users/jjpr/.skdata/Rust305/imgs/Nat300_86.png'),\n       (0, '/Users/jjpr/.skdata/Rust305/imgs/Nat300_87.png'),\n       (0, '/Users/jjpr/.skdata/Rust305/imgs/Nat300_88.png'),\n       (0, '/Users/jjpr/.skdata/Rust305/imgs/Nat300_89.png'),\n       (0, '/Users/jjpr/.skdata/Rust305/imgs/Nat300_90.png'),\n       (0, '/Users/jjpr/.skdata/Rust305/imgs/Nat300_91.png'),\n       (0, '/Users/jjpr/.skdata/Rust305/imgs/Nat300_92.png'),\n       (0, '/Users/jjpr/.skdata/Rust305/imgs/Nat300_93.png'),\n       (0, '/Users/jjpr/.skdata/Rust305/imgs/Nat300_94.png'),\n       (0, '/Users/jjpr/.skdata/Rust305/imgs/Nat300_95.png'),\n       (0, '/Users/jjpr/.skdata/Rust305/imgs/Nat300_96.png'),\n       (0, '/Users/jjpr/.skdata/Rust305/imgs/Nat300_97.png'),\n       (0, '/Users/jjpr/.skdata/Rust305/imgs/Nat300_98.png'),\n       (0, '/Users/jjpr/.skdata/Rust305/imgs/Nat300_99.png'),\n       (0, '/Users/jjpr/.skdata/Rust305/imgs/Nat300_100.png'),\n       (0, '/Users/jjpr/.skdata/Rust305/imgs/Nat300_101.png'),\n       (0, '/Users/jjpr/.skdata/Rust305/imgs/Nat300_102.png'),\n       (0, '/Users/jjpr/.skdata/Rust305/imgs/Nat300_103.png'),\n       (0, '/Users/jjpr/.skdata/Rust305/imgs/Nat300_104.png'),\n       (0, '/Users/jjpr/.skdata/Rust305/imgs/Nat300_105.png'),\n       (0, '/Users/jjpr/.skdata/Rust305/imgs/Nat300_106.png'),\n       (0, '/Users/jjpr/.skdata/Rust305/imgs/Nat300_107.png'),\n       (0, '/Users/jjpr/.skdata/Rust305/imgs/Nat300_108.png'),\n       (0, '/Users/jjpr/.skdata/Rust305/imgs/Nat300_109.png'),\n       (0, '/Users/jjpr/.skdata/Rust305/imgs/Nat300_110.png'),\n       (0, '/Users/jjpr/.skdata/Rust305/imgs/Nat300_111.png'),\n       (0, '/Users/jjpr/.skdata/Rust305/imgs/Nat300_112.png'),\n       (0, '/Users/jjpr/.skdata/Rust305/imgs/Nat300_113.png'),\n       (0, '/Users/jjpr/.skdata/Rust305/imgs/Nat300_114.png'),\n       (0, '/Users/jjpr/.skdata/Rust305/imgs/Nat300_115.png'),\n       (0, '/Users/jjpr/.skdata/Rust305/imgs/Nat300_116.png'),\n       (0, '/Users/jjpr/.skdata/Rust305/imgs/Nat300_117.png'),\n       (0, '/Users/jjpr/.skdata/Rust305/imgs/Nat300_118.png'),\n       (0, '/Users/jjpr/.skdata/Rust305/imgs/Nat300_119.png'),\n       (0, '/Users/jjpr/.skdata/Rust305/imgs/Nat300_120.png'),\n       (0, '/Users/jjpr/.skdata/Rust305/imgs/Nat300_121.png'),\n       (0, '/Users/jjpr/.skdata/Rust305/imgs/Nat300_122.png'),\n       (0, '/Users/jjpr/.skdata/Rust305/imgs/Nat300_123.png'),\n       (0, '/Users/jjpr/.skdata/Rust305/imgs/Nat300_124.png'),\n       (0, '/Users/jjpr/.skdata/Rust305/imgs/Nat300_125.png'),\n       (0, '/Users/jjpr/.skdata/Rust305/imgs/Nat300_126.png'),\n       (0, '/Users/jjpr/.skdata/Rust305/imgs/Nat300_127.png'),\n       (0, '/Users/jjpr/.skdata/Rust305/imgs/Nat300_128.png'),\n       (0, '/Users/jjpr/.skdata/Rust305/imgs/Nat300_129.png'),\n       (0, '/Users/jjpr/.skdata/Rust305/imgs/Nat300_130.png'),\n       (0, '/Users/jjpr/.skdata/Rust305/imgs/Nat300_131.png'),\n       (0, '/Users/jjpr/.skdata/Rust305/imgs/Nat300_132.png'),\n       (0, '/Users/jjpr/.skdata/Rust305/imgs/Nat300_133.png'),\n       (0, '/Users/jjpr/.skdata/Rust305/imgs/Nat300_134.png'),\n       (0, '/Users/jjpr/.skdata/Rust305/imgs/Nat300_135.png'),\n       (0, '/Users/jjpr/.skdata/Rust305/imgs/Nat300_136.png'),\n       (0, '/Users/jjpr/.skdata/Rust305/imgs/Nat300_137.png'),\n       (0, '/Users/jjpr/.skdata/Rust305/imgs/Nat300_138.png'),\n       (0, '/Users/jjpr/.skdata/Rust305/imgs/Nat300_139.png'),\n       (0, '/Users/jjpr/.skdata/Rust305/imgs/Nat300_140.png'),\n       (0, '/Users/jjpr/.skdata/Rust305/imgs/Nat300_141.png'),\n       (0, '/Users/jjpr/.skdata/Rust305/imgs/Nat300_142.png'),\n       (0, '/Users/jjpr/.skdata/Rust305/imgs/Nat300_143.png'),\n       (0, '/Users/jjpr/.skdata/Rust305/imgs/Nat300_144.png'),\n       (0, '/Users/jjpr/.skdata/Rust305/imgs/Nat300_145.png'),\n       (0, '/Users/jjpr/.skdata/Rust305/imgs/Nat300_146.png'),\n       (0, '/Users/jjpr/.skdata/Rust305/imgs/Nat300_147.png'),\n       (0, '/Users/jjpr/.skdata/Rust305/imgs/Nat300_148.png'),\n       (0, '/Users/jjpr/.skdata/Rust305/imgs/Nat300_149.png'),\n       (0, '/Users/jjpr/.skdata/Rust305/imgs/Nat300_150.png'),\n       (0, '/Users/jjpr/.skdata/Rust305/imgs/Nat300_151.png'),\n       (0, '/Users/jjpr/.skdata/Rust305/imgs/Nat300_152.png'),\n       (0, '/Users/jjpr/.skdata/Rust305/imgs/Nat300_153.png'),\n       (0, '/Users/jjpr/.skdata/Rust305/imgs/Nat300_154.png'),\n       (0, '/Users/jjpr/.skdata/Rust305/imgs/Nat300_155.png'),\n       (0, '/Users/jjpr/.skdata/Rust305/imgs/Nat300_156.png'),\n       (0, '/Users/jjpr/.skdata/Rust305/imgs/Nat300_157.png'),\n       (0, '/Users/jjpr/.skdata/Rust305/imgs/Nat300_158.png'),\n       (0, '/Users/jjpr/.skdata/Rust305/imgs/Nat300_159.png'),\n       (0, '/Users/jjpr/.skdata/Rust305/imgs/Nat300_160.png'),\n       (0, '/Users/jjpr/.skdata/Rust305/imgs/Nat300_161.png'),\n       (0, '/Users/jjpr/.skdata/Rust305/imgs/Nat300_162.png'),\n       (0, '/Users/jjpr/.skdata/Rust305/imgs/Nat300_163.png'),\n       (0, '/Users/jjpr/.skdata/Rust305/imgs/Nat300_164.png'),\n       (0, '/Users/jjpr/.skdata/Rust305/imgs/Nat300_165.png'),\n       (0, '/Users/jjpr/.skdata/Rust305/imgs/Nat300_166.png'),\n       (0, '/Users/jjpr/.skdata/Rust305/imgs/Nat300_167.png'),\n       (0, '/Users/jjpr/.skdata/Rust305/imgs/Nat300_168.png'),\n       (0, '/Users/jjpr/.skdata/Rust305/imgs/Nat300_169.png'),\n       (0, '/Users/jjpr/.skdata/Rust305/imgs/Nat300_170.png'),\n       (0, '/Users/jjpr/.skdata/Rust305/imgs/Nat300_171.png'),\n       (0, '/Users/jjpr/.skdata/Rust305/imgs/Nat300_172.png'),\n       (0, '/Users/jjpr/.skdata/Rust305/imgs/Nat300_173.png'),\n       (0, '/Users/jjpr/.skdata/Rust305/imgs/Nat300_174.png'),\n       (0, '/Users/jjpr/.skdata/Rust305/imgs/Nat300_175.png'),\n       (0, '/Users/jjpr/.skdata/Rust305/imgs/Nat300_176.png'),\n       (0, '/Users/jjpr/.skdata/Rust305/imgs/Nat300_177.png'),\n       (0, '/Users/jjpr/.skdata/Rust305/imgs/Nat300_178.png'),\n       (0, '/Users/jjpr/.skdata/Rust305/imgs/Nat300_179.png'),\n       (0, '/Users/jjpr/.skdata/Rust305/imgs/Nat300_180.png'),\n       (0, '/Users/jjpr/.skdata/Rust305/imgs/Nat300_181.png'),\n       (0, '/Users/jjpr/.skdata/Rust305/imgs/Nat300_182.png'),\n       (0, '/Users/jjpr/.skdata/Rust305/imgs/Nat300_183.png'),\n       (0, '/Users/jjpr/.skdata/Rust305/imgs/Nat300_184.png'),\n       (0, '/Users/jjpr/.skdata/Rust305/imgs/Nat300_185.png'),\n       (0, '/Users/jjpr/.skdata/Rust305/imgs/Nat300_186.png'),\n       (0, '/Users/jjpr/.skdata/Rust305/imgs/Nat300_187.png'),\n       (0, '/Users/jjpr/.skdata/Rust305/imgs/Nat300_188.png'),\n       (0, '/Users/jjpr/.skdata/Rust305/imgs/Nat300_189.png'),\n       (0, '/Users/jjpr/.skdata/Rust305/imgs/Nat300_190.png'),\n       (0, '/Users/jjpr/.skdata/Rust305/imgs/Nat300_191.png'),\n       (0, '/Users/jjpr/.skdata/Rust305/imgs/Nat300_192.png'),\n       (0, '/Users/jjpr/.skdata/Rust305/imgs/Nat300_193.png'),\n       (0, '/Users/jjpr/.skdata/Rust305/imgs/Nat300_194.png'),\n       (0, '/Users/jjpr/.skdata/Rust305/imgs/Nat300_195.png'),\n       (0, '/Users/jjpr/.skdata/Rust305/imgs/Nat300_196.png'),\n       (0, '/Users/jjpr/.skdata/Rust305/imgs/Nat300_197.png'),\n       (0, '/Users/jjpr/.skdata/Rust305/imgs/Nat300_198.png'),\n       (0, '/Users/jjpr/.skdata/Rust305/imgs/Nat300_199.png'),\n       (0, '/Users/jjpr/.skdata/Rust305/imgs/Nat300_200.png'),\n       (0, '/Users/jjpr/.skdata/Rust305/imgs/Nat300_201.png'),\n       (0, '/Users/jjpr/.skdata/Rust305/imgs/Nat300_202.png'),\n       (0, '/Users/jjpr/.skdata/Rust305/imgs/Nat300_203.png'),\n       (0, '/Users/jjpr/.skdata/Rust305/imgs/Nat300_204.png'),\n       (0, '/Users/jjpr/.skdata/Rust305/imgs/Nat300_205.png'),\n       (0, '/Users/jjpr/.skdata/Rust305/imgs/Nat300_206.png'),\n       (0, '/Users/jjpr/.skdata/Rust305/imgs/Nat300_207.png'),\n       (0, '/Users/jjpr/.skdata/Rust305/imgs/Nat300_208.png'),\n       (0, '/Users/jjpr/.skdata/Rust305/imgs/Nat300_209.png'),\n       (0, '/Users/jjpr/.skdata/Rust305/imgs/Nat300_210.png'),\n       (0, '/Users/jjpr/.skdata/Rust305/imgs/Nat300_211.png'),\n       (0, '/Users/jjpr/.skdata/Rust305/imgs/Nat300_212.png'),\n       (0, '/Users/jjpr/.skdata/Rust305/imgs/Nat300_213.png'),\n       (0, '/Users/jjpr/.skdata/Rust305/imgs/Nat300_214.png'),\n       (0, '/Users/jjpr/.skdata/Rust305/imgs/Nat300_215.png'),\n       (0, '/Users/jjpr/.skdata/Rust305/imgs/Nat300_216.png'),\n       (0, '/Users/jjpr/.skdata/Rust305/imgs/Nat300_217.png'),\n       (0, '/Users/jjpr/.skdata/Rust305/imgs/Nat300_218.png'),\n       (0, '/Users/jjpr/.skdata/Rust305/imgs/Nat300_219.png'),\n       (0, '/Users/jjpr/.skdata/Rust305/imgs/Nat300_220.png'),\n       (0, '/Users/jjpr/.skdata/Rust305/imgs/Nat300_221.png'),\n       (0, '/Users/jjpr/.skdata/Rust305/imgs/Nat300_222.png'),\n       (0, '/Users/jjpr/.skdata/Rust305/imgs/Nat300_223.png'),\n       (0, '/Users/jjpr/.skdata/Rust305/imgs/Nat300_224.png'),\n       (0, '/Users/jjpr/.skdata/Rust305/imgs/Nat300_225.png'),\n       (0, '/Users/jjpr/.skdata/Rust305/imgs/Nat300_226.png'),\n       (0, '/Users/jjpr/.skdata/Rust305/imgs/Nat300_227.png'),\n       (0, '/Users/jjpr/.skdata/Rust305/imgs/Nat300_228.png'),\n       (0, '/Users/jjpr/.skdata/Rust305/imgs/Nat300_229.png'),\n       (0, '/Users/jjpr/.skdata/Rust305/imgs/Nat300_230.png'),\n       (0, '/Users/jjpr/.skdata/Rust305/imgs/Nat300_231.png'),\n       (0, '/Users/jjpr/.skdata/Rust305/imgs/Nat300_232.png'),\n       (0, '/Users/jjpr/.skdata/Rust305/imgs/Nat300_233.png'),\n       (0, '/Users/jjpr/.skdata/Rust305/imgs/Nat300_234.png'),\n       (0, '/Users/jjpr/.skdata/Rust305/imgs/Nat300_235.png'),\n       (0, '/Users/jjpr/.skdata/Rust305/imgs/Nat300_236.png'),\n       (0, '/Users/jjpr/.skdata/Rust305/imgs/Nat300_237.png'),\n       (0, '/Users/jjpr/.skdata/Rust305/imgs/Nat300_238.png'),\n       (0, '/Users/jjpr/.skdata/Rust305/imgs/Nat300_239.png'),\n       (0, '/Users/jjpr/.skdata/Rust305/imgs/Nat300_240.png'),\n       (0, '/Users/jjpr/.skdata/Rust305/imgs/Nat300_241.png'),\n       (0, '/Users/jjpr/.skdata/Rust305/imgs/Nat300_242.png'),\n       (0, '/Users/jjpr/.skdata/Rust305/imgs/Nat300_243.png'),\n       (0, '/Users/jjpr/.skdata/Rust305/imgs/Nat300_244.png'),\n       (0, '/Users/jjpr/.skdata/Rust305/imgs/Nat300_245.png'),\n       (0, '/Users/jjpr/.skdata/Rust305/imgs/Nat300_246.png'),\n       (0, '/Users/jjpr/.skdata/Rust305/imgs/Nat300_247.png'),\n       (0, '/Users/jjpr/.skdata/Rust305/imgs/Nat300_248.png'),\n       (0, '/Users/jjpr/.skdata/Rust305/imgs/Nat300_249.png'),\n       (0, '/Users/jjpr/.skdata/Rust305/imgs/Nat300_250.png'),\n       (0, '/Users/jjpr/.skdata/Rust305/imgs/Nat300_251.png'),\n       (0, '/Users/jjpr/.skdata/Rust305/imgs/Nat300_252.png'),\n       (0, '/Users/jjpr/.skdata/Rust305/imgs/Nat300_253.png'),\n       (0, '/Users/jjpr/.skdata/Rust305/imgs/Nat300_254.png'),\n       (0, '/Users/jjpr/.skdata/Rust305/imgs/Nat300_255.png'),\n       (0, '/Users/jjpr/.skdata/Rust305/imgs/Nat300_256.png'),\n       (0, '/Users/jjpr/.skdata/Rust305/imgs/Nat300_257.png'),\n       (0, '/Users/jjpr/.skdata/Rust305/imgs/Nat300_258.png'),\n       (0, '/Users/jjpr/.skdata/Rust305/imgs/Nat300_259.png'),\n       (0, '/Users/jjpr/.skdata/Rust305/imgs/Nat300_260.png'),\n       (0, '/Users/jjpr/.skdata/Rust305/imgs/Nat300_261.png'),\n       (0, '/Users/jjpr/.skdata/Rust305/imgs/Nat300_262.png'),\n       (0, '/Users/jjpr/.skdata/Rust305/imgs/Nat300_263.png'),\n       (0, '/Users/jjpr/.skdata/Rust305/imgs/Nat300_264.png'),\n       (0, '/Users/jjpr/.skdata/Rust305/imgs/Nat300_265.png'),\n       (0, '/Users/jjpr/.skdata/Rust305/imgs/Nat300_266.png'),\n       (0, '/Users/jjpr/.skdata/Rust305/imgs/Nat300_267.png'),\n       (0, '/Users/jjpr/.skdata/Rust305/imgs/Nat300_268.png'),\n       (0, '/Users/jjpr/.skdata/Rust305/imgs/Nat300_269.png'),\n       (0, '/Users/jjpr/.skdata/Rust305/imgs/Nat300_270.png'),\n       (0, '/Users/jjpr/.skdata/Rust305/imgs/Nat300_271.png'),\n       (0, '/Users/jjpr/.skdata/Rust305/imgs/Nat300_272.png'),\n       (0, '/Users/jjpr/.skdata/Rust305/imgs/Nat300_273.png'),\n       (0, '/Users/jjpr/.skdata/Rust305/imgs/Nat300_274.png'),\n       (0, '/Users/jjpr/.skdata/Rust305/imgs/Nat300_275.png'),\n       (0, '/Users/jjpr/.skdata/Rust305/imgs/Nat300_276.png'),\n       (0, '/Users/jjpr/.skdata/Rust305/imgs/Nat300_277.png'),\n       (0, '/Users/jjpr/.skdata/Rust305/imgs/Nat300_278.png'),\n       (0, '/Users/jjpr/.skdata/Rust305/imgs/Nat300_279.png'),\n       (0, '/Users/jjpr/.skdata/Rust305/imgs/Nat300_280.png'),\n       (0, '/Users/jjpr/.skdata/Rust305/imgs/Nat300_281.png'),\n       (0, '/Users/jjpr/.skdata/Rust305/imgs/Nat300_282.png'),\n       (0, '/Users/jjpr/.skdata/Rust305/imgs/Nat300_283.png'),\n       (0, '/Users/jjpr/.skdata/Rust305/imgs/Nat300_284.png'),\n       (0, '/Users/jjpr/.skdata/Rust305/imgs/Nat300_285.png'),\n       (0, '/Users/jjpr/.skdata/Rust305/imgs/Nat300_286.png'),\n       (0, '/Users/jjpr/.skdata/Rust305/imgs/Nat300_287.png'),\n       (0, '/Users/jjpr/.skdata/Rust305/imgs/Nat300_288.png'),\n       (0, '/Users/jjpr/.skdata/Rust305/imgs/Nat300_289.png'),\n       (0, '/Users/jjpr/.skdata/Rust305/imgs/Nat300_290.png'),\n       (0, '/Users/jjpr/.skdata/Rust305/imgs/Nat300_291.png'),\n       (0, '/Users/jjpr/.skdata/Rust305/imgs/Nat300_292.png'),\n       (0, '/Users/jjpr/.skdata/Rust305/imgs/Nat300_293.png'),\n       (0, '/Users/jjpr/.skdata/Rust305/imgs/Nat300_294.png'),\n       (0, '/Users/jjpr/.skdata/Rust305/imgs/Nat300_295.png'),\n       (0, '/Users/jjpr/.skdata/Rust305/imgs/Nat300_296.png'),\n       (0, '/Users/jjpr/.skdata/Rust305/imgs/Nat300_297.png'),\n       (0, '/Users/jjpr/.skdata/Rust305/imgs/Nat300_298.png'),\n       (0, '/Users/jjpr/.skdata/Rust305/imgs/Nat300_299.png'),\n       (0, '/Users/jjpr/.skdata/Rust305/imgs/Nat300_300.png'),\n       (1, '/Users/jjpr/.skdata/Rust305/imgs/Nat300_301.png'),\n       (1, '/Users/jjpr/.skdata/Rust305/imgs/Nat300_302.png'),\n       (1, '/Users/jjpr/.skdata/Rust305/imgs/Nat300_303.png'),\n       (1, '/Users/jjpr/.skdata/Rust305/imgs/Nat300_304.png'),\n       (1, '/Users/jjpr/.skdata/Rust305/imgs/Nat300_305.png')], \n      dtype=(numpy.record, [('blank', '<i8'), ('filename', 'S47')]))"
          },
          "metadata": {}
        }
      ],
      "execution_count": 8,
      "metadata": {
        "scrolled": true,
        "execution": {
          "iopub.status.busy": "2021-01-07T19:32:34.302Z",
          "iopub.execute_input": "2021-01-07T19:32:34.310Z",
          "iopub.status.idle": "2021-01-07T19:32:34.343Z",
          "shell.execute_reply": "2021-01-07T19:32:34.353Z"
        }
      }
    },
    {
      "cell_type": "code",
      "source": [
        "rust_dldata.meta.shape"
      ],
      "outputs": [
        {
          "output_type": "execute_result",
          "execution_count": 9,
          "data": {
            "text/plain": "(305,)"
          },
          "metadata": {}
        }
      ],
      "execution_count": 9,
      "metadata": {
        "execution": {
          "iopub.status.busy": "2021-01-07T19:32:39.858Z",
          "iopub.execute_input": "2021-01-07T19:32:39.871Z",
          "iopub.status.idle": "2021-01-07T19:32:39.895Z",
          "shell.execute_reply": "2021-01-07T19:32:39.907Z"
        }
      }
    },
    {
      "cell_type": "code",
      "source": [
        "rust_dldata.categories"
      ],
      "outputs": [
        {
          "output_type": "error",
          "ename": "ValueError",
          "evalue": "no field of name category",
          "traceback": [
            "\u001b[0;31m\u001b[0m",
            "\u001b[0;31mValueError\u001b[0mTraceback (most recent call last)",
            "\u001b[0;32m<ipython-input-10-b6fa81bbfdfb>\u001b[0m in \u001b[0;36m<module>\u001b[0;34m()\u001b[0m\n\u001b[0;32m----> 1\u001b[0;31m \u001b[0mrust_dldata\u001b[0m\u001b[0;34m.\u001b[0m\u001b[0mcategories\u001b[0m\u001b[0;34m\u001b[0m\u001b[0m\n\u001b[0m",
            "\u001b[0;32m/Users/jjpr/dev/dldata/dldata/stimulus_sets/rust_datasets.py\u001b[0m in \u001b[0;36mcategories\u001b[0;34m(self)\u001b[0m\n\u001b[1;32m     79\u001b[0m     \u001b[0;34m@\u001b[0m\u001b[0mproperty\u001b[0m\u001b[0;34m\u001b[0m\u001b[0m\n\u001b[1;32m     80\u001b[0m     \u001b[0;32mdef\u001b[0m \u001b[0mcategories\u001b[0m\u001b[0;34m(\u001b[0m\u001b[0mself\u001b[0m\u001b[0;34m)\u001b[0m\u001b[0;34m:\u001b[0m\u001b[0;34m\u001b[0m\u001b[0m\n\u001b[0;32m---> 81\u001b[0;31m         \u001b[0;32mreturn\u001b[0m \u001b[0mnp\u001b[0m\u001b[0;34m.\u001b[0m\u001b[0munique\u001b[0m\u001b[0;34m(\u001b[0m\u001b[0mself\u001b[0m\u001b[0;34m.\u001b[0m\u001b[0mmeta\u001b[0m\u001b[0;34m[\u001b[0m\u001b[0;34m'category'\u001b[0m\u001b[0;34m]\u001b[0m\u001b[0;34m)\u001b[0m\u001b[0;34m\u001b[0m\u001b[0m\n\u001b[0m\u001b[1;32m     82\u001b[0m \u001b[0;34m\u001b[0m\u001b[0m\n\u001b[1;32m     83\u001b[0m \u001b[0;34m\u001b[0m\u001b[0m\n",
            "\u001b[0;32m/Users/jjpr/anaconda/envs/dldata/lib/python2.7/site-packages/tabular/tab.pyc\u001b[0m in \u001b[0;36m__getitem__\u001b[0;34m(self, ind)\u001b[0m\n\u001b[1;32m    598\u001b[0m             \u001b[0;32mreturn\u001b[0m \u001b[0mself\u001b[0m\u001b[0;34m[\u001b[0m\u001b[0mns\u001b[0m\u001b[0;34m]\u001b[0m\u001b[0;34m\u001b[0m\u001b[0m\n\u001b[1;32m    599\u001b[0m         \u001b[0;32melse\u001b[0m\u001b[0;34m:\u001b[0m\u001b[0;34m\u001b[0m\u001b[0m\n\u001b[0;32m--> 600\u001b[0;31m             \u001b[0mD\u001b[0m \u001b[0;34m=\u001b[0m \u001b[0mnp\u001b[0m\u001b[0;34m.\u001b[0m\u001b[0mndarray\u001b[0m\u001b[0;34m.\u001b[0m\u001b[0m__getitem__\u001b[0m\u001b[0;34m(\u001b[0m\u001b[0mself\u001b[0m\u001b[0;34m,\u001b[0m \u001b[0mind\u001b[0m\u001b[0;34m)\u001b[0m\u001b[0;34m\u001b[0m\u001b[0m\n\u001b[0m\u001b[1;32m    601\u001b[0m             \u001b[0;32mif\u001b[0m \u001b[0misinstance\u001b[0m\u001b[0;34m(\u001b[0m\u001b[0mD\u001b[0m\u001b[0;34m,\u001b[0m \u001b[0mnp\u001b[0m\u001b[0;34m.\u001b[0m\u001b[0mndarray\u001b[0m\u001b[0;34m)\u001b[0m \u001b[0;32mand\u001b[0m \u001b[0;32mnot\u001b[0m \u001b[0;34m(\u001b[0m\u001b[0mD\u001b[0m\u001b[0;34m.\u001b[0m\u001b[0mdtype\u001b[0m\u001b[0;34m.\u001b[0m\u001b[0mnames\u001b[0m \u001b[0;32mis\u001b[0m \u001b[0mNone\u001b[0m\u001b[0;34m)\u001b[0m\u001b[0;34m:\u001b[0m\u001b[0;34m\u001b[0m\u001b[0m\n\u001b[1;32m    602\u001b[0m                 \u001b[0mD\u001b[0m \u001b[0;34m=\u001b[0m \u001b[0mD\u001b[0m\u001b[0;34m.\u001b[0m\u001b[0mview\u001b[0m\u001b[0;34m(\u001b[0m\u001b[0mtabarray\u001b[0m\u001b[0;34m)\u001b[0m\u001b[0;34m\u001b[0m\u001b[0m\n",
            "\u001b[0;31mValueError\u001b[0m: no field of name category"
          ]
        }
      ],
      "execution_count": 10,
      "metadata": {
        "execution": {
          "iopub.status.busy": "2021-01-07T19:32:43.241Z",
          "iopub.execute_input": "2021-01-07T19:32:43.251Z"
        }
      }
    },
    {
      "cell_type": "code",
      "source": [
        "len(rust_dldata.V4_NEURONS_Rust) + len(rust_dldata.IT_NEURONS_Rust)"
      ],
      "outputs": [
        {
          "output_type": "execute_result",
          "execution_count": 11,
          "data": {
            "text/plain": "285"
          },
          "metadata": {}
        }
      ],
      "execution_count": 11,
      "metadata": {
        "execution": {
          "iopub.status.busy": "2021-01-07T19:32:46.776Z",
          "iopub.execute_input": "2021-01-07T19:32:46.784Z",
          "iopub.status.idle": "2021-01-07T19:32:46.805Z",
          "shell.execute_reply": "2021-01-07T19:32:46.816Z"
        }
      }
    },
    {
      "cell_type": "code",
      "source": [
        "rust_dldata.neuronal_features_HongMajaj"
      ],
      "outputs": [
        {
          "output_type": "execute_result",
          "execution_count": 12,
          "data": {
            "text/plain": "array([[[ -5.33891171e-02,  -2.14790478e-01,  -3.96035045e-01, ...,\n          -7.33664855e-02,  -6.08853921e-02,  -5.11988215e-02],\n        [ -4.71478747e-03,   6.12270050e-02,  -2.89594650e-01, ...,\n           3.04466069e-01,   7.29426518e-02,  -4.08677477e-03],\n        [ -5.14048934e-02,  -3.71085554e-01,   5.25749885e-02, ...,\n           4.46521997e-01,  -4.44826484e-02,   2.66267627e-01],\n        ..., \n        [  3.72134715e-01,   4.53326046e-01,  -2.58922465e-02, ...,\n          -3.30886960e-01,  -1.13393329e-01,  -3.78079772e-01],\n        [  5.09527802e-01,   5.41872323e-01,  -1.21891508e-02, ...,\n          -2.16759875e-01,  -6.79848716e-02,  -3.36157441e-01],\n        [  4.93807524e-01,   6.17800176e-01,  -9.44577008e-02, ...,\n          -3.64653766e-01,  -1.08376168e-01,  -5.16396403e-01]],\n\n       [[  1.55818081e-02,  -8.06559622e-02,  -7.50441849e-02, ...,\n          -1.09351225e-01,  -8.62326026e-02,  -3.77958976e-02],\n        [  2.51972079e-02,  -2.06611633e-01,  -1.43140286e-01, ...,\n           1.53558597e-01,  -3.31407860e-02,  -4.80184294e-02],\n        [  1.23286005e-02,   7.61793368e-03,  -1.07293259e-02, ...,\n          -7.16038793e-02,  -8.32961127e-02,  -2.83843372e-02],\n        ..., \n        [  1.09918006e-01,   4.42259520e-01,   9.65649262e-02, ...,\n           5.29095083e-02,   7.81228617e-02,  -1.31798223e-01],\n        [  3.48823577e-01,   6.62464917e-01,   1.80187859e-02, ...,\n           1.32624701e-01,   5.54991923e-02,  -1.10404059e-01],\n        [  4.23542380e-01,   5.05476177e-01,  -3.51395570e-02, ...,\n          -3.39847878e-02,   1.24170549e-01,  -2.22274140e-01]],\n\n       [[ -2.07357910e-02,  -2.32208952e-01,  -4.31083947e-01, ...,\n          -2.97243763e-02,  -4.77872230e-02,  -6.96123019e-02],\n        [ -5.25053218e-02,   1.26389951e-01,  -2.01803520e-01, ...,\n           2.65111536e-01,   8.65805596e-02,   1.03607073e-01],\n        [ -1.00408450e-01,  -4.26464140e-01,   8.29845667e-03, ...,\n           4.65665370e-01,   1.94214117e-02,   3.17915022e-01],\n        ..., \n        [  3.17208052e-01,   1.92238808e-01,  -7.54790381e-02, ...,\n          -3.28505665e-01,  -1.79930568e-01,  -2.95617074e-01],\n        [  3.32547635e-01,   2.38536492e-01,  -1.10757789e-02, ...,\n          -2.46052340e-01,  -6.57809377e-02,  -3.03868860e-01],\n        [  2.20923275e-01,   3.58678937e-01,  -1.81204006e-01, ...,\n          -3.26931328e-01,  -1.61603510e-01,  -3.51792544e-01]],\n\n       [[ -6.59700781e-02,  -3.54857207e-03,  -1.72503814e-01, ...,\n           2.18639374e-02,   1.17478877e-01,  -7.17490166e-02],\n        [ -1.74179196e-01,  -3.68254855e-02,  -2.65478045e-01, ...,\n           1.30328029e-01,   3.01909447e-02,  -4.72385846e-02],\n        [ -1.53569788e-01,  -1.23635173e-01,   2.95682907e-01, ...,\n           4.19903338e-01,   2.83448305e-02,   2.65714824e-01],\n        ..., \n        [  2.17749670e-01,   3.07942748e-01,   4.97414209e-02, ...,\n          -3.51419777e-01,  -1.98710144e-01,  -2.94049770e-01],\n        [  2.67525047e-01,   3.63375992e-01,  -1.60536319e-02, ...,\n          -3.12430561e-01,  -7.23844990e-02,  -3.95320356e-01],\n        [  2.92576849e-01,   2.69966424e-01,   1.28522858e-01, ...,\n          -3.96804094e-01,  -2.50225842e-01,  -4.88262117e-01]],\n\n       [[ -1.10566407e-01,   5.46438200e-03,   1.78212430e-02, ...,\n          -1.37524992e-01,  -1.56075405e-02,  -9.41273570e-02],\n        [ -7.09686801e-02,   1.68637276e-01,   6.02968829e-03, ...,\n           1.55729532e-01,   3.81689495e-03,   5.13663143e-02],\n        [ -1.24473520e-01,  -4.25129533e-02,   1.70887381e-01, ...,\n           1.59407020e-01,   5.24004400e-02,   1.42662823e-01],\n        ..., \n        [  6.21688925e-02,   2.18220696e-01,   1.34506285e-01, ...,\n          -1.00520767e-01,  -1.39644951e-01,  -1.22352794e-01],\n        [ -8.45487230e-04,   1.15429230e-01,  -5.19465506e-02, ...,\n          -1.42478105e-02,  -3.07860263e-02,  -1.36776850e-01],\n        [  1.45504981e-01,   1.29423589e-01,   5.87957799e-02, ...,\n          -9.58203375e-02,  -1.15780599e-01,  -2.39640564e-01]],\n\n       [[ -1.14951521e-01,  -1.35873407e-01,  -3.12281996e-01, ...,\n          -1.05975583e-01,   4.50349064e-04,  -1.17417745e-01],\n        [ -1.16430357e-01,   3.57544571e-02,  -2.52922386e-01, ...,\n           3.01411450e-01,   3.24991196e-02,   7.69966561e-03],\n        [ -1.79117709e-01,  -2.83595711e-01,   2.36228257e-01, ...,\n           4.90553886e-01,   2.71827094e-02,   3.33585441e-01],\n        ..., \n        [  3.41312826e-01,   4.83392894e-01,   8.17393661e-02, ...,\n          -3.40929896e-01,  -2.07419202e-01,  -3.92520249e-01],\n        [  4.21897471e-01,   5.52322626e-01,  -3.91353369e-02, ...,\n          -2.50668496e-01,  -9.08753201e-02,  -4.31601256e-01],\n        [  4.80987936e-01,   5.68343878e-01,  -8.12385511e-03, ...,\n          -3.90235692e-01,  -2.21072271e-01,  -6.04735911e-01]]], dtype=float32)"
          },
          "metadata": {}
        }
      ],
      "execution_count": 12,
      "metadata": {
        "execution": {
          "iopub.status.busy": "2021-01-07T19:32:52.458Z",
          "iopub.execute_input": "2021-01-07T19:32:52.469Z",
          "iopub.status.idle": "2021-01-07T19:32:53.199Z",
          "shell.execute_reply": "2021-01-07T19:32:53.226Z"
        }
      }
    },
    {
      "cell_type": "code",
      "source": [
        "rust_dldata.neuronal_features_reps_Rust"
      ],
      "outputs": [
        {
          "output_type": "execute_result",
          "execution_count": 13,
          "data": {
            "text/plain": "array([[[ 5.,  0.,  3., ...,  2.,  3.,  0.],\n        [ 4.,  4.,  0., ...,  1.,  7.,  0.],\n        [ 3.,  2.,  1., ...,  1.,  2.,  0.],\n        ..., \n        [ 0.,  0.,  0., ...,  0.,  0.,  0.],\n        [ 0.,  0.,  0., ...,  0.,  0.,  0.],\n        [ 0.,  0.,  0., ...,  0.,  0.,  0.]],\n\n       [[ 0.,  1.,  1., ...,  1.,  3.,  4.],\n        [ 3.,  0.,  0., ...,  0.,  4.,  1.],\n        [ 0.,  9.,  4., ...,  0.,  4.,  0.],\n        ..., \n        [ 0.,  0.,  0., ...,  0.,  0.,  0.],\n        [ 0.,  0.,  0., ...,  0.,  0.,  0.],\n        [ 0.,  0.,  0., ...,  0.,  0.,  0.]],\n\n       [[ 3.,  3.,  0., ...,  0.,  4.,  0.],\n        [ 1.,  0.,  0., ...,  0.,  4.,  1.],\n        [ 4.,  0.,  0., ...,  0.,  6.,  0.],\n        ..., \n        [ 0.,  0.,  0., ...,  0.,  0.,  0.],\n        [ 0.,  0.,  0., ...,  0.,  0.,  0.],\n        [ 0.,  0.,  0., ...,  0.,  0.,  0.]],\n\n       [[ 7.,  3.,  2., ...,  0.,  3.,  2.],\n        [ 2.,  0.,  2., ...,  0.,  5.,  1.],\n        [ 5.,  6.,  1., ...,  0.,  2.,  0.],\n        ..., \n        [ 0.,  0.,  0., ...,  0.,  0.,  0.],\n        [ 0.,  0.,  0., ...,  0.,  0.,  0.],\n        [ 0.,  0.,  0., ...,  0.,  0.,  0.]],\n\n       [[ 2.,  0.,  7., ...,  0.,  4.,  0.],\n        [ 2.,  0.,  0., ...,  0.,  2.,  0.],\n        [ 3.,  6.,  4., ...,  0.,  4.,  0.],\n        ..., \n        [ 0.,  0.,  0., ...,  0.,  0.,  0.],\n        [ 0.,  0.,  0., ...,  0.,  0.,  0.],\n        [ 0.,  0.,  0., ...,  0.,  0.,  0.]]])"
          },
          "metadata": {}
        }
      ],
      "execution_count": 13,
      "metadata": {
        "execution": {
          "iopub.status.busy": "2021-01-07T19:34:21.926Z",
          "iopub.execute_input": "2021-01-07T19:34:21.935Z",
          "iopub.status.idle": "2021-01-07T19:34:21.960Z",
          "shell.execute_reply": "2021-01-07T19:34:21.969Z"
        }
      }
    },
    {
      "cell_type": "code",
      "source": [
        "rust_dldata.neuronal_features_reps_Rust.shape"
      ],
      "outputs": [
        {
          "output_type": "execute_result",
          "execution_count": 14,
          "data": {
            "text/plain": "(5, 305, 285)"
          },
          "metadata": {}
        }
      ],
      "execution_count": 14,
      "metadata": {
        "execution": {
          "iopub.status.busy": "2021-01-07T19:34:24.859Z",
          "iopub.execute_input": "2021-01-07T19:34:24.869Z",
          "iopub.status.idle": "2021-01-07T19:34:24.890Z",
          "shell.execute_reply": "2021-01-07T19:34:24.900Z"
        }
      }
    },
    {
      "cell_type": "code",
      "source": [
        "type(rust_dldata.neuronal_features_reps_Rust)"
      ],
      "outputs": [
        {
          "output_type": "execute_result",
          "execution_count": 15,
          "data": {
            "text/plain": "numpy.ndarray"
          },
          "metadata": {}
        }
      ],
      "execution_count": 15,
      "metadata": {
        "execution": {
          "iopub.status.busy": "2021-01-07T19:34:27.057Z",
          "iopub.execute_input": "2021-01-07T19:34:27.066Z",
          "iopub.status.idle": "2021-01-07T19:34:27.086Z",
          "shell.execute_reply": "2021-01-07T19:34:27.093Z"
        }
      }
    },
    {
      "cell_type": "code",
      "source": [
        "rust_dldata.neuronal_features_HongMajaj.shape"
      ],
      "outputs": [
        {
          "output_type": "execute_result",
          "execution_count": 16,
          "data": {
            "text/plain": "(6, 305, 296)"
          },
          "metadata": {}
        }
      ],
      "execution_count": 16,
      "metadata": {
        "execution": {
          "iopub.status.busy": "2021-01-07T19:34:53.351Z",
          "iopub.execute_input": "2021-01-07T19:34:53.362Z",
          "iopub.status.idle": "2021-01-07T19:34:53.386Z",
          "shell.execute_reply": "2021-01-07T19:34:53.395Z"
        }
      }
    },
    {
      "cell_type": "code",
      "source": [
        "rust_dldata.neuronal_features_reps_HongMajaj"
      ],
      "outputs": [
        {
          "output_type": "execute_result",
          "execution_count": 17,
          "data": {
            "text/plain": "array([[[[ 0.10107411,  0.77067995, -0.54077649, ...,  1.16549253,\n           1.89641881,  2.65558934],\n         [-1.50388741, -0.2127572 , -0.22426471, ...,  0.08060717,\n           0.67663604, -1.79039049],\n         [ 0.10107411, -0.5405696 ,  0.72527063, ...,  0.44223565,\n          -0.13655248, -0.67889565],\n         ..., \n         [ 0.50231445,  0.44286755, -0.54077649, ..., -1.36590672,\n          -0.13655248,  0.80309767],\n         [ 1.30479515, -0.5405696 ,  0.09224706, ...,  0.44223565,\n           0.27004179, -0.67889565],\n         [-1.50388741,  0.11505517, -1.49031186, ..., -0.2810213 ,\n          -0.54314673,  0.43259934]],\n\n        [[-0.30016625, -0.5405696 , -0.22426471, ...,  1.52712095,\n           0.67663604,  1.54409432],\n         [-0.70140666,  0.11505517, -2.12333536, ...,  1.16549253,\n          -0.54314673,  0.80309767],\n         [-0.30016625, -1.19619429, -0.8572883 , ...,  0.80386406,\n           0.67663604,  1.54409432],\n         ..., \n         [ 0.10107411, -1.19619429,  0.09224706, ..., -0.2810213 ,\n          -0.54314673, -0.30839732],\n         [ 2.50851631, -0.2127572 , -0.8572883 , ..., -0.2810213 ,\n           1.48982453,  0.80309767],\n         [-0.70140666,  0.44286755,  1.35829425, ...,  1.16549253,\n          -0.94974095, -1.04939389]],\n\n        [[-1.10264707, -0.86838192, -0.22426471, ..., -0.2810213 ,\n          -0.94974095, -0.67889565],\n         [-0.70140666, -0.2127572 , -0.54077649, ...,  0.44223565,\n          -0.94974095,  1.17359602],\n         [ 0.50231445, -1.52400672, -0.22426471, ..., -0.2810213 ,\n           0.67663604, -1.79039049],\n         ..., \n         [-0.30016625,  1.09849238, -0.8572883 , ..., -1.36590672,\n          -0.13655248, -1.79039049],\n         [ 2.10727596,  0.44286755, -0.22426471, ..., -0.2810213 ,\n           1.08323038, -1.04939389],\n         [ 0.9035548 ,  1.09849238, -0.54077649, ...,  0.08060717,\n          -0.94974095,  0.06210101]],\n\n        ..., \n        [[-0.81901485,  2.3686552 , -1.26962471, ...,  0.22438969,\n          -0.28339961,  0.46341118],\n         [-1.19093108, -0.02834688, -0.13927461, ...,  0.22438969,\n           1.16829431,  0.80762541],\n         [ 0.66865021, -0.02834688,  0.99107552, ...,  0.53332281,\n           0.29727796,  1.15183973],\n         ..., \n         [ 1.41248286,  0.65651083, -0.8928414 , ..., -0.70240968,\n          -2.02543211, -2.29030299],\n         [ 1.04056656,  2.02622628, -0.8928414 , ...,  0.53332281,\n           0.58761674,  1.49605381],\n         [ 2.15631533, -0.71320462,  0.23750877, ...,  0.22438969,\n           0.8779555 , -0.91344583]],\n\n        [[-0.81901485,  1.34136856,  0.23750877, ..., -1.01134276,\n           0.29727796, -1.60187447],\n         [ 0.29673395,  0.99893975,  0.23750877, ..., -0.70240968,\n           2.03931069, -1.60187447],\n         [-0.44709861,  1.34136856,  0.99107552, ...,  2.07798839,\n           1.16829431,  0.46341118],\n         ..., \n         [-0.07518234,  0.99893975, -2.02319169, ..., -0.70240968,\n           0.8779555 ,  0.11919692],\n         [ 0.66865021,  1.34136856, -0.8928414 , ..., -0.08454343,\n          -1.15441597, -0.91344583],\n         [-1.19093108,  0.99893975,  0.99107552, ..., -1.3202759 ,\n          -0.5737384 , -1.94608867]],\n\n        [[-0.07518234, -1.39806235, -0.51605797, ..., -1.01134276,\n           0.58761674,  0.11919692],\n         [ 1.04056656,  1.34136856, -0.13927461, ...,  0.53332281,\n           2.03931069, -0.22501732],\n         [-0.07518234,  2.3686552 , -0.51605797, ...,  0.22438969,\n          -0.28339961, -0.22501732],\n         ..., \n         [ 1.04056656,  0.65651083,  0.99107552, ...,  0.84225595,\n          -0.28339961, -0.56923157],\n         [ 2.15631533,  0.99893975,  1.74464226, ..., -0.08454343,\n          -1.4447546 ,  0.11919692],\n         [-0.81901485,  0.99893975,  0.61429214, ..., -1.62920904,\n          -0.86407715, -0.56923157]]],\n\n\n       [[[ 2.14271784,  0.61666232,  1.62947917, ...,  0.93286794,\n          -0.06152726, -0.66410005],\n         [-1.43636572, -0.4599435 , -0.57026362, ..., -0.2183596 ,\n           1.1131891 ,  0.44819751],\n         [-0.24333793,  0.61666232,  1.07954347, ...,  0.93286794,\n          -1.23624361, -0.66410005],\n         ..., \n         [-0.24333793,  0.61666232,  0.52960783, ..., -0.79397339,\n          -0.06152726, -0.10795128],\n         [ 0.94968998,  1.15496516, -2.2200706 , ..., -0.79397339,\n          -1.82360184,  1.00434625],\n         [-0.24333793,  0.07835943, -0.57026362, ..., -0.79397339,\n          -0.64888543, -0.10795128]],\n\n        [[-1.43636572,  0.07835943, -0.02032789, ...,  0.35725418,\n           2.87526369,  1.56049502],\n         [-0.83985186, -0.99824643, -1.12019932, ...,  0.93286794,\n           0.52583092, -1.22024894],\n         [-0.24333793,  0.61666232,  0.52960783, ...,  2.08409548,\n           1.1131891 ,  1.56049502],\n         ..., \n         [ 0.353176  , -0.99824643,  0.52960783, ..., -1.36958718,\n          -0.64888543,  1.00434625],\n         [ 1.54620397,  1.69326818, -0.57026362, ...,  0.93286794,\n           1.1131891 ,  0.44819751],\n         [ 1.54620397,  1.69326818,  1.07954347, ..., -0.2183596 ,\n           1.1131891 , -1.22024894]],\n\n        [[-1.43636572, -0.4599435 , -0.02032789, ..., -0.2183596 ,\n          -0.06152726,  0.44819751],\n         [ 0.94968998, -0.4599435 , -0.57026362, ...,  0.35725418,\n          -0.06152726,  0.44819751],\n         [ 1.54620397, -1.53654945, -0.57026362, ...,  0.93286794,\n          -0.64888543, -0.10795128],\n         ..., \n         [ 0.353176  ,  0.61666232, -0.02032789, ..., -1.36958718,\n           0.52583092, -1.22024894],\n         [-0.24333793, -0.4599435 , -1.12019932, ..., -0.79397339,\n           0.52583092,  0.44819751],\n         [ 1.54620397,  1.69326818,  0.52960783, ..., -1.36958718,\n          -1.82360184, -0.66410005]],\n\n        ..., \n        [[-0.93239409, -0.66541481,  0.05648831, ..., -0.29168934,\n          -1.34281993,  0.98679942],\n         [-0.93239409, -0.13010003,  0.63403678, ..., -0.78428912,\n           0.06128173, -0.05797629],\n         [ 1.32259178, -0.13010003,  0.05648831, ..., -0.29168934,\n           0.99734956, -0.58036417],\n         ..., \n         [ 0.19509891, -0.13010003, -0.52106017, ..., -0.29168934,\n          -1.81085384, -1.62513983],\n         [-0.36864758,  0.40521479, -1.09860861, ...,  0.20091045,\n          -0.40675214, -1.10275197],\n         [ 4.14132404,  0.94052958, -0.52106017, ..., -0.29168934,\n           1.46538341, -0.58036417]],\n\n        [[-0.36864758,  1.47584438,  0.05648831, ..., -0.29168934,\n          -1.34281993, -1.62513983],\n         [ 0.19509891,  1.47584438,  0.63403678, ..., -2.26208854,\n           1.46538341, -1.10275197],\n         [-0.36864758,  0.94052958,  0.05648831, ...,  1.18611002,\n          -0.40675214, -0.58036417],\n         ..., \n         [-0.93239409,  0.40521479,  0.05648831, ..., -1.27688885,\n           0.99734956, -1.10275197],\n         [ 0.75884533, -0.13010003, -0.52106017, ...,  0.20091045,\n          -0.87478608, -1.62513983],\n         [ 0.19509891, -0.13010003, -1.09860861, ..., -0.78428912,\n          -1.81085384, -1.10275197]],\n\n        [[ 0.19509891, -0.66541481,  0.05648831, ...,  0.20091045,\n           2.86948514, -0.05797629],\n         [-0.93239409, -1.20072961,  0.05648831, ...,  2.17130971,\n           0.52931559,  2.03157496],\n         [-1.4961406 ,  0.94052958, -0.52106017, ..., -0.78428912,\n           0.52931559,  0.46441156],\n         ..., \n         [-0.93239409,  0.40521479,  0.05648831, ...,  1.67870986,\n           0.52931559, -0.05797629],\n         [ 0.19509891,  1.47584438,  0.63403678, ..., -0.78428912,\n          -1.34281993, -0.05797629],\n         [-0.93239409, -0.13010003, -0.52106017, ..., -1.27688885,\n          -0.87478608,  0.46441156]]],\n\n\n       [[[-0.24975617,  0.60249174, -0.70139509, ...,  1.01844537,\n           0.49504533,  2.90568542],\n         [-0.24975617,  0.60249174,  0.22982806, ..., -0.55931836,\n           1.09281731, -1.3016175 ],\n         [ 0.31919011, -0.34714678, -0.23578353, ...,  0.49252412,\n           1.09281731,  0.27612111],\n         ..., \n         [ 0.88813645,  0.12767248, -0.23578353, ..., -1.08523953,\n          -0.10272666,  0.27612111],\n         [ 0.88813645, -0.82196605,  1.62666273, ...,  1.01844537,\n           0.49504533, -1.3016175 ],\n         [-1.3876487 , -0.34714678, -0.70139509, ..., -1.08523953,\n           0.49504533,  1.8538599 ]],\n\n        [[ 1.45708275, -0.82196605,  0.22982806, ...,  0.49252412,\n          -0.10272666,  0.27612111],\n         [ 0.31919011,  1.55213022, -1.63261819, ...,  0.49252412,\n          -1.8960427 ,  0.80203396],\n         [-0.24975617, -1.77160454, -1.63261819, ...,  1.01844537,\n           0.49504533,  0.80203396],\n         ..., \n         [ 0.88813645, -0.82196605, -0.70139509, ...,  0.49252412,\n          -0.10272666, -0.24979176],\n         [ 2.59497547,  0.12767248, -0.70139509, ..., -0.03339712,\n           1.69058931,  0.27612111],\n         [-0.81870246, -0.34714678,  0.69543964, ...,  1.01844537,\n          -1.2982707 , -0.24979176]],\n\n        [[-1.3876487 ,  0.12767248, -0.70139509, ..., -0.55931836,\n          -0.10272666, -1.3016175 ],\n         [-0.24975617,  0.12767248,  0.69543964, ...,  1.5443666 ,\n           0.49504533,  0.80203396],\n         [-1.3876487 , -1.77160454,  1.16105115, ..., -0.55931836,\n           0.49504533, -0.77570462],\n         ..., \n         [-0.81870246,  0.12767248, -1.16700673, ..., -1.08523953,\n          -0.70049864, -1.3016175 ],\n         [ 2.02602911,  0.60249174,  0.22982806, ..., -0.03339712,\n          -0.10272666, -1.82753038],\n         [ 0.31919011,  0.60249174, -0.23578353, ...,  0.49252412,\n          -0.10272666,  0.27612111]],\n\n        ..., \n        [[-0.36590251,  1.54283798, -1.83267117, ...,  0.79101843,\n          -0.45069554,  0.3004773 ],\n         [-0.36590251, -0.44429311,  0.33861881, ..., -0.15276602,\n           1.38759136,  0.81216162],\n         [ 0.75435257,  0.54927236,  0.8814413 , ...,  0.79101843,\n           0.46844792,  1.8355304 ],\n         ..., \n         [ 2.43473506,  1.0460552 , -1.28984869, ..., -1.09655046,\n          -0.91026729, -1.74626029],\n         [ 0.194225  ,  2.53640342, -0.20420367, ...,  1.2629106 ,\n           0.92801964,  2.3472147 ],\n         [ 0.194225  , -0.94107586, -0.20420367, ...,  0.79101843,\n           0.46844792, -0.21120709]],\n\n        [[-0.92602998,  0.54927236,  0.33861881, ..., -0.62465823,\n           0.46844792, -0.72289151],\n         [-0.36590251,  1.54283798,  0.33861881, ...,  0.31912622,\n           1.8471632 , -1.23457587],\n         [-0.36590251, -0.44429311,  0.33861881, ...,  0.79101843,\n           1.38759136,  1.32384598],\n         ..., \n         [ 0.75435257,  1.0460552 , -1.83267117, ..., -0.15276602,\n           0.46844792,  0.3004773 ],\n         [ 0.194225  ,  0.05248964, -0.20420367, ...,  0.79101843,\n          -1.36983907, -0.21120709],\n         [-0.92602998,  0.05248964,  1.9670862 , ..., -1.09655046,\n           0.0088762 , -1.23457587]],\n\n        [[-1.48615754, -0.44429311, -1.28984869, ..., -1.09655046,\n          -0.45069554, -0.21120709],\n         [ 1.87460756,  1.54283798, -0.74702609, ..., -0.15276602,\n           0.46844792, -0.72289151],\n         [ 0.75435257,  2.03962064, -0.20420367, ...,  0.31912622,\n           0.0088762 ,  0.3004773 ],\n         ..., \n         [ 0.75435257, -0.44429311,  1.42426372, ..., -0.62465823,\n           0.0088762 , -0.72289151],\n         [ 2.43473506,  0.54927236,  1.42426372, ...,  0.31912622,\n          -1.36983907,  0.3004773 ],\n         [-0.36590251,  1.0460552 , -0.20420367, ..., -1.09655046,\n           0.0088762 , -1.23457587]]],\n\n\n       [[[-0.30459994, -0.77217495, -0.13872635, ...,  0.46275103,\n           2.25264668,  2.82719064],\n         [-0.30459994, -0.77217495,  0.33778128, ...,  1.50338459,\n          -0.70169151, -0.2798593 ],\n         [-0.30459994, -1.23035729,  0.33778128, ..., -0.57788253,\n          -0.70169151, -1.31554258],\n         ..., \n         [-1.94015563,  1.0605545 , -0.13872635, ..., -1.09819937,\n          -0.70169151,  0.75582403],\n         [ 0.24058528,  0.60237217, -0.61523402, ..., -1.09819937,\n           1.07091153, -0.79770094],\n         [ 0.24058528,  1.51873696, -1.09174168, ...,  0.98306781,\n           1.07091153, -0.79770094]],\n\n        [[-1.39497042, -1.68853962, -0.61523402, ...,  2.02370119,\n          -0.11082383,  1.27366567],\n         [-1.39497042, -0.31399259, -1.09174168, ..., -0.57788253,\n          -0.70169151,  1.79150724],\n         [ 0.24058528,  0.60237217,  0.81428885, ...,  0.46275103,\n          -0.70169151, -0.2798593 ],\n         ..., \n         [-1.39497042,  1.51873696, -0.13872635, ...,  0.46275103,\n           1.07091153, -0.2798593 ],\n         [ 1.33095574,  0.60237217, -0.13872635, ..., -0.57788253,\n          -0.11082383,  0.75582403],\n         [-0.30459994,  1.97691929,  0.81428885, ...,  0.46275103,\n          -0.70169151, -0.2798593 ]],\n\n        [[ 0.78577048, -1.23035729, -0.61523402, ..., -0.05756573,\n          -0.70169151, -1.31554258],\n         [-1.39497042, -0.77217495, -0.13872635, ..., -1.09819937,\n          -0.11082383, -0.2798593 ],\n         [ 0.78577048, -0.31399259, -1.09174168, ..., -0.05756573,\n          -0.70169151,  0.23798235],\n         ..., \n         [-0.84978521,  0.14418977,  0.81428885, ..., -0.57788253,\n           1.07091153,  0.23798235],\n         [ 1.87614095, -0.31399259, -0.61523402, ..., -0.05756573,\n           0.48004386, -1.31554258],\n         [ 1.33095574,  0.14418977, -1.09174168, ...,  0.98306781,\n           0.48004386, -1.31554258]],\n\n        ..., \n        [[ 0.17875241,  1.67807198, -0.51936287, ..., -0.18247312,\n           1.34117913,  0.28743142],\n         [-0.362854  ,  0.21671541, -0.51936287, ...,  2.521595  ,\n           1.79678929,  0.78949726],\n         [-0.90446043, -0.27040347,  1.11632347, ...,  0.71888292,\n          -0.48126131, -0.71670038],\n         ..., \n         [-0.362854  , -1.2446413 ,  0.02586592, ...,  0.2682049 ,\n          -1.39248168, -1.21876621],\n         [ 0.72035879,  0.21671541,  0.02586592, ..., -0.18247312,\n           2.25239944,  1.79362893],\n         [ 0.17875241,  0.70383424,  0.57109469, ...,  0.2682049 ,\n           0.42995894, -2.22289801]],\n\n        [[ 0.17875241,  0.70383424, -1.06459165, ..., -1.98518527,\n           0.42995894, -0.71670038],\n         [ 1.26196527, -0.27040347,  0.57109469, ...,  0.2682049 ,\n           0.88556904,  0.28743142],\n         [ 1.26196527,  1.19095314,  1.66155231, ...,  2.521595  ,\n           0.42995894,  1.29156315],\n         ..., \n         [ 0.17875241, -0.27040347,  0.02586592, ..., -1.08382916,\n           0.42995894,  1.29156315],\n         [ 0.72035879,  0.70383424,  1.11632347, ..., -2.43586326,\n          -0.48126131, -1.72083211],\n         [ 0.17875241,  1.19095314,  0.02586592, ..., -0.63315117,\n          -0.93687153, -1.21876621]],\n\n        [[ 0.17875241, -1.73176014,  2.20678091, ...,  0.71888292,\n          -1.39248168,  0.78949726],\n         [-0.362854  , -0.27040347, -0.51936287, ...,  0.2682049 ,\n           1.79678929, -0.71670038],\n         [-0.362854  ,  1.67807198,  0.57109469, ..., -0.18247312,\n          -0.48126131,  0.28743142],\n         ..., \n         [ 0.17875241, -0.27040347, -1.06459165, ...,  1.16956091,\n          -0.02565121, -0.21463445],\n         [ 0.72035879,  0.21671541,  1.11632347, ...,  0.2682049 ,\n          -0.93687153,  0.28743142],\n         [-0.362854  , -0.7575224 ,  1.11632347, ..., -1.53450716,\n          -0.93687153, -0.21463445]]],\n\n\n       [[[-0.4532038 ,  0.01282497, -1.11046016, ...,  1.33915257,\n          -0.6764394 , -0.10910375],\n         [ 0.10634436,  0.50286525, -0.03466433, ..., -0.32389921,\n          -0.6764394 , -0.10910375],\n         [-2.13184834,  1.48294592, -1.64835811, ..., -0.32389921,\n          -0.6764394 , -1.75910032],\n         ..., \n         [ 0.10634436,  1.48294592,  0.50323361, ..., -1.43260026,\n          -1.27370036, -0.10910375],\n         [-1.01275206,  0.01282497,  0.50323361, ..., -1.43260026,\n          -1.27370036, -1.20910144],\n         [ 0.66589248, -0.96725565, -1.64835811, ..., -0.32389921,\n           2.30986524, -0.10910375]],\n\n        [[-0.4532038 , -0.96725565, -0.57256228, ...,  2.4478538 ,\n           2.30986524,  0.44089508],\n         [-1.01275206, -0.96725565,  0.50323361, ...,  1.33915257,\n           2.30986524,  0.9908939 ],\n         [-1.01275206,  1.97298622,  1.0411315 , ...,  1.89350319,\n          -0.6764394 ,  2.6408906 ],\n         ..., \n         [ 1.22544062, -0.47721532, -0.03466433, ..., -0.87824976,\n          -0.6764394 , -0.10910375],\n         [ 1.78498888, -0.96725565, -0.03466433, ...,  0.23045139,\n          -1.27370036, -1.20910144],\n         [-0.4532038 , -0.96725565, -1.64835811, ...,  0.23045139,\n          -0.0791785 , -1.20910144]],\n\n        [[ 0.66589248, -0.47721532, -0.57256228, ..., -0.32389921,\n          -0.6764394 , -0.65910262],\n         [ 0.10634436,  0.50286525,  1.0411315 , ...,  0.23045139,\n           1.11534333,  0.44089508],\n         [-0.4532038 ,  0.50286525, -0.57256228, ..., -0.87824976,\n           1.11534333,  1.54089272],\n         ..., \n         [ 2.90408516,  0.50286525, -0.57256228, ...,  0.23045139,\n          -0.0791785 , -0.10910375],\n         [-1.01275206, -0.96725565, -0.03466433, ...,  0.78480196,\n           1.71260428, -0.10910375],\n         [-0.4532038 ,  0.50286525, -2.18625593, ...,  0.23045139,\n          -1.27370036, -0.10910375]],\n\n        ..., \n        [[ 2.3153398 ,  2.19838595,  0.64086884, ..., -0.43349764,\n           0.8527683 , -1.08703756],\n         [ 0.06567865, -0.34898064,  0.07019347, ...,  3.28786945,\n           3.89674211,  0.99211001],\n         [ 0.06567865,  1.17943931, -0.5004819 , ...,  0.03167325,\n           0.8527683 ,  0.99211001],\n         ..., \n         [ 0.6280939 , -0.85845393,  0.07019347, ..., -1.82901025,\n           0.8527683 , -1.08703756],\n         [ 1.1905092 , -0.85845393, -0.5004819 , ...,  1.42718589,\n           0.8527683 , -0.0474638 ],\n         [ 1.1905092 ,  1.17943931,  0.07019347, ...,  1.42718589,\n          -0.45179185,  0.47232312]],\n\n        [[ 0.06567865,  1.17943931, -0.5004819 , ...,  0.96201503,\n          -0.88664526, -1.08703756],\n         [-1.62156725, -0.85845393, -1.07115722, ...,  1.42718589,\n           0.4179149 ,  2.03168368],\n         [ 0.06567865, -1.36792731,  0.64086884, ...,  1.89235675,\n           2.15732837,  0.99211001],\n         ..., \n         [ 1.1905092 ,  0.16049267, -1.64183259, ..., -0.43349764,\n          -0.45179185, -1.6068244 ],\n         [ 0.06567865, -0.85845393,  0.64086884, ..., -0.89866853,\n           1.72247505, -1.08703756],\n         [ 0.6280939 ,  0.16049267, -0.5004819 , ..., -0.43349764,\n           1.28762174, -0.56725073]],\n\n        [[ 0.6280939 ,  0.66996598, -0.5004819 , ..., -1.36383939,\n          -1.75635207, -0.0474638 ],\n         [ 0.6280939 ,  1.17943931, -0.5004819 , ..., -0.89866853,\n          -1.32149863,  1.51189697],\n         [ 0.06567865,  0.66996598, -1.64183259, ...,  0.96201503,\n          -1.32149863, -0.0474638 ],\n         ..., \n         [ 0.06567865,  1.17943931, -0.5004819 , ...,  0.49684414,\n           1.72247505,  2.55147052],\n         [-0.49673665,  0.16049267, -1.07115722, ..., -0.43349764,\n          -0.45179185, -1.6068244 ],\n         [-1.05915201, -0.34898064, -1.07115722, ...,  0.03167325,\n          -1.32149863, -0.0474638 ]]],\n\n\n       [[[ 0.17569701,  0.32404059, -0.43713748, ...,  1.80233204,\n           1.32560384,  2.70569372],\n         [-0.6076206 , -0.54058367,  0.22946872, ...,  0.29374859,\n           0.1743793 , -1.24851108],\n         [-1.12983239,  0.54019666, -0.65933955, ...,  0.04231802,\n          -0.40123293, -1.51212478],\n         ..., \n         [-0.08540886,  1.18866479, -0.21493542, ..., -1.96912634,\n          -0.97684515,  0.3331708 ],\n         [ 0.69790876,  0.10788452,  0.00726665, ..., -0.71197367,\n          -0.40123293, -0.98489743],\n         [-0.08540886,  0.10788452, -1.99255204, ..., -0.4605431 ,\n           1.61341   ,  0.3331708 ]],\n\n        [[-0.6076206 , -1.62136412, -0.65933955, ...,  2.5566237 ,\n           1.90121615,  1.38762534],\n         [-1.39093828, -0.3244276 , -1.32594573, ...,  1.2994709 ,\n           0.7499916 ,  1.65123904],\n         [-0.86872649,  0.10788452,  0.67387289, ...,  1.80233204,\n          -0.11342682,  2.17846656],\n         ..., \n         [ 0.43680289,  0.10788452, -0.21493542, ..., -0.20911254,\n          -0.40123293, -0.1940565 ],\n         [ 3.30896735,  0.10788452, -0.65933955, ..., -0.20911254,\n           0.1743793 ,  0.06955715],\n         [-0.6076206 ,  0.54019666,  0.4516708 , ...,  0.7966097 ,\n          -0.97684515, -1.24851108]],\n\n        [[-0.34651473, -0.97289586, -1.10374367, ..., -0.4605431 ,\n          -0.97684515, -0.98489743],\n         [-0.86872649, -0.10827155,  0.4516708 , ...,  0.29374859,\n           0.1743793 ,  0.86039811],\n         [ 0.17569701, -0.97289586, -0.21493542, ..., -0.20911254,\n           0.46218544,  0.06955715],\n         ..., \n         [ 0.69790876,  0.75635272, -0.43713748, ..., -0.96340424,\n           0.7499916 , -0.98489743],\n         [ 0.95901465, -0.3244276 , -0.88154161, ...,  0.04231802,\n           1.61341   , -1.24851108],\n         [ 0.95901465,  0.97250873, -0.88154161, ...,  0.54517913,\n          -0.97684515, -0.45767012]],\n\n        ..., \n        [[ 0.71170557,  2.53788328, -0.73545617, ..., -0.09843968,\n           0.54963005,  0.1390931 ],\n         [-0.87827033, -0.1348068 , -0.17722145, ...,  2.17827463,\n           3.18531609,  0.84543914],\n         [-0.08328238,  0.59410864,  0.93924785, ...,  0.5224824 ,\n           0.73789334,  0.84543914],\n         ..., \n         [ 1.24169767, -0.62075043, -1.01457345, ..., -1.13330972,\n          -1.14473951, -2.45084238],\n         [ 1.24169767,  1.08005226, -0.73545617, ...,  1.14340448,\n           1.30268323,  1.55178511],\n         [ 2.03668547,  0.35113683,  0.38101318, ...,  0.93643039,\n           0.54963005, -1.03815031]],\n\n        [[-0.61327434,  1.80896783, -0.73545617, ..., -0.71936172,\n          -0.20342314, -1.74449646],\n         [-0.08328238,  0.35113683,  0.10189588, ...,  0.31550837,\n           1.49094653,  0.1390931 ],\n         [ 0.18171361,  0.10816503,  1.77659988, ...,  3.00617051,\n           2.05573654,  1.55178511],\n         ..., \n         [ 0.4467096 ,  0.59410864, -1.85192549, ..., -0.71936172,\n           0.36136675, -0.33180428],\n         [ 0.71170557,  0.59410864,  0.38101318, ..., -1.13330972,\n          -0.39168644, -1.74449646],\n         [ 0.18171361,  1.08005226,  0.38101318, ..., -0.92633569,\n          -0.20342314, -1.74449646]],\n\n        [[-0.08328238, -1.1066941 ,  0.10189588, ..., -0.92633569,\n          -0.76821297,  0.1390931 ],\n         [ 0.71170557,  1.08005226, -1.01457345, ...,  0.10853434,\n           0.9261567 ,  0.37454179],\n         [-0.08328238,  2.29491138, -0.73545617, ...,  0.10853434,\n          -0.76821297, -0.09635558],\n         ..., \n         [ 0.4467096 ,  0.35113683,  0.10189588, ...,  1.14340448,\n           0.73789334,  0.84543914],\n         [ 1.5066936 ,  0.83708048,  0.93924785, ..., -0.09843968,\n          -1.5212661 , -0.80270165],\n         [-1.40826225,  0.10816503, -0.17722145, ..., -1.54725778,\n          -1.5212661 , -0.56725293]]]], dtype=float32)"
          },
          "metadata": {}
        }
      ],
      "execution_count": 17,
      "metadata": {
        "collapsed": true,
        "jupyter": {
          "source_hidden": false,
          "outputs_hidden": false
        },
        "nteract": {
          "transient": {
            "deleting": false
          }
        },
        "execution": {
          "iopub.status.busy": "2021-01-07T19:36:30.946Z",
          "iopub.execute_input": "2021-01-07T19:36:30.957Z",
          "iopub.status.idle": "2021-01-07T19:36:30.985Z",
          "shell.execute_reply": "2021-01-07T19:36:30.997Z"
        }
      }
    },
    {
      "cell_type": "code",
      "source": [
        "rust_dldata.neuronal_features_reps_HongMajaj.shape"
      ],
      "outputs": [
        {
          "output_type": "execute_result",
          "execution_count": 18,
          "data": {
            "text/plain": "(6, 179, 305, 296)"
          },
          "metadata": {}
        }
      ],
      "execution_count": 18,
      "metadata": {
        "collapsed": true,
        "jupyter": {
          "source_hidden": false,
          "outputs_hidden": false
        },
        "nteract": {
          "transient": {
            "deleting": false
          }
        },
        "execution": {
          "iopub.status.busy": "2021-01-07T19:36:55.968Z",
          "iopub.execute_input": "2021-01-07T19:36:55.979Z",
          "iopub.status.idle": "2021-01-07T19:36:56.003Z",
          "shell.execute_reply": "2021-01-07T19:36:56.016Z"
        }
      }
    },
    {
      "cell_type": "code",
      "source": [
        "import scipy.io as io"
      ],
      "outputs": [],
      "execution_count": 19,
      "metadata": {
        "collapsed": true,
        "jupyter": {
          "source_hidden": false,
          "outputs_hidden": false
        },
        "nteract": {
          "transient": {
            "deleting": false
          }
        },
        "execution": {
          "iopub.status.busy": "2021-01-07T20:49:19.442Z",
          "iopub.execute_input": "2021-01-07T20:49:19.456Z",
          "iopub.status.idle": "2021-01-07T20:49:19.477Z",
          "shell.execute_reply": "2021-01-07T20:49:19.494Z"
        }
      }
    },
    {
      "cell_type": "code",
      "source": [
        "mat = io.loadmat(\"/Users/jjpr/.skdata/Rust305/Nicole305DataCollectedByNicole.mat\")\n",
        "mat"
      ],
      "outputs": [
        {
          "output_type": "execute_result",
          "execution_count": 20,
          "data": {
            "text/plain": "{'BLMIT': array([[[2, 1, 2, 0, 1],\n         [1, 1, 0, 1, 3],\n         [0, 0, 0, 0, 0],\n         [0, 0, 1, 1, 2],\n         [2, 1, 2, 1, 3]],\n \n        [[0, 1, 0, 0, 0],\n         [0, 0, 1, 2, 2],\n         [0, 0, 0, 1, 0],\n         [1, 0, 1, 0, 3],\n         [1, 0, 0, 0, 1]],\n \n        [[3, 3, 3, 0, 2],\n         [5, 0, 1, 0, 0],\n         [2, 1, 1, 2, 3],\n         [1, 0, 1, 1, 1],\n         [0, 1, 1, 0, 2]],\n \n        ..., \n        [[0, 0, 0, 0, 0],\n         [1, 0, 0, 0, 0],\n         [0, 1, 0, 1, 2],\n         [1, 2, 0, 0, 0],\n         [1, 2, 0, 0, 0]],\n \n        [[4, 3, 5, 1, 4],\n         [5, 5, 5, 2, 4],\n         [3, 3, 4, 8, 4],\n         [6, 5, 4, 6, 5],\n         [4, 3, 6, 5, 8]],\n \n        [[0, 1, 0, 0, 2],\n         [0, 1, 0, 1, 0],\n         [1, 2, 1, 1, 0],\n         [2, 0, 1, 1, 0],\n         [0, 2, 1, 0, 3]]], dtype=uint8),\n 'BLMV4': array([[[ 0,  0,  3,  1,  0],\n         [ 1,  0,  0,  0,  1],\n         [ 0,  0,  3,  0,  3],\n         [ 0,  0,  0,  1,  1],\n         [ 1,  0,  0,  0,  3]],\n \n        [[ 2,  2,  0,  0,  0],\n         [ 4,  1,  4,  0,  1],\n         [33,  1,  0,  0,  0],\n         [ 0,  0,  0,  0,  0],\n         [ 0,  0,  0,  1,  0]],\n \n        [[ 0,  0,  2,  0,  0],\n         [ 0,  1,  0,  0,  0],\n         [ 0,  1,  1,  0,  0],\n         [ 0,  1,  0,  0,  1],\n         [ 1,  0,  0,  2,  1]],\n \n        ..., \n        [[ 0,  1,  0,  1,  0],\n         [ 0,  0,  0,  0,  1],\n         [ 0,  0,  0,  0,  0],\n         [ 0,  0,  0,  0,  0],\n         [ 0,  0,  0,  0,  0]],\n \n        [[ 2,  0,  4,  2,  0],\n         [ 2,  0,  1,  3,  1],\n         [ 1,  0,  0,  2,  0],\n         [ 2,  0,  1,  2,  2],\n         [ 1,  0,  1,  1,  1]],\n \n        [[ 0,  0,  0,  1,  0],\n         [ 0,  0,  2,  0,  0],\n         [ 2,  1,  0,  0,  0],\n         [ 1,  1,  1,  0,  0],\n         [ 0,  1,  2,  1,  0]]], dtype=uint8),\n 'SigMIT': array([[ 1,  1,  1,  1,  1,  1, -1,  1,  1,  1,  1, -1,  1,  1,  1,  1,  1,\n         -1,  1,  1,  1,  1,  1,  1,  1,  1,  1,  1,  1,  1,  1,  1,  1,  1,\n          1,  1,  1,  1,  1, -1,  1, -1,  1, -1,  1,  1,  1,  1,  1,  1,  1,\n          1, -1,  1,  1,  1, -1,  1,  1,  1,  1,  1,  1,  1,  1,  1,  1,  1,\n         -1,  1,  1,  1,  1,  1, -1,  1,  1,  1, -1,  1,  1,  1,  1,  1, -1,\n          1,  1,  1,  1,  1,  1, -1,  1, -1, -1, -1,  1,  1,  1,  1,  1,  1,\n          1,  1,  1,  1,  1,  1,  1,  1,  1,  1,  1,  1,  1,  1, -1,  1,  1,\n         -1,  1,  1, -1,  1,  1,  1,  1,  1,  1,  1,  1,  1,  1,  1,  1,  1,\n          1,  1,  1,  1,  1,  1]], dtype=int16),\n 'SigMV4': array([[ 1,  1,  1,  1,  1,  1,  1,  1,  1,  1,  1, -1,  1,  1,  1,  1,  1,\n          1,  1,  1,  1,  1,  1,  1,  1,  1,  1,  1,  1,  1,  1,  1,  1,  1,\n          1,  1,  1,  1,  1,  1,  1,  1, -1,  1,  1,  1,  1,  1,  1,  1,  1,\n          1,  1,  1,  1,  1,  1,  1,  1,  1,  1, -1,  1,  1,  1,  1,  1, -1,\n          1,  1,  1,  1,  1,  1,  1,  1,  1,  1,  1,  1,  1,  1,  1,  1,  1,\n          1,  1,  1,  1,  1,  1, -1,  1,  1,  1,  1,  1,  1, -1,  1,  1, -1,\n          1,  1,  1,  1,  1, -1, -1,  1,  1,  1,  1,  1,  1,  1, -1,  1,  1,\n         -1,  1,  1,  1,  1,  1,  1,  1,  1,  1,  1,  1,  1,  1,  1,  1,  1,\n          1,  1,  1,  1,  1,  1,  1]], dtype=int16),\n 'SpkMatIT': array([[[1, 0, 2, 3, 4],\n         [0, 0, 6, 1, 2],\n         [1, 0, 2, 0, 0],\n         ..., \n         [0, 0, 1, 1, 0],\n         [1, 0, 0, 0, 5],\n         [0, 0, 3, 0, 1]],\n \n        [[0, 0, 0, 0, 0],\n         [0, 0, 0, 0, 0],\n         [2, 0, 0, 0, 0],\n         ..., \n         [1, 0, 1, 0, 1],\n         [0, 0, 0, 0, 0],\n         [0, 0, 0, 0, 1]],\n \n        [[1, 2, 1, 1, 5],\n         [7, 1, 2, 3, 2],\n         [2, 2, 0, 1, 4],\n         ..., \n         [4, 4, 1, 1, 2],\n         [1, 0, 1, 1, 2],\n         [5, 5, 1, 0, 3]],\n \n        ..., \n        [[2, 1, 0, 0, 0],\n         [1, 0, 0, 0, 0],\n         [1, 0, 0, 0, 0],\n         ..., \n         [0, 0, 0, 0, 0],\n         [0, 0, 0, 0, 0],\n         [0, 0, 0, 0, 0]],\n \n        [[3, 3, 4, 3, 4],\n         [7, 4, 4, 5, 2],\n         [2, 4, 6, 2, 4],\n         ..., \n         [2, 2, 3, 4, 3],\n         [0, 1, 4, 2, 2],\n         [2, 3, 4, 1, 2]],\n \n        [[0, 4, 0, 2, 0],\n         [0, 1, 1, 1, 0],\n         [0, 0, 0, 0, 0],\n         ..., \n         [0, 1, 0, 0, 0],\n         [0, 0, 0, 1, 1],\n         [0, 0, 0, 0, 0]]], dtype=uint8),\n 'SpkMatV4': array([[[ 5,  0,  3,  7,  2],\n         [ 4,  3,  1,  2,  2],\n         [ 3,  0,  4,  5,  3],\n         ..., \n         [ 0,  1,  2, 10,  3],\n         [ 0,  0,  1,  2,  5],\n         [ 1,  0,  4,  2,  3]],\n \n        [[ 0,  1,  3,  3,  0],\n         [ 4,  0,  0,  0,  0],\n         [ 2,  9,  0,  6,  6],\n         ..., \n         [ 0,  1,  0,  5,  2],\n         [ 0,  0,  0,  1,  0],\n         [ 1,  1,  3,  2,  0]],\n \n        [[ 3,  1,  0,  2,  7],\n         [ 0,  0,  0,  2,  0],\n         [ 1,  4,  0,  1,  4],\n         ..., \n         [ 1,  0,  0,  4,  0],\n         [ 0,  1,  0,  3,  0],\n         [ 2,  0,  0,  1,  3]],\n \n        ..., \n        [[ 0,  0,  0,  0,  3],\n         [ 0,  0,  0,  0,  0],\n         [ 0,  0,  0,  0,  1],\n         ..., \n         [ 3,  1,  1,  0,  0],\n         [ 0,  0,  0,  0,  1],\n         [ 0,  0,  2,  0,  0]],\n \n        [[ 1,  0,  0,  0,  1],\n         [ 0,  0,  0,  1,  0],\n         [ 0,  1,  0,  0,  0],\n         ..., \n         [ 0,  0,  0,  0,  0],\n         [ 0,  0,  0,  0,  0],\n         [ 0,  0,  0,  0,  0]],\n \n        [[ 1,  4,  2,  1,  0],\n         [ 2,  1,  0,  2,  0],\n         [ 2,  0,  3,  1,  0],\n         ..., \n         [ 3,  1,  5,  5,  0],\n         [ 2,  1,  1,  2,  2],\n         [ 0,  1,  0,  1,  0]]], dtype=uint8),\n '__globals__': [],\n '__header__': 'MATLAB 5.0 MAT-file, Platform: MACI, Created on: Sun Dec 14 09:16:22 2008',\n '__version__': '1.0'}"
          },
          "metadata": {}
        }
      ],
      "execution_count": 20,
      "metadata": {
        "collapsed": true,
        "jupyter": {
          "source_hidden": false,
          "outputs_hidden": false
        },
        "nteract": {
          "transient": {
            "deleting": false
          }
        },
        "execution": {
          "iopub.status.busy": "2021-01-07T20:53:18.950Z",
          "iopub.execute_input": "2021-01-07T20:53:18.960Z",
          "iopub.status.idle": "2021-01-07T20:53:19.002Z",
          "shell.execute_reply": "2021-01-07T20:53:19.074Z"
        }
      }
    },
    {
      "cell_type": "code",
      "source": [
        "type(mat)"
      ],
      "outputs": [
        {
          "output_type": "execute_result",
          "execution_count": 21,
          "data": {
            "text/plain": "dict"
          },
          "metadata": {}
        }
      ],
      "execution_count": 21,
      "metadata": {
        "collapsed": true,
        "jupyter": {
          "source_hidden": false,
          "outputs_hidden": false
        },
        "nteract": {
          "transient": {
            "deleting": false
          }
        },
        "execution": {
          "iopub.status.busy": "2021-01-07T20:55:36.029Z",
          "iopub.execute_input": "2021-01-07T20:55:36.042Z",
          "iopub.status.idle": "2021-01-07T20:55:36.069Z",
          "shell.execute_reply": "2021-01-07T20:55:36.083Z"
        }
      }
    },
    {
      "cell_type": "code",
      "source": [
        "list(mat.keys())"
      ],
      "outputs": [
        {
          "output_type": "execute_result",
          "execution_count": 22,
          "data": {
            "text/plain": "['SpkMatV4',\n 'SigMIT',\n 'BLMIT',\n '__header__',\n '__globals__',\n 'SigMV4',\n '__version__',\n 'BLMV4',\n 'SpkMatIT']"
          },
          "metadata": {}
        }
      ],
      "execution_count": 22,
      "metadata": {
        "collapsed": true,
        "jupyter": {
          "source_hidden": false,
          "outputs_hidden": false
        },
        "nteract": {
          "transient": {
            "deleting": false
          }
        },
        "execution": {
          "iopub.status.busy": "2021-01-07T20:55:51.131Z",
          "iopub.execute_input": "2021-01-07T20:55:51.144Z",
          "iopub.status.idle": "2021-01-07T20:55:51.168Z",
          "shell.execute_reply": "2021-01-07T20:55:51.180Z"
        }
      }
    },
    {
      "cell_type": "code",
      "source": [
        "[(k, type(mat[k])) for k in mat]"
      ],
      "outputs": [
        {
          "output_type": "execute_result",
          "execution_count": 23,
          "data": {
            "text/plain": "[('SpkMatV4', numpy.ndarray),\n ('SigMIT', numpy.ndarray),\n ('BLMIT', numpy.ndarray),\n ('__header__', str),\n ('__globals__', list),\n ('SigMV4', numpy.ndarray),\n ('__version__', str),\n ('BLMV4', numpy.ndarray),\n ('SpkMatIT', numpy.ndarray)]"
          },
          "metadata": {}
        }
      ],
      "execution_count": 23,
      "metadata": {
        "collapsed": true,
        "jupyter": {
          "source_hidden": false,
          "outputs_hidden": false
        },
        "nteract": {
          "transient": {
            "deleting": false
          }
        },
        "execution": {
          "iopub.status.busy": "2021-01-07T21:09:05.371Z",
          "iopub.execute_input": "2021-01-07T21:09:05.389Z",
          "iopub.status.idle": "2021-01-07T21:09:05.413Z",
          "shell.execute_reply": "2021-01-07T21:09:05.425Z"
        }
      }
    },
    {
      "cell_type": "code",
      "source": [
        "import numpy as np"
      ],
      "outputs": [],
      "execution_count": 25,
      "metadata": {
        "collapsed": true,
        "jupyter": {
          "source_hidden": false,
          "outputs_hidden": false
        },
        "nteract": {
          "transient": {
            "deleting": false
          }
        },
        "execution": {
          "iopub.status.busy": "2021-01-07T21:11:28.265Z",
          "iopub.execute_input": "2021-01-07T21:11:28.282Z",
          "iopub.status.idle": "2021-01-07T21:11:28.314Z",
          "shell.execute_reply": "2021-01-07T21:11:28.328Z"
        }
      }
    },
    {
      "cell_type": "code",
      "source": [
        "[(k, mat[k].shape) for k in mat if type(mat[k]) is np.ndarray]"
      ],
      "outputs": [
        {
          "output_type": "execute_result",
          "execution_count": 26,
          "data": {
            "text/plain": "[('SpkMatV4', (143, 300, 5)),\n ('SigMIT', (1, 142)),\n ('BLMIT', (142, 5, 5)),\n ('SigMV4', (1, 143)),\n ('BLMV4', (143, 5, 5)),\n ('SpkMatIT', (142, 300, 5))]"
          },
          "metadata": {}
        }
      ],
      "execution_count": 26,
      "metadata": {
        "collapsed": true,
        "jupyter": {
          "source_hidden": false,
          "outputs_hidden": false
        },
        "nteract": {
          "transient": {
            "deleting": false
          }
        },
        "execution": {
          "iopub.status.busy": "2021-01-07T21:11:33.207Z",
          "iopub.execute_input": "2021-01-07T21:11:33.221Z",
          "iopub.status.idle": "2021-01-07T21:11:33.246Z",
          "shell.execute_reply": "2021-01-07T21:11:33.260Z"
        }
      }
    },
    {
      "cell_type": "code",
      "source": [
        "import tables"
      ],
      "outputs": [],
      "execution_count": 27,
      "metadata": {
        "collapsed": true,
        "jupyter": {
          "source_hidden": false,
          "outputs_hidden": false
        },
        "nteract": {
          "transient": {
            "deleting": false
          }
        },
        "execution": {
          "iopub.status.busy": "2021-01-07T21:26:37.172Z",
          "iopub.execute_input": "2021-01-07T21:26:37.185Z",
          "iopub.status.idle": "2021-01-07T21:26:37.206Z",
          "shell.execute_reply": "2021-01-07T21:26:37.221Z"
        }
      }
    },
    {
      "cell_type": "code",
      "source": [
        "h5 = tables.open_file(\"/Users/jjpr/.skdata/Rust305/Chabo_Tito_20130419_Nicole305_pooled_P58.trim.wh.evoked.repr.h5\")\n",
        "h5"
      ],
      "outputs": [
        {
          "output_type": "execute_result",
          "execution_count": 28,
          "data": {
            "text/plain": "File(filename=/Users/jjpr/.skdata/Rust305/Chabo_Tito_20130419_Nicole305_pooled_P58.trim.wh.evoked.repr.h5, title='', mode='r', root_uep='/', filters=Filters(complevel=0, shuffle=False, bitshuffle=False, fletcher32=False, least_significant_digit=None))\n/ (RootGroup) ''\n/spk (CArray(6, 179, 305, 296), shuffle, blosc(4)) ''\n  atom := Float32Atom(shape=(), dflt=0.0)\n  maindim := 0\n  flavor := 'numpy'\n  byteorder := 'little'\n  chunkshape := (1, 1, 221, 296)\n/meta (Group) 'Metadata'\n/meta/idx2iid (Array(305,)) ''\n  atom := StringAtom(itemsize=12, shape=(), dflt='')\n  maindim := 0\n  flavor := 'python'\n  byteorder := 'irrelevant'\n  chunkshape := None\n/meta/idx2iid_pk (Array()) ''\n  atom := StringAtom(itemsize=6502, shape=(), dflt='')\n  maindim := 0\n  flavor := 'python'\n  byteorder := 'irrelevant'\n  chunkshape := None\n/meta/idx2lbl (Array(6, 2)) ''\n  atom := Int64Atom(shape=(), dflt=0)\n  maindim := 0\n  flavor := 'python'\n  byteorder := 'little'\n  chunkshape := None\n/meta/idx2lbl_pk (Array()) ''\n  atom := StringAtom(itemsize=99, shape=(), dflt='')\n  maindim := 0\n  flavor := 'python'\n  byteorder := 'irrelevant'\n  chunkshape := None\n/meta/iid2idx_pk (Array()) ''\n  atom := StringAtom(itemsize=7917, shape=(), dflt='')\n  maindim := 0\n  flavor := 'python'\n  byteorder := 'irrelevant'\n  chunkshape := None\n/meta/lbl2idx_pk (Array()) ''\n  atom := StringAtom(itemsize=117, shape=(), dflt='')\n  maindim := 0\n  flavor := 'python'\n  byteorder := 'irrelevant'\n  chunkshape := None\n/meta/ntrials_img (Array(6, 305, 296)) ''\n  atom := UInt16Atom(shape=(), dflt=0)\n  maindim := 0\n  flavor := 'numpy'\n  byteorder := 'little'\n  chunkshape := None\n/meta/orgfile (CArray(6, 179, 305, 296), shuffle, blosc(4)) ''\n  atom := Int16Atom(shape=(), dflt=0)\n  maindim := 0\n  flavor := 'numpy'\n  byteorder := 'little'\n  chunkshape := (1, 1, 305, 296)\n/meta/srcfiles (Array(66,)) ''\n  atom := StringAtom(itemsize=54, shape=(), dflt='')\n  maindim := 0\n  flavor := 'python'\n  byteorder := 'irrelevant'\n  chunkshape := None"
          },
          "metadata": {}
        }
      ],
      "execution_count": 28,
      "metadata": {
        "collapsed": false,
        "jupyter": {
          "source_hidden": false,
          "outputs_hidden": false
        },
        "nteract": {
          "transient": {
            "deleting": false
          }
        },
        "execution": {
          "iopub.status.busy": "2021-01-07T21:27:43.149Z",
          "iopub.execute_input": "2021-01-07T21:27:43.239Z",
          "iopub.status.idle": "2021-01-07T21:27:43.263Z",
          "shell.execute_reply": "2021-01-07T21:27:43.289Z"
        }
      }
    },
    {
      "cell_type": "code",
      "source": [
        "h5.root.meta.idx2lbl[:]"
      ],
      "outputs": [
        {
          "output_type": "execute_result",
          "execution_count": 33,
          "data": {
            "text/plain": "[[70, 170], [50, 100], [100, 150], [150, 200], [200, 250], [70, 270]]"
          },
          "metadata": {}
        }
      ],
      "execution_count": 33,
      "metadata": {
        "collapsed": true,
        "jupyter": {
          "source_hidden": false,
          "outputs_hidden": false
        },
        "nteract": {
          "transient": {
            "deleting": false
          }
        },
        "execution": {
          "iopub.status.busy": "2021-01-07T21:34:12.073Z",
          "iopub.execute_input": "2021-01-07T21:34:12.085Z",
          "iopub.status.idle": "2021-01-07T21:34:12.110Z",
          "shell.execute_reply": "2021-01-07T21:34:12.122Z"
        }
      }
    },
    {
      "cell_type": "code",
      "source": [
        "for node in h5.walk_nodes():\n",
        "  if isinstance(node, tables.Leaf):\n",
        "    print(node._v_name)\n",
        "    print(node)\n",
        "    if len(node.shape) < 3:\n",
        "      print(node.read())\n",
        "    print"
      ],
      "outputs": [
        {
          "output_type": "stream",
          "name": "stdout",
          "text": [
            "spk\n",
            "/spk (CArray(6, 179, 305, 296), shuffle, blosc(4)) ''\n",
            "\n",
            "idx2iid\n",
            "/meta/idx2iid (Array(305,)) ''\n",
            "['Nat300_F_1', 'Nat300_F_2', 'Nat300_F_3', 'Nat300_F_4', 'Nat300_F_5', 'Nat300_F_6', 'Nat300_F_7', 'Nat300_F_8', 'Nat300_F_9', 'Nat300_F_10', 'Nat300_F_11', 'Nat300_F_12', 'Nat300_F_13', 'Nat300_F_14', 'Nat300_F_15', 'Nat300_F_16', 'Nat300_F_17', 'Nat300_F_18', 'Nat300_F_19', 'Nat300_F_20', 'Nat300_F_21', 'Nat300_F_22', 'Nat300_F_23', 'Nat300_F_24', 'Nat300_F_25', 'Nat300_F_26', 'Nat300_F_27', 'Nat300_F_28', 'Nat300_F_29', 'Nat300_F_30', 'Nat300_F_31', 'Nat300_F_32', 'Nat300_F_33', 'Nat300_F_34', 'Nat300_F_35', 'Nat300_F_36', 'Nat300_F_37', 'Nat300_F_38', 'Nat300_F_39', 'Nat300_F_40', 'Nat300_F_41', 'Nat300_F_42', 'Nat300_F_43', 'Nat300_F_44', 'Nat300_F_45', 'Nat300_F_46', 'Nat300_F_47', 'Nat300_F_48', 'Nat300_F_49', 'Nat300_F_50', 'Nat300_F_51', 'Nat300_F_52', 'Nat300_F_53', 'Nat300_F_54', 'Nat300_F_55', 'Nat300_F_56', 'Nat300_F_57', 'Nat300_F_58', 'Nat300_F_59', 'Nat300_F_60', 'Nat300_F_61', 'Nat300_F_62', 'Nat300_F_63', 'Nat300_F_64', 'Nat300_F_65', 'Nat300_F_66', 'Nat300_F_67', 'Nat300_F_68', 'Nat300_F_69', 'Nat300_F_70', 'Nat300_F_71', 'Nat300_F_72', 'Nat300_F_73', 'Nat300_F_74', 'Nat300_F_75', 'Nat300_F_76', 'Nat300_F_77', 'Nat300_F_78', 'Nat300_F_79', 'Nat300_F_80', 'Nat300_F_81', 'Nat300_F_82', 'Nat300_F_83', 'Nat300_F_84', 'Nat300_F_85', 'Nat300_F_86', 'Nat300_F_87', 'Nat300_F_88', 'Nat300_F_89', 'Nat300_F_90', 'Nat300_F_91', 'Nat300_F_92', 'Nat300_F_93', 'Nat300_F_94', 'Nat300_F_95', 'Nat300_F_96', 'Nat300_F_97', 'Nat300_F_98', 'Nat300_F_99', 'Nat300_F_100', 'Nat300_F_101', 'Nat300_F_102', 'Nat300_F_103', 'Nat300_F_104', 'Nat300_F_105', 'Nat300_F_106', 'Nat300_F_107', 'Nat300_F_108', 'Nat300_F_109', 'Nat300_F_110', 'Nat300_F_111', 'Nat300_F_112', 'Nat300_F_113', 'Nat300_F_114', 'Nat300_F_115', 'Nat300_F_116', 'Nat300_F_117', 'Nat300_F_118', 'Nat300_F_119', 'Nat300_F_120', 'Nat300_F_121', 'Nat300_F_122', 'Nat300_F_123', 'Nat300_F_124', 'Nat300_F_125', 'Nat300_F_126', 'Nat300_F_127', 'Nat300_F_128', 'Nat300_F_129', 'Nat300_F_130', 'Nat300_F_131', 'Nat300_F_132', 'Nat300_F_133', 'Nat300_F_134', 'Nat300_F_135', 'Nat300_F_136', 'Nat300_F_137', 'Nat300_F_138', 'Nat300_F_139', 'Nat300_F_140', 'Nat300_F_141', 'Nat300_F_142', 'Nat300_F_143', 'Nat300_F_144', 'Nat300_F_145', 'Nat300_F_146', 'Nat300_F_147', 'Nat300_F_148', 'Nat300_F_149', 'Nat300_F_150', 'Nat300_F_151', 'Nat300_F_152', 'Nat300_F_153', 'Nat300_F_154', 'Nat300_F_155', 'Nat300_F_156', 'Nat300_F_157', 'Nat300_F_158', 'Nat300_F_159', 'Nat300_F_160', 'Nat300_F_161', 'Nat300_F_162', 'Nat300_F_163', 'Nat300_F_164', 'Nat300_F_165', 'Nat300_F_166', 'Nat300_F_167', 'Nat300_F_168', 'Nat300_F_169', 'Nat300_F_170', 'Nat300_F_171', 'Nat300_F_172', 'Nat300_F_173', 'Nat300_F_174', 'Nat300_F_175', 'Nat300_F_176', 'Nat300_F_177', 'Nat300_F_178', 'Nat300_F_179', 'Nat300_F_180', 'Nat300_F_181', 'Nat300_F_182', 'Nat300_F_183', 'Nat300_F_184', 'Nat300_F_185', 'Nat300_F_186', 'Nat300_F_187', 'Nat300_F_188', 'Nat300_F_189', 'Nat300_F_190', 'Nat300_F_191', 'Nat300_F_192', 'Nat300_F_193', 'Nat300_F_194', 'Nat300_F_195', 'Nat300_F_196', 'Nat300_F_197', 'Nat300_F_198', 'Nat300_F_199', 'Nat300_F_200', 'Nat300_F_201', 'Nat300_F_202', 'Nat300_F_203', 'Nat300_F_204', 'Nat300_F_205', 'Nat300_F_206', 'Nat300_F_207', 'Nat300_F_208', 'Nat300_F_209', 'Nat300_F_210', 'Nat300_F_211', 'Nat300_F_212', 'Nat300_F_213', 'Nat300_F_214', 'Nat300_F_215', 'Nat300_F_216', 'Nat300_F_217', 'Nat300_F_218', 'Nat300_F_219', 'Nat300_F_220', 'Nat300_F_221', 'Nat300_F_222', 'Nat300_F_223', 'Nat300_F_224', 'Nat300_F_225', 'Nat300_F_226', 'Nat300_F_227', 'Nat300_F_228', 'Nat300_F_229', 'Nat300_F_230', 'Nat300_F_231', 'Nat300_F_232', 'Nat300_F_233', 'Nat300_F_234', 'Nat300_F_235', 'Nat300_F_236', 'Nat300_F_237', 'Nat300_F_238', 'Nat300_F_239', 'Nat300_F_240', 'Nat300_F_241', 'Nat300_F_242', 'Nat300_F_243', 'Nat300_F_244', 'Nat300_F_245', 'Nat300_F_246', 'Nat300_F_247', 'Nat300_F_248', 'Nat300_F_249', 'Nat300_F_250', 'Nat300_F_251', 'Nat300_F_252', 'Nat300_F_253', 'Nat300_F_254', 'Nat300_F_255', 'Nat300_F_256', 'Nat300_F_257', 'Nat300_F_258', 'Nat300_F_259', 'Nat300_F_260', 'Nat300_F_261', 'Nat300_F_262', 'Nat300_F_263', 'Nat300_F_264', 'Nat300_F_265', 'Nat300_F_266', 'Nat300_F_267', 'Nat300_F_268', 'Nat300_F_269', 'Nat300_F_270', 'Nat300_F_271', 'Nat300_F_272', 'Nat300_F_273', 'Nat300_F_274', 'Nat300_F_275', 'Nat300_F_276', 'Nat300_F_277', 'Nat300_F_278', 'Nat300_F_279', 'Nat300_F_280', 'Nat300_F_281', 'Nat300_F_282', 'Nat300_F_283', 'Nat300_F_284', 'Nat300_F_285', 'Nat300_F_286', 'Nat300_F_287', 'Nat300_F_288', 'Nat300_F_289', 'Nat300_F_290', 'Nat300_F_291', 'Nat300_F_292', 'Nat300_F_293', 'Nat300_F_294', 'Nat300_F_295', 'Nat300_F_296', 'Nat300_F_297', 'Nat300_F_298', 'Nat300_F_299', 'Nat300_F_300', 'Nat300_F_301', 'Nat300_F_302', 'Nat300_F_303', 'Nat300_F_304', 'Nat300_F_305']\n",
            "\n",
            "idx2iid_pk\n",
            "/meta/idx2iid_pk (Array()) ''\n",
            "(lp1\n",
            "S'Nat300_F_1'\n",
            "p2\n",
            "aS'Nat300_F_2'\n",
            "p3\n",
            "aS'Nat300_F_3'\n",
            "p4\n",
            "aS'Nat300_F_4'\n",
            "p5\n",
            "aS'Nat300_F_5'\n",
            "p6\n",
            "aS'Nat300_F_6'\n",
            "p7\n",
            "aS'Nat300_F_7'\n",
            "p8\n",
            "aS'Nat300_F_8'\n",
            "p9\n",
            "aS'Nat300_F_9'\n",
            "p10\n",
            "aS'Nat300_F_10'\n",
            "p11\n",
            "aS'Nat300_F_11'\n",
            "p12\n",
            "aS'Nat300_F_12'\n",
            "p13\n",
            "aS'Nat300_F_13'\n",
            "p14\n",
            "aS'Nat300_F_14'\n",
            "p15\n",
            "aS'Nat300_F_15'\n",
            "p16\n",
            "aS'Nat300_F_16'\n",
            "p17\n",
            "aS'Nat300_F_17'\n",
            "p18\n",
            "aS'Nat300_F_18'\n",
            "p19\n",
            "aS'Nat300_F_19'\n",
            "p20\n",
            "aS'Nat300_F_20'\n",
            "p21\n",
            "aS'Nat300_F_21'\n",
            "p22\n",
            "aS'Nat300_F_22'\n",
            "p23\n",
            "aS'Nat300_F_23'\n",
            "p24\n",
            "aS'Nat300_F_24'\n",
            "p25\n",
            "aS'Nat300_F_25'\n",
            "p26\n",
            "aS'Nat300_F_26'\n",
            "p27\n",
            "aS'Nat300_F_27'\n",
            "p28\n",
            "aS'Nat300_F_28'\n",
            "p29\n",
            "aS'Nat300_F_29'\n",
            "p30\n",
            "aS'Nat300_F_30'\n",
            "p31\n",
            "aS'Nat300_F_31'\n",
            "p32\n",
            "aS'Nat300_F_32'\n",
            "p33\n",
            "aS'Nat300_F_33'\n",
            "p34\n",
            "aS'Nat300_F_34'\n",
            "p35\n",
            "aS'Nat300_F_35'\n",
            "p36\n",
            "aS'Nat300_F_36'\n",
            "p37\n",
            "aS'Nat300_F_37'\n",
            "p38\n",
            "aS'Nat300_F_38'\n",
            "p39\n",
            "aS'Nat300_F_39'\n",
            "p40\n",
            "aS'Nat300_F_40'\n",
            "p41\n",
            "aS'Nat300_F_41'\n",
            "p42\n",
            "aS'Nat300_F_42'\n",
            "p43\n",
            "aS'Nat300_F_43'\n",
            "p44\n",
            "aS'Nat300_F_44'\n",
            "p45\n",
            "aS'Nat300_F_45'\n",
            "p46\n",
            "aS'Nat300_F_46'\n",
            "p47\n",
            "aS'Nat300_F_47'\n",
            "p48\n",
            "aS'Nat300_F_48'\n",
            "p49\n",
            "aS'Nat300_F_49'\n",
            "p50\n",
            "aS'Nat300_F_50'\n",
            "p51\n",
            "aS'Nat300_F_51'\n",
            "p52\n",
            "aS'Nat300_F_52'\n",
            "p53\n",
            "aS'Nat300_F_53'\n",
            "p54\n",
            "aS'Nat300_F_54'\n",
            "p55\n",
            "aS'Nat300_F_55'\n",
            "p56\n",
            "aS'Nat300_F_56'\n",
            "p57\n",
            "aS'Nat300_F_57'\n",
            "p58\n",
            "aS'Nat300_F_58'\n",
            "p59\n",
            "aS'Nat300_F_59'\n",
            "p60\n",
            "aS'Nat300_F_60'\n",
            "p61\n",
            "aS'Nat300_F_61'\n",
            "p62\n",
            "aS'Nat300_F_62'\n",
            "p63\n",
            "aS'Nat300_F_63'\n",
            "p64\n",
            "aS'Nat300_F_64'\n",
            "p65\n",
            "aS'Nat300_F_65'\n",
            "p66\n",
            "aS'Nat300_F_66'\n",
            "p67\n",
            "aS'Nat300_F_67'\n",
            "p68\n",
            "aS'Nat300_F_68'\n",
            "p69\n",
            "aS'Nat300_F_69'\n",
            "p70\n",
            "aS'Nat300_F_70'\n",
            "p71\n",
            "aS'Nat300_F_71'\n",
            "p72\n",
            "aS'Nat300_F_72'\n",
            "p73\n",
            "aS'Nat300_F_73'\n",
            "p74\n",
            "aS'Nat300_F_74'\n",
            "p75\n",
            "aS'Nat300_F_75'\n",
            "p76\n",
            "aS'Nat300_F_76'\n",
            "p77\n",
            "aS'Nat300_F_77'\n",
            "p78\n",
            "aS'Nat300_F_78'\n",
            "p79\n",
            "aS'Nat300_F_79'\n",
            "p80\n",
            "aS'Nat300_F_80'\n",
            "p81\n",
            "aS'Nat300_F_81'\n",
            "p82\n",
            "aS'Nat300_F_82'\n",
            "p83\n",
            "aS'Nat300_F_83'\n",
            "p84\n",
            "aS'Nat300_F_84'\n",
            "p85\n",
            "aS'Nat300_F_85'\n",
            "p86\n",
            "aS'Nat300_F_86'\n",
            "p87\n",
            "aS'Nat300_F_87'\n",
            "p88\n",
            "aS'Nat300_F_88'\n",
            "p89\n",
            "aS'Nat300_F_89'\n",
            "p90\n",
            "aS'Nat300_F_90'\n",
            "p91\n",
            "aS'Nat300_F_91'\n",
            "p92\n",
            "aS'Nat300_F_92'\n",
            "p93\n",
            "aS'Nat300_F_93'\n",
            "p94\n",
            "aS'Nat300_F_94'\n",
            "p95\n",
            "aS'Nat300_F_95'\n",
            "p96\n",
            "aS'Nat300_F_96'\n",
            "p97\n",
            "aS'Nat300_F_97'\n",
            "p98\n",
            "aS'Nat300_F_98'\n",
            "p99\n",
            "aS'Nat300_F_99'\n",
            "p100\n",
            "aS'Nat300_F_100'\n",
            "p101\n",
            "aS'Nat300_F_101'\n",
            "p102\n",
            "aS'Nat300_F_102'\n",
            "p103\n",
            "aS'Nat300_F_103'\n",
            "p104\n",
            "aS'Nat300_F_104'\n",
            "p105\n",
            "aS'Nat300_F_105'\n",
            "p106\n",
            "aS'Nat300_F_106'\n",
            "p107\n",
            "aS'Nat300_F_107'\n",
            "p108\n",
            "aS'Nat300_F_108'\n",
            "p109\n",
            "aS'Nat300_F_109'\n",
            "p110\n",
            "aS'Nat300_F_110'\n",
            "p111\n",
            "aS'Nat300_F_111'\n",
            "p112\n",
            "aS'Nat300_F_112'\n",
            "p113\n",
            "aS'Nat300_F_113'\n",
            "p114\n",
            "aS'Nat300_F_114'\n",
            "p115\n",
            "aS'Nat300_F_115'\n",
            "p116\n",
            "aS'Nat300_F_116'\n",
            "p117\n",
            "aS'Nat300_F_117'\n",
            "p118\n",
            "aS'Nat300_F_118'\n",
            "p119\n",
            "aS'Nat300_F_119'\n",
            "p120\n",
            "aS'Nat300_F_120'\n",
            "p121\n",
            "aS'Nat300_F_121'\n",
            "p122\n",
            "aS'Nat300_F_122'\n",
            "p123\n",
            "aS'Nat300_F_123'\n",
            "p124\n",
            "aS'Nat300_F_124'\n",
            "p125\n",
            "aS'Nat300_F_125'\n",
            "p126\n",
            "aS'Nat300_F_126'\n",
            "p127\n",
            "aS'Nat300_F_127'\n",
            "p128\n",
            "aS'Nat300_F_128'\n",
            "p129\n",
            "aS'Nat300_F_129'\n",
            "p130\n",
            "aS'Nat300_F_130'\n",
            "p131\n",
            "aS'Nat300_F_131'\n",
            "p132\n",
            "aS'Nat300_F_132'\n",
            "p133\n",
            "aS'Nat300_F_133'\n",
            "p134\n",
            "aS'Nat300_F_134'\n",
            "p135\n",
            "aS'Nat300_F_135'\n",
            "p136\n",
            "aS'Nat300_F_136'\n",
            "p137\n",
            "aS'Nat300_F_137'\n",
            "p138\n",
            "aS'Nat300_F_138'\n",
            "p139\n",
            "aS'Nat300_F_139'\n",
            "p140\n",
            "aS'Nat300_F_140'\n",
            "p141\n",
            "aS'Nat300_F_141'\n",
            "p142\n",
            "aS'Nat300_F_142'\n",
            "p143\n",
            "aS'Nat300_F_143'\n",
            "p144\n",
            "aS'Nat300_F_144'\n",
            "p145\n",
            "aS'Nat300_F_145'\n",
            "p146\n",
            "aS'Nat300_F_146'\n",
            "p147\n",
            "aS'Nat300_F_147'\n",
            "p148\n",
            "aS'Nat300_F_148'\n",
            "p149\n",
            "aS'Nat300_F_149'\n",
            "p150\n",
            "aS'Nat300_F_150'\n",
            "p151\n",
            "aS'Nat300_F_151'\n",
            "p152\n",
            "aS'Nat300_F_152'\n",
            "p153\n",
            "aS'Nat300_F_153'\n",
            "p154\n",
            "aS'Nat300_F_154'\n",
            "p155\n",
            "aS'Nat300_F_155'\n",
            "p156\n",
            "aS'Nat300_F_156'\n",
            "p157\n",
            "aS'Nat300_F_157'\n",
            "p158\n",
            "aS'Nat300_F_158'\n",
            "p159\n",
            "aS'Nat300_F_159'\n",
            "p160\n",
            "aS'Nat300_F_160'\n",
            "p161\n",
            "aS'Nat300_F_161'\n",
            "p162\n",
            "aS'Nat300_F_162'\n",
            "p163\n",
            "aS'Nat300_F_163'\n",
            "p164\n",
            "aS'Nat300_F_164'\n",
            "p165\n",
            "aS'Nat300_F_165'\n",
            "p166\n",
            "aS'Nat300_F_166'\n",
            "p167\n",
            "aS'Nat300_F_167'\n",
            "p168\n",
            "aS'Nat300_F_168'\n",
            "p169\n",
            "aS'Nat300_F_169'\n",
            "p170\n",
            "aS'Nat300_F_170'\n",
            "p171\n",
            "aS'Nat300_F_171'\n",
            "p172\n",
            "aS'Nat300_F_172'\n",
            "p173\n",
            "aS'Nat300_F_173'\n",
            "p174\n",
            "aS'Nat300_F_174'\n",
            "p175\n",
            "aS'Nat300_F_175'\n",
            "p176\n",
            "aS'Nat300_F_176'\n",
            "p177\n",
            "aS'Nat300_F_177'\n",
            "p178\n",
            "aS'Nat300_F_178'\n",
            "p179\n",
            "aS'Nat300_F_179'\n",
            "p180\n",
            "aS'Nat300_F_180'\n",
            "p181\n",
            "aS'Nat300_F_181'\n",
            "p182\n",
            "aS'Nat300_F_182'\n",
            "p183\n",
            "aS'Nat300_F_183'\n",
            "p184\n",
            "aS'Nat300_F_184'\n",
            "p185\n",
            "aS'Nat300_F_185'\n",
            "p186\n",
            "aS'Nat300_F_186'\n",
            "p187\n",
            "aS'Nat300_F_187'\n",
            "p188\n",
            "aS'Nat300_F_188'\n",
            "p189\n",
            "aS'Nat300_F_189'\n",
            "p190\n",
            "aS'Nat300_F_190'\n",
            "p191\n",
            "aS'Nat300_F_191'\n",
            "p192\n",
            "aS'Nat300_F_192'\n",
            "p193\n",
            "aS'Nat300_F_193'\n",
            "p194\n",
            "aS'Nat300_F_194'\n",
            "p195\n",
            "aS'Nat300_F_195'\n",
            "p196\n",
            "aS'Nat300_F_196'\n",
            "p197\n",
            "aS'Nat300_F_197'\n",
            "p198\n",
            "aS'Nat300_F_198'\n",
            "p199\n",
            "aS'Nat300_F_199'\n",
            "p200\n",
            "aS'Nat300_F_200'\n",
            "p201\n",
            "aS'Nat300_F_201'\n",
            "p202\n",
            "aS'Nat300_F_202'\n",
            "p203\n",
            "aS'Nat300_F_203'\n",
            "p204\n",
            "aS'Nat300_F_204'\n",
            "p205\n",
            "aS'Nat300_F_205'\n",
            "p206\n",
            "aS'Nat300_F_206'\n",
            "p207\n",
            "aS'Nat300_F_207'\n",
            "p208\n",
            "aS'Nat300_F_208'\n",
            "p209\n",
            "aS'Nat300_F_209'\n",
            "p210\n",
            "aS'Nat300_F_210'\n",
            "p211\n",
            "aS'Nat300_F_211'\n",
            "p212\n",
            "aS'Nat300_F_212'\n",
            "p213\n",
            "aS'Nat300_F_213'\n",
            "p214\n",
            "aS'Nat300_F_214'\n",
            "p215\n",
            "aS'Nat300_F_215'\n",
            "p216\n",
            "aS'Nat300_F_216'\n",
            "p217\n",
            "aS'Nat300_F_217'\n",
            "p218\n",
            "aS'Nat300_F_218'\n",
            "p219\n",
            "aS'Nat300_F_219'\n",
            "p220\n",
            "aS'Nat300_F_220'\n",
            "p221\n",
            "aS'Nat300_F_221'\n",
            "p222\n",
            "aS'Nat300_F_222'\n",
            "p223\n",
            "aS'Nat300_F_223'\n",
            "p224\n",
            "aS'Nat300_F_224'\n",
            "p225\n",
            "aS'Nat300_F_225'\n",
            "p226\n",
            "aS'Nat300_F_226'\n",
            "p227\n",
            "aS'Nat300_F_227'\n",
            "p228\n",
            "aS'Nat300_F_228'\n",
            "p229\n",
            "aS'Nat300_F_229'\n",
            "p230\n",
            "aS'Nat300_F_230'\n",
            "p231\n",
            "aS'Nat300_F_231'\n",
            "p232\n",
            "aS'Nat300_F_232'\n",
            "p233\n",
            "aS'Nat300_F_233'\n",
            "p234\n",
            "aS'Nat300_F_234'\n",
            "p235\n",
            "aS'Nat300_F_235'\n",
            "p236\n",
            "aS'Nat300_F_236'\n",
            "p237\n",
            "aS'Nat300_F_237'\n",
            "p238\n",
            "aS'Nat300_F_238'\n",
            "p239\n",
            "aS'Nat300_F_239'\n",
            "p240\n",
            "aS'Nat300_F_240'\n",
            "p241\n",
            "aS'Nat300_F_241'\n",
            "p242\n",
            "aS'Nat300_F_242'\n",
            "p243\n",
            "aS'Nat300_F_243'\n",
            "p244\n",
            "aS'Nat300_F_244'\n",
            "p245\n",
            "aS'Nat300_F_245'\n",
            "p246\n",
            "aS'Nat300_F_246'\n",
            "p247\n",
            "aS'Nat300_F_247'\n",
            "p248\n",
            "aS'Nat300_F_248'\n",
            "p249\n",
            "aS'Nat300_F_249'\n",
            "p250\n",
            "aS'Nat300_F_250'\n",
            "p251\n",
            "aS'Nat300_F_251'\n",
            "p252\n",
            "aS'Nat300_F_252'\n",
            "p253\n",
            "aS'Nat300_F_253'\n",
            "p254\n",
            "aS'Nat300_F_254'\n",
            "p255\n",
            "aS'Nat300_F_255'\n",
            "p256\n",
            "aS'Nat300_F_256'\n",
            "p257\n",
            "aS'Nat300_F_257'\n",
            "p258\n",
            "aS'Nat300_F_258'\n",
            "p259\n",
            "aS'Nat300_F_259'\n",
            "p260\n",
            "aS'Nat300_F_260'\n",
            "p261\n",
            "aS'Nat300_F_261'\n",
            "p262\n",
            "aS'Nat300_F_262'\n",
            "p263\n",
            "aS'Nat300_F_263'\n",
            "p264\n",
            "aS'Nat300_F_264'\n",
            "p265\n",
            "aS'Nat300_F_265'\n",
            "p266\n",
            "aS'Nat300_F_266'\n",
            "p267\n",
            "aS'Nat300_F_267'\n",
            "p268\n",
            "aS'Nat300_F_268'\n",
            "p269\n",
            "aS'Nat300_F_269'\n",
            "p270\n",
            "aS'Nat300_F_270'\n",
            "p271\n",
            "aS'Nat300_F_271'\n",
            "p272\n",
            "aS'Nat300_F_272'\n",
            "p273\n",
            "aS'Nat300_F_273'\n",
            "p274\n",
            "aS'Nat300_F_274'\n",
            "p275\n",
            "aS'Nat300_F_275'\n",
            "p276\n",
            "aS'Nat300_F_276'\n",
            "p277\n",
            "aS'Nat300_F_277'\n",
            "p278\n",
            "aS'Nat300_F_278'\n",
            "p279\n",
            "aS'Nat300_F_279'\n",
            "p280\n",
            "aS'Nat300_F_280'\n",
            "p281\n",
            "aS'Nat300_F_281'\n",
            "p282\n",
            "aS'Nat300_F_282'\n",
            "p283\n",
            "aS'Nat300_F_283'\n",
            "p284\n",
            "aS'Nat300_F_284'\n",
            "p285\n",
            "aS'Nat300_F_285'\n",
            "p286\n",
            "aS'Nat300_F_286'\n",
            "p287\n",
            "aS'Nat300_F_287'\n",
            "p288\n",
            "aS'Nat300_F_288'\n",
            "p289\n",
            "aS'Nat300_F_289'\n",
            "p290\n",
            "aS'Nat300_F_290'\n",
            "p291\n",
            "aS'Nat300_F_291'\n",
            "p292\n",
            "aS'Nat300_F_292'\n",
            "p293\n",
            "aS'Nat300_F_293'\n",
            "p294\n",
            "aS'Nat300_F_294'\n",
            "p295\n",
            "aS'Nat300_F_295'\n",
            "p296\n",
            "aS'Nat300_F_296'\n",
            "p297\n",
            "aS'Nat300_F_297'\n",
            "p298\n",
            "aS'Nat300_F_298'\n",
            "p299\n",
            "aS'Nat300_F_299'\n",
            "p300\n",
            "aS'Nat300_F_300'\n",
            "p301\n",
            "aS'Nat300_F_301'\n",
            "p302\n",
            "aS'Nat300_F_302'\n",
            "p303\n",
            "aS'Nat300_F_303'\n",
            "p304\n",
            "aS'Nat300_F_304'\n",
            "p305\n",
            "aS'Nat300_F_305'\n",
            "p306\n",
            "a.\n",
            "\n",
            "idx2lbl\n",
            "/meta/idx2lbl (Array(6, 2)) ''\n",
            "[[70, 170], [50, 100], [100, 150], [150, 200], [200, 250], [70, 270]]\n",
            "\n",
            "idx2lbl_pk\n",
            "/meta/idx2lbl_pk (Array()) ''\n",
            "(lp1\n",
            "(I70\n",
            "I170\n",
            "tp2\n",
            "a(I50\n",
            "I100\n",
            "tp3\n",
            "a(I100\n",
            "I150\n",
            "tp4\n",
            "a(I150\n",
            "I200\n",
            "tp5\n",
            "a(I200\n",
            "I250\n",
            "tp6\n",
            "a(I70\n",
            "I270\n",
            "tp7\n",
            "a.\n",
            "\n",
            "iid2idx_pk\n",
            "/meta/iid2idx_pk (Array()) ''\n",
            "(dp1\n",
            "S'Nat300_F_215'\n",
            "p2\n",
            "I214\n",
            "sS'Nat300_F_214'\n",
            "p3\n",
            "I213\n",
            "sS'Nat300_F_4'\n",
            "p4\n",
            "I3\n",
            "sS'Nat300_F_5'\n",
            "p5\n",
            "I4\n",
            "sS'Nat300_F_6'\n",
            "p6\n",
            "I5\n",
            "sS'Nat300_F_7'\n",
            "p7\n",
            "I6\n",
            "sS'Nat300_F_248'\n",
            "p8\n",
            "I247\n",
            "sS'Nat300_F_1'\n",
            "p9\n",
            "I0\n",
            "sS'Nat300_F_2'\n",
            "p10\n",
            "I1\n",
            "sS'Nat300_F_3'\n",
            "p11\n",
            "I2\n",
            "sS'Nat300_F_244'\n",
            "p12\n",
            "I243\n",
            "sS'Nat300_F_245'\n",
            "p13\n",
            "I244\n",
            "sS'Nat300_F_246'\n",
            "p14\n",
            "I245\n",
            "sS'Nat300_F_247'\n",
            "p15\n",
            "I246\n",
            "sS'Nat300_F_8'\n",
            "p16\n",
            "I7\n",
            "sS'Nat300_F_9'\n",
            "p17\n",
            "I8\n",
            "sS'Nat300_F_242'\n",
            "p18\n",
            "I241\n",
            "sS'Nat300_F_243'\n",
            "p19\n",
            "I242\n",
            "sS'Nat300_F_16'\n",
            "p20\n",
            "I15\n",
            "sS'Nat300_F_17'\n",
            "p21\n",
            "I16\n",
            "sS'Nat300_F_14'\n",
            "p22\n",
            "I13\n",
            "sS'Nat300_F_15'\n",
            "p23\n",
            "I14\n",
            "sS'Nat300_F_12'\n",
            "p24\n",
            "I11\n",
            "sS'Nat300_F_13'\n",
            "p25\n",
            "I12\n",
            "sS'Nat300_F_10'\n",
            "p26\n",
            "I9\n",
            "sS'Nat300_F_11'\n",
            "p27\n",
            "I10\n",
            "sS'Nat300_F_291'\n",
            "p28\n",
            "I290\n",
            "sS'Nat300_F_18'\n",
            "p29\n",
            "I17\n",
            "sS'Nat300_F_19'\n",
            "p30\n",
            "I18\n",
            "sS'Nat300_F_136'\n",
            "p31\n",
            "I135\n",
            "sS'Nat300_F_137'\n",
            "p32\n",
            "I136\n",
            "sS'Nat300_F_134'\n",
            "p33\n",
            "I133\n",
            "sS'Nat300_F_135'\n",
            "p34\n",
            "I134\n",
            "sS'Nat300_F_132'\n",
            "p35\n",
            "I131\n",
            "sS'Nat300_F_133'\n",
            "p36\n",
            "I132\n",
            "sS'Nat300_F_98'\n",
            "p37\n",
            "I97\n",
            "sS'Nat300_F_99'\n",
            "p38\n",
            "I98\n",
            "sS'Nat300_F_96'\n",
            "p39\n",
            "I95\n",
            "sS'Nat300_F_97'\n",
            "p40\n",
            "I96\n",
            "sS'Nat300_F_94'\n",
            "p41\n",
            "I93\n",
            "sS'Nat300_F_95'\n",
            "p42\n",
            "I94\n",
            "sS'Nat300_F_92'\n",
            "p43\n",
            "I91\n",
            "sS'Nat300_F_93'\n",
            "p44\n",
            "I92\n",
            "sS'Nat300_F_90'\n",
            "p45\n",
            "I89\n",
            "sS'Nat300_F_91'\n",
            "p46\n",
            "I90\n",
            "sS'Nat300_F_154'\n",
            "p47\n",
            "I153\n",
            "sS'Nat300_F_155'\n",
            "p48\n",
            "I154\n",
            "sS'Nat300_F_156'\n",
            "p49\n",
            "I155\n",
            "sS'Nat300_F_157'\n",
            "p50\n",
            "I156\n",
            "sS'Nat300_F_150'\n",
            "p51\n",
            "I149\n",
            "sS'Nat300_F_151'\n",
            "p52\n",
            "I150\n",
            "sS'Nat300_F_152'\n",
            "p53\n",
            "I151\n",
            "sS'Nat300_F_153'\n",
            "p54\n",
            "I152\n",
            "sS'Nat300_F_158'\n",
            "p55\n",
            "I157\n",
            "sS'Nat300_F_159'\n",
            "p56\n",
            "I158\n",
            "sS'Nat300_F_293'\n",
            "p57\n",
            "I292\n",
            "sS'Nat300_F_122'\n",
            "p58\n",
            "I121\n",
            "sS'Nat300_F_259'\n",
            "p59\n",
            "I258\n",
            "sS'Nat300_F_258'\n",
            "p60\n",
            "I257\n",
            "sS'Nat300_F_257'\n",
            "p61\n",
            "I256\n",
            "sS'Nat300_F_256'\n",
            "p62\n",
            "I255\n",
            "sS'Nat300_F_255'\n",
            "p63\n",
            "I254\n",
            "sS'Nat300_F_254'\n",
            "p64\n",
            "I253\n",
            "sS'Nat300_F_253'\n",
            "p65\n",
            "I252\n",
            "sS'Nat300_F_252'\n",
            "p66\n",
            "I251\n",
            "sS'Nat300_F_251'\n",
            "p67\n",
            "I250\n",
            "sS'Nat300_F_250'\n",
            "p68\n",
            "I249\n",
            "sS'Nat300_F_290'\n",
            "p69\n",
            "I289\n",
            "sS'Nat300_F_297'\n",
            "p70\n",
            "I296\n",
            "sS'Nat300_F_265'\n",
            "p71\n",
            "I264\n",
            "sS'Nat300_F_296'\n",
            "p72\n",
            "I295\n",
            "sS'Nat300_F_63'\n",
            "p73\n",
            "I62\n",
            "sS'Nat300_F_62'\n",
            "p74\n",
            "I61\n",
            "sS'Nat300_F_61'\n",
            "p75\n",
            "I60\n",
            "sS'Nat300_F_60'\n",
            "p76\n",
            "I59\n",
            "sS'Nat300_F_67'\n",
            "p77\n",
            "I66\n",
            "sS'Nat300_F_66'\n",
            "p78\n",
            "I65\n",
            "sS'Nat300_F_65'\n",
            "p79\n",
            "I64\n",
            "sS'Nat300_F_64'\n",
            "p80\n",
            "I63\n",
            "sS'Nat300_F_129'\n",
            "p81\n",
            "I128\n",
            "sS'Nat300_F_128'\n",
            "p82\n",
            "I127\n",
            "sS'Nat300_F_69'\n",
            "p83\n",
            "I68\n",
            "sS'Nat300_F_68'\n",
            "p84\n",
            "I67\n",
            "sS'Nat300_F_249'\n",
            "p85\n",
            "I248\n",
            "sS'Nat300_F_147'\n",
            "p86\n",
            "I146\n",
            "sS'Nat300_F_146'\n",
            "p87\n",
            "I145\n",
            "sS'Nat300_F_145'\n",
            "p88\n",
            "I144\n",
            "sS'Nat300_F_144'\n",
            "p89\n",
            "I143\n",
            "sS'Nat300_F_143'\n",
            "p90\n",
            "I142\n",
            "sS'Nat300_F_142'\n",
            "p91\n",
            "I141\n",
            "sS'Nat300_F_141'\n",
            "p92\n",
            "I140\n",
            "sS'Nat300_F_140'\n",
            "p93\n",
            "I139\n",
            "sS'Nat300_F_168'\n",
            "p94\n",
            "I167\n",
            "sS'Nat300_F_300'\n",
            "p95\n",
            "I299\n",
            "sS'Nat300_F_303'\n",
            "p96\n",
            "I302\n",
            "sS'Nat300_F_302'\n",
            "p97\n",
            "I301\n",
            "sS'Nat300_F_305'\n",
            "p98\n",
            "I304\n",
            "sS'Nat300_F_304'\n",
            "p99\n",
            "I303\n",
            "sS'Nat300_F_149'\n",
            "p100\n",
            "I148\n",
            "sS'Nat300_F_148'\n",
            "p101\n",
            "I147\n",
            "sS'Nat300_F_280'\n",
            "p102\n",
            "I279\n",
            "sS'Nat300_F_268'\n",
            "p103\n",
            "I267\n",
            "sS'Nat300_F_269'\n",
            "p104\n",
            "I268\n",
            "sS'Nat300_F_104'\n",
            "p105\n",
            "I103\n",
            "sS'Nat300_F_262'\n",
            "p106\n",
            "I261\n",
            "sS'Nat300_F_263'\n",
            "p107\n",
            "I262\n",
            "sS'Nat300_F_260'\n",
            "p108\n",
            "I259\n",
            "sS'Nat300_F_210'\n",
            "p109\n",
            "I209\n",
            "sS'Nat300_F_125'\n",
            "p110\n",
            "I124\n",
            "sS'Nat300_F_267'\n",
            "p111\n",
            "I266\n",
            "sS'Nat300_F_264'\n",
            "p112\n",
            "I263\n",
            "sS'Nat300_F_177'\n",
            "p113\n",
            "I176\n",
            "sS'Nat300_F_121'\n",
            "p114\n",
            "I120\n",
            "sS'Nat300_F_120'\n",
            "p115\n",
            "I119\n",
            "sS'Nat300_F_240'\n",
            "p116\n",
            "I239\n",
            "sS'Nat300_F_123'\n",
            "p117\n",
            "I122\n",
            "sS'Nat300_F_241'\n",
            "p118\n",
            "I240\n",
            "sS'Nat300_F_70'\n",
            "p119\n",
            "I69\n",
            "sS'Nat300_F_71'\n",
            "p120\n",
            "I70\n",
            "sS'Nat300_F_72'\n",
            "p121\n",
            "I71\n",
            "sS'Nat300_F_73'\n",
            "p122\n",
            "I72\n",
            "sS'Nat300_F_74'\n",
            "p123\n",
            "I73\n",
            "sS'Nat300_F_75'\n",
            "p124\n",
            "I74\n",
            "sS'Nat300_F_76'\n",
            "p125\n",
            "I75\n",
            "sS'Nat300_F_77'\n",
            "p126\n",
            "I76\n",
            "sS'Nat300_F_78'\n",
            "p127\n",
            "I77\n",
            "sS'Nat300_F_79'\n",
            "p128\n",
            "I78\n",
            "sS'Nat300_F_124'\n",
            "p129\n",
            "I123\n",
            "sS'Nat300_F_172'\n",
            "p130\n",
            "I171\n",
            "sS'Nat300_F_173'\n",
            "p131\n",
            "I172\n",
            "sS'Nat300_F_170'\n",
            "p132\n",
            "I169\n",
            "sS'Nat300_F_171'\n",
            "p133\n",
            "I170\n",
            "sS'Nat300_F_176'\n",
            "p134\n",
            "I175\n",
            "sS'Nat300_F_127'\n",
            "p135\n",
            "I126\n",
            "sS'Nat300_F_174'\n",
            "p136\n",
            "I173\n",
            "sS'Nat300_F_175'\n",
            "p137\n",
            "I174\n",
            "sS'Nat300_F_178'\n",
            "p138\n",
            "I177\n",
            "sS'Nat300_F_126'\n",
            "p139\n",
            "I125\n",
            "sS'Nat300_F_282'\n",
            "p140\n",
            "I281\n",
            "sS'Nat300_F_275'\n",
            "p141\n",
            "I274\n",
            "sS'Nat300_F_274'\n",
            "p142\n",
            "I273\n",
            "sS'Nat300_F_277'\n",
            "p143\n",
            "I276\n",
            "sS'Nat300_F_276'\n",
            "p144\n",
            "I275\n",
            "sS'Nat300_F_271'\n",
            "p145\n",
            "I270\n",
            "sS'Nat300_F_270'\n",
            "p146\n",
            "I269\n",
            "sS'Nat300_F_273'\n",
            "p147\n",
            "I272\n",
            "sS'Nat300_F_272'\n",
            "p148\n",
            "I271\n",
            "sS'Nat300_F_295'\n",
            "p149\n",
            "I294\n",
            "sS'Nat300_F_279'\n",
            "p150\n",
            "I278\n",
            "sS'Nat300_F_278'\n",
            "p151\n",
            "I277\n",
            "sS'Nat300_F_281'\n",
            "p152\n",
            "I280\n",
            "sS'Nat300_F_166'\n",
            "p153\n",
            "I165\n",
            "sS'Nat300_F_284'\n",
            "p154\n",
            "I283\n",
            "sS'Nat300_F_283'\n",
            "p155\n",
            "I282\n",
            "sS'Nat300_F_294'\n",
            "p156\n",
            "I293\n",
            "sS'Nat300_F_285'\n",
            "p157\n",
            "I284\n",
            "sS'Nat300_F_45'\n",
            "p158\n",
            "I44\n",
            "sS'Nat300_F_44'\n",
            "p159\n",
            "I43\n",
            "sS'Nat300_F_47'\n",
            "p160\n",
            "I46\n",
            "sS'Nat300_F_46'\n",
            "p161\n",
            "I45\n",
            "sS'Nat300_F_41'\n",
            "p162\n",
            "I40\n",
            "sS'Nat300_F_40'\n",
            "p163\n",
            "I39\n",
            "sS'Nat300_F_43'\n",
            "p164\n",
            "I42\n",
            "sS'Nat300_F_42'\n",
            "p165\n",
            "I41\n",
            "sS'Nat300_F_287'\n",
            "p166\n",
            "I286\n",
            "sS'Nat300_F_49'\n",
            "p167\n",
            "I48\n",
            "sS'Nat300_F_48'\n",
            "p168\n",
            "I47\n",
            "sS'Nat300_F_266'\n",
            "p169\n",
            "I265\n",
            "sS'Nat300_F_200'\n",
            "p170\n",
            "I199\n",
            "sS'Nat300_F_201'\n",
            "p171\n",
            "I200\n",
            "sS'Nat300_F_202'\n",
            "p172\n",
            "I201\n",
            "sS'Nat300_F_203'\n",
            "p173\n",
            "I202\n",
            "sS'Nat300_F_204'\n",
            "p174\n",
            "I203\n",
            "sS'Nat300_F_205'\n",
            "p175\n",
            "I204\n",
            "sS'Nat300_F_206'\n",
            "p176\n",
            "I205\n",
            "sS'Nat300_F_207'\n",
            "p177\n",
            "I206\n",
            "sS'Nat300_F_208'\n",
            "p178\n",
            "I207\n",
            "sS'Nat300_F_209'\n",
            "p179\n",
            "I208\n",
            "sS'Nat300_F_58'\n",
            "p180\n",
            "I57\n",
            "sS'Nat300_F_59'\n",
            "p181\n",
            "I58\n",
            "sS'Nat300_F_52'\n",
            "p182\n",
            "I51\n",
            "sS'Nat300_F_53'\n",
            "p183\n",
            "I52\n",
            "sS'Nat300_F_50'\n",
            "p184\n",
            "I49\n",
            "sS'Nat300_F_51'\n",
            "p185\n",
            "I50\n",
            "sS'Nat300_F_56'\n",
            "p186\n",
            "I55\n",
            "sS'Nat300_F_57'\n",
            "p187\n",
            "I56\n",
            "sS'Nat300_F_54'\n",
            "p188\n",
            "I53\n",
            "sS'Nat300_F_55'\n",
            "p189\n",
            "I54\n",
            "sS'Nat300_F_301'\n",
            "p190\n",
            "I300\n",
            "sS'Nat300_F_130'\n",
            "p191\n",
            "I129\n",
            "sS'Nat300_F_131'\n",
            "p192\n",
            "I130\n",
            "sS'Nat300_F_190'\n",
            "p193\n",
            "I189\n",
            "sS'Nat300_F_191'\n",
            "p194\n",
            "I190\n",
            "sS'Nat300_F_192'\n",
            "p195\n",
            "I191\n",
            "sS'Nat300_F_193'\n",
            "p196\n",
            "I192\n",
            "sS'Nat300_F_194'\n",
            "p197\n",
            "I193\n",
            "sS'Nat300_F_195'\n",
            "p198\n",
            "I194\n",
            "sS'Nat300_F_196'\n",
            "p199\n",
            "I195\n",
            "sS'Nat300_F_197'\n",
            "p200\n",
            "I196\n",
            "sS'Nat300_F_198'\n",
            "p201\n",
            "I197\n",
            "sS'Nat300_F_199'\n",
            "p202\n",
            "I198\n",
            "sS'Nat300_F_219'\n",
            "p203\n",
            "I218\n",
            "sS'Nat300_F_218'\n",
            "p204\n",
            "I217\n",
            "sS'Nat300_F_29'\n",
            "p205\n",
            "I28\n",
            "sS'Nat300_F_28'\n",
            "p206\n",
            "I27\n",
            "sS'Nat300_F_27'\n",
            "p207\n",
            "I26\n",
            "sS'Nat300_F_26'\n",
            "p208\n",
            "I25\n",
            "sS'Nat300_F_25'\n",
            "p209\n",
            "I24\n",
            "sS'Nat300_F_24'\n",
            "p210\n",
            "I23\n",
            "sS'Nat300_F_23'\n",
            "p211\n",
            "I22\n",
            "sS'Nat300_F_22'\n",
            "p212\n",
            "I21\n",
            "sS'Nat300_F_21'\n",
            "p213\n",
            "I20\n",
            "sS'Nat300_F_20'\n",
            "p214\n",
            "I19\n",
            "sS'Nat300_F_288'\n",
            "p215\n",
            "I287\n",
            "sS'Nat300_F_289'\n",
            "p216\n",
            "I288\n",
            "sS'Nat300_F_169'\n",
            "p217\n",
            "I168\n",
            "sS'Nat300_F_138'\n",
            "p218\n",
            "I137\n",
            "sS'Nat300_F_165'\n",
            "p219\n",
            "I164\n",
            "sS'Nat300_F_164'\n",
            "p220\n",
            "I163\n",
            "sS'Nat300_F_167'\n",
            "p221\n",
            "I166\n",
            "sS'Nat300_F_139'\n",
            "p222\n",
            "I138\n",
            "sS'Nat300_F_161'\n",
            "p223\n",
            "I160\n",
            "sS'Nat300_F_160'\n",
            "p224\n",
            "I159\n",
            "sS'Nat300_F_163'\n",
            "p225\n",
            "I162\n",
            "sS'Nat300_F_162'\n",
            "p226\n",
            "I161\n",
            "sS'Nat300_F_228'\n",
            "p227\n",
            "I227\n",
            "sS'Nat300_F_229'\n",
            "p228\n",
            "I228\n",
            "sS'Nat300_F_226'\n",
            "p229\n",
            "I225\n",
            "sS'Nat300_F_227'\n",
            "p230\n",
            "I226\n",
            "sS'Nat300_F_224'\n",
            "p231\n",
            "I223\n",
            "sS'Nat300_F_225'\n",
            "p232\n",
            "I224\n",
            "sS'Nat300_F_222'\n",
            "p233\n",
            "I221\n",
            "sS'Nat300_F_223'\n",
            "p234\n",
            "I222\n",
            "sS'Nat300_F_220'\n",
            "p235\n",
            "I219\n",
            "sS'Nat300_F_221'\n",
            "p236\n",
            "I220\n",
            "sS'Nat300_F_183'\n",
            "p237\n",
            "I182\n",
            "sS'Nat300_F_182'\n",
            "p238\n",
            "I181\n",
            "sS'Nat300_F_181'\n",
            "p239\n",
            "I180\n",
            "sS'Nat300_F_180'\n",
            "p240\n",
            "I179\n",
            "sS'Nat300_F_187'\n",
            "p241\n",
            "I186\n",
            "sS'Nat300_F_186'\n",
            "p242\n",
            "I185\n",
            "sS'Nat300_F_185'\n",
            "p243\n",
            "I184\n",
            "sS'Nat300_F_184'\n",
            "p244\n",
            "I183\n",
            "sS'Nat300_F_189'\n",
            "p245\n",
            "I188\n",
            "sS'Nat300_F_188'\n",
            "p246\n",
            "I187\n",
            "sS'Nat300_F_261'\n",
            "p247\n",
            "I260\n",
            "sS'Nat300_F_38'\n",
            "p248\n",
            "I37\n",
            "sS'Nat300_F_39'\n",
            "p249\n",
            "I38\n",
            "sS'Nat300_F_34'\n",
            "p250\n",
            "I33\n",
            "sS'Nat300_F_35'\n",
            "p251\n",
            "I34\n",
            "sS'Nat300_F_36'\n",
            "p252\n",
            "I35\n",
            "sS'Nat300_F_37'\n",
            "p253\n",
            "I36\n",
            "sS'Nat300_F_30'\n",
            "p254\n",
            "I29\n",
            "sS'Nat300_F_31'\n",
            "p255\n",
            "I30\n",
            "sS'Nat300_F_32'\n",
            "p256\n",
            "I31\n",
            "sS'Nat300_F_33'\n",
            "p257\n",
            "I32\n",
            "sS'Nat300_F_118'\n",
            "p258\n",
            "I117\n",
            "sS'Nat300_F_119'\n",
            "p259\n",
            "I118\n",
            "sS'Nat300_F_299'\n",
            "p260\n",
            "I298\n",
            "sS'Nat300_F_298'\n",
            "p261\n",
            "I297\n",
            "sS'Nat300_F_110'\n",
            "p262\n",
            "I109\n",
            "sS'Nat300_F_111'\n",
            "p263\n",
            "I110\n",
            "sS'Nat300_F_112'\n",
            "p264\n",
            "I111\n",
            "sS'Nat300_F_113'\n",
            "p265\n",
            "I112\n",
            "sS'Nat300_F_114'\n",
            "p266\n",
            "I113\n",
            "sS'Nat300_F_115'\n",
            "p267\n",
            "I114\n",
            "sS'Nat300_F_116'\n",
            "p268\n",
            "I115\n",
            "sS'Nat300_F_117'\n",
            "p269\n",
            "I116\n",
            "sS'Nat300_F_239'\n",
            "p270\n",
            "I238\n",
            "sS'Nat300_F_238'\n",
            "p271\n",
            "I237\n",
            "sS'Nat300_F_231'\n",
            "p272\n",
            "I230\n",
            "sS'Nat300_F_230'\n",
            "p273\n",
            "I229\n",
            "sS'Nat300_F_233'\n",
            "p274\n",
            "I232\n",
            "sS'Nat300_F_232'\n",
            "p275\n",
            "I231\n",
            "sS'Nat300_F_235'\n",
            "p276\n",
            "I234\n",
            "sS'Nat300_F_234'\n",
            "p277\n",
            "I233\n",
            "sS'Nat300_F_237'\n",
            "p278\n",
            "I236\n",
            "sS'Nat300_F_236'\n",
            "p279\n",
            "I235\n",
            "sS'Nat300_F_103'\n",
            "p280\n",
            "I102\n",
            "sS'Nat300_F_179'\n",
            "p281\n",
            "I178\n",
            "sS'Nat300_F_102'\n",
            "p282\n",
            "I101\n",
            "sS'Nat300_F_217'\n",
            "p283\n",
            "I216\n",
            "sS'Nat300_F_101'\n",
            "p284\n",
            "I100\n",
            "sS'Nat300_F_213'\n",
            "p285\n",
            "I212\n",
            "sS'Nat300_F_100'\n",
            "p286\n",
            "I99\n",
            "sS'Nat300_F_286'\n",
            "p287\n",
            "I285\n",
            "sS'Nat300_F_212'\n",
            "p288\n",
            "I211\n",
            "sS'Nat300_F_107'\n",
            "p289\n",
            "I106\n",
            "sS'Nat300_F_292'\n",
            "p290\n",
            "I291\n",
            "sS'Nat300_F_211'\n",
            "p291\n",
            "I210\n",
            "sS'Nat300_F_106'\n",
            "p292\n",
            "I105\n",
            "sS'Nat300_F_89'\n",
            "p293\n",
            "I88\n",
            "sS'Nat300_F_88'\n",
            "p294\n",
            "I87\n",
            "sS'Nat300_F_109'\n",
            "p295\n",
            "I108\n",
            "sS'Nat300_F_108'\n",
            "p296\n",
            "I107\n",
            "sS'Nat300_F_105'\n",
            "p297\n",
            "I104\n",
            "sS'Nat300_F_216'\n",
            "p298\n",
            "I215\n",
            "sS'Nat300_F_81'\n",
            "p299\n",
            "I80\n",
            "sS'Nat300_F_80'\n",
            "p300\n",
            "I79\n",
            "sS'Nat300_F_83'\n",
            "p301\n",
            "I82\n",
            "sS'Nat300_F_82'\n",
            "p302\n",
            "I81\n",
            "sS'Nat300_F_85'\n",
            "p303\n",
            "I84\n",
            "sS'Nat300_F_84'\n",
            "p304\n",
            "I83\n",
            "sS'Nat300_F_87'\n",
            "p305\n",
            "I86\n",
            "sS'Nat300_F_86'\n",
            "p306\n",
            "I85\n",
            "s.\n",
            "\n",
            "lbl2idx_pk\n",
            "/meta/lbl2idx_pk (Array()) ''\n",
            "(dp1\n",
            "(I100\n",
            "I150\n",
            "tp2\n",
            "I2\n",
            "s(I70\n",
            "I170\n",
            "tp3\n",
            "I0\n",
            "s(I50\n",
            "I100\n",
            "tp4\n",
            "I1\n",
            "s(I150\n",
            "I200\n",
            "tp5\n",
            "I3\n",
            "s(I200\n",
            "I250\n",
            "tp6\n",
            "I4\n",
            "s(I70\n",
            "I270\n",
            "tp7\n",
            "I5\n",
            "s.\n",
            "\n",
            "ntrials_img\n",
            "/meta/ntrials_img (Array(6, 305, 296)) ''\n",
            "\n",
            "orgfile\n",
            "/meta/orgfile (CArray(6, 179, 305, 296), shuffle, blosc(4)) ''\n",
            "\n",
            "srcfiles\n",
            "/meta/srcfiles (Array(66,)) ''\n",
            "['Chabo_20110301_RSVPNicole305_S110204_001.e450.psf.pk', 'Chabo_20110301_RSVPNicole305_S110204_002.e450.psf.pk', 'Chabo_20110302_RSVPNicole305_S110204_001.e450.psf.pk', 'Chabo_20110302_RSVPNicole305_S110204_002.e450.psf.pk', 'Chabo_20110302_RSVPNicole305_S110204_003.e450.psf.pk', 'Chabo_20110302_RSVPNicole305_S110204_004.e450.psf.pk', 'Chabo_20110302_RSVPNicole305_S110204_005.e450.psf.pk', 'Chabo_20110302_RSVPNicole305_S110204_006.psf.pk', 'Chabo_20110303_RSVPNicole305_S110204_RefAA_001.psf.pk', 'Chabo_20110303_RSVPNicole305_S110204_RefMA_002.psf.pk', 'Chabo_20110303_RSVPNicole305_S110204_RefPA_003.psf.pk', 'Chabo_20110308_RSVPNicole305_S110204_RefAA_001.psf.pk', 'Chabo_20110312_RSVPNicole305_S110204_RefAA_001.psf.pk', 'Chabo_20110313_RSVPNicole305_S110204_RefAA_001.psf.pk', 'Chabo_20110323_RSVPNicole305_S110204_001.psf.pk', 'Chabo_20110323_RSVPNicole305_S110204_002.psf.pk', 'Chabo_20110323_RSVPNicole305_S110204_003.psf.pk', 'Chabo_20110330_RSVPNicole305_S110204_RefAA_001.psf.pk', 'Chabo_20110330_RSVPNicole305_S110204_RefAA_002.psf.pk', 'Chabo_20110331_RSVPNicole305_S110204_RefAA_001.psf.pk', 'Chabo_20110331_RSVPNicole305_S110204_RefAA_002.psf.pk', 'Chabo_20110331_RSVPNicole305_S110204_RefAA_003.psf.pk', 'Chabo_20110403_RSVPNicole305_S110204_RefAA_001.psf.pk', 'Chabo_20110403_RSVPNicole305_S110204_RefAA_002.psf.pk', 'Chabo_20110403_RSVPNicole305_S110204_RefAA_003.psf.pk', 'Chabo_20110404_RSVPNicole305_S110204_RefAA_001.psf.pk', 'Chabo_20110404_RSVPNicole305_S110204_RefAA_002.psf.pk', 'Chabo_20110406_RSVPNicole305_S110204_RefAA_001.psf.pk', 'Chabo_20110406_RSVPNicole305_S110204_RefAA_002.psf.pk', 'Chabo_20110406_RSVPNicole305_S110204_RefAA_003.psf.pk', 'Tito_20110821_RSVPNicole305_S110720A_001.psf.pk', 'Tito_20110821_RSVPNicole305_S110720A_002.psf.pk', 'Tito_20110821_RSVPNicole305_S110720A_003.psf.pk', 'Tito_20110821_RSVPNicole305_S110720A_NSP2_P_001.psf.pk', 'Tito_20110821_RSVPNicole305_S110720A_NSP2_P_002.psf.pk', 'Tito_20110821_RSVPNicole305_S110720A_NSP2_P_003.psf.pk', 'Tito_20110901_RSVPNicole305_S110720A_001.psf.pk', 'Tito_20110901_RSVPNicole305_S110720A_002.psf.pk', 'Tito_20110901_RSVPNicole305_S110720A_003.psf.pk', 'Tito_20110901_RSVPNicole305_S110720A_004.psf.pk', 'Tito_20110901_RSVPNicole305_S110720A_005.psf.pk', 'Tito_20110901_RSVPNicole305_S110720A_006.psf.pk', 'Tito_20110901_RSVPNicole305_S110720A_NSP2_P_001.psf.pk', 'Tito_20110901_RSVPNicole305_S110720A_NSP2_P_002.psf.pk', 'Tito_20110901_RSVPNicole305_S110720A_NSP2_P_003.psf.pk', 'Tito_20110901_RSVPNicole305_S110720A_NSP2_P_004.psf.pk', 'Tito_20110901_RSVPNicole305_S110720A_NSP2_P_005.psf.pk', 'Tito_20110901_RSVPNicole305_S110720A_NSP2_P_006.psf.pk', 'Tito_20110902_RSVPNicole305_S110720A_001.psf.pk', 'Tito_20110902_RSVPNicole305_S110720A_002.psf.pk', 'Tito_20110902_RSVPNicole305_S110720A_003.psf.pk', 'Tito_20110902_RSVPNicole305_S110720A_004.psf.pk', 'Tito_20110902_RSVPNicole305_S110720A_005.psf.pk', 'Tito_20110902_RSVPNicole305_S110720A_006.psf.pk', 'Tito_20110902_RSVPNicole305_S110720A_007.psf.pk', 'Tito_20110902_RSVPNicole305_S110720A_008.psf.pk', 'Tito_20110902_RSVPNicole305_S110720A_009.psf.pk', 'Tito_20110902_RSVPNicole305_S110720A_NSP2_P_001.psf.pk', 'Tito_20110902_RSVPNicole305_S110720A_NSP2_P_002.psf.pk', 'Tito_20110902_RSVPNicole305_S110720A_NSP2_P_003.psf.pk', 'Tito_20110902_RSVPNicole305_S110720A_NSP2_P_004.psf.pk', 'Tito_20110902_RSVPNicole305_S110720A_NSP2_P_005.psf.pk', 'Tito_20110902_RSVPNicole305_S110720A_NSP2_P_006.psf.pk', 'Tito_20110902_RSVPNicole305_S110720A_NSP2_P_007.psf.pk', 'Tito_20110902_RSVPNicole305_S110720A_NSP2_P_008.psf.pk', 'Tito_20110902_RSVPNicole305_S110720A_NSP2_P_009.psf.pk']\n",
            "\n"
          ]
        }
      ],
      "execution_count": 48,
      "metadata": {
        "collapsed": true,
        "jupyter": {
          "source_hidden": false,
          "outputs_hidden": false
        },
        "nteract": {
          "transient": {
            "deleting": false
          }
        },
        "execution": {
          "iopub.status.busy": "2021-01-08T19:04:56.103Z",
          "iopub.execute_input": "2021-01-08T19:04:56.118Z",
          "iopub.status.idle": "2021-01-08T19:04:56.162Z",
          "shell.execute_reply": "2021-01-08T19:04:56.182Z"
        }
      }
    },
    {
      "cell_type": "code",
      "source": [
        "h5.root.meta.orgfile[0, 0, 0, :]"
      ],
      "outputs": [
        {
          "output_type": "execute_result",
          "execution_count": 44,
          "data": {
            "text/plain": "array([ 0,  0,  0,  0,  0,  0,  0,  0,  0,  0,  0,  0,  0,  0,  0,  0,  0,\n        0,  0,  0,  0,  0,  0,  0,  0,  0,  0,  0,  0,  0,  0,  0,  0,  0,\n        0,  0,  0,  0,  0,  0,  0,  0,  0,  0,  0,  0,  0,  0,  0,  0,  0,\n        0,  0,  0,  0,  0,  0,  0,  0,  0,  0,  0,  0,  0,  0,  0,  0,  0,\n        0,  0,  0,  0,  0,  0,  0,  0,  0,  0,  0,  0,  0,  0,  0,  0,  0,\n        0,  0,  0,  0,  0,  0,  0,  0,  0,  0,  0,  0,  0,  0,  0,  0,  0,\n        0,  0,  0,  0,  0,  0,  0,  0,  0,  0,  0,  0,  0,  0,  0,  0,  0,\n        0,  0,  0,  0,  0,  0,  0,  0,  0, 30, 30, 30, 30, 30, 30, 30, 30,\n       30, 30, 30, 30, 30, 30, 30, 30, 30, 30, 30, 30, 30, 30, 30, 30, 30,\n       30, 30, 30, 30, 30, 30, 30, 30, 30, 30, 33, 33, 33, 33, 33, 33, 33,\n       33, 30, 30, 30, 30, 30, 30, 30, 30, 30, 30, 30, 30, 30, 30, 30, 30,\n       30, 30, 30, 30, 30, 30, 30, 30, 30, 30, 30, 30, 30, 30, 30, 30, 30,\n       30, 30, 30, 30, 30, 30, 30, 33, 33, 33, 33, 33, 33, 33, 33, 33, 33,\n       30, 30, 30, 30, 30, 30, 30, 30, 30, 30, 30, 30, 30, 30, 30, 30, 30,\n       30, 30, 30, 30, 30, 30, 30, 30, 30, 30, 30, 30, 30, 30, 30, 30, 30,\n       30, 33, 33, 33, 33, 33, 33, 33, 33, 33, 33, 33, 33, 33, 33, 33, 33,\n       33, 33, 33, 33, 33, 33, 33, 33, 33, 33, 33, 33, 33, 33, 33, 33, 33,\n       33, 33, 33, 33, 33, 33, 33], dtype=int16)"
          },
          "metadata": {}
        }
      ],
      "execution_count": 44,
      "metadata": {
        "collapsed": true,
        "jupyter": {
          "source_hidden": false,
          "outputs_hidden": false
        },
        "nteract": {
          "transient": {
            "deleting": false
          }
        },
        "execution": {
          "iopub.status.busy": "2021-01-08T18:43:55.565Z",
          "iopub.execute_input": "2021-01-08T18:43:55.583Z",
          "iopub.status.idle": "2021-01-08T18:43:55.617Z",
          "shell.execute_reply": "2021-01-08T18:43:55.634Z"
        }
      }
    },
    {
      "cell_type": "code",
      "source": [
        "(h5.root.meta.orgfile.shape)"
      ],
      "outputs": [
        {
          "output_type": "execute_result",
          "execution_count": 46,
          "data": {
            "text/plain": "(6, 179, 305, 296)"
          },
          "metadata": {}
        }
      ],
      "execution_count": 46,
      "metadata": {
        "collapsed": true,
        "jupyter": {
          "source_hidden": false,
          "outputs_hidden": false
        },
        "nteract": {
          "transient": {
            "deleting": false
          }
        },
        "execution": {
          "iopub.status.busy": "2021-01-08T18:45:15.556Z",
          "iopub.execute_input": "2021-01-08T18:45:15.572Z",
          "iopub.status.idle": "2021-01-08T18:45:15.606Z",
          "shell.execute_reply": "2021-01-08T18:45:15.621Z"
        }
      }
    },
    {
      "cell_type": "code",
      "source": [
        "import pandas as pd"
      ],
      "outputs": [],
      "execution_count": 49,
      "metadata": {
        "collapsed": true,
        "jupyter": {
          "source_hidden": false,
          "outputs_hidden": false
        },
        "nteract": {
          "transient": {
            "deleting": false
          }
        },
        "execution": {
          "iopub.status.busy": "2021-01-08T22:04:43.150Z",
          "iopub.execute_input": "2021-01-08T22:04:44.605Z",
          "iopub.status.idle": "2021-01-08T22:04:44.955Z",
          "shell.execute_reply": "2021-01-08T22:04:44.970Z"
        }
      }
    },
    {
      "cell_type": "code",
      "source": [
        "df_meta = pd.DataFrame(rust_dldata.meta)\n",
        "df_meta"
      ],
      "outputs": [
        {
          "output_type": "execute_result",
          "execution_count": 50,
          "data": {
            "text/plain": "     blank                                         filename\n0        0    /Users/jjpr/.skdata/Rust305/imgs/Nat300_1.png\n1        0    /Users/jjpr/.skdata/Rust305/imgs/Nat300_2.png\n2        0    /Users/jjpr/.skdata/Rust305/imgs/Nat300_3.png\n3        0    /Users/jjpr/.skdata/Rust305/imgs/Nat300_4.png\n4        0    /Users/jjpr/.skdata/Rust305/imgs/Nat300_5.png\n5        0    /Users/jjpr/.skdata/Rust305/imgs/Nat300_6.png\n6        0    /Users/jjpr/.skdata/Rust305/imgs/Nat300_7.png\n7        0    /Users/jjpr/.skdata/Rust305/imgs/Nat300_8.png\n8        0    /Users/jjpr/.skdata/Rust305/imgs/Nat300_9.png\n9        0   /Users/jjpr/.skdata/Rust305/imgs/Nat300_10.png\n10       0   /Users/jjpr/.skdata/Rust305/imgs/Nat300_11.png\n11       0   /Users/jjpr/.skdata/Rust305/imgs/Nat300_12.png\n12       0   /Users/jjpr/.skdata/Rust305/imgs/Nat300_13.png\n13       0   /Users/jjpr/.skdata/Rust305/imgs/Nat300_14.png\n14       0   /Users/jjpr/.skdata/Rust305/imgs/Nat300_15.png\n15       0   /Users/jjpr/.skdata/Rust305/imgs/Nat300_16.png\n16       0   /Users/jjpr/.skdata/Rust305/imgs/Nat300_17.png\n17       0   /Users/jjpr/.skdata/Rust305/imgs/Nat300_18.png\n18       0   /Users/jjpr/.skdata/Rust305/imgs/Nat300_19.png\n19       0   /Users/jjpr/.skdata/Rust305/imgs/Nat300_20.png\n20       0   /Users/jjpr/.skdata/Rust305/imgs/Nat300_21.png\n21       0   /Users/jjpr/.skdata/Rust305/imgs/Nat300_22.png\n22       0   /Users/jjpr/.skdata/Rust305/imgs/Nat300_23.png\n23       0   /Users/jjpr/.skdata/Rust305/imgs/Nat300_24.png\n24       0   /Users/jjpr/.skdata/Rust305/imgs/Nat300_25.png\n25       0   /Users/jjpr/.skdata/Rust305/imgs/Nat300_26.png\n26       0   /Users/jjpr/.skdata/Rust305/imgs/Nat300_27.png\n27       0   /Users/jjpr/.skdata/Rust305/imgs/Nat300_28.png\n28       0   /Users/jjpr/.skdata/Rust305/imgs/Nat300_29.png\n29       0   /Users/jjpr/.skdata/Rust305/imgs/Nat300_30.png\n..     ...                                              ...\n275      0  /Users/jjpr/.skdata/Rust305/imgs/Nat300_276.png\n276      0  /Users/jjpr/.skdata/Rust305/imgs/Nat300_277.png\n277      0  /Users/jjpr/.skdata/Rust305/imgs/Nat300_278.png\n278      0  /Users/jjpr/.skdata/Rust305/imgs/Nat300_279.png\n279      0  /Users/jjpr/.skdata/Rust305/imgs/Nat300_280.png\n280      0  /Users/jjpr/.skdata/Rust305/imgs/Nat300_281.png\n281      0  /Users/jjpr/.skdata/Rust305/imgs/Nat300_282.png\n282      0  /Users/jjpr/.skdata/Rust305/imgs/Nat300_283.png\n283      0  /Users/jjpr/.skdata/Rust305/imgs/Nat300_284.png\n284      0  /Users/jjpr/.skdata/Rust305/imgs/Nat300_285.png\n285      0  /Users/jjpr/.skdata/Rust305/imgs/Nat300_286.png\n286      0  /Users/jjpr/.skdata/Rust305/imgs/Nat300_287.png\n287      0  /Users/jjpr/.skdata/Rust305/imgs/Nat300_288.png\n288      0  /Users/jjpr/.skdata/Rust305/imgs/Nat300_289.png\n289      0  /Users/jjpr/.skdata/Rust305/imgs/Nat300_290.png\n290      0  /Users/jjpr/.skdata/Rust305/imgs/Nat300_291.png\n291      0  /Users/jjpr/.skdata/Rust305/imgs/Nat300_292.png\n292      0  /Users/jjpr/.skdata/Rust305/imgs/Nat300_293.png\n293      0  /Users/jjpr/.skdata/Rust305/imgs/Nat300_294.png\n294      0  /Users/jjpr/.skdata/Rust305/imgs/Nat300_295.png\n295      0  /Users/jjpr/.skdata/Rust305/imgs/Nat300_296.png\n296      0  /Users/jjpr/.skdata/Rust305/imgs/Nat300_297.png\n297      0  /Users/jjpr/.skdata/Rust305/imgs/Nat300_298.png\n298      0  /Users/jjpr/.skdata/Rust305/imgs/Nat300_299.png\n299      0  /Users/jjpr/.skdata/Rust305/imgs/Nat300_300.png\n300      1  /Users/jjpr/.skdata/Rust305/imgs/Nat300_301.png\n301      1  /Users/jjpr/.skdata/Rust305/imgs/Nat300_302.png\n302      1  /Users/jjpr/.skdata/Rust305/imgs/Nat300_303.png\n303      1  /Users/jjpr/.skdata/Rust305/imgs/Nat300_304.png\n304      1  /Users/jjpr/.skdata/Rust305/imgs/Nat300_305.png\n\n[305 rows x 2 columns]",
            "text/html": "<div>\n<table border=\"1\" class=\"dataframe\">\n  <thead>\n    <tr style=\"text-align: right;\">\n      <th></th>\n      <th>blank</th>\n      <th>filename</th>\n    </tr>\n  </thead>\n  <tbody>\n    <tr>\n      <th>0</th>\n      <td>0</td>\n      <td>/Users/jjpr/.skdata/Rust305/imgs/Nat300_1.png</td>\n    </tr>\n    <tr>\n      <th>1</th>\n      <td>0</td>\n      <td>/Users/jjpr/.skdata/Rust305/imgs/Nat300_2.png</td>\n    </tr>\n    <tr>\n      <th>2</th>\n      <td>0</td>\n      <td>/Users/jjpr/.skdata/Rust305/imgs/Nat300_3.png</td>\n    </tr>\n    <tr>\n      <th>3</th>\n      <td>0</td>\n      <td>/Users/jjpr/.skdata/Rust305/imgs/Nat300_4.png</td>\n    </tr>\n    <tr>\n      <th>4</th>\n      <td>0</td>\n      <td>/Users/jjpr/.skdata/Rust305/imgs/Nat300_5.png</td>\n    </tr>\n    <tr>\n      <th>5</th>\n      <td>0</td>\n      <td>/Users/jjpr/.skdata/Rust305/imgs/Nat300_6.png</td>\n    </tr>\n    <tr>\n      <th>6</th>\n      <td>0</td>\n      <td>/Users/jjpr/.skdata/Rust305/imgs/Nat300_7.png</td>\n    </tr>\n    <tr>\n      <th>7</th>\n      <td>0</td>\n      <td>/Users/jjpr/.skdata/Rust305/imgs/Nat300_8.png</td>\n    </tr>\n    <tr>\n      <th>8</th>\n      <td>0</td>\n      <td>/Users/jjpr/.skdata/Rust305/imgs/Nat300_9.png</td>\n    </tr>\n    <tr>\n      <th>9</th>\n      <td>0</td>\n      <td>/Users/jjpr/.skdata/Rust305/imgs/Nat300_10.png</td>\n    </tr>\n    <tr>\n      <th>10</th>\n      <td>0</td>\n      <td>/Users/jjpr/.skdata/Rust305/imgs/Nat300_11.png</td>\n    </tr>\n    <tr>\n      <th>11</th>\n      <td>0</td>\n      <td>/Users/jjpr/.skdata/Rust305/imgs/Nat300_12.png</td>\n    </tr>\n    <tr>\n      <th>12</th>\n      <td>0</td>\n      <td>/Users/jjpr/.skdata/Rust305/imgs/Nat300_13.png</td>\n    </tr>\n    <tr>\n      <th>13</th>\n      <td>0</td>\n      <td>/Users/jjpr/.skdata/Rust305/imgs/Nat300_14.png</td>\n    </tr>\n    <tr>\n      <th>14</th>\n      <td>0</td>\n      <td>/Users/jjpr/.skdata/Rust305/imgs/Nat300_15.png</td>\n    </tr>\n    <tr>\n      <th>15</th>\n      <td>0</td>\n      <td>/Users/jjpr/.skdata/Rust305/imgs/Nat300_16.png</td>\n    </tr>\n    <tr>\n      <th>16</th>\n      <td>0</td>\n      <td>/Users/jjpr/.skdata/Rust305/imgs/Nat300_17.png</td>\n    </tr>\n    <tr>\n      <th>17</th>\n      <td>0</td>\n      <td>/Users/jjpr/.skdata/Rust305/imgs/Nat300_18.png</td>\n    </tr>\n    <tr>\n      <th>18</th>\n      <td>0</td>\n      <td>/Users/jjpr/.skdata/Rust305/imgs/Nat300_19.png</td>\n    </tr>\n    <tr>\n      <th>19</th>\n      <td>0</td>\n      <td>/Users/jjpr/.skdata/Rust305/imgs/Nat300_20.png</td>\n    </tr>\n    <tr>\n      <th>20</th>\n      <td>0</td>\n      <td>/Users/jjpr/.skdata/Rust305/imgs/Nat300_21.png</td>\n    </tr>\n    <tr>\n      <th>21</th>\n      <td>0</td>\n      <td>/Users/jjpr/.skdata/Rust305/imgs/Nat300_22.png</td>\n    </tr>\n    <tr>\n      <th>22</th>\n      <td>0</td>\n      <td>/Users/jjpr/.skdata/Rust305/imgs/Nat300_23.png</td>\n    </tr>\n    <tr>\n      <th>23</th>\n      <td>0</td>\n      <td>/Users/jjpr/.skdata/Rust305/imgs/Nat300_24.png</td>\n    </tr>\n    <tr>\n      <th>24</th>\n      <td>0</td>\n      <td>/Users/jjpr/.skdata/Rust305/imgs/Nat300_25.png</td>\n    </tr>\n    <tr>\n      <th>25</th>\n      <td>0</td>\n      <td>/Users/jjpr/.skdata/Rust305/imgs/Nat300_26.png</td>\n    </tr>\n    <tr>\n      <th>26</th>\n      <td>0</td>\n      <td>/Users/jjpr/.skdata/Rust305/imgs/Nat300_27.png</td>\n    </tr>\n    <tr>\n      <th>27</th>\n      <td>0</td>\n      <td>/Users/jjpr/.skdata/Rust305/imgs/Nat300_28.png</td>\n    </tr>\n    <tr>\n      <th>28</th>\n      <td>0</td>\n      <td>/Users/jjpr/.skdata/Rust305/imgs/Nat300_29.png</td>\n    </tr>\n    <tr>\n      <th>29</th>\n      <td>0</td>\n      <td>/Users/jjpr/.skdata/Rust305/imgs/Nat300_30.png</td>\n    </tr>\n    <tr>\n      <th>...</th>\n      <td>...</td>\n      <td>...</td>\n    </tr>\n    <tr>\n      <th>275</th>\n      <td>0</td>\n      <td>/Users/jjpr/.skdata/Rust305/imgs/Nat300_276.png</td>\n    </tr>\n    <tr>\n      <th>276</th>\n      <td>0</td>\n      <td>/Users/jjpr/.skdata/Rust305/imgs/Nat300_277.png</td>\n    </tr>\n    <tr>\n      <th>277</th>\n      <td>0</td>\n      <td>/Users/jjpr/.skdata/Rust305/imgs/Nat300_278.png</td>\n    </tr>\n    <tr>\n      <th>278</th>\n      <td>0</td>\n      <td>/Users/jjpr/.skdata/Rust305/imgs/Nat300_279.png</td>\n    </tr>\n    <tr>\n      <th>279</th>\n      <td>0</td>\n      <td>/Users/jjpr/.skdata/Rust305/imgs/Nat300_280.png</td>\n    </tr>\n    <tr>\n      <th>280</th>\n      <td>0</td>\n      <td>/Users/jjpr/.skdata/Rust305/imgs/Nat300_281.png</td>\n    </tr>\n    <tr>\n      <th>281</th>\n      <td>0</td>\n      <td>/Users/jjpr/.skdata/Rust305/imgs/Nat300_282.png</td>\n    </tr>\n    <tr>\n      <th>282</th>\n      <td>0</td>\n      <td>/Users/jjpr/.skdata/Rust305/imgs/Nat300_283.png</td>\n    </tr>\n    <tr>\n      <th>283</th>\n      <td>0</td>\n      <td>/Users/jjpr/.skdata/Rust305/imgs/Nat300_284.png</td>\n    </tr>\n    <tr>\n      <th>284</th>\n      <td>0</td>\n      <td>/Users/jjpr/.skdata/Rust305/imgs/Nat300_285.png</td>\n    </tr>\n    <tr>\n      <th>285</th>\n      <td>0</td>\n      <td>/Users/jjpr/.skdata/Rust305/imgs/Nat300_286.png</td>\n    </tr>\n    <tr>\n      <th>286</th>\n      <td>0</td>\n      <td>/Users/jjpr/.skdata/Rust305/imgs/Nat300_287.png</td>\n    </tr>\n    <tr>\n      <th>287</th>\n      <td>0</td>\n      <td>/Users/jjpr/.skdata/Rust305/imgs/Nat300_288.png</td>\n    </tr>\n    <tr>\n      <th>288</th>\n      <td>0</td>\n      <td>/Users/jjpr/.skdata/Rust305/imgs/Nat300_289.png</td>\n    </tr>\n    <tr>\n      <th>289</th>\n      <td>0</td>\n      <td>/Users/jjpr/.skdata/Rust305/imgs/Nat300_290.png</td>\n    </tr>\n    <tr>\n      <th>290</th>\n      <td>0</td>\n      <td>/Users/jjpr/.skdata/Rust305/imgs/Nat300_291.png</td>\n    </tr>\n    <tr>\n      <th>291</th>\n      <td>0</td>\n      <td>/Users/jjpr/.skdata/Rust305/imgs/Nat300_292.png</td>\n    </tr>\n    <tr>\n      <th>292</th>\n      <td>0</td>\n      <td>/Users/jjpr/.skdata/Rust305/imgs/Nat300_293.png</td>\n    </tr>\n    <tr>\n      <th>293</th>\n      <td>0</td>\n      <td>/Users/jjpr/.skdata/Rust305/imgs/Nat300_294.png</td>\n    </tr>\n    <tr>\n      <th>294</th>\n      <td>0</td>\n      <td>/Users/jjpr/.skdata/Rust305/imgs/Nat300_295.png</td>\n    </tr>\n    <tr>\n      <th>295</th>\n      <td>0</td>\n      <td>/Users/jjpr/.skdata/Rust305/imgs/Nat300_296.png</td>\n    </tr>\n    <tr>\n      <th>296</th>\n      <td>0</td>\n      <td>/Users/jjpr/.skdata/Rust305/imgs/Nat300_297.png</td>\n    </tr>\n    <tr>\n      <th>297</th>\n      <td>0</td>\n      <td>/Users/jjpr/.skdata/Rust305/imgs/Nat300_298.png</td>\n    </tr>\n    <tr>\n      <th>298</th>\n      <td>0</td>\n      <td>/Users/jjpr/.skdata/Rust305/imgs/Nat300_299.png</td>\n    </tr>\n    <tr>\n      <th>299</th>\n      <td>0</td>\n      <td>/Users/jjpr/.skdata/Rust305/imgs/Nat300_300.png</td>\n    </tr>\n    <tr>\n      <th>300</th>\n      <td>1</td>\n      <td>/Users/jjpr/.skdata/Rust305/imgs/Nat300_301.png</td>\n    </tr>\n    <tr>\n      <th>301</th>\n      <td>1</td>\n      <td>/Users/jjpr/.skdata/Rust305/imgs/Nat300_302.png</td>\n    </tr>\n    <tr>\n      <th>302</th>\n      <td>1</td>\n      <td>/Users/jjpr/.skdata/Rust305/imgs/Nat300_303.png</td>\n    </tr>\n    <tr>\n      <th>303</th>\n      <td>1</td>\n      <td>/Users/jjpr/.skdata/Rust305/imgs/Nat300_304.png</td>\n    </tr>\n    <tr>\n      <th>304</th>\n      <td>1</td>\n      <td>/Users/jjpr/.skdata/Rust305/imgs/Nat300_305.png</td>\n    </tr>\n  </tbody>\n</table>\n<p>305 rows × 2 columns</p>\n</div>"
          },
          "metadata": {}
        }
      ],
      "execution_count": 50,
      "metadata": {
        "collapsed": true,
        "jupyter": {
          "source_hidden": false,
          "outputs_hidden": false
        },
        "nteract": {
          "transient": {
            "deleting": false
          }
        },
        "execution": {
          "iopub.status.busy": "2021-01-08T22:06:11.614Z",
          "iopub.execute_input": "2021-01-08T22:06:11.634Z",
          "iopub.status.idle": "2021-01-08T22:06:11.693Z",
          "shell.execute_reply": "2021-01-08T22:06:11.714Z"
        }
      }
    },
    {
      "cell_type": "code",
      "source": [
        "import hashlib\n",
        "import os\n",
        "def sha1_hash(path, buffer_size=64 * 2 ** 10):\n",
        "    sha1 = hashlib.sha1()\n",
        "    with open(path, \"rb\") as f:\n",
        "        buffer = f.read(buffer_size)\n",
        "        while len(buffer) > 0:\n",
        "            sha1.update(buffer)\n",
        "            buffer = f.read(buffer_size)\n",
        "    return sha1.hexdigest()"
      ],
      "outputs": [],
      "execution_count": 57,
      "metadata": {
        "collapsed": true,
        "jupyter": {
          "source_hidden": false,
          "outputs_hidden": false
        },
        "nteract": {
          "transient": {
            "deleting": false
          }
        },
        "execution": {
          "iopub.status.busy": "2021-01-08T23:06:11.429Z",
          "iopub.execute_input": "2021-01-08T23:06:11.447Z",
          "iopub.status.idle": "2021-01-08T23:06:11.473Z",
          "shell.execute_reply": "2021-01-08T23:06:11.489Z"
        }
      }
    },
    {
      "cell_type": "code",
      "source": [
        "def get_coords_stimulus(dataset):\n",
        "    df_meta = pd.DataFrame(dataset.meta)\n",
        "    df_meta[\"image_id\"] = [sha1_hash(path) for path in df_meta[\"filename\"]]\n",
        "    df_meta[\"filename\"] = df_meta[\"filename\"].apply(os.path.basename)\n",
        "    df_meta = df_meta.rename(columns={\"blank\": \"is_blank\"})\n",
        "    coords_stimulus = {col: (\"stimulus\", df_meta[col]) for col in df_meta}\n",
        "    return coords_stimulus"
      ],
      "outputs": [],
      "execution_count": 51,
      "metadata": {
        "collapsed": true,
        "jupyter": {
          "source_hidden": false,
          "outputs_hidden": false
        },
        "nteract": {
          "transient": {
            "deleting": false
          }
        },
        "execution": {
          "iopub.status.busy": "2021-01-08T23:04:15.585Z",
          "iopub.execute_input": "2021-01-08T23:04:15.616Z",
          "iopub.status.idle": "2021-01-08T23:04:15.647Z",
          "shell.execute_reply": "2021-01-08T23:04:15.665Z"
        }
      }
    },
    {
      "cell_type": "code",
      "source": [
        "get_coords_stimulus(rust_dldata)"
      ],
      "outputs": [
        {
          "output_type": "execute_result",
          "execution_count": 58,
          "data": {
            "text/plain": "{'filename': ('stimulus', 0        Nat300_1.png\n  1        Nat300_2.png\n  2        Nat300_3.png\n  3        Nat300_4.png\n  4        Nat300_5.png\n  5        Nat300_6.png\n  6        Nat300_7.png\n  7        Nat300_8.png\n  8        Nat300_9.png\n  9       Nat300_10.png\n  10      Nat300_11.png\n  11      Nat300_12.png\n  12      Nat300_13.png\n  13      Nat300_14.png\n  14      Nat300_15.png\n  15      Nat300_16.png\n  16      Nat300_17.png\n  17      Nat300_18.png\n  18      Nat300_19.png\n  19      Nat300_20.png\n  20      Nat300_21.png\n  21      Nat300_22.png\n  22      Nat300_23.png\n  23      Nat300_24.png\n  24      Nat300_25.png\n  25      Nat300_26.png\n  26      Nat300_27.png\n  27      Nat300_28.png\n  28      Nat300_29.png\n  29      Nat300_30.png\n              ...      \n  275    Nat300_276.png\n  276    Nat300_277.png\n  277    Nat300_278.png\n  278    Nat300_279.png\n  279    Nat300_280.png\n  280    Nat300_281.png\n  281    Nat300_282.png\n  282    Nat300_283.png\n  283    Nat300_284.png\n  284    Nat300_285.png\n  285    Nat300_286.png\n  286    Nat300_287.png\n  287    Nat300_288.png\n  288    Nat300_289.png\n  289    Nat300_290.png\n  290    Nat300_291.png\n  291    Nat300_292.png\n  292    Nat300_293.png\n  293    Nat300_294.png\n  294    Nat300_295.png\n  295    Nat300_296.png\n  296    Nat300_297.png\n  297    Nat300_298.png\n  298    Nat300_299.png\n  299    Nat300_300.png\n  300    Nat300_301.png\n  301    Nat300_302.png\n  302    Nat300_303.png\n  303    Nat300_304.png\n  304    Nat300_305.png\n  Name: filename, dtype: object),\n 'image_id': ('stimulus', 0      3b7beede5c61d829b50975b897e594f4f95c8645\n  1      0449ac3c28c5081011c027774f12b14a21b41c10\n  2      ee5e997948608f2c38e37b9f432b7999632132a4\n  3      c0d5004e5b153895874637b11773ddff47ea9949\n  4      cd300e5a2fac894a1e20997ea9a5a2788629962d\n  5      b5c201d11bcddc599514c028559df821c441368c\n  6      e6eadf263453d8d82560375ac7c3b253a57e0e46\n  7      e5e3344f462fff7d2b87ea84ff39960d2c0a33f0\n  8      d86c431b27db06ec4704e43e1125c7e2d122789c\n  9      f6bb1c97a79502940cf8c392a13eb8d9f13111a7\n  10     35841ac56a9e7e4bb55df41e1015bec9a546e0a5\n  11     ede3737b8351e5f6871ad367a876db9e9fa7fff5\n  12     981e33d1609a0cd246509eb805652167ec78691d\n  13     f58b3697cadd5d84a47cd414b0bb2b3805d040b9\n  14     28223ecd7007cdec3bbd2b3e3f76dfebf9059a91\n  15     937d2c61134f5abd86a70a6e9ab8670ec9fc0db2\n  16     21b2bd485fdd9281151a537005ec0d56096b8ef4\n  17     d578c1e4ea05a001cc601a7c565c09bdc213e07d\n  18     08a9671fa6c2e9d10bf128b905df8d72fff70248\n  19     8472f99ef8dd9eb1988e8fe58ffcbf64b3609424\n  20     c05381870c0cb8e822d41c8cf00be96be4c1497b\n  21     846589e13b839c9605dc4513b8718ec0a19d5788\n  22     ff1f9407aea2462b470933e1b57947e7c339746b\n  23     427289c74a076d9d25f460d7a0c35b94c96304c9\n  24     e6a09d8325377c1f0bd3503c0fd7dfa0bbf783b8\n  25     dcaf9a2f82cfea4937f191f0def8f3c3c1b565aa\n  26     4f9d0006a66254af20cc2a6ad268d85f74950788\n  27     acb2be27f0d6689d1d867e3bef5e7807e19f0060\n  28     3056288211e64df8d5c58fa974b75472e05f7583\n  29     fd218e6acb0b348c690077234eba4a67304a0422\n                           ...                   \n  275    d9ae9fa1ce48b62e3cd0f3711b2d136b446bb4a7\n  276    41d3c8f57b087cfa3880d8440631fcff5b0f0a97\n  277    e41aebd43dff224eff033d20e46428a23bffc58a\n  278    05302a212695c3636ef6c3c781a863a1e26d9005\n  279    92b4d0c75b409b5bec2c225bfec225a0ff12e634\n  280    874a0a942e2bc5c0a60b0eec67c1277c79b5eae3\n  281    f39498167b3323e7ef145cf98bdc72be11714c7a\n  282    9facbfd5656813dbf1ca13f3fc1c04f0695be323\n  283    af9bc8e67bb5ebfafd01c940274b040aafe89120\n  284    85f168ef85a6083630dbe88d7025d1e8c72c931d\n  285    fbb934a432e2a85ff930b7f67f8145e1d49e8e0c\n  286    f5d73bb047827b5fccd1aff595b11d459303e66d\n  287    54cc04c53c0b9ca4a07b5bf393961fc80a6d8244\n  288    ea6ccc0c6978376ea78d70f37941f675d1ffbb34\n  289    87fdebcd9e816876d6c801453d8885ebf9788036\n  290    99949502c796ab9a984b525f282ef86e7251bcd1\n  291    86de19fa6c11fe29fe6f20eba54847e763a0516b\n  292    ade9486ad75de4cf5e7f3f872d156062d196b944\n  293    5603904eb0a191d6534f560934d7ee008da4e171\n  294    8a911e7f859beac6c51c465e74937c8b8f11c520\n  295    0f91d349e0c1d412c6a1f13a547ac589d0a04368\n  296    93eb5eef80e88a0586acb41a928f59f2d361f4fc\n  297    b64f5e59242b664d24e8ed026b96aa2113abafa6\n  298    e621fd9ea801ed38d8263a42a050f8f78c82558a\n  299    e4cbfc4dd7e7a55ea04f3b0c4fc51bf45f483d5b\n  300    e82323a5e7fd072d4ecc975a69ff8a695194a74b\n  301    e82323a5e7fd072d4ecc975a69ff8a695194a74b\n  302    e82323a5e7fd072d4ecc975a69ff8a695194a74b\n  303    e82323a5e7fd072d4ecc975a69ff8a695194a74b\n  304    e82323a5e7fd072d4ecc975a69ff8a695194a74b\n  Name: image_id, dtype: object),\n 'is_blank': ('stimulus', 0      0\n  1      0\n  2      0\n  3      0\n  4      0\n  5      0\n  6      0\n  7      0\n  8      0\n  9      0\n  10     0\n  11     0\n  12     0\n  13     0\n  14     0\n  15     0\n  16     0\n  17     0\n  18     0\n  19     0\n  20     0\n  21     0\n  22     0\n  23     0\n  24     0\n  25     0\n  26     0\n  27     0\n  28     0\n  29     0\n        ..\n  275    0\n  276    0\n  277    0\n  278    0\n  279    0\n  280    0\n  281    0\n  282    0\n  283    0\n  284    0\n  285    0\n  286    0\n  287    0\n  288    0\n  289    0\n  290    0\n  291    0\n  292    0\n  293    0\n  294    0\n  295    0\n  296    0\n  297    0\n  298    0\n  299    0\n  300    1\n  301    1\n  302    1\n  303    1\n  304    1\n  Name: is_blank, dtype: int64)}"
          },
          "metadata": {}
        }
      ],
      "execution_count": 58,
      "metadata": {
        "collapsed": true,
        "jupyter": {
          "source_hidden": false,
          "outputs_hidden": false
        },
        "nteract": {
          "transient": {
            "deleting": false
          }
        },
        "execution": {
          "iopub.status.busy": "2021-01-08T23:06:17.127Z",
          "iopub.execute_input": "2021-01-08T23:06:17.142Z",
          "iopub.status.idle": "2021-01-08T23:06:17.324Z",
          "shell.execute_reply": "2021-01-08T23:06:17.360Z"
        }
      }
    },
    {
      "cell_type": "code",
      "source": [
        "v4 = rust_dldata.V4_NEURONS_Rust\n",
        "it = rust_dldata.IT_NEURONS_Rust\n",
        "regions = [\"\"] * (len(v4) + len(it))\n",
        "for i in v4:\n",
        "  regions[i] = \"V4\"\n",
        "for i in it:\n",
        "  regions[i] = \"IT\"\n",
        "len(regions), regions"
      ],
      "outputs": [
        {
          "output_type": "execute_result",
          "execution_count": 61,
          "data": {
            "text/plain": "(285,\n ['V4',\n  'V4',\n  'V4',\n  'V4',\n  'V4',\n  'V4',\n  'V4',\n  'V4',\n  'V4',\n  'V4',\n  'V4',\n  'V4',\n  'V4',\n  'V4',\n  'V4',\n  'V4',\n  'V4',\n  'V4',\n  'V4',\n  'V4',\n  'V4',\n  'V4',\n  'V4',\n  'V4',\n  'V4',\n  'V4',\n  'V4',\n  'V4',\n  'V4',\n  'V4',\n  'V4',\n  'V4',\n  'V4',\n  'V4',\n  'V4',\n  'V4',\n  'V4',\n  'V4',\n  'V4',\n  'V4',\n  'V4',\n  'V4',\n  'V4',\n  'V4',\n  'V4',\n  'V4',\n  'V4',\n  'V4',\n  'V4',\n  'V4',\n  'V4',\n  'V4',\n  'V4',\n  'V4',\n  'V4',\n  'V4',\n  'V4',\n  'V4',\n  'V4',\n  'V4',\n  'V4',\n  'V4',\n  'V4',\n  'V4',\n  'V4',\n  'V4',\n  'V4',\n  'V4',\n  'V4',\n  'V4',\n  'V4',\n  'V4',\n  'V4',\n  'V4',\n  'V4',\n  'V4',\n  'V4',\n  'V4',\n  'V4',\n  'V4',\n  'V4',\n  'V4',\n  'V4',\n  'V4',\n  'V4',\n  'V4',\n  'V4',\n  'V4',\n  'V4',\n  'V4',\n  'V4',\n  'V4',\n  'V4',\n  'V4',\n  'V4',\n  'V4',\n  'V4',\n  'V4',\n  'V4',\n  'V4',\n  'V4',\n  'V4',\n  'V4',\n  'V4',\n  'V4',\n  'V4',\n  'V4',\n  'V4',\n  'V4',\n  'V4',\n  'V4',\n  'V4',\n  'V4',\n  'V4',\n  'V4',\n  'V4',\n  'V4',\n  'V4',\n  'V4',\n  'V4',\n  'V4',\n  'V4',\n  'V4',\n  'V4',\n  'V4',\n  'V4',\n  'V4',\n  'V4',\n  'V4',\n  'V4',\n  'V4',\n  'V4',\n  'V4',\n  'V4',\n  'V4',\n  'V4',\n  'V4',\n  'V4',\n  'V4',\n  'V4',\n  'V4',\n  'V4',\n  'V4',\n  'IT',\n  'IT',\n  'IT',\n  'IT',\n  'IT',\n  'IT',\n  'IT',\n  'IT',\n  'IT',\n  'IT',\n  'IT',\n  'IT',\n  'IT',\n  'IT',\n  'IT',\n  'IT',\n  'IT',\n  'IT',\n  'IT',\n  'IT',\n  'IT',\n  'IT',\n  'IT',\n  'IT',\n  'IT',\n  'IT',\n  'IT',\n  'IT',\n  'IT',\n  'IT',\n  'IT',\n  'IT',\n  'IT',\n  'IT',\n  'IT',\n  'IT',\n  'IT',\n  'IT',\n  'IT',\n  'IT',\n  'IT',\n  'IT',\n  'IT',\n  'IT',\n  'IT',\n  'IT',\n  'IT',\n  'IT',\n  'IT',\n  'IT',\n  'IT',\n  'IT',\n  'IT',\n  'IT',\n  'IT',\n  'IT',\n  'IT',\n  'IT',\n  'IT',\n  'IT',\n  'IT',\n  'IT',\n  'IT',\n  'IT',\n  'IT',\n  'IT',\n  'IT',\n  'IT',\n  'IT',\n  'IT',\n  'IT',\n  'IT',\n  'IT',\n  'IT',\n  'IT',\n  'IT',\n  'IT',\n  'IT',\n  'IT',\n  'IT',\n  'IT',\n  'IT',\n  'IT',\n  'IT',\n  'IT',\n  'IT',\n  'IT',\n  'IT',\n  'IT',\n  'IT',\n  'IT',\n  'IT',\n  'IT',\n  'IT',\n  'IT',\n  'IT',\n  'IT',\n  'IT',\n  'IT',\n  'IT',\n  'IT',\n  'IT',\n  'IT',\n  'IT',\n  'IT',\n  'IT',\n  'IT',\n  'IT',\n  'IT',\n  'IT',\n  'IT',\n  'IT',\n  'IT',\n  'IT',\n  'IT',\n  'IT',\n  'IT',\n  'IT',\n  'IT',\n  'IT',\n  'IT',\n  'IT',\n  'IT',\n  'IT',\n  'IT',\n  'IT',\n  'IT',\n  'IT',\n  'IT',\n  'IT',\n  'IT',\n  'IT',\n  'IT',\n  'IT',\n  'IT',\n  'IT',\n  'IT',\n  'IT',\n  'IT',\n  'IT',\n  'IT',\n  'IT'])"
          },
          "metadata": {}
        }
      ],
      "execution_count": 61,
      "metadata": {
        "collapsed": true,
        "jupyter": {
          "source_hidden": false,
          "outputs_hidden": false
        },
        "nteract": {
          "transient": {
            "deleting": false
          }
        },
        "execution": {
          "iopub.status.busy": "2021-01-08T23:25:16.685Z",
          "iopub.execute_input": "2021-01-08T23:25:16.707Z",
          "iopub.status.idle": "2021-01-08T23:25:16.757Z",
          "shell.execute_reply": "2021-01-08T23:25:16.777Z"
        }
      }
    },
    {
      "cell_type": "code",
      "source": [
        "ids = [\"rust305.single.{:02d}\".format(i) for i in range(rust_dldata.neuronal_features_reps_Rust.shape[2])]\n",
        "ids"
      ],
      "outputs": [
        {
          "output_type": "execute_result",
          "execution_count": 64,
          "data": {
            "text/plain": "['rust305.single.00',\n 'rust305.single.01',\n 'rust305.single.02',\n 'rust305.single.03',\n 'rust305.single.04',\n 'rust305.single.05',\n 'rust305.single.06',\n 'rust305.single.07',\n 'rust305.single.08',\n 'rust305.single.09',\n 'rust305.single.10',\n 'rust305.single.11',\n 'rust305.single.12',\n 'rust305.single.13',\n 'rust305.single.14',\n 'rust305.single.15',\n 'rust305.single.16',\n 'rust305.single.17',\n 'rust305.single.18',\n 'rust305.single.19',\n 'rust305.single.20',\n 'rust305.single.21',\n 'rust305.single.22',\n 'rust305.single.23',\n 'rust305.single.24',\n 'rust305.single.25',\n 'rust305.single.26',\n 'rust305.single.27',\n 'rust305.single.28',\n 'rust305.single.29',\n 'rust305.single.30',\n 'rust305.single.31',\n 'rust305.single.32',\n 'rust305.single.33',\n 'rust305.single.34',\n 'rust305.single.35',\n 'rust305.single.36',\n 'rust305.single.37',\n 'rust305.single.38',\n 'rust305.single.39',\n 'rust305.single.40',\n 'rust305.single.41',\n 'rust305.single.42',\n 'rust305.single.43',\n 'rust305.single.44',\n 'rust305.single.45',\n 'rust305.single.46',\n 'rust305.single.47',\n 'rust305.single.48',\n 'rust305.single.49',\n 'rust305.single.50',\n 'rust305.single.51',\n 'rust305.single.52',\n 'rust305.single.53',\n 'rust305.single.54',\n 'rust305.single.55',\n 'rust305.single.56',\n 'rust305.single.57',\n 'rust305.single.58',\n 'rust305.single.59',\n 'rust305.single.60',\n 'rust305.single.61',\n 'rust305.single.62',\n 'rust305.single.63',\n 'rust305.single.64',\n 'rust305.single.65',\n 'rust305.single.66',\n 'rust305.single.67',\n 'rust305.single.68',\n 'rust305.single.69',\n 'rust305.single.70',\n 'rust305.single.71',\n 'rust305.single.72',\n 'rust305.single.73',\n 'rust305.single.74',\n 'rust305.single.75',\n 'rust305.single.76',\n 'rust305.single.77',\n 'rust305.single.78',\n 'rust305.single.79',\n 'rust305.single.80',\n 'rust305.single.81',\n 'rust305.single.82',\n 'rust305.single.83',\n 'rust305.single.84',\n 'rust305.single.85',\n 'rust305.single.86',\n 'rust305.single.87',\n 'rust305.single.88',\n 'rust305.single.89',\n 'rust305.single.90',\n 'rust305.single.91',\n 'rust305.single.92',\n 'rust305.single.93',\n 'rust305.single.94',\n 'rust305.single.95',\n 'rust305.single.96',\n 'rust305.single.97',\n 'rust305.single.98',\n 'rust305.single.99',\n 'rust305.single.100',\n 'rust305.single.101',\n 'rust305.single.102',\n 'rust305.single.103',\n 'rust305.single.104',\n 'rust305.single.105',\n 'rust305.single.106',\n 'rust305.single.107',\n 'rust305.single.108',\n 'rust305.single.109',\n 'rust305.single.110',\n 'rust305.single.111',\n 'rust305.single.112',\n 'rust305.single.113',\n 'rust305.single.114',\n 'rust305.single.115',\n 'rust305.single.116',\n 'rust305.single.117',\n 'rust305.single.118',\n 'rust305.single.119',\n 'rust305.single.120',\n 'rust305.single.121',\n 'rust305.single.122',\n 'rust305.single.123',\n 'rust305.single.124',\n 'rust305.single.125',\n 'rust305.single.126',\n 'rust305.single.127',\n 'rust305.single.128',\n 'rust305.single.129',\n 'rust305.single.130',\n 'rust305.single.131',\n 'rust305.single.132',\n 'rust305.single.133',\n 'rust305.single.134',\n 'rust305.single.135',\n 'rust305.single.136',\n 'rust305.single.137',\n 'rust305.single.138',\n 'rust305.single.139',\n 'rust305.single.140',\n 'rust305.single.141',\n 'rust305.single.142',\n 'rust305.single.143',\n 'rust305.single.144',\n 'rust305.single.145',\n 'rust305.single.146',\n 'rust305.single.147',\n 'rust305.single.148',\n 'rust305.single.149',\n 'rust305.single.150',\n 'rust305.single.151',\n 'rust305.single.152',\n 'rust305.single.153',\n 'rust305.single.154',\n 'rust305.single.155',\n 'rust305.single.156',\n 'rust305.single.157',\n 'rust305.single.158',\n 'rust305.single.159',\n 'rust305.single.160',\n 'rust305.single.161',\n 'rust305.single.162',\n 'rust305.single.163',\n 'rust305.single.164',\n 'rust305.single.165',\n 'rust305.single.166',\n 'rust305.single.167',\n 'rust305.single.168',\n 'rust305.single.169',\n 'rust305.single.170',\n 'rust305.single.171',\n 'rust305.single.172',\n 'rust305.single.173',\n 'rust305.single.174',\n 'rust305.single.175',\n 'rust305.single.176',\n 'rust305.single.177',\n 'rust305.single.178',\n 'rust305.single.179',\n 'rust305.single.180',\n 'rust305.single.181',\n 'rust305.single.182',\n 'rust305.single.183',\n 'rust305.single.184',\n 'rust305.single.185',\n 'rust305.single.186',\n 'rust305.single.187',\n 'rust305.single.188',\n 'rust305.single.189',\n 'rust305.single.190',\n 'rust305.single.191',\n 'rust305.single.192',\n 'rust305.single.193',\n 'rust305.single.194',\n 'rust305.single.195',\n 'rust305.single.196',\n 'rust305.single.197',\n 'rust305.single.198',\n 'rust305.single.199',\n 'rust305.single.200',\n 'rust305.single.201',\n 'rust305.single.202',\n 'rust305.single.203',\n 'rust305.single.204',\n 'rust305.single.205',\n 'rust305.single.206',\n 'rust305.single.207',\n 'rust305.single.208',\n 'rust305.single.209',\n 'rust305.single.210',\n 'rust305.single.211',\n 'rust305.single.212',\n 'rust305.single.213',\n 'rust305.single.214',\n 'rust305.single.215',\n 'rust305.single.216',\n 'rust305.single.217',\n 'rust305.single.218',\n 'rust305.single.219',\n 'rust305.single.220',\n 'rust305.single.221',\n 'rust305.single.222',\n 'rust305.single.223',\n 'rust305.single.224',\n 'rust305.single.225',\n 'rust305.single.226',\n 'rust305.single.227',\n 'rust305.single.228',\n 'rust305.single.229',\n 'rust305.single.230',\n 'rust305.single.231',\n 'rust305.single.232',\n 'rust305.single.233',\n 'rust305.single.234',\n 'rust305.single.235',\n 'rust305.single.236',\n 'rust305.single.237',\n 'rust305.single.238',\n 'rust305.single.239',\n 'rust305.single.240',\n 'rust305.single.241',\n 'rust305.single.242',\n 'rust305.single.243',\n 'rust305.single.244',\n 'rust305.single.245',\n 'rust305.single.246',\n 'rust305.single.247',\n 'rust305.single.248',\n 'rust305.single.249',\n 'rust305.single.250',\n 'rust305.single.251',\n 'rust305.single.252',\n 'rust305.single.253',\n 'rust305.single.254',\n 'rust305.single.255',\n 'rust305.single.256',\n 'rust305.single.257',\n 'rust305.single.258',\n 'rust305.single.259',\n 'rust305.single.260',\n 'rust305.single.261',\n 'rust305.single.262',\n 'rust305.single.263',\n 'rust305.single.264',\n 'rust305.single.265',\n 'rust305.single.266',\n 'rust305.single.267',\n 'rust305.single.268',\n 'rust305.single.269',\n 'rust305.single.270',\n 'rust305.single.271',\n 'rust305.single.272',\n 'rust305.single.273',\n 'rust305.single.274',\n 'rust305.single.275',\n 'rust305.single.276',\n 'rust305.single.277',\n 'rust305.single.278',\n 'rust305.single.279',\n 'rust305.single.280',\n 'rust305.single.281',\n 'rust305.single.282',\n 'rust305.single.283',\n 'rust305.single.284']"
          },
          "metadata": {}
        }
      ],
      "execution_count": 64,
      "metadata": {
        "collapsed": true,
        "jupyter": {
          "source_hidden": false,
          "outputs_hidden": false
        },
        "nteract": {
          "transient": {
            "deleting": false
          }
        },
        "execution": {
          "iopub.status.busy": "2021-01-08T23:34:36.631Z",
          "iopub.execute_input": "2021-01-08T23:34:36.647Z",
          "iopub.status.idle": "2021-01-08T23:34:36.764Z",
          "shell.execute_reply": "2021-01-08T23:34:36.782Z"
        }
      }
    },
    {
      "cell_type": "code",
      "source": [
        "start, end = zip(*rust_dldata.TIMEBINS_HongMajaj)\n",
        "(start, end)"
      ],
      "outputs": [
        {
          "output_type": "execute_result",
          "execution_count": 8,
          "data": {
            "text/plain": "((70, 50, 100, 150, 200, 70), (170, 100, 150, 200, 250, 270))"
          },
          "metadata": {}
        }
      ],
      "execution_count": 8,
      "metadata": {
        "collapsed": true,
        "jupyter": {
          "source_hidden": false,
          "outputs_hidden": false
        },
        "nteract": {
          "transient": {
            "deleting": false
          }
        },
        "execution": {
          "iopub.status.busy": "2021-01-10T20:55:52.419Z",
          "iopub.execute_input": "2021-01-10T20:55:52.435Z",
          "iopub.status.idle": "2021-01-10T20:55:52.563Z",
          "shell.execute_reply": "2021-01-10T20:55:52.577Z"
        }
      }
    },
    {
      "cell_type": "code",
      "source": [
        "rust_dldata.neuronal_features_reps_HongMajaj"
      ],
      "outputs": [
        {
          "output_type": "execute_result",
          "execution_count": 9,
          "data": {
            "text/plain": "array([[[[ 0.10107411,  0.77067995, -0.54077649, ...,  1.16549253,\n           1.89641881,  2.65558934],\n         [-1.50388741, -0.2127572 , -0.22426471, ...,  0.08060717,\n           0.67663604, -1.79039049],\n         [ 0.10107411, -0.5405696 ,  0.72527063, ...,  0.44223565,\n          -0.13655248, -0.67889565],\n         ..., \n         [ 0.50231445,  0.44286755, -0.54077649, ..., -1.36590672,\n          -0.13655248,  0.80309767],\n         [ 1.30479515, -0.5405696 ,  0.09224706, ...,  0.44223565,\n           0.27004179, -0.67889565],\n         [-1.50388741,  0.11505517, -1.49031186, ..., -0.2810213 ,\n          -0.54314673,  0.43259934]],\n\n        [[-0.30016625, -0.5405696 , -0.22426471, ...,  1.52712095,\n           0.67663604,  1.54409432],\n         [-0.70140666,  0.11505517, -2.12333536, ...,  1.16549253,\n          -0.54314673,  0.80309767],\n         [-0.30016625, -1.19619429, -0.8572883 , ...,  0.80386406,\n           0.67663604,  1.54409432],\n         ..., \n         [ 0.10107411, -1.19619429,  0.09224706, ..., -0.2810213 ,\n          -0.54314673, -0.30839732],\n         [ 2.50851631, -0.2127572 , -0.8572883 , ..., -0.2810213 ,\n           1.48982453,  0.80309767],\n         [-0.70140666,  0.44286755,  1.35829425, ...,  1.16549253,\n          -0.94974095, -1.04939389]],\n\n        [[-1.10264707, -0.86838192, -0.22426471, ..., -0.2810213 ,\n          -0.94974095, -0.67889565],\n         [-0.70140666, -0.2127572 , -0.54077649, ...,  0.44223565,\n          -0.94974095,  1.17359602],\n         [ 0.50231445, -1.52400672, -0.22426471, ..., -0.2810213 ,\n           0.67663604, -1.79039049],\n         ..., \n         [-0.30016625,  1.09849238, -0.8572883 , ..., -1.36590672,\n          -0.13655248, -1.79039049],\n         [ 2.10727596,  0.44286755, -0.22426471, ..., -0.2810213 ,\n           1.08323038, -1.04939389],\n         [ 0.9035548 ,  1.09849238, -0.54077649, ...,  0.08060717,\n          -0.94974095,  0.06210101]],\n\n        ..., \n        [[-0.81901485,  2.3686552 , -1.26962471, ...,  0.22438969,\n          -0.28339961,  0.46341118],\n         [-1.19093108, -0.02834688, -0.13927461, ...,  0.22438969,\n           1.16829431,  0.80762541],\n         [ 0.66865021, -0.02834688,  0.99107552, ...,  0.53332281,\n           0.29727796,  1.15183973],\n         ..., \n         [ 1.41248286,  0.65651083, -0.8928414 , ..., -0.70240968,\n          -2.02543211, -2.29030299],\n         [ 1.04056656,  2.02622628, -0.8928414 , ...,  0.53332281,\n           0.58761674,  1.49605381],\n         [ 2.15631533, -0.71320462,  0.23750877, ...,  0.22438969,\n           0.8779555 , -0.91344583]],\n\n        [[-0.81901485,  1.34136856,  0.23750877, ..., -1.01134276,\n           0.29727796, -1.60187447],\n         [ 0.29673395,  0.99893975,  0.23750877, ..., -0.70240968,\n           2.03931069, -1.60187447],\n         [-0.44709861,  1.34136856,  0.99107552, ...,  2.07798839,\n           1.16829431,  0.46341118],\n         ..., \n         [-0.07518234,  0.99893975, -2.02319169, ..., -0.70240968,\n           0.8779555 ,  0.11919692],\n         [ 0.66865021,  1.34136856, -0.8928414 , ..., -0.08454343,\n          -1.15441597, -0.91344583],\n         [-1.19093108,  0.99893975,  0.99107552, ..., -1.3202759 ,\n          -0.5737384 , -1.94608867]],\n\n        [[-0.07518234, -1.39806235, -0.51605797, ..., -1.01134276,\n           0.58761674,  0.11919692],\n         [ 1.04056656,  1.34136856, -0.13927461, ...,  0.53332281,\n           2.03931069, -0.22501732],\n         [-0.07518234,  2.3686552 , -0.51605797, ...,  0.22438969,\n          -0.28339961, -0.22501732],\n         ..., \n         [ 1.04056656,  0.65651083,  0.99107552, ...,  0.84225595,\n          -0.28339961, -0.56923157],\n         [ 2.15631533,  0.99893975,  1.74464226, ..., -0.08454343,\n          -1.4447546 ,  0.11919692],\n         [-0.81901485,  0.99893975,  0.61429214, ..., -1.62920904,\n          -0.86407715, -0.56923157]]],\n\n\n       [[[ 2.14271784,  0.61666232,  1.62947917, ...,  0.93286794,\n          -0.06152726, -0.66410005],\n         [-1.43636572, -0.4599435 , -0.57026362, ..., -0.2183596 ,\n           1.1131891 ,  0.44819751],\n         [-0.24333793,  0.61666232,  1.07954347, ...,  0.93286794,\n          -1.23624361, -0.66410005],\n         ..., \n         [-0.24333793,  0.61666232,  0.52960783, ..., -0.79397339,\n          -0.06152726, -0.10795128],\n         [ 0.94968998,  1.15496516, -2.2200706 , ..., -0.79397339,\n          -1.82360184,  1.00434625],\n         [-0.24333793,  0.07835943, -0.57026362, ..., -0.79397339,\n          -0.64888543, -0.10795128]],\n\n        [[-1.43636572,  0.07835943, -0.02032789, ...,  0.35725418,\n           2.87526369,  1.56049502],\n         [-0.83985186, -0.99824643, -1.12019932, ...,  0.93286794,\n           0.52583092, -1.22024894],\n         [-0.24333793,  0.61666232,  0.52960783, ...,  2.08409548,\n           1.1131891 ,  1.56049502],\n         ..., \n         [ 0.353176  , -0.99824643,  0.52960783, ..., -1.36958718,\n          -0.64888543,  1.00434625],\n         [ 1.54620397,  1.69326818, -0.57026362, ...,  0.93286794,\n           1.1131891 ,  0.44819751],\n         [ 1.54620397,  1.69326818,  1.07954347, ..., -0.2183596 ,\n           1.1131891 , -1.22024894]],\n\n        [[-1.43636572, -0.4599435 , -0.02032789, ..., -0.2183596 ,\n          -0.06152726,  0.44819751],\n         [ 0.94968998, -0.4599435 , -0.57026362, ...,  0.35725418,\n          -0.06152726,  0.44819751],\n         [ 1.54620397, -1.53654945, -0.57026362, ...,  0.93286794,\n          -0.64888543, -0.10795128],\n         ..., \n         [ 0.353176  ,  0.61666232, -0.02032789, ..., -1.36958718,\n           0.52583092, -1.22024894],\n         [-0.24333793, -0.4599435 , -1.12019932, ..., -0.79397339,\n           0.52583092,  0.44819751],\n         [ 1.54620397,  1.69326818,  0.52960783, ..., -1.36958718,\n          -1.82360184, -0.66410005]],\n\n        ..., \n        [[-0.93239409, -0.66541481,  0.05648831, ..., -0.29168934,\n          -1.34281993,  0.98679942],\n         [-0.93239409, -0.13010003,  0.63403678, ..., -0.78428912,\n           0.06128173, -0.05797629],\n         [ 1.32259178, -0.13010003,  0.05648831, ..., -0.29168934,\n           0.99734956, -0.58036417],\n         ..., \n         [ 0.19509891, -0.13010003, -0.52106017, ..., -0.29168934,\n          -1.81085384, -1.62513983],\n         [-0.36864758,  0.40521479, -1.09860861, ...,  0.20091045,\n          -0.40675214, -1.10275197],\n         [ 4.14132404,  0.94052958, -0.52106017, ..., -0.29168934,\n           1.46538341, -0.58036417]],\n\n        [[-0.36864758,  1.47584438,  0.05648831, ..., -0.29168934,\n          -1.34281993, -1.62513983],\n         [ 0.19509891,  1.47584438,  0.63403678, ..., -2.26208854,\n           1.46538341, -1.10275197],\n         [-0.36864758,  0.94052958,  0.05648831, ...,  1.18611002,\n          -0.40675214, -0.58036417],\n         ..., \n         [-0.93239409,  0.40521479,  0.05648831, ..., -1.27688885,\n           0.99734956, -1.10275197],\n         [ 0.75884533, -0.13010003, -0.52106017, ...,  0.20091045,\n          -0.87478608, -1.62513983],\n         [ 0.19509891, -0.13010003, -1.09860861, ..., -0.78428912,\n          -1.81085384, -1.10275197]],\n\n        [[ 0.19509891, -0.66541481,  0.05648831, ...,  0.20091045,\n           2.86948514, -0.05797629],\n         [-0.93239409, -1.20072961,  0.05648831, ...,  2.17130971,\n           0.52931559,  2.03157496],\n         [-1.4961406 ,  0.94052958, -0.52106017, ..., -0.78428912,\n           0.52931559,  0.46441156],\n         ..., \n         [-0.93239409,  0.40521479,  0.05648831, ...,  1.67870986,\n           0.52931559, -0.05797629],\n         [ 0.19509891,  1.47584438,  0.63403678, ..., -0.78428912,\n          -1.34281993, -0.05797629],\n         [-0.93239409, -0.13010003, -0.52106017, ..., -1.27688885,\n          -0.87478608,  0.46441156]]],\n\n\n       [[[-0.24975617,  0.60249174, -0.70139509, ...,  1.01844537,\n           0.49504533,  2.90568542],\n         [-0.24975617,  0.60249174,  0.22982806, ..., -0.55931836,\n           1.09281731, -1.3016175 ],\n         [ 0.31919011, -0.34714678, -0.23578353, ...,  0.49252412,\n           1.09281731,  0.27612111],\n         ..., \n         [ 0.88813645,  0.12767248, -0.23578353, ..., -1.08523953,\n          -0.10272666,  0.27612111],\n         [ 0.88813645, -0.82196605,  1.62666273, ...,  1.01844537,\n           0.49504533, -1.3016175 ],\n         [-1.3876487 , -0.34714678, -0.70139509, ..., -1.08523953,\n           0.49504533,  1.8538599 ]],\n\n        [[ 1.45708275, -0.82196605,  0.22982806, ...,  0.49252412,\n          -0.10272666,  0.27612111],\n         [ 0.31919011,  1.55213022, -1.63261819, ...,  0.49252412,\n          -1.8960427 ,  0.80203396],\n         [-0.24975617, -1.77160454, -1.63261819, ...,  1.01844537,\n           0.49504533,  0.80203396],\n         ..., \n         [ 0.88813645, -0.82196605, -0.70139509, ...,  0.49252412,\n          -0.10272666, -0.24979176],\n         [ 2.59497547,  0.12767248, -0.70139509, ..., -0.03339712,\n           1.69058931,  0.27612111],\n         [-0.81870246, -0.34714678,  0.69543964, ...,  1.01844537,\n          -1.2982707 , -0.24979176]],\n\n        [[-1.3876487 ,  0.12767248, -0.70139509, ..., -0.55931836,\n          -0.10272666, -1.3016175 ],\n         [-0.24975617,  0.12767248,  0.69543964, ...,  1.5443666 ,\n           0.49504533,  0.80203396],\n         [-1.3876487 , -1.77160454,  1.16105115, ..., -0.55931836,\n           0.49504533, -0.77570462],\n         ..., \n         [-0.81870246,  0.12767248, -1.16700673, ..., -1.08523953,\n          -0.70049864, -1.3016175 ],\n         [ 2.02602911,  0.60249174,  0.22982806, ..., -0.03339712,\n          -0.10272666, -1.82753038],\n         [ 0.31919011,  0.60249174, -0.23578353, ...,  0.49252412,\n          -0.10272666,  0.27612111]],\n\n        ..., \n        [[-0.36590251,  1.54283798, -1.83267117, ...,  0.79101843,\n          -0.45069554,  0.3004773 ],\n         [-0.36590251, -0.44429311,  0.33861881, ..., -0.15276602,\n           1.38759136,  0.81216162],\n         [ 0.75435257,  0.54927236,  0.8814413 , ...,  0.79101843,\n           0.46844792,  1.8355304 ],\n         ..., \n         [ 2.43473506,  1.0460552 , -1.28984869, ..., -1.09655046,\n          -0.91026729, -1.74626029],\n         [ 0.194225  ,  2.53640342, -0.20420367, ...,  1.2629106 ,\n           0.92801964,  2.3472147 ],\n         [ 0.194225  , -0.94107586, -0.20420367, ...,  0.79101843,\n           0.46844792, -0.21120709]],\n\n        [[-0.92602998,  0.54927236,  0.33861881, ..., -0.62465823,\n           0.46844792, -0.72289151],\n         [-0.36590251,  1.54283798,  0.33861881, ...,  0.31912622,\n           1.8471632 , -1.23457587],\n         [-0.36590251, -0.44429311,  0.33861881, ...,  0.79101843,\n           1.38759136,  1.32384598],\n         ..., \n         [ 0.75435257,  1.0460552 , -1.83267117, ..., -0.15276602,\n           0.46844792,  0.3004773 ],\n         [ 0.194225  ,  0.05248964, -0.20420367, ...,  0.79101843,\n          -1.36983907, -0.21120709],\n         [-0.92602998,  0.05248964,  1.9670862 , ..., -1.09655046,\n           0.0088762 , -1.23457587]],\n\n        [[-1.48615754, -0.44429311, -1.28984869, ..., -1.09655046,\n          -0.45069554, -0.21120709],\n         [ 1.87460756,  1.54283798, -0.74702609, ..., -0.15276602,\n           0.46844792, -0.72289151],\n         [ 0.75435257,  2.03962064, -0.20420367, ...,  0.31912622,\n           0.0088762 ,  0.3004773 ],\n         ..., \n         [ 0.75435257, -0.44429311,  1.42426372, ..., -0.62465823,\n           0.0088762 , -0.72289151],\n         [ 2.43473506,  0.54927236,  1.42426372, ...,  0.31912622,\n          -1.36983907,  0.3004773 ],\n         [-0.36590251,  1.0460552 , -0.20420367, ..., -1.09655046,\n           0.0088762 , -1.23457587]]],\n\n\n       [[[-0.30459994, -0.77217495, -0.13872635, ...,  0.46275103,\n           2.25264668,  2.82719064],\n         [-0.30459994, -0.77217495,  0.33778128, ...,  1.50338459,\n          -0.70169151, -0.2798593 ],\n         [-0.30459994, -1.23035729,  0.33778128, ..., -0.57788253,\n          -0.70169151, -1.31554258],\n         ..., \n         [-1.94015563,  1.0605545 , -0.13872635, ..., -1.09819937,\n          -0.70169151,  0.75582403],\n         [ 0.24058528,  0.60237217, -0.61523402, ..., -1.09819937,\n           1.07091153, -0.79770094],\n         [ 0.24058528,  1.51873696, -1.09174168, ...,  0.98306781,\n           1.07091153, -0.79770094]],\n\n        [[-1.39497042, -1.68853962, -0.61523402, ...,  2.02370119,\n          -0.11082383,  1.27366567],\n         [-1.39497042, -0.31399259, -1.09174168, ..., -0.57788253,\n          -0.70169151,  1.79150724],\n         [ 0.24058528,  0.60237217,  0.81428885, ...,  0.46275103,\n          -0.70169151, -0.2798593 ],\n         ..., \n         [-1.39497042,  1.51873696, -0.13872635, ...,  0.46275103,\n           1.07091153, -0.2798593 ],\n         [ 1.33095574,  0.60237217, -0.13872635, ..., -0.57788253,\n          -0.11082383,  0.75582403],\n         [-0.30459994,  1.97691929,  0.81428885, ...,  0.46275103,\n          -0.70169151, -0.2798593 ]],\n\n        [[ 0.78577048, -1.23035729, -0.61523402, ..., -0.05756573,\n          -0.70169151, -1.31554258],\n         [-1.39497042, -0.77217495, -0.13872635, ..., -1.09819937,\n          -0.11082383, -0.2798593 ],\n         [ 0.78577048, -0.31399259, -1.09174168, ..., -0.05756573,\n          -0.70169151,  0.23798235],\n         ..., \n         [-0.84978521,  0.14418977,  0.81428885, ..., -0.57788253,\n           1.07091153,  0.23798235],\n         [ 1.87614095, -0.31399259, -0.61523402, ..., -0.05756573,\n           0.48004386, -1.31554258],\n         [ 1.33095574,  0.14418977, -1.09174168, ...,  0.98306781,\n           0.48004386, -1.31554258]],\n\n        ..., \n        [[ 0.17875241,  1.67807198, -0.51936287, ..., -0.18247312,\n           1.34117913,  0.28743142],\n         [-0.362854  ,  0.21671541, -0.51936287, ...,  2.521595  ,\n           1.79678929,  0.78949726],\n         [-0.90446043, -0.27040347,  1.11632347, ...,  0.71888292,\n          -0.48126131, -0.71670038],\n         ..., \n         [-0.362854  , -1.2446413 ,  0.02586592, ...,  0.2682049 ,\n          -1.39248168, -1.21876621],\n         [ 0.72035879,  0.21671541,  0.02586592, ..., -0.18247312,\n           2.25239944,  1.79362893],\n         [ 0.17875241,  0.70383424,  0.57109469, ...,  0.2682049 ,\n           0.42995894, -2.22289801]],\n\n        [[ 0.17875241,  0.70383424, -1.06459165, ..., -1.98518527,\n           0.42995894, -0.71670038],\n         [ 1.26196527, -0.27040347,  0.57109469, ...,  0.2682049 ,\n           0.88556904,  0.28743142],\n         [ 1.26196527,  1.19095314,  1.66155231, ...,  2.521595  ,\n           0.42995894,  1.29156315],\n         ..., \n         [ 0.17875241, -0.27040347,  0.02586592, ..., -1.08382916,\n           0.42995894,  1.29156315],\n         [ 0.72035879,  0.70383424,  1.11632347, ..., -2.43586326,\n          -0.48126131, -1.72083211],\n         [ 0.17875241,  1.19095314,  0.02586592, ..., -0.63315117,\n          -0.93687153, -1.21876621]],\n\n        [[ 0.17875241, -1.73176014,  2.20678091, ...,  0.71888292,\n          -1.39248168,  0.78949726],\n         [-0.362854  , -0.27040347, -0.51936287, ...,  0.2682049 ,\n           1.79678929, -0.71670038],\n         [-0.362854  ,  1.67807198,  0.57109469, ..., -0.18247312,\n          -0.48126131,  0.28743142],\n         ..., \n         [ 0.17875241, -0.27040347, -1.06459165, ...,  1.16956091,\n          -0.02565121, -0.21463445],\n         [ 0.72035879,  0.21671541,  1.11632347, ...,  0.2682049 ,\n          -0.93687153,  0.28743142],\n         [-0.362854  , -0.7575224 ,  1.11632347, ..., -1.53450716,\n          -0.93687153, -0.21463445]]],\n\n\n       [[[-0.4532038 ,  0.01282497, -1.11046016, ...,  1.33915257,\n          -0.6764394 , -0.10910375],\n         [ 0.10634436,  0.50286525, -0.03466433, ..., -0.32389921,\n          -0.6764394 , -0.10910375],\n         [-2.13184834,  1.48294592, -1.64835811, ..., -0.32389921,\n          -0.6764394 , -1.75910032],\n         ..., \n         [ 0.10634436,  1.48294592,  0.50323361, ..., -1.43260026,\n          -1.27370036, -0.10910375],\n         [-1.01275206,  0.01282497,  0.50323361, ..., -1.43260026,\n          -1.27370036, -1.20910144],\n         [ 0.66589248, -0.96725565, -1.64835811, ..., -0.32389921,\n           2.30986524, -0.10910375]],\n\n        [[-0.4532038 , -0.96725565, -0.57256228, ...,  2.4478538 ,\n           2.30986524,  0.44089508],\n         [-1.01275206, -0.96725565,  0.50323361, ...,  1.33915257,\n           2.30986524,  0.9908939 ],\n         [-1.01275206,  1.97298622,  1.0411315 , ...,  1.89350319,\n          -0.6764394 ,  2.6408906 ],\n         ..., \n         [ 1.22544062, -0.47721532, -0.03466433, ..., -0.87824976,\n          -0.6764394 , -0.10910375],\n         [ 1.78498888, -0.96725565, -0.03466433, ...,  0.23045139,\n          -1.27370036, -1.20910144],\n         [-0.4532038 , -0.96725565, -1.64835811, ...,  0.23045139,\n          -0.0791785 , -1.20910144]],\n\n        [[ 0.66589248, -0.47721532, -0.57256228, ..., -0.32389921,\n          -0.6764394 , -0.65910262],\n         [ 0.10634436,  0.50286525,  1.0411315 , ...,  0.23045139,\n           1.11534333,  0.44089508],\n         [-0.4532038 ,  0.50286525, -0.57256228, ..., -0.87824976,\n           1.11534333,  1.54089272],\n         ..., \n         [ 2.90408516,  0.50286525, -0.57256228, ...,  0.23045139,\n          -0.0791785 , -0.10910375],\n         [-1.01275206, -0.96725565, -0.03466433, ...,  0.78480196,\n           1.71260428, -0.10910375],\n         [-0.4532038 ,  0.50286525, -2.18625593, ...,  0.23045139,\n          -1.27370036, -0.10910375]],\n\n        ..., \n        [[ 2.3153398 ,  2.19838595,  0.64086884, ..., -0.43349764,\n           0.8527683 , -1.08703756],\n         [ 0.06567865, -0.34898064,  0.07019347, ...,  3.28786945,\n           3.89674211,  0.99211001],\n         [ 0.06567865,  1.17943931, -0.5004819 , ...,  0.03167325,\n           0.8527683 ,  0.99211001],\n         ..., \n         [ 0.6280939 , -0.85845393,  0.07019347, ..., -1.82901025,\n           0.8527683 , -1.08703756],\n         [ 1.1905092 , -0.85845393, -0.5004819 , ...,  1.42718589,\n           0.8527683 , -0.0474638 ],\n         [ 1.1905092 ,  1.17943931,  0.07019347, ...,  1.42718589,\n          -0.45179185,  0.47232312]],\n\n        [[ 0.06567865,  1.17943931, -0.5004819 , ...,  0.96201503,\n          -0.88664526, -1.08703756],\n         [-1.62156725, -0.85845393, -1.07115722, ...,  1.42718589,\n           0.4179149 ,  2.03168368],\n         [ 0.06567865, -1.36792731,  0.64086884, ...,  1.89235675,\n           2.15732837,  0.99211001],\n         ..., \n         [ 1.1905092 ,  0.16049267, -1.64183259, ..., -0.43349764,\n          -0.45179185, -1.6068244 ],\n         [ 0.06567865, -0.85845393,  0.64086884, ..., -0.89866853,\n           1.72247505, -1.08703756],\n         [ 0.6280939 ,  0.16049267, -0.5004819 , ..., -0.43349764,\n           1.28762174, -0.56725073]],\n\n        [[ 0.6280939 ,  0.66996598, -0.5004819 , ..., -1.36383939,\n          -1.75635207, -0.0474638 ],\n         [ 0.6280939 ,  1.17943931, -0.5004819 , ..., -0.89866853,\n          -1.32149863,  1.51189697],\n         [ 0.06567865,  0.66996598, -1.64183259, ...,  0.96201503,\n          -1.32149863, -0.0474638 ],\n         ..., \n         [ 0.06567865,  1.17943931, -0.5004819 , ...,  0.49684414,\n           1.72247505,  2.55147052],\n         [-0.49673665,  0.16049267, -1.07115722, ..., -0.43349764,\n          -0.45179185, -1.6068244 ],\n         [-1.05915201, -0.34898064, -1.07115722, ...,  0.03167325,\n          -1.32149863, -0.0474638 ]]],\n\n\n       [[[ 0.17569701,  0.32404059, -0.43713748, ...,  1.80233204,\n           1.32560384,  2.70569372],\n         [-0.6076206 , -0.54058367,  0.22946872, ...,  0.29374859,\n           0.1743793 , -1.24851108],\n         [-1.12983239,  0.54019666, -0.65933955, ...,  0.04231802,\n          -0.40123293, -1.51212478],\n         ..., \n         [-0.08540886,  1.18866479, -0.21493542, ..., -1.96912634,\n          -0.97684515,  0.3331708 ],\n         [ 0.69790876,  0.10788452,  0.00726665, ..., -0.71197367,\n          -0.40123293, -0.98489743],\n         [-0.08540886,  0.10788452, -1.99255204, ..., -0.4605431 ,\n           1.61341   ,  0.3331708 ]],\n\n        [[-0.6076206 , -1.62136412, -0.65933955, ...,  2.5566237 ,\n           1.90121615,  1.38762534],\n         [-1.39093828, -0.3244276 , -1.32594573, ...,  1.2994709 ,\n           0.7499916 ,  1.65123904],\n         [-0.86872649,  0.10788452,  0.67387289, ...,  1.80233204,\n          -0.11342682,  2.17846656],\n         ..., \n         [ 0.43680289,  0.10788452, -0.21493542, ..., -0.20911254,\n          -0.40123293, -0.1940565 ],\n         [ 3.30896735,  0.10788452, -0.65933955, ..., -0.20911254,\n           0.1743793 ,  0.06955715],\n         [-0.6076206 ,  0.54019666,  0.4516708 , ...,  0.7966097 ,\n          -0.97684515, -1.24851108]],\n\n        [[-0.34651473, -0.97289586, -1.10374367, ..., -0.4605431 ,\n          -0.97684515, -0.98489743],\n         [-0.86872649, -0.10827155,  0.4516708 , ...,  0.29374859,\n           0.1743793 ,  0.86039811],\n         [ 0.17569701, -0.97289586, -0.21493542, ..., -0.20911254,\n           0.46218544,  0.06955715],\n         ..., \n         [ 0.69790876,  0.75635272, -0.43713748, ..., -0.96340424,\n           0.7499916 , -0.98489743],\n         [ 0.95901465, -0.3244276 , -0.88154161, ...,  0.04231802,\n           1.61341   , -1.24851108],\n         [ 0.95901465,  0.97250873, -0.88154161, ...,  0.54517913,\n          -0.97684515, -0.45767012]],\n\n        ..., \n        [[ 0.71170557,  2.53788328, -0.73545617, ..., -0.09843968,\n           0.54963005,  0.1390931 ],\n         [-0.87827033, -0.1348068 , -0.17722145, ...,  2.17827463,\n           3.18531609,  0.84543914],\n         [-0.08328238,  0.59410864,  0.93924785, ...,  0.5224824 ,\n           0.73789334,  0.84543914],\n         ..., \n         [ 1.24169767, -0.62075043, -1.01457345, ..., -1.13330972,\n          -1.14473951, -2.45084238],\n         [ 1.24169767,  1.08005226, -0.73545617, ...,  1.14340448,\n           1.30268323,  1.55178511],\n         [ 2.03668547,  0.35113683,  0.38101318, ...,  0.93643039,\n           0.54963005, -1.03815031]],\n\n        [[-0.61327434,  1.80896783, -0.73545617, ..., -0.71936172,\n          -0.20342314, -1.74449646],\n         [-0.08328238,  0.35113683,  0.10189588, ...,  0.31550837,\n           1.49094653,  0.1390931 ],\n         [ 0.18171361,  0.10816503,  1.77659988, ...,  3.00617051,\n           2.05573654,  1.55178511],\n         ..., \n         [ 0.4467096 ,  0.59410864, -1.85192549, ..., -0.71936172,\n           0.36136675, -0.33180428],\n         [ 0.71170557,  0.59410864,  0.38101318, ..., -1.13330972,\n          -0.39168644, -1.74449646],\n         [ 0.18171361,  1.08005226,  0.38101318, ..., -0.92633569,\n          -0.20342314, -1.74449646]],\n\n        [[-0.08328238, -1.1066941 ,  0.10189588, ..., -0.92633569,\n          -0.76821297,  0.1390931 ],\n         [ 0.71170557,  1.08005226, -1.01457345, ...,  0.10853434,\n           0.9261567 ,  0.37454179],\n         [-0.08328238,  2.29491138, -0.73545617, ...,  0.10853434,\n          -0.76821297, -0.09635558],\n         ..., \n         [ 0.4467096 ,  0.35113683,  0.10189588, ...,  1.14340448,\n           0.73789334,  0.84543914],\n         [ 1.5066936 ,  0.83708048,  0.93924785, ..., -0.09843968,\n          -1.5212661 , -0.80270165],\n         [-1.40826225,  0.10816503, -0.17722145, ..., -1.54725778,\n          -1.5212661 , -0.56725293]]]], dtype=float32)"
          },
          "metadata": {}
        }
      ],
      "execution_count": 9,
      "metadata": {
        "collapsed": true,
        "jupyter": {
          "source_hidden": false,
          "outputs_hidden": false
        },
        "nteract": {
          "transient": {
            "deleting": false
          }
        },
        "execution": {
          "iopub.status.busy": "2021-01-10T21:53:27.728Z",
          "iopub.execute_input": "2021-01-10T21:53:27.750Z",
          "iopub.status.idle": "2021-01-10T21:53:28.461Z",
          "shell.execute_reply": "2021-01-10T21:53:28.710Z"
        }
      }
    },
    {
      "cell_type": "code",
      "source": [
        "rust_dldata.neuronal_features_reps_HongMajaj.shape"
      ],
      "outputs": [
        {
          "output_type": "execute_result",
          "execution_count": 10,
          "data": {
            "text/plain": "(6, 179, 305, 296)"
          },
          "metadata": {}
        }
      ],
      "execution_count": 10,
      "metadata": {
        "collapsed": true,
        "jupyter": {
          "source_hidden": false,
          "outputs_hidden": false
        },
        "nteract": {
          "transient": {
            "deleting": false
          }
        },
        "execution": {
          "iopub.status.busy": "2021-01-10T21:53:59.291Z",
          "iopub.execute_input": "2021-01-10T21:53:59.313Z",
          "iopub.status.idle": "2021-01-10T21:53:59.347Z",
          "shell.execute_reply": "2021-01-10T21:53:59.365Z"
        }
      }
    },
    {
      "cell_type": "code",
      "source": [
        "import xarray as xr"
      ],
      "outputs": [],
      "execution_count": 12,
      "metadata": {
        "collapsed": true,
        "jupyter": {
          "source_hidden": false,
          "outputs_hidden": false
        },
        "nteract": {
          "transient": {
            "deleting": false
          }
        },
        "execution": {
          "iopub.status.busy": "2021-01-10T22:46:26.242Z",
          "iopub.execute_input": "2021-01-10T22:46:26.264Z",
          "iopub.status.idle": "2021-01-10T22:46:26.754Z",
          "shell.execute_reply": "2021-01-10T22:46:26.851Z"
        }
      }
    },
    {
      "cell_type": "code",
      "source": [],
      "outputs": [],
      "execution_count": null,
      "metadata": {
        "collapsed": true,
        "jupyter": {
          "source_hidden": false,
          "outputs_hidden": false
        },
        "nteract": {
          "transient": {
            "deleting": false
          }
        }
      }
    },
    {
      "cell_type": "code",
      "source": [
        "loaded = xr.open_dataarray(\"/Users/jjpr/dev/dldata/scripts/rust_single.nc\")\n",
        "loaded"
      ],
      "outputs": [
        {
          "output_type": "execute_result",
          "execution_count": 16,
          "data": {
            "text/plain": "<xarray.DataArray (neuroid: 285, presentation: 1525, time_bin: 1)>\n[434625 values with dtype=float64]\nCoordinates:\n    neuroid_id  (neuroid) |S18 'rust305.single.000' 'rust305.single.001' ...\n    image_id    (presentation) int64 1 2 3 4 5 6 7 8 9 10 11 12 13 14 15 16 ...\n    region      (neuroid) |S2 'V4' 'V4' 'V4' 'V4' 'V4' 'V4' 'V4' 'V4' 'V4' ...\n    repetition  (presentation) int64 0 0 0 0 0 0 0 0 0 0 0 0 0 0 0 0 0 0 0 0 ...\nDimensions without coordinates: neuroid, presentation, time_bin"
          },
          "metadata": {}
        }
      ],
      "execution_count": 16,
      "metadata": {
        "collapsed": false,
        "jupyter": {
          "source_hidden": false,
          "outputs_hidden": false
        },
        "nteract": {
          "transient": {
            "deleting": false
          }
        },
        "execution": {
          "iopub.status.busy": "2021-01-10T22:55:42.143Z",
          "iopub.execute_input": "2021-01-10T22:55:42.164Z",
          "iopub.status.idle": "2021-01-10T22:55:42.203Z",
          "shell.execute_reply": "2021-01-10T22:55:42.221Z"
        }
      }
    },
    {
      "cell_type": "code",
      "source": [
        "loaded[\"blank\"]"
      ],
      "outputs": [
        {
          "output_type": "error",
          "ename": "KeyError",
          "evalue": "'blank'",
          "traceback": [
            "\u001b[0;31m\u001b[0m",
            "\u001b[0;31mKeyError\u001b[0mTraceback (most recent call last)",
            "\u001b[0;32m<ipython-input-15-46d8acb116e9>\u001b[0m in \u001b[0;36m<module>\u001b[0;34m()\u001b[0m\n\u001b[0;32m----> 1\u001b[0;31m \u001b[0mloaded\u001b[0m\u001b[0;34m[\u001b[0m\u001b[0;34m\"blank\"\u001b[0m\u001b[0;34m]\u001b[0m\u001b[0;34m\u001b[0m\u001b[0m\n\u001b[0m",
            "\u001b[0;32m/Users/jjpr/anaconda/envs/dldata/lib/python2.7/site-packages/xarray/core/dataarray.pyc\u001b[0m in \u001b[0;36m__getitem__\u001b[0;34m(self, key)\u001b[0m\n\u001b[1;32m    467\u001b[0m     \u001b[0;32mdef\u001b[0m \u001b[0m__getitem__\u001b[0m\u001b[0;34m(\u001b[0m\u001b[0mself\u001b[0m\u001b[0;34m,\u001b[0m \u001b[0mkey\u001b[0m\u001b[0;34m)\u001b[0m\u001b[0;34m:\u001b[0m\u001b[0;34m\u001b[0m\u001b[0m\n\u001b[1;32m    468\u001b[0m         \u001b[0;32mif\u001b[0m \u001b[0misinstance\u001b[0m\u001b[0;34m(\u001b[0m\u001b[0mkey\u001b[0m\u001b[0;34m,\u001b[0m \u001b[0mbasestring\u001b[0m\u001b[0;34m)\u001b[0m\u001b[0;34m:\u001b[0m\u001b[0;34m\u001b[0m\u001b[0m\n\u001b[0;32m--> 469\u001b[0;31m             \u001b[0;32mreturn\u001b[0m \u001b[0mself\u001b[0m\u001b[0;34m.\u001b[0m\u001b[0m_getitem_coord\u001b[0m\u001b[0;34m(\u001b[0m\u001b[0mkey\u001b[0m\u001b[0;34m)\u001b[0m\u001b[0;34m\u001b[0m\u001b[0m\n\u001b[0m\u001b[1;32m    470\u001b[0m         \u001b[0;32melse\u001b[0m\u001b[0;34m:\u001b[0m\u001b[0;34m\u001b[0m\u001b[0m\n\u001b[1;32m    471\u001b[0m             \u001b[0;31m# orthogonal array indexing\u001b[0m\u001b[0;34m\u001b[0m\u001b[0;34m\u001b[0m\u001b[0m\n",
            "\u001b[0;32m/Users/jjpr/anaconda/envs/dldata/lib/python2.7/site-packages/xarray/core/dataarray.pyc\u001b[0m in \u001b[0;36m_getitem_coord\u001b[0;34m(self, key)\u001b[0m\n\u001b[1;32m    461\u001b[0m             \u001b[0mdim_sizes\u001b[0m \u001b[0;34m=\u001b[0m \u001b[0mdict\u001b[0m\u001b[0;34m(\u001b[0m\u001b[0mzip\u001b[0m\u001b[0;34m(\u001b[0m\u001b[0mself\u001b[0m\u001b[0;34m.\u001b[0m\u001b[0mdims\u001b[0m\u001b[0;34m,\u001b[0m \u001b[0mself\u001b[0m\u001b[0;34m.\u001b[0m\u001b[0mshape\u001b[0m\u001b[0;34m)\u001b[0m\u001b[0;34m)\u001b[0m\u001b[0;34m\u001b[0m\u001b[0m\n\u001b[1;32m    462\u001b[0m             _, key, var = _get_virtual_variable(\n\u001b[0;32m--> 463\u001b[0;31m                 self._coords, key, self._level_coords, dim_sizes)\n\u001b[0m\u001b[1;32m    464\u001b[0m \u001b[0;34m\u001b[0m\u001b[0m\n\u001b[1;32m    465\u001b[0m         \u001b[0;32mreturn\u001b[0m \u001b[0mself\u001b[0m\u001b[0;34m.\u001b[0m\u001b[0m_replace_maybe_drop_dims\u001b[0m\u001b[0;34m(\u001b[0m\u001b[0mvar\u001b[0m\u001b[0;34m,\u001b[0m \u001b[0mname\u001b[0m\u001b[0;34m=\u001b[0m\u001b[0mkey\u001b[0m\u001b[0;34m)\u001b[0m\u001b[0;34m\u001b[0m\u001b[0m\n",
            "\u001b[0;32m/Users/jjpr/anaconda/envs/dldata/lib/python2.7/site-packages/xarray/core/dataset.pyc\u001b[0m in \u001b[0;36m_get_virtual_variable\u001b[0;34m(variables, key, level_vars, dim_sizes)\u001b[0m\n\u001b[1;32m     72\u001b[0m         \u001b[0mref_var\u001b[0m \u001b[0;34m=\u001b[0m \u001b[0mdim_var\u001b[0m\u001b[0;34m.\u001b[0m\u001b[0mto_index_variable\u001b[0m\u001b[0;34m(\u001b[0m\u001b[0;34m)\u001b[0m\u001b[0;34m.\u001b[0m\u001b[0mget_level_variable\u001b[0m\u001b[0;34m(\u001b[0m\u001b[0mref_name\u001b[0m\u001b[0;34m)\u001b[0m\u001b[0;34m\u001b[0m\u001b[0m\n\u001b[1;32m     73\u001b[0m     \u001b[0;32melse\u001b[0m\u001b[0;34m:\u001b[0m\u001b[0;34m\u001b[0m\u001b[0m\n\u001b[0;32m---> 74\u001b[0;31m         \u001b[0mref_var\u001b[0m \u001b[0;34m=\u001b[0m \u001b[0mvariables\u001b[0m\u001b[0;34m[\u001b[0m\u001b[0mref_name\u001b[0m\u001b[0;34m]\u001b[0m\u001b[0;34m\u001b[0m\u001b[0m\n\u001b[0m\u001b[1;32m     75\u001b[0m \u001b[0;34m\u001b[0m\u001b[0m\n\u001b[1;32m     76\u001b[0m     \u001b[0;32mif\u001b[0m \u001b[0mvar_name\u001b[0m \u001b[0;32mis\u001b[0m \u001b[0mNone\u001b[0m\u001b[0;34m:\u001b[0m\u001b[0;34m\u001b[0m\u001b[0m\n",
            "\u001b[0;31mKeyError\u001b[0m: 'blank'"
          ]
        }
      ],
      "execution_count": 15,
      "metadata": {
        "collapsed": true,
        "jupyter": {
          "source_hidden": false,
          "outputs_hidden": false
        },
        "nteract": {
          "transient": {
            "deleting": false
          }
        },
        "execution": {
          "iopub.status.busy": "2021-01-10T22:47:52.166Z",
          "iopub.execute_input": "2021-01-10T22:47:52.187Z"
        }
      }
    },
    {
      "cell_type": "code",
      "source": [
        "loaded[:, 0:0, :]"
      ],
      "outputs": [
        {
          "output_type": "execute_result",
          "execution_count": 19,
          "data": {
            "text/plain": "<xarray.DataArray (neuroid: 285, presentation: 0, time_bin: 1)>\narray([], shape=(285, 0, 1), dtype=float64)\nCoordinates:\n    neuroid_id  (neuroid) |S18 'rust305.single.000' 'rust305.single.001' ...\n    image_id    (presentation) int64 \n    region      (neuroid) |S2 'V4' 'V4' 'V4' 'V4' 'V4' 'V4' 'V4' 'V4' 'V4' ...\n    repetition  (presentation) int64 \nDimensions without coordinates: neuroid, presentation, time_bin"
          },
          "metadata": {}
        }
      ],
      "execution_count": 19,
      "metadata": {
        "collapsed": true,
        "jupyter": {
          "source_hidden": false,
          "outputs_hidden": false
        },
        "nteract": {
          "transient": {
            "deleting": false
          }
        },
        "execution": {
          "iopub.status.busy": "2021-01-10T23:23:12.216Z",
          "iopub.execute_input": "2021-01-10T23:23:12.233Z",
          "iopub.status.idle": "2021-01-10T23:23:12.275Z",
          "shell.execute_reply": "2021-01-10T23:23:12.293Z"
        }
      }
    },
    {
      "cell_type": "code",
      "source": [
        "loaded[\"repetition\"]==0"
      ],
      "outputs": [
        {
          "output_type": "execute_result",
          "execution_count": 20,
          "data": {
            "text/plain": "<xarray.DataArray 'repetition' (presentation: 1525)>\narray([ True,  True,  True, ..., False, False, False], dtype=bool)\nCoordinates:\n    image_id    (presentation) int64 1 2 3 4 5 6 7 8 9 10 11 12 13 14 15 16 ...\n    repetition  (presentation) int64 0 0 0 0 0 0 0 0 0 0 0 0 0 0 0 0 0 0 0 0 ...\nDimensions without coordinates: presentation"
          },
          "metadata": {}
        }
      ],
      "execution_count": 20,
      "metadata": {
        "collapsed": true,
        "jupyter": {
          "source_hidden": false,
          "outputs_hidden": false
        },
        "nteract": {
          "transient": {
            "deleting": false
          }
        },
        "execution": {
          "iopub.status.busy": "2021-01-10T23:23:39.738Z",
          "iopub.execute_input": "2021-01-10T23:23:39.756Z",
          "iopub.status.idle": "2021-01-10T23:23:39.794Z",
          "shell.execute_reply": "2021-01-10T23:23:39.814Z"
        }
      }
    },
    {
      "cell_type": "code",
      "source": [
        "loaded[:, loaded[\"repetition\"]==0, :]"
      ],
      "outputs": [
        {
          "output_type": "execute_result",
          "execution_count": 22,
          "data": {
            "text/plain": "<xarray.DataArray (neuroid: 285, presentation: 305, time_bin: 1)>\narray([[[  1.464177e-312],\n        [  1.485397e-312],\n        ..., \n        [  1.421737e-312],\n        [  1.442957e-312]],\n\n       [[  1.464177e-312],\n        [  1.485397e-312],\n        ..., \n        [  1.421737e-312],\n        [  1.442957e-312]],\n\n       ..., \n       [[  1.787012e-307],\n        [  1.783536e-307],\n        ..., \n        [  0.000000e+000],\n        [  1.792227e-307]],\n\n       [[  1.787012e-307],\n        [  1.783536e-307],\n        ..., \n        [  0.000000e+000],\n        [  1.792227e-307]]])\nCoordinates:\n    neuroid_id  (neuroid) |S18 'rust305.single.000' 'rust305.single.001' ...\n    image_id    (presentation) int64 1 2 3 4 5 6 7 8 9 10 11 12 13 14 15 16 ...\n    region      (neuroid) |S2 'V4' 'V4' 'V4' 'V4' 'V4' 'V4' 'V4' 'V4' 'V4' ...\n    repetition  (presentation) int64 0 0 0 0 0 0 0 0 0 0 0 0 0 0 0 0 0 0 0 0 ...\nDimensions without coordinates: neuroid, presentation, time_bin"
          },
          "metadata": {}
        }
      ],
      "execution_count": 22,
      "metadata": {
        "collapsed": true,
        "jupyter": {
          "source_hidden": false,
          "outputs_hidden": false
        },
        "nteract": {
          "transient": {
            "deleting": false
          }
        },
        "execution": {
          "iopub.status.busy": "2021-01-10T23:25:35.019Z",
          "iopub.execute_input": "2021-01-10T23:25:35.040Z",
          "iopub.status.idle": "2021-01-10T23:25:35.178Z",
          "shell.execute_reply": "2021-01-10T23:25:35.198Z"
        }
      }
    },
    {
      "cell_type": "code",
      "source": [
        "(len(rust_dldata.V4_NEURONS_Rust), len(rust_dldata.IT_NEURONS_Rust))"
      ],
      "outputs": [
        {
          "output_type": "execute_result",
          "execution_count": 23,
          "data": {
            "text/plain": "(143, 142)"
          },
          "metadata": {}
        }
      ],
      "execution_count": 23,
      "metadata": {
        "collapsed": true,
        "jupyter": {
          "source_hidden": false,
          "outputs_hidden": false
        },
        "nteract": {
          "transient": {
            "deleting": false
          }
        },
        "execution": {
          "iopub.status.busy": "2021-01-12T17:59:40.463Z",
          "iopub.execute_input": "2021-01-12T17:59:40.489Z",
          "iopub.status.idle": "2021-01-12T17:59:40.545Z",
          "shell.execute_reply": "2021-01-12T17:59:40.566Z"
        }
      }
    },
    {
      "cell_type": "code",
      "source": [
        "from dldata.physiology.hongmajaj import mappings"
      ],
      "outputs": [],
      "execution_count": 24,
      "metadata": {
        "collapsed": true,
        "jupyter": {
          "source_hidden": false,
          "outputs_hidden": false
        },
        "nteract": {
          "transient": {
            "deleting": false
          }
        },
        "execution": {
          "iopub.status.busy": "2021-01-12T18:09:06.075Z",
          "iopub.execute_input": "2021-01-12T18:09:06.099Z",
          "iopub.status.idle": "2021-01-12T18:09:06.135Z",
          "shell.execute_reply": "2021-01-12T18:09:06.161Z"
        }
      }
    },
    {
      "cell_type": "code",
      "source": [
        "v4_chabo = mappings.LST_V4_Chabo\n",
        "it_chabo = mappings.LST_IT_Chabo\n",
        "v4_tito = mappings.LST_V4_Tito\n",
        "it_tito = mappings.LST_IT_Tito\n",
        "(len(v4_chabo), len(it_chabo), len(v4_tito), len(it_tito))"
      ],
      "outputs": [
        {
          "output_type": "execute_result",
          "execution_count": 25,
          "data": {
            "text/plain": "(70, 58, 58, 110)"
          },
          "metadata": {}
        }
      ],
      "execution_count": 25,
      "metadata": {
        "collapsed": true,
        "jupyter": {
          "source_hidden": false,
          "outputs_hidden": false
        },
        "nteract": {
          "transient": {
            "deleting": false
          }
        },
        "execution": {
          "iopub.status.busy": "2021-01-12T18:10:41.324Z",
          "iopub.execute_input": "2021-01-12T18:10:41.343Z",
          "iopub.status.idle": "2021-01-12T18:10:41.385Z",
          "shell.execute_reply": "2021-01-12T18:10:41.404Z"
        }
      }
    },
    {
      "cell_type": "code",
      "source": [
        "(len(v4_chabo) + len(v4_tito), len(it_chabo) + len(it_tito))"
      ],
      "outputs": [
        {
          "output_type": "execute_result",
          "execution_count": 26,
          "data": {
            "text/plain": "(128, 168)"
          },
          "metadata": {}
        }
      ],
      "execution_count": 26,
      "metadata": {
        "collapsed": true,
        "jupyter": {
          "source_hidden": false,
          "outputs_hidden": false
        },
        "nteract": {
          "transient": {
            "deleting": false
          }
        },
        "execution": {
          "iopub.status.busy": "2021-01-12T18:11:55.308Z",
          "iopub.execute_input": "2021-01-12T18:11:55.331Z",
          "iopub.status.idle": "2021-01-12T18:11:55.381Z",
          "shell.execute_reply": "2021-01-12T18:11:55.403Z"
        }
      }
    },
    {
      "cell_type": "code",
      "source": [],
      "outputs": [],
      "execution_count": null,
      "metadata": {
        "collapsed": true,
        "jupyter": {
          "source_hidden": false,
          "outputs_hidden": false
        },
        "nteract": {
          "transient": {
            "deleting": false
          }
        }
      }
    }
  ],
  "metadata": {
    "kernelspec": {
      "display_name": "dldata",
      "language": "python",
      "name": "dldata"
    },
    "language_info": {
      "mimetype": "text/x-python",
      "nbconvert_exporter": "python",
      "name": "python",
      "pygments_lexer": "ipython2",
      "version": "2.7.13",
      "file_extension": ".py",
      "codemirror_mode": {
        "version": 2,
        "name": "ipython"
      }
    },
    "nteract": {
      "version": "0.27.0"
    }
  },
  "nbformat": 4,
  "nbformat_minor": 4
}