{
 "cells": [
  {
   "cell_type": "code",
   "execution_count": 1,
   "id": "sporting-processor",
   "metadata": {},
   "outputs": [
    {
     "name": "stdout",
     "output_type": "stream",
     "text": [
      "/mnt/fs4/hsiaoyut/tdw_physics/data\n"
     ]
    }
   ],
   "source": [
    "cd /mnt/fs4/hsiaoyut/tdw_physics/data"
   ]
  },
  {
   "cell_type": "code",
   "execution_count": 2,
   "id": "wanted-correction",
   "metadata": {},
   "outputs": [
    {
     "name": "stdout",
     "output_type": "stream",
     "text": [
      "\u001b[0m\u001b[34;42mclothSagging\u001b[0m/  \u001b[34;42mdominoes\u001b[0m/  models_full_check.txt         \u001b[34;42mtowers\u001b[0m/\n",
      "\u001b[34;42mcollision\u001b[0m/     \u001b[34;42mdrop\u001b[0m/      models_full_check_window.txt\n",
      "\u001b[34;42mcontainment\u001b[0m/   \u001b[34;42mlinking\u001b[0m/   \u001b[34;42mrollingSliding\u001b[0m/\n"
     ]
    }
   ],
   "source": [
    "ls"
   ]
  },
  {
   "cell_type": "code",
   "execution_count": 3,
   "id": "mighty-quebec",
   "metadata": {},
   "outputs": [],
   "source": [
    "old_names = ['clothSagging', 'collision', 'containment', 'dominoes', 'drop', 'linking', 'rollingSliding', 'towers']\n",
    "new_names = ['Drape', 'Collide', 'Contain', 'Dominoes', 'Drop', 'Link', 'Roll', 'Support']"
   ]
  },
  {
   "cell_type": "code",
   "execution_count": 4,
   "id": "extended-possession",
   "metadata": {},
   "outputs": [],
   "source": [
    "import glob\n",
    "import os\n",
    "from shutil import copyfile"
   ]
  },
  {
   "cell_type": "code",
   "execution_count": 5,
   "id": "twenty-qatar",
   "metadata": {},
   "outputs": [],
   "source": [
    "def convert_path(old_path, base):\n",
    "    splits = old_path.split('/')\n",
    "    post = splits[-3] + '_' + splits[-1]\n",
    "    return os.path.join(base, post)"
   ]
  },
  {
   "cell_type": "code",
   "execution_count": 37,
   "id": "lesbian-identification",
   "metadata": {},
   "outputs": [
    {
     "name": "stdout",
     "output_type": "stream",
     "text": [
      "clothSagging train 1998\n",
      "clothSagging train_readout 999\n",
      "collision train 1992\n",
      "collision train_readout 1008\n",
      "containment train 2002\n",
      "containment train_readout 1001\n",
      "dominoes train 2000\n",
      "dominoes train_readout 996\n",
      "drop train 2000\n",
      "drop train_readout 1000\n",
      "linking train 2002\n",
      "linking train_readout 1001\n",
      "rollingSliding train 2002\n",
      "rollingSliding train_readout 999\n",
      "towers train 2002\n",
      "towers train_readout 1001\n"
     ]
    }
   ],
   "source": [
    "base_dir = '/mnt/fs4/hsiaoyut/tdw_physics/data'\n",
    "for i, name in enumerate(old_names):\n",
    "    for mode in ['train', 'train_readout']:\n",
    "        old_paths = glob.glob(os.path.join(base_dir, name, '*', mode, '*.hdf5'))\n",
    "        print(name, mode, len(old_paths))\n",
    "        new_base_dir = '/mnt/fs4/eliwang/physion_train_data/dynamics_training/{}' if mode=='train' else '/mnt/fs4/eliwang/physion_train_data/readout_training/{}'\n",
    "        new_base_dir = new_base_dir.format(new_names[i])\n",
    "        for src in old_paths:\n",
    "            dst = convert_path(src, new_base_dir)\n",
    "            # print(src, dst)\n",
    "            copyfile(src, dst)"
   ]
  },
  {
   "cell_type": "code",
   "execution_count": 17,
   "id": "valued-bailey",
   "metadata": {},
   "outputs": [
    {
     "name": "stdout",
     "output_type": "stream",
     "text": [
      "clothSagging valid 198\n",
      "clothSagging valid_readout 99\n",
      "collision valid 192\n",
      "collision valid_readout 96\n",
      "containment valid 196\n",
      "containment valid_readout 98\n",
      "dominoes valid 195\n",
      "dominoes valid_readout 97\n",
      "drop valid 200\n",
      "drop valid_readout 100\n",
      "linking valid 196\n",
      "linking valid_readout 98\n",
      "rollingSliding valid 196\n",
      "rollingSliding valid_readout 98\n",
      "towers valid 198\n",
      "towers valid_readout 99\n"
     ]
    }
   ],
   "source": [
    "base_dir = '/mnt/fs4/hsiaoyut/tdw_physics/data'\n",
    "for i, name in enumerate(old_names):\n",
    "    for mode in ['valid', 'valid_readout']:\n",
    "        old_paths = glob.glob(os.path.join(base_dir, name, '*', mode, '*.hdf5'))\n",
    "        print(name, mode, len(old_paths))\n",
    "        new_base_dir = '/mnt/fs6/eliwang/physion_data/pretraining_val/{}' if 'readout' not in mode else '/mnt/fs6/eliwang/physion_data/readout_val_redyellow/{}'\n",
    "        new_base_dir = new_base_dir.format(new_names[i])\n",
    "        try:\n",
    "            os.mkdir(new_base_dir)\n",
    "        except FileExistsError:\n",
    "            pass\n",
    "        for src in old_paths:\n",
    "            dst = convert_path(src, new_base_dir)\n",
    "            # print(src, dst)\n",
    "            copyfile(src, dst)"
   ]
  },
  {
   "cell_type": "code",
   "execution_count": null,
   "id": "viral-israel",
   "metadata": {},
   "outputs": [],
   "source": []
  }
 ],
 "metadata": {
  "kernelspec": {
   "display_name": "Python 3",
   "language": "python",
   "name": "python3"
  },
  "language_info": {
   "codemirror_mode": {
    "name": "ipython",
    "version": 3
   },
   "file_extension": ".py",
   "mimetype": "text/x-python",
   "name": "python",
   "nbconvert_exporter": "python",
   "pygments_lexer": "ipython3",
   "version": "3.5.2"
  }
 },
 "nbformat": 4,
 "nbformat_minor": 5
}
