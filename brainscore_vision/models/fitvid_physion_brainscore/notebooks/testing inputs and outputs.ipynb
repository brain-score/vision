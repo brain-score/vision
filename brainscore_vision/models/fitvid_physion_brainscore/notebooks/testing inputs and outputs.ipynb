{
 "cells": [
  {
   "cell_type": "code",
   "execution_count": 506,
   "id": "01cdd984",
   "metadata": {},
   "outputs": [],
   "source": [
    "import matplotlib.pyplot as plt\n",
    "%matplotlib inline"
   ]
  },
  {
   "cell_type": "code",
   "execution_count": 21,
   "id": "b4ce92ee",
   "metadata": {},
   "outputs": [],
   "source": [
    "import numpy as np\n",
    "import functools\n",
    "from torchvision import transforms as T\n",
    "import torch"
   ]
  },
  {
   "cell_type": "code",
   "execution_count": 22,
   "id": "b6ee0f88",
   "metadata": {},
   "outputs": [],
   "source": [
    "from physion import load_fitvid"
   ]
  },
  {
   "cell_type": "code",
   "execution_count": 3,
   "id": "d387671b",
   "metadata": {},
   "outputs": [],
   "source": [
    "model = load_fitvid() # pretrained"
   ]
  },
  {
   "cell_type": "markdown",
   "id": "bf32a8a5",
   "metadata": {},
   "source": [
    "### image preprocessing"
   ]
  },
  {
   "cell_type": "code",
   "execution_count": 28,
   "id": "47c0126a",
   "metadata": {},
   "outputs": [],
   "source": [
    "def load_preprocess_images_torch(image_filepaths, image_size, video_length=5):\n",
    "    \"\"\"\n",
    "    define custom pre-processing here since R3M does not normalize like other models\n",
    "    :seealso: r3m/example.py\n",
    "    \"\"\"\n",
    "    images = load_images(image_filepaths)\n",
    "    # preprocessing\n",
    "    transforms = T.Compose([\n",
    "        T.Resize(image_size),\n",
    "        T.ToTensor(),  # ToTensor() divides by 255\n",
    "        lambda img: img.repeat(video_length, 1, 1, 1),\n",
    "        #lambda img: img.unsqueeze(0),\n",
    "    ])\n",
    "    images = [transforms(img) for img in images ]\n",
    "    images = torch.stack(images, dim=0)\n",
    "    return images"
   ]
  },
  {
   "cell_type": "code",
   "execution_count": 36,
   "id": "85a9dc32",
   "metadata": {},
   "outputs": [],
   "source": [
    "def load_preprocess_images(image_filepaths, image_size, video_length=5):\n",
    "    \"\"\"\n",
    "    define custom pre-processing here since R3M does not normalize like other models\n",
    "    :seealso: r3m/example.py\n",
    "    \"\"\"\n",
    "    images = load_images(image_filepaths)\n",
    "    # preprocessing\n",
    "    transforms = T.Compose([\n",
    "        T.Resize(image_size),\n",
    "        T.ToTensor(),  # ToTensor() divides by 255\n",
    "        lambda img: img.repeat(video_length, 1, 1, 1),\n",
    "        lambda img: img.unsqueeze(0),\n",
    "    ])\n",
    "    images = [transforms(img) for img in images ]\n",
    "    images = np.concatenate(images)\n",
    "    return images"
   ]
  },
  {
   "cell_type": "code",
   "execution_count": 17,
   "id": "4794f2ba",
   "metadata": {},
   "outputs": [],
   "source": [
    "x = np.random.randint(10, size=(3, 64, 64))"
   ]
  },
  {
   "cell_type": "code",
   "execution_count": 23,
   "id": "e0fefd83",
   "metadata": {},
   "outputs": [],
   "source": [
    "y = np.tile(x, (5, 1, 1, 1))"
   ]
  },
  {
   "cell_type": "code",
   "execution_count": 24,
   "id": "49202a2f",
   "metadata": {},
   "outputs": [
    {
     "data": {
      "text/plain": [
       "(5, 3, 64, 64)"
      ]
     },
     "execution_count": 24,
     "metadata": {},
     "output_type": "execute_result"
    }
   ],
   "source": [
    "y.shape"
   ]
  },
  {
   "cell_type": "code",
   "execution_count": 25,
   "id": "9071ab40",
   "metadata": {},
   "outputs": [
    {
     "data": {
      "text/plain": [
       "True"
      ]
     },
     "execution_count": 25,
     "metadata": {},
     "output_type": "execute_result"
    }
   ],
   "source": [
    "(y[0] == y[1]).all()"
   ]
  },
  {
   "cell_type": "code",
   "execution_count": 5,
   "id": "29c495b6",
   "metadata": {},
   "outputs": [],
   "source": [
    "path = '/home/yamins/.local/lib/python3.7/site-packages/model_tools/check_submission/images'"
   ]
  },
  {
   "cell_type": "code",
   "execution_count": 6,
   "id": "0d5aee96",
   "metadata": {},
   "outputs": [],
   "source": [
    "from model_tools.activations.pytorch import PytorchWrapper, load_images"
   ]
  },
  {
   "cell_type": "code",
   "execution_count": 428,
   "id": "3e365983",
   "metadata": {},
   "outputs": [
    {
     "data": {
      "text/plain": [
       "['9.png',\n",
       " '4.png',\n",
       " '20.png',\n",
       " '11.png',\n",
       " '5.png',\n",
       " '19.png',\n",
       " '3.png',\n",
       " '8.png',\n",
       " '7.png',\n",
       " '15.png',\n",
       " '12.png',\n",
       " '6.png',\n",
       " '17.png',\n",
       " '16.png',\n",
       " '14.png',\n",
       " '18.png',\n",
       " '1.png',\n",
       " '2.png',\n",
       " '10.png',\n",
       " '13.png']"
      ]
     },
     "execution_count": 428,
     "metadata": {},
     "output_type": "execute_result"
    }
   ],
   "source": [
    "os.listdir('/home/yamins/.local/lib/python3.7/site-packages/model_tools/check_submission/images')"
   ]
  },
  {
   "cell_type": "code",
   "execution_count": 431,
   "id": "2d8e3fc2",
   "metadata": {},
   "outputs": [],
   "source": [
    "import os\n",
    "image_filepaths = [os.path.join(path, '%d.png' % i) for i in range(1, 21)]"
   ]
  },
  {
   "cell_type": "code",
   "execution_count": 432,
   "id": "aa6d8078",
   "metadata": {},
   "outputs": [],
   "source": [
    "images = load_preprocess_images(image_filepaths, 64)"
   ]
  },
  {
   "cell_type": "code",
   "execution_count": 433,
   "id": "29ccd840",
   "metadata": {},
   "outputs": [
    {
     "data": {
      "text/plain": [
       "(20, 5, 3, 64, 64)"
      ]
     },
     "execution_count": 433,
     "metadata": {},
     "output_type": "execute_result"
    }
   ],
   "source": [
    "images.shape"
   ]
  },
  {
   "cell_type": "markdown",
   "id": "8388d3a3",
   "metadata": {},
   "source": [
    "### looking at the model"
   ]
  },
  {
   "cell_type": "code",
   "execution_count": 12,
   "id": "1068f1eb",
   "metadata": {},
   "outputs": [
    {
     "data": {
      "text/plain": [
       "FitVid(\n",
       "  (encoder): NvaeEncoder(\n",
       "    (blocks): ModuleList(\n",
       "      (0): ModuleList(\n",
       "        (0): EncoderBlock(\n",
       "          (conv1): Conv2d(3, 64, kernel_size=(3, 3), stride=(1, 1), padding=(1, 1), bias=False)\n",
       "          (conv2): Conv2d(64, 64, kernel_size=(3, 3), stride=(1, 1), padding=same, bias=False)\n",
       "          (shortcut): Conv2d(3, 64, kernel_size=(1, 1), stride=(1, 1), bias=False)\n",
       "          (normalize_input): BatchNorm2d(3, eps=1e-05, momentum=0.1, affine=True, track_running_stats=True)\n",
       "          (normalize_hidden): BatchNorm2d(64, eps=1e-05, momentum=0.1, affine=True, track_running_stats=True)\n",
       "          (normalize_residual): BatchNorm2d(64, eps=1e-05, momentum=0.1, affine=True, track_running_stats=True)\n",
       "          (se): SEBlock(\n",
       "            (squeeze): Conv2d(64, 4, kernel_size=(1, 1), stride=(1, 1))\n",
       "            (expand): Conv2d(4, 64, kernel_size=(1, 1), stride=(1, 1))\n",
       "          )\n",
       "          (act): SiLU()\n",
       "        )\n",
       "        (1): EncoderBlock(\n",
       "          (conv1): Conv2d(64, 64, kernel_size=(3, 3), stride=(1, 1), padding=(1, 1), bias=False)\n",
       "          (conv2): Conv2d(64, 64, kernel_size=(3, 3), stride=(1, 1), padding=same, bias=False)\n",
       "          (shortcut): Conv2d(64, 64, kernel_size=(1, 1), stride=(1, 1), bias=False)\n",
       "          (normalize_input): BatchNorm2d(64, eps=1e-05, momentum=0.1, affine=True, track_running_stats=True)\n",
       "          (normalize_hidden): BatchNorm2d(64, eps=1e-05, momentum=0.1, affine=True, track_running_stats=True)\n",
       "          (normalize_residual): BatchNorm2d(64, eps=1e-05, momentum=0.1, affine=True, track_running_stats=True)\n",
       "          (se): SEBlock(\n",
       "            (squeeze): Conv2d(64, 4, kernel_size=(1, 1), stride=(1, 1))\n",
       "            (expand): Conv2d(4, 64, kernel_size=(1, 1), stride=(1, 1))\n",
       "          )\n",
       "          (act): SiLU()\n",
       "        )\n",
       "      )\n",
       "      (1): ModuleList(\n",
       "        (0): EncoderBlock(\n",
       "          (conv1): Conv2d(64, 128, kernel_size=(3, 3), stride=(2, 2), padding=(1, 1), bias=False)\n",
       "          (conv2): Conv2d(128, 128, kernel_size=(3, 3), stride=(1, 1), padding=same, bias=False)\n",
       "          (shortcut): Conv2d(64, 128, kernel_size=(1, 1), stride=(2, 2), bias=False)\n",
       "          (normalize_input): BatchNorm2d(64, eps=1e-05, momentum=0.1, affine=True, track_running_stats=True)\n",
       "          (normalize_hidden): BatchNorm2d(128, eps=1e-05, momentum=0.1, affine=True, track_running_stats=True)\n",
       "          (normalize_residual): BatchNorm2d(128, eps=1e-05, momentum=0.1, affine=True, track_running_stats=True)\n",
       "          (se): SEBlock(\n",
       "            (squeeze): Conv2d(128, 8, kernel_size=(1, 1), stride=(1, 1))\n",
       "            (expand): Conv2d(8, 128, kernel_size=(1, 1), stride=(1, 1))\n",
       "          )\n",
       "          (act): SiLU()\n",
       "        )\n",
       "        (1): EncoderBlock(\n",
       "          (conv1): Conv2d(128, 128, kernel_size=(3, 3), stride=(1, 1), padding=(1, 1), bias=False)\n",
       "          (conv2): Conv2d(128, 128, kernel_size=(3, 3), stride=(1, 1), padding=same, bias=False)\n",
       "          (shortcut): Conv2d(128, 128, kernel_size=(1, 1), stride=(1, 1), bias=False)\n",
       "          (normalize_input): BatchNorm2d(128, eps=1e-05, momentum=0.1, affine=True, track_running_stats=True)\n",
       "          (normalize_hidden): BatchNorm2d(128, eps=1e-05, momentum=0.1, affine=True, track_running_stats=True)\n",
       "          (normalize_residual): BatchNorm2d(128, eps=1e-05, momentum=0.1, affine=True, track_running_stats=True)\n",
       "          (se): SEBlock(\n",
       "            (squeeze): Conv2d(128, 8, kernel_size=(1, 1), stride=(1, 1))\n",
       "            (expand): Conv2d(8, 128, kernel_size=(1, 1), stride=(1, 1))\n",
       "          )\n",
       "          (act): SiLU()\n",
       "        )\n",
       "      )\n",
       "      (2): ModuleList(\n",
       "        (0): EncoderBlock(\n",
       "          (conv1): Conv2d(128, 256, kernel_size=(3, 3), stride=(2, 2), padding=(1, 1), bias=False)\n",
       "          (conv2): Conv2d(256, 256, kernel_size=(3, 3), stride=(1, 1), padding=same, bias=False)\n",
       "          (shortcut): Conv2d(128, 256, kernel_size=(1, 1), stride=(2, 2), bias=False)\n",
       "          (normalize_input): BatchNorm2d(128, eps=1e-05, momentum=0.1, affine=True, track_running_stats=True)\n",
       "          (normalize_hidden): BatchNorm2d(256, eps=1e-05, momentum=0.1, affine=True, track_running_stats=True)\n",
       "          (normalize_residual): BatchNorm2d(256, eps=1e-05, momentum=0.1, affine=True, track_running_stats=True)\n",
       "          (se): SEBlock(\n",
       "            (squeeze): Conv2d(256, 16, kernel_size=(1, 1), stride=(1, 1))\n",
       "            (expand): Conv2d(16, 256, kernel_size=(1, 1), stride=(1, 1))\n",
       "          )\n",
       "          (act): SiLU()\n",
       "        )\n",
       "        (1): EncoderBlock(\n",
       "          (conv1): Conv2d(256, 256, kernel_size=(3, 3), stride=(1, 1), padding=(1, 1), bias=False)\n",
       "          (conv2): Conv2d(256, 256, kernel_size=(3, 3), stride=(1, 1), padding=same, bias=False)\n",
       "          (shortcut): Conv2d(256, 256, kernel_size=(1, 1), stride=(1, 1), bias=False)\n",
       "          (normalize_input): BatchNorm2d(256, eps=1e-05, momentum=0.1, affine=True, track_running_stats=True)\n",
       "          (normalize_hidden): BatchNorm2d(256, eps=1e-05, momentum=0.1, affine=True, track_running_stats=True)\n",
       "          (normalize_residual): BatchNorm2d(256, eps=1e-05, momentum=0.1, affine=True, track_running_stats=True)\n",
       "          (se): SEBlock(\n",
       "            (squeeze): Conv2d(256, 16, kernel_size=(1, 1), stride=(1, 1))\n",
       "            (expand): Conv2d(16, 256, kernel_size=(1, 1), stride=(1, 1))\n",
       "          )\n",
       "          (act): SiLU()\n",
       "        )\n",
       "      )\n",
       "      (3): ModuleList(\n",
       "        (0): EncoderBlock(\n",
       "          (conv1): Conv2d(256, 512, kernel_size=(3, 3), stride=(2, 2), padding=(1, 1), bias=False)\n",
       "          (conv2): Conv2d(512, 512, kernel_size=(3, 3), stride=(1, 1), padding=same, bias=False)\n",
       "          (shortcut): Conv2d(256, 512, kernel_size=(1, 1), stride=(2, 2), bias=False)\n",
       "          (normalize_input): BatchNorm2d(256, eps=1e-05, momentum=0.1, affine=True, track_running_stats=True)\n",
       "          (normalize_hidden): BatchNorm2d(512, eps=1e-05, momentum=0.1, affine=True, track_running_stats=True)\n",
       "          (normalize_residual): BatchNorm2d(512, eps=1e-05, momentum=0.1, affine=True, track_running_stats=True)\n",
       "          (se): SEBlock(\n",
       "            (squeeze): Conv2d(512, 32, kernel_size=(1, 1), stride=(1, 1))\n",
       "            (expand): Conv2d(32, 512, kernel_size=(1, 1), stride=(1, 1))\n",
       "          )\n",
       "          (act): SiLU()\n",
       "        )\n",
       "        (1): EncoderBlock(\n",
       "          (conv1): Conv2d(512, 512, kernel_size=(3, 3), stride=(1, 1), padding=(1, 1), bias=False)\n",
       "          (conv2): Conv2d(512, 512, kernel_size=(3, 3), stride=(1, 1), padding=same, bias=False)\n",
       "          (shortcut): Conv2d(512, 512, kernel_size=(1, 1), stride=(1, 1), bias=False)\n",
       "          (normalize_input): BatchNorm2d(512, eps=1e-05, momentum=0.1, affine=True, track_running_stats=True)\n",
       "          (normalize_hidden): BatchNorm2d(512, eps=1e-05, momentum=0.1, affine=True, track_running_stats=True)\n",
       "          (normalize_residual): BatchNorm2d(512, eps=1e-05, momentum=0.1, affine=True, track_running_stats=True)\n",
       "          (se): SEBlock(\n",
       "            (squeeze): Conv2d(512, 32, kernel_size=(1, 1), stride=(1, 1))\n",
       "            (expand): Conv2d(32, 512, kernel_size=(1, 1), stride=(1, 1))\n",
       "          )\n",
       "          (act): SiLU()\n",
       "        )\n",
       "      )\n",
       "    )\n",
       "    (linear): Linear(in_features=512, out_features=128, bias=True)\n",
       "  )\n",
       "  (decoder): NvaeDecoder(\n",
       "    (linear): Linear(in_features=128, out_features=32768, bias=True)\n",
       "    (blocks): ModuleList(\n",
       "      (0): ModuleList(\n",
       "        (0): DecoderBlock(\n",
       "          (act): SiLU()\n",
       "          (conv1): Conv2d(512, 2048, kernel_size=(1, 1), stride=(1, 1), bias=False)\n",
       "          (conv2): Conv2d(2048, 2048, kernel_size=(5, 5), stride=(1, 1), padding=same, bias=False)\n",
       "          (conv3): Conv2d(2048, 512, kernel_size=(1, 1), stride=(1, 1), bias=False)\n",
       "          (shortcut): Conv2d(512, 512, kernel_size=(1, 1), stride=(1, 1), bias=False)\n",
       "          (normalize_input): BatchNorm2d(512, eps=1e-05, momentum=0.1, affine=True, track_running_stats=True)\n",
       "          (normalize_hidden1): BatchNorm2d(2048, eps=1e-05, momentum=0.1, affine=True, track_running_stats=True)\n",
       "          (normalize_hidden2): BatchNorm2d(2048, eps=1e-05, momentum=0.1, affine=True, track_running_stats=True)\n",
       "          (normalize_output): BatchNorm2d(512, eps=1e-05, momentum=0.1, affine=True, track_running_stats=True)\n",
       "          (normalize_residual): BatchNorm2d(512, eps=1e-05, momentum=0.1, affine=True, track_running_stats=True)\n",
       "          (se): SEBlock(\n",
       "            (squeeze): Conv2d(512, 32, kernel_size=(1, 1), stride=(1, 1))\n",
       "            (expand): Conv2d(32, 512, kernel_size=(1, 1), stride=(1, 1))\n",
       "          )\n",
       "        )\n",
       "        (1): DecoderBlock(\n",
       "          (act): SiLU()\n",
       "          (conv1): Conv2d(512, 2048, kernel_size=(1, 1), stride=(1, 1), bias=False)\n",
       "          (conv2): Conv2d(2048, 2048, kernel_size=(5, 5), stride=(1, 1), padding=same, bias=False)\n",
       "          (conv3): Conv2d(2048, 512, kernel_size=(1, 1), stride=(1, 1), bias=False)\n",
       "          (shortcut): Conv2d(512, 512, kernel_size=(1, 1), stride=(1, 1), bias=False)\n",
       "          (normalize_input): BatchNorm2d(512, eps=1e-05, momentum=0.1, affine=True, track_running_stats=True)\n",
       "          (normalize_hidden1): BatchNorm2d(2048, eps=1e-05, momentum=0.1, affine=True, track_running_stats=True)\n",
       "          (normalize_hidden2): BatchNorm2d(2048, eps=1e-05, momentum=0.1, affine=True, track_running_stats=True)\n",
       "          (normalize_output): BatchNorm2d(512, eps=1e-05, momentum=0.1, affine=True, track_running_stats=True)\n",
       "          (normalize_residual): BatchNorm2d(512, eps=1e-05, momentum=0.1, affine=True, track_running_stats=True)\n",
       "          (se): SEBlock(\n",
       "            (squeeze): Conv2d(512, 32, kernel_size=(1, 1), stride=(1, 1))\n",
       "            (expand): Conv2d(32, 512, kernel_size=(1, 1), stride=(1, 1))\n",
       "          )\n",
       "        )\n",
       "      )\n",
       "      (1): ModuleList(\n",
       "        (0): DecoderBlock(\n",
       "          (act): SiLU()\n",
       "          (conv1): Conv2d(512, 1024, kernel_size=(1, 1), stride=(1, 1), bias=False)\n",
       "          (conv2): Conv2d(1024, 1024, kernel_size=(5, 5), stride=(1, 1), padding=same, bias=False)\n",
       "          (conv3): Conv2d(1024, 256, kernel_size=(1, 1), stride=(1, 1), bias=False)\n",
       "          (shortcut): Conv2d(512, 256, kernel_size=(1, 1), stride=(1, 1), bias=False)\n",
       "          (normalize_input): BatchNorm2d(512, eps=1e-05, momentum=0.1, affine=True, track_running_stats=True)\n",
       "          (normalize_hidden1): BatchNorm2d(1024, eps=1e-05, momentum=0.1, affine=True, track_running_stats=True)\n",
       "          (normalize_hidden2): BatchNorm2d(1024, eps=1e-05, momentum=0.1, affine=True, track_running_stats=True)\n",
       "          (normalize_output): BatchNorm2d(256, eps=1e-05, momentum=0.1, affine=True, track_running_stats=True)\n",
       "          (normalize_residual): BatchNorm2d(256, eps=1e-05, momentum=0.1, affine=True, track_running_stats=True)\n",
       "          (se): SEBlock(\n",
       "            (squeeze): Conv2d(256, 16, kernel_size=(1, 1), stride=(1, 1))\n",
       "            (expand): Conv2d(16, 256, kernel_size=(1, 1), stride=(1, 1))\n",
       "          )\n",
       "        )\n",
       "        (1): DecoderBlock(\n",
       "          (act): SiLU()\n",
       "          (conv1): Conv2d(256, 1024, kernel_size=(1, 1), stride=(1, 1), bias=False)\n",
       "          (conv2): Conv2d(1024, 1024, kernel_size=(5, 5), stride=(1, 1), padding=same, bias=False)\n",
       "          (conv3): Conv2d(1024, 256, kernel_size=(1, 1), stride=(1, 1), bias=False)\n",
       "          (shortcut): Conv2d(256, 256, kernel_size=(1, 1), stride=(1, 1), bias=False)\n",
       "          (normalize_input): BatchNorm2d(256, eps=1e-05, momentum=0.1, affine=True, track_running_stats=True)\n",
       "          (normalize_hidden1): BatchNorm2d(1024, eps=1e-05, momentum=0.1, affine=True, track_running_stats=True)\n",
       "          (normalize_hidden2): BatchNorm2d(1024, eps=1e-05, momentum=0.1, affine=True, track_running_stats=True)\n",
       "          (normalize_output): BatchNorm2d(256, eps=1e-05, momentum=0.1, affine=True, track_running_stats=True)\n",
       "          (normalize_residual): BatchNorm2d(256, eps=1e-05, momentum=0.1, affine=True, track_running_stats=True)\n",
       "          (se): SEBlock(\n",
       "            (squeeze): Conv2d(256, 16, kernel_size=(1, 1), stride=(1, 1))\n",
       "            (expand): Conv2d(16, 256, kernel_size=(1, 1), stride=(1, 1))\n",
       "          )\n",
       "        )\n",
       "      )\n",
       "      (2): ModuleList(\n",
       "        (0): DecoderBlock(\n",
       "          (act): SiLU()\n",
       "          (conv1): Conv2d(256, 512, kernel_size=(1, 1), stride=(1, 1), bias=False)\n",
       "          (conv2): Conv2d(512, 512, kernel_size=(5, 5), stride=(1, 1), padding=same, bias=False)\n",
       "          (conv3): Conv2d(512, 128, kernel_size=(1, 1), stride=(1, 1), bias=False)\n",
       "          (shortcut): Conv2d(256, 128, kernel_size=(1, 1), stride=(1, 1), bias=False)\n",
       "          (normalize_input): BatchNorm2d(256, eps=1e-05, momentum=0.1, affine=True, track_running_stats=True)\n",
       "          (normalize_hidden1): BatchNorm2d(512, eps=1e-05, momentum=0.1, affine=True, track_running_stats=True)\n",
       "          (normalize_hidden2): BatchNorm2d(512, eps=1e-05, momentum=0.1, affine=True, track_running_stats=True)\n",
       "          (normalize_output): BatchNorm2d(128, eps=1e-05, momentum=0.1, affine=True, track_running_stats=True)\n",
       "          (normalize_residual): BatchNorm2d(128, eps=1e-05, momentum=0.1, affine=True, track_running_stats=True)\n",
       "          (se): SEBlock(\n",
       "            (squeeze): Conv2d(128, 8, kernel_size=(1, 1), stride=(1, 1))\n",
       "            (expand): Conv2d(8, 128, kernel_size=(1, 1), stride=(1, 1))\n",
       "          )\n",
       "        )\n",
       "        (1): DecoderBlock(\n",
       "          (act): SiLU()\n",
       "          (conv1): Conv2d(128, 512, kernel_size=(1, 1), stride=(1, 1), bias=False)\n",
       "          (conv2): Conv2d(512, 512, kernel_size=(5, 5), stride=(1, 1), padding=same, bias=False)\n",
       "          (conv3): Conv2d(512, 128, kernel_size=(1, 1), stride=(1, 1), bias=False)\n",
       "          (shortcut): Conv2d(128, 128, kernel_size=(1, 1), stride=(1, 1), bias=False)\n",
       "          (normalize_input): BatchNorm2d(128, eps=1e-05, momentum=0.1, affine=True, track_running_stats=True)\n",
       "          (normalize_hidden1): BatchNorm2d(512, eps=1e-05, momentum=0.1, affine=True, track_running_stats=True)\n",
       "          (normalize_hidden2): BatchNorm2d(512, eps=1e-05, momentum=0.1, affine=True, track_running_stats=True)\n",
       "          (normalize_output): BatchNorm2d(128, eps=1e-05, momentum=0.1, affine=True, track_running_stats=True)\n",
       "          (normalize_residual): BatchNorm2d(128, eps=1e-05, momentum=0.1, affine=True, track_running_stats=True)\n",
       "          (se): SEBlock(\n",
       "            (squeeze): Conv2d(128, 8, kernel_size=(1, 1), stride=(1, 1))\n",
       "            (expand): Conv2d(8, 128, kernel_size=(1, 1), stride=(1, 1))\n",
       "          )\n",
       "        )\n",
       "      )\n",
       "      (3): ModuleList(\n",
       "        (0): DecoderBlock(\n",
       "          (act): SiLU()\n",
       "          (conv1): Conv2d(128, 256, kernel_size=(1, 1), stride=(1, 1), bias=False)\n",
       "          (conv2): Conv2d(256, 256, kernel_size=(5, 5), stride=(1, 1), padding=same, bias=False)\n",
       "          (conv3): Conv2d(256, 64, kernel_size=(1, 1), stride=(1, 1), bias=False)\n",
       "          (shortcut): Conv2d(128, 64, kernel_size=(1, 1), stride=(1, 1), bias=False)\n",
       "          (normalize_input): BatchNorm2d(128, eps=1e-05, momentum=0.1, affine=True, track_running_stats=True)\n",
       "          (normalize_hidden1): BatchNorm2d(256, eps=1e-05, momentum=0.1, affine=True, track_running_stats=True)\n",
       "          (normalize_hidden2): BatchNorm2d(256, eps=1e-05, momentum=0.1, affine=True, track_running_stats=True)\n",
       "          (normalize_output): BatchNorm2d(64, eps=1e-05, momentum=0.1, affine=True, track_running_stats=True)\n",
       "          (normalize_residual): BatchNorm2d(64, eps=1e-05, momentum=0.1, affine=True, track_running_stats=True)\n",
       "          (se): SEBlock(\n",
       "            (squeeze): Conv2d(64, 4, kernel_size=(1, 1), stride=(1, 1))\n",
       "            (expand): Conv2d(4, 64, kernel_size=(1, 1), stride=(1, 1))\n",
       "          )\n",
       "        )\n",
       "        (1): DecoderBlock(\n",
       "          (act): SiLU()\n",
       "          (conv1): Conv2d(64, 256, kernel_size=(1, 1), stride=(1, 1), bias=False)\n",
       "          (conv2): Conv2d(256, 256, kernel_size=(5, 5), stride=(1, 1), padding=same, bias=False)\n",
       "          (conv3): Conv2d(256, 64, kernel_size=(1, 1), stride=(1, 1), bias=False)\n",
       "          (shortcut): Conv2d(64, 64, kernel_size=(1, 1), stride=(1, 1), bias=False)\n",
       "          (normalize_input): BatchNorm2d(64, eps=1e-05, momentum=0.1, affine=True, track_running_stats=True)\n",
       "          (normalize_hidden1): BatchNorm2d(256, eps=1e-05, momentum=0.1, affine=True, track_running_stats=True)\n",
       "          (normalize_hidden2): BatchNorm2d(256, eps=1e-05, momentum=0.1, affine=True, track_running_stats=True)\n",
       "          (normalize_output): BatchNorm2d(64, eps=1e-05, momentum=0.1, affine=True, track_running_stats=True)\n",
       "          (normalize_residual): BatchNorm2d(64, eps=1e-05, momentum=0.1, affine=True, track_running_stats=True)\n",
       "          (se): SEBlock(\n",
       "            (squeeze): Conv2d(64, 4, kernel_size=(1, 1), stride=(1, 1))\n",
       "            (expand): Conv2d(4, 64, kernel_size=(1, 1), stride=(1, 1))\n",
       "          )\n",
       "        )\n",
       "      )\n",
       "    )\n",
       "    (output_conv): Conv2d(64, 3, kernel_size=(3, 3), stride=(1, 1), padding=same, bias=False)\n",
       "  )\n",
       "  (frame_predictor): MultiGaussianLSTM(\n",
       "    (embed): Linear(in_features=138, out_features=256, bias=True)\n",
       "    (mean): Linear(in_features=256, out_features=128, bias=True)\n",
       "    (logvar): Linear(in_features=256, out_features=128, bias=True)\n",
       "    (layers): ModuleList(\n",
       "      (0): LSTMCell(256, 256)\n",
       "      (1): LSTMCell(256, 256)\n",
       "    )\n",
       "  )\n",
       "  (posterior): MultiGaussianLSTM(\n",
       "    (embed): Linear(in_features=128, out_features=256, bias=True)\n",
       "    (mean): Linear(in_features=256, out_features=10, bias=True)\n",
       "    (logvar): Linear(in_features=256, out_features=10, bias=True)\n",
       "    (layers): ModuleList(\n",
       "      (0): LSTMCell(256, 256)\n",
       "    )\n",
       "  )\n",
       "  (prior): MultiGaussianLSTM(\n",
       "    (embed): Linear(in_features=128, out_features=256, bias=True)\n",
       "    (mean): Linear(in_features=256, out_features=10, bias=True)\n",
       "    (logvar): Linear(in_features=256, out_features=10, bias=True)\n",
       "    (layers): ModuleList(\n",
       "      (0): LSTMCell(256, 256)\n",
       "    )\n",
       "  )\n",
       ")"
      ]
     },
     "execution_count": 12,
     "metadata": {},
     "output_type": "execute_result"
    }
   ],
   "source": [
    "model"
   ]
  },
  {
   "cell_type": "code",
   "execution_count": 568,
   "id": "9ba46796",
   "metadata": {},
   "outputs": [],
   "source": [
    "import physion.models.fitvid as fitvid\n",
    "from torch import nn, Tensor\n",
    "from typing import Dict, Iterable, Callable\n",
    "\n",
    "class Slicer(nn.Module):\n",
    "    def __init__(self):\n",
    "        super().__init__()\n",
    "        \n",
    "    def forward(self, x):\n",
    "        return x[0][:, 0]\n",
    "    \n",
    "class Postprocess(nn.Module):\n",
    "    def __init__(self, model: nn.Module, layers: Iterable[str]):\n",
    "        super().__init__()\n",
    "        self.model = model\n",
    "        self.layers = layers\n",
    "        self.slicers = torch.nn.ModuleDict({layer.replace('.', '__'): Slicer() for layer in layers})\n",
    "        self._features = {layer: torch.empty(0) for layer in layers}\n",
    "\n",
    "        for layer_id in layers:\n",
    "            layer = dict([*self.model.named_modules()])[layer_id]\n",
    "            layer.register_forward_hook(self.save_outputs_hook(layer_id))\n",
    "\n",
    "    def save_outputs_hook(self, layer_id: str) -> Callable:\n",
    "        def fn(_, __, output):\n",
    "            self._features[layer_id] = output\n",
    "        return fn\n",
    "\n",
    "    def forward(self, x: Tensor) -> Dict[str, Tensor]:\n",
    "        _ = self.model(x)\n",
    "        return {layer: self.slicers[layer.replace('.', '__')](self._features[layer]) for layer in self.layers}\n"
   ]
  },
  {
   "cell_type": "code",
   "execution_count": 492,
   "id": "08c31814",
   "metadata": {},
   "outputs": [],
   "source": [
    "model = load_fitvid() # pretrained"
   ]
  },
  {
   "cell_type": "code",
   "execution_count": 493,
   "id": "0b7b87ef",
   "metadata": {},
   "outputs": [
    {
     "data": {
      "text/plain": [
       "Conv2d(64, 3, kernel_size=(3, 3), stride=(1, 1), padding=same, bias=False)"
      ]
     },
     "execution_count": 493,
     "metadata": {},
     "output_type": "execute_result"
    }
   ],
   "source": [
    "model.decoder.output_conv"
   ]
  },
  {
   "cell_type": "code",
   "execution_count": 497,
   "id": "c0589ba2",
   "metadata": {},
   "outputs": [],
   "source": [
    "preprocessing = functools.partial(load_preprocess_images, image_size=64)\n",
    "wrapper = PytorchWrapper(identifier='fitvid', model=model, preprocessing=preprocessing)\n",
    "wrapper.image_size = 64"
   ]
  },
  {
   "cell_type": "code",
   "execution_count": 523,
   "id": "af28132e",
   "metadata": {},
   "outputs": [
    {
     "ename": "AssertionError",
     "evalue": "No submodule found for layer decoder.output_conv, at part decoder",
     "output_type": "error",
     "traceback": [
      "\u001b[0;31m---------------------------------------------------------------------------\u001b[0m",
      "\u001b[0;31mAssertionError\u001b[0m                            Traceback (most recent call last)",
      "\u001b[0;32m/tmp/ipykernel_12900/2852145155.py\u001b[0m in \u001b[0;36m<module>\u001b[0;34m\u001b[0m\n\u001b[0;32m----> 1\u001b[0;31m \u001b[0mout\u001b[0m \u001b[0;34m=\u001b[0m \u001b[0mwrapper\u001b[0m\u001b[0;34m.\u001b[0m\u001b[0mget_activations\u001b[0m\u001b[0;34m(\u001b[0m\u001b[0mimages\u001b[0m\u001b[0;34m,\u001b[0m \u001b[0;34m[\u001b[0m\u001b[0;34m'decoder.output_conv'\u001b[0m\u001b[0;34m]\u001b[0m\u001b[0;34m)\u001b[0m\u001b[0;34m\u001b[0m\u001b[0;34m\u001b[0m\u001b[0m\n\u001b[0m",
      "\u001b[0;32m~/.local/lib/python3.7/site-packages/model_tools/activations/pytorch.py\u001b[0m in \u001b[0;36mget_activations\u001b[0;34m(self, images, layer_names)\u001b[0m\n\u001b[1;32m     52\u001b[0m \u001b[0;34m\u001b[0m\u001b[0m\n\u001b[1;32m     53\u001b[0m         \u001b[0;32mfor\u001b[0m \u001b[0mlayer_name\u001b[0m \u001b[0;32min\u001b[0m \u001b[0mlayer_names\u001b[0m\u001b[0;34m:\u001b[0m\u001b[0;34m\u001b[0m\u001b[0;34m\u001b[0m\u001b[0m\n\u001b[0;32m---> 54\u001b[0;31m             \u001b[0mlayer\u001b[0m \u001b[0;34m=\u001b[0m \u001b[0mself\u001b[0m\u001b[0;34m.\u001b[0m\u001b[0mget_layer\u001b[0m\u001b[0;34m(\u001b[0m\u001b[0mlayer_name\u001b[0m\u001b[0;34m)\u001b[0m\u001b[0;34m\u001b[0m\u001b[0;34m\u001b[0m\u001b[0m\n\u001b[0m\u001b[1;32m     55\u001b[0m             \u001b[0mhook\u001b[0m \u001b[0;34m=\u001b[0m \u001b[0mself\u001b[0m\u001b[0;34m.\u001b[0m\u001b[0mregister_hook\u001b[0m\u001b[0;34m(\u001b[0m\u001b[0mlayer\u001b[0m\u001b[0;34m,\u001b[0m \u001b[0mlayer_name\u001b[0m\u001b[0;34m,\u001b[0m \u001b[0mtarget_dict\u001b[0m\u001b[0;34m=\u001b[0m\u001b[0mlayer_results\u001b[0m\u001b[0;34m)\u001b[0m\u001b[0;34m\u001b[0m\u001b[0;34m\u001b[0m\u001b[0m\n\u001b[1;32m     56\u001b[0m             \u001b[0mhooks\u001b[0m\u001b[0;34m.\u001b[0m\u001b[0mappend\u001b[0m\u001b[0;34m(\u001b[0m\u001b[0mhook\u001b[0m\u001b[0;34m)\u001b[0m\u001b[0;34m\u001b[0m\u001b[0;34m\u001b[0m\u001b[0m\n",
      "\u001b[0;32m~/.local/lib/python3.7/site-packages/model_tools/activations/pytorch.py\u001b[0m in \u001b[0;36mget_layer\u001b[0;34m(self, layer_name)\u001b[0m\n\u001b[1;32m     67\u001b[0m         \u001b[0;32mfor\u001b[0m \u001b[0mpart\u001b[0m \u001b[0;32min\u001b[0m \u001b[0mlayer_name\u001b[0m\u001b[0;34m.\u001b[0m\u001b[0msplit\u001b[0m\u001b[0;34m(\u001b[0m\u001b[0mSUBMODULE_SEPARATOR\u001b[0m\u001b[0;34m)\u001b[0m\u001b[0;34m:\u001b[0m\u001b[0;34m\u001b[0m\u001b[0;34m\u001b[0m\u001b[0m\n\u001b[1;32m     68\u001b[0m             \u001b[0mmodule\u001b[0m \u001b[0;34m=\u001b[0m \u001b[0mmodule\u001b[0m\u001b[0;34m.\u001b[0m\u001b[0m_modules\u001b[0m\u001b[0;34m.\u001b[0m\u001b[0mget\u001b[0m\u001b[0;34m(\u001b[0m\u001b[0mpart\u001b[0m\u001b[0;34m)\u001b[0m\u001b[0;34m\u001b[0m\u001b[0;34m\u001b[0m\u001b[0m\n\u001b[0;32m---> 69\u001b[0;31m             \u001b[0;32massert\u001b[0m \u001b[0mmodule\u001b[0m \u001b[0;32mis\u001b[0m \u001b[0;32mnot\u001b[0m \u001b[0;32mNone\u001b[0m\u001b[0;34m,\u001b[0m \u001b[0;34mf\"No submodule found for layer {layer_name}, at part {part}\"\u001b[0m\u001b[0;34m\u001b[0m\u001b[0;34m\u001b[0m\u001b[0m\n\u001b[0m\u001b[1;32m     70\u001b[0m         \u001b[0;32mreturn\u001b[0m \u001b[0mmodule\u001b[0m\u001b[0;34m\u001b[0m\u001b[0;34m\u001b[0m\u001b[0m\n\u001b[1;32m     71\u001b[0m \u001b[0;34m\u001b[0m\u001b[0m\n",
      "\u001b[0;31mAssertionError\u001b[0m: No submodule found for layer decoder.output_conv, at part decoder"
     ]
    }
   ],
   "source": [
    "out = wrapper.get_activations(images, ['decoder.output_conv'])"
   ]
  },
  {
   "cell_type": "code",
   "execution_count": 522,
   "id": "bd747a68",
   "metadata": {},
   "outputs": [
    {
     "data": {
      "text/plain": [
       "<matplotlib.image.AxesImage at 0x7f244bdedb50>"
      ]
     },
     "execution_count": 522,
     "metadata": {},
     "output_type": "execute_result"
    },
    {
     "data": {
      "image/png": "[encoded data removed]",
      "text/plain": [
       "<Figure size 432x288 with 1 Axes>"
      ]
     },
     "metadata": {
      "needs_background": "light"
     },
     "output_type": "display_data"
    }
   ],
   "source": [
    "plt.imshow(images[18, 0].swapaxes(0, 1).swapaxes(1, 2))"
   ]
  },
  {
   "cell_type": "code",
   "execution_count": 518,
   "id": "185917c5",
   "metadata": {},
   "outputs": [
    {
     "name": "stderr",
     "output_type": "stream",
     "text": [
      "Clipping input data to the valid range for imshow with RGB data ([0..1] for floats or [0..255] for integers).\n"
     ]
    },
    {
     "data": {
      "text/plain": [
       "<matplotlib.image.AxesImage at 0x7f244c208350>"
      ]
     },
     "execution_count": 518,
     "metadata": {},
     "output_type": "execute_result"
    },
    {
     "data": {
      "image/png": "[encoded data removed]",
      "text/plain": [
       "<Figure size 432x288 with 1 Axes>"
      ]
     },
     "metadata": {
      "needs_background": "light"
     },
     "output_type": "display_data"
    }
   ],
   "source": [
    "plt.imshow(out['decoder.output_conv'][0].swapaxes(0, 1).swapaxes(1, 2))"
   ]
  },
  {
   "cell_type": "code",
   "execution_count": 569,
   "id": "a27e8833",
   "metadata": {},
   "outputs": [],
   "source": [
    "ppmodel = Postprocess(model, ['encoder'])"
   ]
  },
  {
   "cell_type": "code",
   "execution_count": 570,
   "id": "a6f5b8cd",
   "metadata": {},
   "outputs": [],
   "source": [
    "preprocessing = functools.partial(load_preprocess_images, image_size=64)\n",
    "wrapper = PytorchWrapper(identifier='fitvid', model=ppmodel, preprocessing=preprocessing)\n",
    "wrapper.image_size = 64"
   ]
  },
  {
   "cell_type": "code",
   "execution_count": 571,
   "id": "7aefa0c1",
   "metadata": {},
   "outputs": [],
   "source": [
    "out = wrapper.get_activations(images[:2], ['slicers.encoder'])"
   ]
  },
  {
   "cell_type": "code",
   "execution_count": 572,
   "id": "f986c20f",
   "metadata": {},
   "outputs": [
    {
     "data": {
      "text/plain": [
       "(2, 128)"
      ]
     },
     "execution_count": 572,
     "metadata": {},
     "output_type": "execute_result"
    }
   ],
   "source": [
    "out['slicers.encoder'].shape"
   ]
  },
  {
   "cell_type": "code",
   "execution_count": 535,
   "id": "f345e565",
   "metadata": {},
   "outputs": [],
   "source": [
    "out = wrapper.get_activations(images, ['slicers.decoder__output_conv'])"
   ]
  },
  {
   "cell_type": "code",
   "execution_count": 548,
   "id": "9a3d9b24",
   "metadata": {},
   "outputs": [
    {
     "data": {
      "text/plain": [
       "(20, 3, 64, 64)"
      ]
     },
     "execution_count": 548,
     "metadata": {},
     "output_type": "execute_result"
    }
   ],
   "source": [
    "out['slicers.decoder__output_conv'].shape"
   ]
  },
  {
   "cell_type": "code",
   "execution_count": 550,
   "id": "f52fd2a2",
   "metadata": {},
   "outputs": [
    {
     "name": "stderr",
     "output_type": "stream",
     "text": [
      "Clipping input data to the valid range for imshow with RGB data ([0..1] for floats or [0..255] for integers).\n"
     ]
    },
    {
     "data": {
      "text/plain": [
       "<matplotlib.image.AxesImage at 0x7f244bde2810>"
      ]
     },
     "execution_count": 550,
     "metadata": {},
     "output_type": "execute_result"
    },
    {
     "data": {
      "image/png": "[encoded data removed]",
      "text/plain": [
       "<Figure size 432x288 with 1 Axes>"
      ]
     },
     "metadata": {
      "needs_background": "light"
     },
     "output_type": "display_data"
    }
   ],
   "source": [
    "plt.imshow(out['slicers.decoder__output_conv'][18].swapaxes(0, 1).swapaxes(1, 2))"
   ]
  },
  {
   "cell_type": "code",
   "execution_count": 436,
   "id": "bee79c4b",
   "metadata": {},
   "outputs": [
    {
     "data": {
      "text/plain": [
       "array([0.00453787, 0.00453787, 0.00506037, 0.00506037, 0.00506037,\n",
       "       0.00506037, 0.00506037, 0.00506037, 0.00453787, 0.00453787,\n",
       "       0.00453788, 0.00453787, 0.00506037, 0.00506037, 0.00506037,\n",
       "       0.00506037, 0.00453787, 0.00506037, 0.00506037, 0.00506037],\n",
       "      dtype=float32)"
      ]
     },
     "execution_count": 436,
     "metadata": {},
     "output_type": "execute_result"
    }
   ],
   "source": [
    "out['slicers.encoder__linear'].mean(1)"
   ]
  },
  {
   "cell_type": "code",
   "execution_count": 437,
   "id": "4eac9173",
   "metadata": {},
   "outputs": [
    {
     "data": {
      "text/plain": [
       "array([0.00453787, 0.00453787, 0.00453787, 0.00453787, 0.00453787,\n",
       "       0.00453787, 0.00453787, 0.00453787, 0.00453787, 0.00453787,\n",
       "       0.00506037, 0.00506037, 0.00506037, 0.00506037, 0.00506037,\n",
       "       0.00506037, 0.00506037, 0.00506037, 0.00506037, 0.00506037,\n",
       "       0.00506037, 0.00506037, 0.00506037, 0.00506037, 0.00506037,\n",
       "       0.00506037, 0.00506037, 0.00506037, 0.00506037, 0.00506037,\n",
       "       0.00506037, 0.00506037, 0.00506037, 0.00506039, 0.00506037,\n",
       "       0.00506037, 0.00506037, 0.00506037, 0.00506037, 0.00506037,\n",
       "       0.00453787, 0.00453787, 0.00453787, 0.00453787, 0.00453787,\n",
       "       0.00453787, 0.00453787, 0.00453787, 0.00453787, 0.00453786,\n",
       "       0.00453788, 0.00453787, 0.00453787, 0.00453787, 0.00453787,\n",
       "       0.00453787, 0.00453787, 0.00453787, 0.00453787, 0.00453787,\n",
       "       0.00506037, 0.00506037, 0.00506037, 0.00506037, 0.00506037,\n",
       "       0.00506037, 0.00506037, 0.00506037, 0.00506037, 0.00506037,\n",
       "       0.00506037, 0.00506037, 0.00506037, 0.00506037, 0.00506037,\n",
       "       0.00506037, 0.00506037, 0.00506037, 0.00506037, 0.00506037,\n",
       "       0.00453787, 0.00453787, 0.00453787, 0.00453787, 0.00453787,\n",
       "       0.00506037, 0.00506037, 0.00506037, 0.00506037, 0.00506037,\n",
       "       0.00506037, 0.00506037, 0.00506037, 0.00506037, 0.00506037,\n",
       "       0.00506037, 0.00506037, 0.00506037, 0.00506036, 0.00506038],\n",
       "      dtype=float32)"
      ]
     },
     "execution_count": 437,
     "metadata": {},
     "output_type": "execute_result"
    }
   ],
   "source": [
    "out['model.encoder.linear'].mean(1)"
   ]
  },
  {
   "cell_type": "code",
   "execution_count": 195,
   "id": "67b663a7",
   "metadata": {},
   "outputs": [
    {
     "data": {
      "text/plain": [
       "Slicer(\n",
       "  (model): FitVid(\n",
       "    (encoder): NvaeEncoder(\n",
       "      (blocks): ModuleList(\n",
       "        (0): ModuleList(\n",
       "          (0): EncoderBlock(\n",
       "            (conv1): Conv2d(3, 64, kernel_size=(3, 3), stride=(1, 1), padding=(1, 1), bias=False)\n",
       "            (conv2): Conv2d(64, 64, kernel_size=(3, 3), stride=(1, 1), padding=same, bias=False)\n",
       "            (shortcut): Conv2d(3, 64, kernel_size=(1, 1), stride=(1, 1), bias=False)\n",
       "            (normalize_input): BatchNorm2d(3, eps=1e-05, momentum=0.1, affine=True, track_running_stats=True)\n",
       "            (normalize_hidden): BatchNorm2d(64, eps=1e-05, momentum=0.1, affine=True, track_running_stats=True)\n",
       "            (normalize_residual): BatchNorm2d(64, eps=1e-05, momentum=0.1, affine=True, track_running_stats=True)\n",
       "            (se): SEBlock(\n",
       "              (squeeze): Conv2d(64, 4, kernel_size=(1, 1), stride=(1, 1))\n",
       "              (expand): Conv2d(4, 64, kernel_size=(1, 1), stride=(1, 1))\n",
       "            )\n",
       "            (act): SiLU()\n",
       "          )\n",
       "          (1): EncoderBlock(\n",
       "            (conv1): Conv2d(64, 64, kernel_size=(3, 3), stride=(1, 1), padding=(1, 1), bias=False)\n",
       "            (conv2): Conv2d(64, 64, kernel_size=(3, 3), stride=(1, 1), padding=same, bias=False)\n",
       "            (shortcut): Conv2d(64, 64, kernel_size=(1, 1), stride=(1, 1), bias=False)\n",
       "            (normalize_input): BatchNorm2d(64, eps=1e-05, momentum=0.1, affine=True, track_running_stats=True)\n",
       "            (normalize_hidden): BatchNorm2d(64, eps=1e-05, momentum=0.1, affine=True, track_running_stats=True)\n",
       "            (normalize_residual): BatchNorm2d(64, eps=1e-05, momentum=0.1, affine=True, track_running_stats=True)\n",
       "            (se): SEBlock(\n",
       "              (squeeze): Conv2d(64, 4, kernel_size=(1, 1), stride=(1, 1))\n",
       "              (expand): Conv2d(4, 64, kernel_size=(1, 1), stride=(1, 1))\n",
       "            )\n",
       "            (act): SiLU()\n",
       "          )\n",
       "        )\n",
       "        (1): ModuleList(\n",
       "          (0): EncoderBlock(\n",
       "            (conv1): Conv2d(64, 128, kernel_size=(3, 3), stride=(2, 2), padding=(1, 1), bias=False)\n",
       "            (conv2): Conv2d(128, 128, kernel_size=(3, 3), stride=(1, 1), padding=same, bias=False)\n",
       "            (shortcut): Conv2d(64, 128, kernel_size=(1, 1), stride=(2, 2), bias=False)\n",
       "            (normalize_input): BatchNorm2d(64, eps=1e-05, momentum=0.1, affine=True, track_running_stats=True)\n",
       "            (normalize_hidden): BatchNorm2d(128, eps=1e-05, momentum=0.1, affine=True, track_running_stats=True)\n",
       "            (normalize_residual): BatchNorm2d(128, eps=1e-05, momentum=0.1, affine=True, track_running_stats=True)\n",
       "            (se): SEBlock(\n",
       "              (squeeze): Conv2d(128, 8, kernel_size=(1, 1), stride=(1, 1))\n",
       "              (expand): Conv2d(8, 128, kernel_size=(1, 1), stride=(1, 1))\n",
       "            )\n",
       "            (act): SiLU()\n",
       "          )\n",
       "          (1): EncoderBlock(\n",
       "            (conv1): Conv2d(128, 128, kernel_size=(3, 3), stride=(1, 1), padding=(1, 1), bias=False)\n",
       "            (conv2): Conv2d(128, 128, kernel_size=(3, 3), stride=(1, 1), padding=same, bias=False)\n",
       "            (shortcut): Conv2d(128, 128, kernel_size=(1, 1), stride=(1, 1), bias=False)\n",
       "            (normalize_input): BatchNorm2d(128, eps=1e-05, momentum=0.1, affine=True, track_running_stats=True)\n",
       "            (normalize_hidden): BatchNorm2d(128, eps=1e-05, momentum=0.1, affine=True, track_running_stats=True)\n",
       "            (normalize_residual): BatchNorm2d(128, eps=1e-05, momentum=0.1, affine=True, track_running_stats=True)\n",
       "            (se): SEBlock(\n",
       "              (squeeze): Conv2d(128, 8, kernel_size=(1, 1), stride=(1, 1))\n",
       "              (expand): Conv2d(8, 128, kernel_size=(1, 1), stride=(1, 1))\n",
       "            )\n",
       "            (act): SiLU()\n",
       "          )\n",
       "        )\n",
       "        (2): ModuleList(\n",
       "          (0): EncoderBlock(\n",
       "            (conv1): Conv2d(128, 256, kernel_size=(3, 3), stride=(2, 2), padding=(1, 1), bias=False)\n",
       "            (conv2): Conv2d(256, 256, kernel_size=(3, 3), stride=(1, 1), padding=same, bias=False)\n",
       "            (shortcut): Conv2d(128, 256, kernel_size=(1, 1), stride=(2, 2), bias=False)\n",
       "            (normalize_input): BatchNorm2d(128, eps=1e-05, momentum=0.1, affine=True, track_running_stats=True)\n",
       "            (normalize_hidden): BatchNorm2d(256, eps=1e-05, momentum=0.1, affine=True, track_running_stats=True)\n",
       "            (normalize_residual): BatchNorm2d(256, eps=1e-05, momentum=0.1, affine=True, track_running_stats=True)\n",
       "            (se): SEBlock(\n",
       "              (squeeze): Conv2d(256, 16, kernel_size=(1, 1), stride=(1, 1))\n",
       "              (expand): Conv2d(16, 256, kernel_size=(1, 1), stride=(1, 1))\n",
       "            )\n",
       "            (act): SiLU()\n",
       "          )\n",
       "          (1): EncoderBlock(\n",
       "            (conv1): Conv2d(256, 256, kernel_size=(3, 3), stride=(1, 1), padding=(1, 1), bias=False)\n",
       "            (conv2): Conv2d(256, 256, kernel_size=(3, 3), stride=(1, 1), padding=same, bias=False)\n",
       "            (shortcut): Conv2d(256, 256, kernel_size=(1, 1), stride=(1, 1), bias=False)\n",
       "            (normalize_input): BatchNorm2d(256, eps=1e-05, momentum=0.1, affine=True, track_running_stats=True)\n",
       "            (normalize_hidden): BatchNorm2d(256, eps=1e-05, momentum=0.1, affine=True, track_running_stats=True)\n",
       "            (normalize_residual): BatchNorm2d(256, eps=1e-05, momentum=0.1, affine=True, track_running_stats=True)\n",
       "            (se): SEBlock(\n",
       "              (squeeze): Conv2d(256, 16, kernel_size=(1, 1), stride=(1, 1))\n",
       "              (expand): Conv2d(16, 256, kernel_size=(1, 1), stride=(1, 1))\n",
       "            )\n",
       "            (act): SiLU()\n",
       "          )\n",
       "        )\n",
       "        (3): ModuleList(\n",
       "          (0): EncoderBlock(\n",
       "            (conv1): Conv2d(256, 512, kernel_size=(3, 3), stride=(2, 2), padding=(1, 1), bias=False)\n",
       "            (conv2): Conv2d(512, 512, kernel_size=(3, 3), stride=(1, 1), padding=same, bias=False)\n",
       "            (shortcut): Conv2d(256, 512, kernel_size=(1, 1), stride=(2, 2), bias=False)\n",
       "            (normalize_input): BatchNorm2d(256, eps=1e-05, momentum=0.1, affine=True, track_running_stats=True)\n",
       "            (normalize_hidden): BatchNorm2d(512, eps=1e-05, momentum=0.1, affine=True, track_running_stats=True)\n",
       "            (normalize_residual): BatchNorm2d(512, eps=1e-05, momentum=0.1, affine=True, track_running_stats=True)\n",
       "            (se): SEBlock(\n",
       "              (squeeze): Conv2d(512, 32, kernel_size=(1, 1), stride=(1, 1))\n",
       "              (expand): Conv2d(32, 512, kernel_size=(1, 1), stride=(1, 1))\n",
       "            )\n",
       "            (act): SiLU()\n",
       "          )\n",
       "          (1): EncoderBlock(\n",
       "            (conv1): Conv2d(512, 512, kernel_size=(3, 3), stride=(1, 1), padding=(1, 1), bias=False)\n",
       "            (conv2): Conv2d(512, 512, kernel_size=(3, 3), stride=(1, 1), padding=same, bias=False)\n",
       "            (shortcut): Conv2d(512, 512, kernel_size=(1, 1), stride=(1, 1), bias=False)\n",
       "            (normalize_input): BatchNorm2d(512, eps=1e-05, momentum=0.1, affine=True, track_running_stats=True)\n",
       "            (normalize_hidden): BatchNorm2d(512, eps=1e-05, momentum=0.1, affine=True, track_running_stats=True)\n",
       "            (normalize_residual): BatchNorm2d(512, eps=1e-05, momentum=0.1, affine=True, track_running_stats=True)\n",
       "            (se): SEBlock(\n",
       "              (squeeze): Conv2d(512, 32, kernel_size=(1, 1), stride=(1, 1))\n",
       "              (expand): Conv2d(32, 512, kernel_size=(1, 1), stride=(1, 1))\n",
       "            )\n",
       "            (act): SiLU()\n",
       "          )\n",
       "        )\n",
       "      )\n",
       "      (linear): Linear(in_features=512, out_features=128, bias=True)\n",
       "    )\n",
       "    (decoder): NvaeDecoder(\n",
       "      (linear): Linear(in_features=128, out_features=32768, bias=True)\n",
       "      (blocks): ModuleList(\n",
       "        (0): ModuleList(\n",
       "          (0): DecoderBlock(\n",
       "            (act): SiLU()\n",
       "            (conv1): Conv2d(512, 2048, kernel_size=(1, 1), stride=(1, 1), bias=False)\n",
       "            (conv2): Conv2d(2048, 2048, kernel_size=(5, 5), stride=(1, 1), padding=same, bias=False)\n",
       "            (conv3): Conv2d(2048, 512, kernel_size=(1, 1), stride=(1, 1), bias=False)\n",
       "            (shortcut): Conv2d(512, 512, kernel_size=(1, 1), stride=(1, 1), bias=False)\n",
       "            (normalize_input): BatchNorm2d(512, eps=1e-05, momentum=0.1, affine=True, track_running_stats=True)\n",
       "            (normalize_hidden1): BatchNorm2d(2048, eps=1e-05, momentum=0.1, affine=True, track_running_stats=True)\n",
       "            (normalize_hidden2): BatchNorm2d(2048, eps=1e-05, momentum=0.1, affine=True, track_running_stats=True)\n",
       "            (normalize_output): BatchNorm2d(512, eps=1e-05, momentum=0.1, affine=True, track_running_stats=True)\n",
       "            (normalize_residual): BatchNorm2d(512, eps=1e-05, momentum=0.1, affine=True, track_running_stats=True)\n",
       "            (se): SEBlock(\n",
       "              (squeeze): Conv2d(512, 32, kernel_size=(1, 1), stride=(1, 1))\n",
       "              (expand): Conv2d(32, 512, kernel_size=(1, 1), stride=(1, 1))\n",
       "            )\n",
       "          )\n",
       "          (1): DecoderBlock(\n",
       "            (act): SiLU()\n",
       "            (conv1): Conv2d(512, 2048, kernel_size=(1, 1), stride=(1, 1), bias=False)\n",
       "            (conv2): Conv2d(2048, 2048, kernel_size=(5, 5), stride=(1, 1), padding=same, bias=False)\n",
       "            (conv3): Conv2d(2048, 512, kernel_size=(1, 1), stride=(1, 1), bias=False)\n",
       "            (shortcut): Conv2d(512, 512, kernel_size=(1, 1), stride=(1, 1), bias=False)\n",
       "            (normalize_input): BatchNorm2d(512, eps=1e-05, momentum=0.1, affine=True, track_running_stats=True)\n",
       "            (normalize_hidden1): BatchNorm2d(2048, eps=1e-05, momentum=0.1, affine=True, track_running_stats=True)\n",
       "            (normalize_hidden2): BatchNorm2d(2048, eps=1e-05, momentum=0.1, affine=True, track_running_stats=True)\n",
       "            (normalize_output): BatchNorm2d(512, eps=1e-05, momentum=0.1, affine=True, track_running_stats=True)\n",
       "            (normalize_residual): BatchNorm2d(512, eps=1e-05, momentum=0.1, affine=True, track_running_stats=True)\n",
       "            (se): SEBlock(\n",
       "              (squeeze): Conv2d(512, 32, kernel_size=(1, 1), stride=(1, 1))\n",
       "              (expand): Conv2d(32, 512, kernel_size=(1, 1), stride=(1, 1))\n",
       "            )\n",
       "          )\n",
       "        )\n",
       "        (1): ModuleList(\n",
       "          (0): DecoderBlock(\n",
       "            (act): SiLU()\n",
       "            (conv1): Conv2d(512, 1024, kernel_size=(1, 1), stride=(1, 1), bias=False)\n",
       "            (conv2): Conv2d(1024, 1024, kernel_size=(5, 5), stride=(1, 1), padding=same, bias=False)\n",
       "            (conv3): Conv2d(1024, 256, kernel_size=(1, 1), stride=(1, 1), bias=False)\n",
       "            (shortcut): Conv2d(512, 256, kernel_size=(1, 1), stride=(1, 1), bias=False)\n",
       "            (normalize_input): BatchNorm2d(512, eps=1e-05, momentum=0.1, affine=True, track_running_stats=True)\n",
       "            (normalize_hidden1): BatchNorm2d(1024, eps=1e-05, momentum=0.1, affine=True, track_running_stats=True)\n",
       "            (normalize_hidden2): BatchNorm2d(1024, eps=1e-05, momentum=0.1, affine=True, track_running_stats=True)\n",
       "            (normalize_output): BatchNorm2d(256, eps=1e-05, momentum=0.1, affine=True, track_running_stats=True)\n",
       "            (normalize_residual): BatchNorm2d(256, eps=1e-05, momentum=0.1, affine=True, track_running_stats=True)\n",
       "            (se): SEBlock(\n",
       "              (squeeze): Conv2d(256, 16, kernel_size=(1, 1), stride=(1, 1))\n",
       "              (expand): Conv2d(16, 256, kernel_size=(1, 1), stride=(1, 1))\n",
       "            )\n",
       "          )\n",
       "          (1): DecoderBlock(\n",
       "            (act): SiLU()\n",
       "            (conv1): Conv2d(256, 1024, kernel_size=(1, 1), stride=(1, 1), bias=False)\n",
       "            (conv2): Conv2d(1024, 1024, kernel_size=(5, 5), stride=(1, 1), padding=same, bias=False)\n",
       "            (conv3): Conv2d(1024, 256, kernel_size=(1, 1), stride=(1, 1), bias=False)\n",
       "            (shortcut): Conv2d(256, 256, kernel_size=(1, 1), stride=(1, 1), bias=False)\n",
       "            (normalize_input): BatchNorm2d(256, eps=1e-05, momentum=0.1, affine=True, track_running_stats=True)\n",
       "            (normalize_hidden1): BatchNorm2d(1024, eps=1e-05, momentum=0.1, affine=True, track_running_stats=True)\n",
       "            (normalize_hidden2): BatchNorm2d(1024, eps=1e-05, momentum=0.1, affine=True, track_running_stats=True)\n",
       "            (normalize_output): BatchNorm2d(256, eps=1e-05, momentum=0.1, affine=True, track_running_stats=True)\n",
       "            (normalize_residual): BatchNorm2d(256, eps=1e-05, momentum=0.1, affine=True, track_running_stats=True)\n",
       "            (se): SEBlock(\n",
       "              (squeeze): Conv2d(256, 16, kernel_size=(1, 1), stride=(1, 1))\n",
       "              (expand): Conv2d(16, 256, kernel_size=(1, 1), stride=(1, 1))\n",
       "            )\n",
       "          )\n",
       "        )\n",
       "        (2): ModuleList(\n",
       "          (0): DecoderBlock(\n",
       "            (act): SiLU()\n",
       "            (conv1): Conv2d(256, 512, kernel_size=(1, 1), stride=(1, 1), bias=False)\n",
       "            (conv2): Conv2d(512, 512, kernel_size=(5, 5), stride=(1, 1), padding=same, bias=False)\n",
       "            (conv3): Conv2d(512, 128, kernel_size=(1, 1), stride=(1, 1), bias=False)\n",
       "            (shortcut): Conv2d(256, 128, kernel_size=(1, 1), stride=(1, 1), bias=False)\n",
       "            (normalize_input): BatchNorm2d(256, eps=1e-05, momentum=0.1, affine=True, track_running_stats=True)\n",
       "            (normalize_hidden1): BatchNorm2d(512, eps=1e-05, momentum=0.1, affine=True, track_running_stats=True)\n",
       "            (normalize_hidden2): BatchNorm2d(512, eps=1e-05, momentum=0.1, affine=True, track_running_stats=True)\n",
       "            (normalize_output): BatchNorm2d(128, eps=1e-05, momentum=0.1, affine=True, track_running_stats=True)\n",
       "            (normalize_residual): BatchNorm2d(128, eps=1e-05, momentum=0.1, affine=True, track_running_stats=True)\n",
       "            (se): SEBlock(\n",
       "              (squeeze): Conv2d(128, 8, kernel_size=(1, 1), stride=(1, 1))\n",
       "              (expand): Conv2d(8, 128, kernel_size=(1, 1), stride=(1, 1))\n",
       "            )\n",
       "          )\n",
       "          (1): DecoderBlock(\n",
       "            (act): SiLU()\n",
       "            (conv1): Conv2d(128, 512, kernel_size=(1, 1), stride=(1, 1), bias=False)\n",
       "            (conv2): Conv2d(512, 512, kernel_size=(5, 5), stride=(1, 1), padding=same, bias=False)\n",
       "            (conv3): Conv2d(512, 128, kernel_size=(1, 1), stride=(1, 1), bias=False)\n",
       "            (shortcut): Conv2d(128, 128, kernel_size=(1, 1), stride=(1, 1), bias=False)\n",
       "            (normalize_input): BatchNorm2d(128, eps=1e-05, momentum=0.1, affine=True, track_running_stats=True)\n",
       "            (normalize_hidden1): BatchNorm2d(512, eps=1e-05, momentum=0.1, affine=True, track_running_stats=True)\n",
       "            (normalize_hidden2): BatchNorm2d(512, eps=1e-05, momentum=0.1, affine=True, track_running_stats=True)\n",
       "            (normalize_output): BatchNorm2d(128, eps=1e-05, momentum=0.1, affine=True, track_running_stats=True)\n",
       "            (normalize_residual): BatchNorm2d(128, eps=1e-05, momentum=0.1, affine=True, track_running_stats=True)\n",
       "            (se): SEBlock(\n",
       "              (squeeze): Conv2d(128, 8, kernel_size=(1, 1), stride=(1, 1))\n",
       "              (expand): Conv2d(8, 128, kernel_size=(1, 1), stride=(1, 1))\n",
       "            )\n",
       "          )\n",
       "        )\n",
       "        (3): ModuleList(\n",
       "          (0): DecoderBlock(\n",
       "            (act): SiLU()\n",
       "            (conv1): Conv2d(128, 256, kernel_size=(1, 1), stride=(1, 1), bias=False)\n",
       "            (conv2): Conv2d(256, 256, kernel_size=(5, 5), stride=(1, 1), padding=same, bias=False)\n",
       "            (conv3): Conv2d(256, 64, kernel_size=(1, 1), stride=(1, 1), bias=False)\n",
       "            (shortcut): Conv2d(128, 64, kernel_size=(1, 1), stride=(1, 1), bias=False)\n",
       "            (normalize_input): BatchNorm2d(128, eps=1e-05, momentum=0.1, affine=True, track_running_stats=True)\n",
       "            (normalize_hidden1): BatchNorm2d(256, eps=1e-05, momentum=0.1, affine=True, track_running_stats=True)\n",
       "            (normalize_hidden2): BatchNorm2d(256, eps=1e-05, momentum=0.1, affine=True, track_running_stats=True)\n",
       "            (normalize_output): BatchNorm2d(64, eps=1e-05, momentum=0.1, affine=True, track_running_stats=True)\n",
       "            (normalize_residual): BatchNorm2d(64, eps=1e-05, momentum=0.1, affine=True, track_running_stats=True)\n",
       "            (se): SEBlock(\n",
       "              (squeeze): Conv2d(64, 4, kernel_size=(1, 1), stride=(1, 1))\n",
       "              (expand): Conv2d(4, 64, kernel_size=(1, 1), stride=(1, 1))\n",
       "            )\n",
       "          )\n",
       "          (1): DecoderBlock(\n",
       "            (act): SiLU()\n",
       "            (conv1): Conv2d(64, 256, kernel_size=(1, 1), stride=(1, 1), bias=False)\n",
       "            (conv2): Conv2d(256, 256, kernel_size=(5, 5), stride=(1, 1), padding=same, bias=False)\n",
       "            (conv3): Conv2d(256, 64, kernel_size=(1, 1), stride=(1, 1), bias=False)\n",
       "            (shortcut): Conv2d(64, 64, kernel_size=(1, 1), stride=(1, 1), bias=False)\n",
       "            (normalize_input): BatchNorm2d(64, eps=1e-05, momentum=0.1, affine=True, track_running_stats=True)\n",
       "            (normalize_hidden1): BatchNorm2d(256, eps=1e-05, momentum=0.1, affine=True, track_running_stats=True)\n",
       "            (normalize_hidden2): BatchNorm2d(256, eps=1e-05, momentum=0.1, affine=True, track_running_stats=True)\n",
       "            (normalize_output): BatchNorm2d(64, eps=1e-05, momentum=0.1, affine=True, track_running_stats=True)\n",
       "            (normalize_residual): BatchNorm2d(64, eps=1e-05, momentum=0.1, affine=True, track_running_stats=True)\n",
       "            (se): SEBlock(\n",
       "              (squeeze): Conv2d(64, 4, kernel_size=(1, 1), stride=(1, 1))\n",
       "              (expand): Conv2d(4, 64, kernel_size=(1, 1), stride=(1, 1))\n",
       "            )\n",
       "          )\n",
       "        )\n",
       "      )\n",
       "      (output_conv): Conv2d(64, 3, kernel_size=(3, 3), stride=(1, 1), padding=same, bias=False)\n",
       "    )\n",
       "    (frame_predictor): MultiGaussianLSTM(\n",
       "      (embed): Linear(in_features=138, out_features=256, bias=True)\n",
       "      (mean): Linear(in_features=256, out_features=128, bias=True)\n",
       "      (logvar): Linear(in_features=256, out_features=128, bias=True)\n",
       "      (layers): ModuleList(\n",
       "        (0): LSTMCell(256, 256)\n",
       "        (1): LSTMCell(256, 256)\n",
       "      )\n",
       "    )\n",
       "    (posterior): MultiGaussianLSTM(\n",
       "      (embed): Linear(in_features=128, out_features=256, bias=True)\n",
       "      (mean): Linear(in_features=256, out_features=10, bias=True)\n",
       "      (logvar): Linear(in_features=256, out_features=10, bias=True)\n",
       "      (layers): ModuleList(\n",
       "        (0): LSTMCell(256, 256)\n",
       "      )\n",
       "    )\n",
       "    (prior): MultiGaussianLSTM(\n",
       "      (embed): Linear(in_features=128, out_features=256, bias=True)\n",
       "      (mean): Linear(in_features=256, out_features=10, bias=True)\n",
       "      (logvar): Linear(in_features=256, out_features=10, bias=True)\n",
       "      (layers): ModuleList(\n",
       "        (0): LSTMCell(256, 256)\n",
       "      )\n",
       "    )\n",
       "  )\n",
       ")"
      ]
     },
     "execution_count": 195,
     "metadata": {},
     "output_type": "execute_result"
    }
   ],
   "source": [
    "wrapper"
   ]
  },
  {
   "cell_type": "code",
   "execution_count": 363,
   "id": "647646b0",
   "metadata": {},
   "outputs": [
    {
     "name": "stdout",
     "output_type": "stream",
     "text": [
      "torch.Size([5, 512, 8, 8])\n"
     ]
    }
   ],
   "source": [
    "out1 = wrapper.get_activations(images[:1], ['model.encoder.blocks.0.1.act'])"
   ]
  },
  {
   "cell_type": "code",
   "execution_count": 156,
   "id": "e4d4a563",
   "metadata": {},
   "outputs": [
    {
     "data": {
      "text/plain": [
       "(5, 512, 8, 8)"
      ]
     },
     "execution_count": 156,
     "metadata": {},
     "output_type": "execute_result"
    }
   ],
   "source": [
    "out1['model.encoder.blocks.0.1.act'].shape"
   ]
  },
  {
   "cell_type": "code",
   "execution_count": 69,
   "id": "83a9deff",
   "metadata": {},
   "outputs": [
    {
     "name": "stderr",
     "output_type": "stream",
     "text": [
      "activations: 100%|██████████████████████████████████████████████████████| 64/64 [01:28<00:00,  1.39s/it]\n",
      "layer packaging:   0%|                                                            | 0/1 [00:00<?, ?it/s]"
     ]
    },
    {
     "ename": "AssertionError",
     "evalue": "",
     "output_type": "error",
     "traceback": [
      "\u001b[0;31m---------------------------------------------------------------------------\u001b[0m",
      "\u001b[0;31mAssertionError\u001b[0m                            Traceback (most recent call last)",
      "\u001b[0;32m/tmp/ipykernel_12900/3315293066.py\u001b[0m in \u001b[0;36m<module>\u001b[0;34m\u001b[0m\n\u001b[0;32m----> 1\u001b[0;31m \u001b[0moutput\u001b[0m \u001b[0;34m=\u001b[0m \u001b[0mwrapper\u001b[0m\u001b[0;34m(\u001b[0m\u001b[0mimage_filepaths\u001b[0m\u001b[0;34m[\u001b[0m\u001b[0;34m:\u001b[0m\u001b[0;36m1\u001b[0m\u001b[0;34m]\u001b[0m\u001b[0;34m,\u001b[0m \u001b[0mlayers\u001b[0m\u001b[0;34m=\u001b[0m\u001b[0;34m[\u001b[0m\u001b[0;34m'encoder.blocks.0.1.act'\u001b[0m\u001b[0;34m]\u001b[0m\u001b[0;34m)\u001b[0m\u001b[0;34m\u001b[0m\u001b[0;34m\u001b[0m\u001b[0m\n\u001b[0m",
      "\u001b[0;32m~/.local/lib/python3.7/site-packages/model_tools/activations/pytorch.py\u001b[0m in \u001b[0;36m__call__\u001b[0;34m(self, *args, **kwargs)\u001b[0m\n\u001b[1;32m     38\u001b[0m \u001b[0;34m\u001b[0m\u001b[0m\n\u001b[1;32m     39\u001b[0m     \u001b[0;32mdef\u001b[0m \u001b[0m__call__\u001b[0m\u001b[0;34m(\u001b[0m\u001b[0mself\u001b[0m\u001b[0;34m,\u001b[0m \u001b[0;34m*\u001b[0m\u001b[0margs\u001b[0m\u001b[0;34m,\u001b[0m \u001b[0;34m**\u001b[0m\u001b[0mkwargs\u001b[0m\u001b[0;34m)\u001b[0m\u001b[0;34m:\u001b[0m  \u001b[0;31m# cannot assign __call__ as attribute due to Python convention\u001b[0m\u001b[0;34m\u001b[0m\u001b[0;34m\u001b[0m\u001b[0m\n\u001b[0;32m---> 40\u001b[0;31m         \u001b[0;32mreturn\u001b[0m \u001b[0mself\u001b[0m\u001b[0;34m.\u001b[0m\u001b[0m_extractor\u001b[0m\u001b[0;34m(\u001b[0m\u001b[0;34m*\u001b[0m\u001b[0margs\u001b[0m\u001b[0;34m,\u001b[0m \u001b[0;34m**\u001b[0m\u001b[0mkwargs\u001b[0m\u001b[0;34m)\u001b[0m\u001b[0;34m\u001b[0m\u001b[0;34m\u001b[0m\u001b[0m\n\u001b[0m\u001b[1;32m     41\u001b[0m \u001b[0;34m\u001b[0m\u001b[0m\n\u001b[1;32m     42\u001b[0m     \u001b[0;32mdef\u001b[0m \u001b[0mget_activations\u001b[0m\u001b[0;34m(\u001b[0m\u001b[0mself\u001b[0m\u001b[0;34m,\u001b[0m \u001b[0mimages\u001b[0m\u001b[0;34m,\u001b[0m \u001b[0mlayer_names\u001b[0m\u001b[0;34m)\u001b[0m\u001b[0;34m:\u001b[0m\u001b[0;34m\u001b[0m\u001b[0;34m\u001b[0m\u001b[0m\n",
      "\u001b[0;32m~/.local/lib/python3.7/site-packages/model_tools/activations/core.py\u001b[0m in \u001b[0;36m__call__\u001b[0;34m(self, stimuli, layers, stimuli_identifier)\u001b[0m\n\u001b[1;32m     41\u001b[0m             \u001b[0;32mreturn\u001b[0m \u001b[0mself\u001b[0m\u001b[0;34m.\u001b[0m\u001b[0mfrom_stimulus_set\u001b[0m\u001b[0;34m(\u001b[0m\u001b[0mstimulus_set\u001b[0m\u001b[0;34m=\u001b[0m\u001b[0mstimuli\u001b[0m\u001b[0;34m,\u001b[0m \u001b[0mlayers\u001b[0m\u001b[0;34m=\u001b[0m\u001b[0mlayers\u001b[0m\u001b[0;34m,\u001b[0m \u001b[0mstimuli_identifier\u001b[0m\u001b[0;34m=\u001b[0m\u001b[0mstimuli_identifier\u001b[0m\u001b[0;34m)\u001b[0m\u001b[0;34m\u001b[0m\u001b[0;34m\u001b[0m\u001b[0m\n\u001b[1;32m     42\u001b[0m         \u001b[0;32melse\u001b[0m\u001b[0;34m:\u001b[0m\u001b[0;34m\u001b[0m\u001b[0;34m\u001b[0m\u001b[0m\n\u001b[0;32m---> 43\u001b[0;31m             \u001b[0;32mreturn\u001b[0m \u001b[0mself\u001b[0m\u001b[0;34m.\u001b[0m\u001b[0mfrom_paths\u001b[0m\u001b[0;34m(\u001b[0m\u001b[0mstimuli_paths\u001b[0m\u001b[0;34m=\u001b[0m\u001b[0mstimuli\u001b[0m\u001b[0;34m,\u001b[0m \u001b[0mlayers\u001b[0m\u001b[0;34m=\u001b[0m\u001b[0mlayers\u001b[0m\u001b[0;34m,\u001b[0m \u001b[0mstimuli_identifier\u001b[0m\u001b[0;34m=\u001b[0m\u001b[0mstimuli_identifier\u001b[0m\u001b[0;34m)\u001b[0m\u001b[0;34m\u001b[0m\u001b[0;34m\u001b[0m\u001b[0m\n\u001b[0m\u001b[1;32m     44\u001b[0m \u001b[0;34m\u001b[0m\u001b[0m\n\u001b[1;32m     45\u001b[0m     \u001b[0;32mdef\u001b[0m \u001b[0mfrom_stimulus_set\u001b[0m\u001b[0;34m(\u001b[0m\u001b[0mself\u001b[0m\u001b[0;34m,\u001b[0m \u001b[0mstimulus_set\u001b[0m\u001b[0;34m,\u001b[0m \u001b[0mlayers\u001b[0m\u001b[0;34m,\u001b[0m \u001b[0mstimuli_identifier\u001b[0m\u001b[0;34m=\u001b[0m\u001b[0;32mNone\u001b[0m\u001b[0;34m)\u001b[0m\u001b[0;34m:\u001b[0m\u001b[0;34m\u001b[0m\u001b[0;34m\u001b[0m\u001b[0m\n",
      "\u001b[0;32m~/.local/lib/python3.7/site-packages/model_tools/activations/core.py\u001b[0m in \u001b[0;36mfrom_paths\u001b[0;34m(self, stimuli_paths, layers, stimuli_identifier)\u001b[0m\n\u001b[1;32m     71\u001b[0m         \u001b[0;31m# This is done here, before storing, so that we only store the reduced activations.\u001b[0m\u001b[0;34m\u001b[0m\u001b[0;34m\u001b[0m\u001b[0;34m\u001b[0m\u001b[0m\n\u001b[1;32m     72\u001b[0m         \u001b[0mreduced_paths\u001b[0m \u001b[0;34m=\u001b[0m \u001b[0mself\u001b[0m\u001b[0;34m.\u001b[0m\u001b[0m_reduce_paths\u001b[0m\u001b[0;34m(\u001b[0m\u001b[0mstimuli_paths\u001b[0m\u001b[0;34m)\u001b[0m\u001b[0;34m\u001b[0m\u001b[0;34m\u001b[0m\u001b[0m\n\u001b[0;32m---> 73\u001b[0;31m         \u001b[0mactivations\u001b[0m \u001b[0;34m=\u001b[0m \u001b[0mfnc\u001b[0m\u001b[0;34m(\u001b[0m\u001b[0mlayers\u001b[0m\u001b[0;34m=\u001b[0m\u001b[0mlayers\u001b[0m\u001b[0;34m,\u001b[0m \u001b[0mstimuli_paths\u001b[0m\u001b[0;34m=\u001b[0m\u001b[0mreduced_paths\u001b[0m\u001b[0;34m)\u001b[0m\u001b[0;34m\u001b[0m\u001b[0;34m\u001b[0m\u001b[0m\n\u001b[0m\u001b[1;32m     74\u001b[0m         \u001b[0mactivations\u001b[0m \u001b[0;34m=\u001b[0m \u001b[0mself\u001b[0m\u001b[0;34m.\u001b[0m\u001b[0m_expand_paths\u001b[0m\u001b[0;34m(\u001b[0m\u001b[0mactivations\u001b[0m\u001b[0;34m,\u001b[0m \u001b[0moriginal_paths\u001b[0m\u001b[0;34m=\u001b[0m\u001b[0mstimuli_paths\u001b[0m\u001b[0;34m)\u001b[0m\u001b[0;34m\u001b[0m\u001b[0;34m\u001b[0m\u001b[0m\n\u001b[1;32m     75\u001b[0m         \u001b[0;32mreturn\u001b[0m \u001b[0mactivations\u001b[0m\u001b[0;34m\u001b[0m\u001b[0;34m\u001b[0m\u001b[0m\n",
      "\u001b[0;32m~/.local/lib/python3.7/site-packages/model_tools/activations/core.py\u001b[0m in \u001b[0;36m_from_paths\u001b[0;34m(self, layers, stimuli_paths)\u001b[0m\n\u001b[1;32m     83\u001b[0m         \u001b[0mlayer_activations\u001b[0m \u001b[0;34m=\u001b[0m \u001b[0mself\u001b[0m\u001b[0;34m.\u001b[0m\u001b[0m_get_activations_batched\u001b[0m\u001b[0;34m(\u001b[0m\u001b[0mstimuli_paths\u001b[0m\u001b[0;34m,\u001b[0m \u001b[0mlayers\u001b[0m\u001b[0;34m=\u001b[0m\u001b[0mlayers\u001b[0m\u001b[0;34m,\u001b[0m \u001b[0mbatch_size\u001b[0m\u001b[0;34m=\u001b[0m\u001b[0mself\u001b[0m\u001b[0;34m.\u001b[0m\u001b[0m_batch_size\u001b[0m\u001b[0;34m)\u001b[0m\u001b[0;34m\u001b[0m\u001b[0;34m\u001b[0m\u001b[0m\n\u001b[1;32m     84\u001b[0m         \u001b[0mself\u001b[0m\u001b[0;34m.\u001b[0m\u001b[0m_logger\u001b[0m\u001b[0;34m.\u001b[0m\u001b[0minfo\u001b[0m\u001b[0;34m(\u001b[0m\u001b[0;34m'Packaging into assembly'\u001b[0m\u001b[0;34m)\u001b[0m\u001b[0;34m\u001b[0m\u001b[0;34m\u001b[0m\u001b[0m\n\u001b[0;32m---> 85\u001b[0;31m         \u001b[0;32mreturn\u001b[0m \u001b[0mself\u001b[0m\u001b[0;34m.\u001b[0m\u001b[0m_package\u001b[0m\u001b[0;34m(\u001b[0m\u001b[0mlayer_activations\u001b[0m\u001b[0;34m,\u001b[0m \u001b[0mstimuli_paths\u001b[0m\u001b[0;34m)\u001b[0m\u001b[0;34m\u001b[0m\u001b[0;34m\u001b[0m\u001b[0m\n\u001b[0m\u001b[1;32m     86\u001b[0m \u001b[0;34m\u001b[0m\u001b[0m\n\u001b[1;32m     87\u001b[0m     \u001b[0;32mdef\u001b[0m \u001b[0m_reduce_paths\u001b[0m\u001b[0;34m(\u001b[0m\u001b[0mself\u001b[0m\u001b[0;34m,\u001b[0m \u001b[0mstimuli_paths\u001b[0m\u001b[0;34m)\u001b[0m\u001b[0;34m:\u001b[0m\u001b[0;34m\u001b[0m\u001b[0;34m\u001b[0m\u001b[0m\n",
      "\u001b[0;32m~/.local/lib/python3.7/site-packages/model_tools/activations/core.py\u001b[0m in \u001b[0;36m_package\u001b[0;34m(self, layer_activations, stimuli_paths)\u001b[0m\n\u001b[1;32m    166\u001b[0m         \u001b[0mself\u001b[0m\u001b[0;34m.\u001b[0m\u001b[0m_logger\u001b[0m\u001b[0;34m.\u001b[0m\u001b[0mdebug\u001b[0m\u001b[0;34m(\u001b[0m\u001b[0;34m\"Packaging individual layers\"\u001b[0m\u001b[0;34m)\u001b[0m\u001b[0;34m\u001b[0m\u001b[0;34m\u001b[0m\u001b[0m\n\u001b[1;32m    167\u001b[0m         layer_assemblies = [self._package_layer(single_layer_activations, layer=layer, stimuli_paths=stimuli_paths) for\n\u001b[0;32m--> 168\u001b[0;31m                             layer, single_layer_activations in tqdm(layer_activations.items(), desc='layer packaging')]\n\u001b[0m\u001b[1;32m    169\u001b[0m         \u001b[0;31m# merge manually instead of using merge_data_arrays since `xarray.merge` is very slow with these large arrays\u001b[0m\u001b[0;34m\u001b[0m\u001b[0;34m\u001b[0m\u001b[0;34m\u001b[0m\u001b[0m\n\u001b[1;32m    170\u001b[0m         \u001b[0;31m# complication: (non)neuroid_coords are taken from the structure of layer_assemblies[0] i.e. the 1st assembly;\u001b[0m\u001b[0;34m\u001b[0m\u001b[0;34m\u001b[0m\u001b[0;34m\u001b[0m\u001b[0m\n",
      "\u001b[0;32m~/.local/lib/python3.7/site-packages/model_tools/activations/core.py\u001b[0m in \u001b[0;36m<listcomp>\u001b[0;34m(.0)\u001b[0m\n\u001b[1;32m    166\u001b[0m         \u001b[0mself\u001b[0m\u001b[0;34m.\u001b[0m\u001b[0m_logger\u001b[0m\u001b[0;34m.\u001b[0m\u001b[0mdebug\u001b[0m\u001b[0;34m(\u001b[0m\u001b[0;34m\"Packaging individual layers\"\u001b[0m\u001b[0;34m)\u001b[0m\u001b[0;34m\u001b[0m\u001b[0;34m\u001b[0m\u001b[0m\n\u001b[1;32m    167\u001b[0m         layer_assemblies = [self._package_layer(single_layer_activations, layer=layer, stimuli_paths=stimuli_paths) for\n\u001b[0;32m--> 168\u001b[0;31m                             layer, single_layer_activations in tqdm(layer_activations.items(), desc='layer packaging')]\n\u001b[0m\u001b[1;32m    169\u001b[0m         \u001b[0;31m# merge manually instead of using merge_data_arrays since `xarray.merge` is very slow with these large arrays\u001b[0m\u001b[0;34m\u001b[0m\u001b[0;34m\u001b[0m\u001b[0;34m\u001b[0m\u001b[0m\n\u001b[1;32m    170\u001b[0m         \u001b[0;31m# complication: (non)neuroid_coords are taken from the structure of layer_assemblies[0] i.e. the 1st assembly;\u001b[0m\u001b[0;34m\u001b[0m\u001b[0;34m\u001b[0m\u001b[0;34m\u001b[0m\u001b[0m\n",
      "\u001b[0;32m~/.local/lib/python3.7/site-packages/model_tools/activations/core.py\u001b[0m in \u001b[0;36m_package_layer\u001b[0;34m(self, layer_activations, layer, stimuli_paths)\u001b[0m\n\u001b[1;32m    192\u001b[0m \u001b[0;34m\u001b[0m\u001b[0m\n\u001b[1;32m    193\u001b[0m     \u001b[0;32mdef\u001b[0m \u001b[0m_package_layer\u001b[0m\u001b[0;34m(\u001b[0m\u001b[0mself\u001b[0m\u001b[0;34m,\u001b[0m \u001b[0mlayer_activations\u001b[0m\u001b[0;34m,\u001b[0m \u001b[0mlayer\u001b[0m\u001b[0;34m,\u001b[0m \u001b[0mstimuli_paths\u001b[0m\u001b[0;34m)\u001b[0m\u001b[0;34m:\u001b[0m\u001b[0;34m\u001b[0m\u001b[0;34m\u001b[0m\u001b[0m\n\u001b[0;32m--> 194\u001b[0;31m         \u001b[0;32massert\u001b[0m \u001b[0mlayer_activations\u001b[0m\u001b[0;34m.\u001b[0m\u001b[0mshape\u001b[0m\u001b[0;34m[\u001b[0m\u001b[0;36m0\u001b[0m\u001b[0;34m]\u001b[0m \u001b[0;34m==\u001b[0m \u001b[0mlen\u001b[0m\u001b[0;34m(\u001b[0m\u001b[0mstimuli_paths\u001b[0m\u001b[0;34m)\u001b[0m\u001b[0;34m\u001b[0m\u001b[0;34m\u001b[0m\u001b[0m\n\u001b[0m\u001b[1;32m    195\u001b[0m         \u001b[0mactivations\u001b[0m\u001b[0;34m,\u001b[0m \u001b[0mflatten_indices\u001b[0m \u001b[0;34m=\u001b[0m \u001b[0mflatten\u001b[0m\u001b[0;34m(\u001b[0m\u001b[0mlayer_activations\u001b[0m\u001b[0;34m,\u001b[0m \u001b[0mreturn_index\u001b[0m\u001b[0;34m=\u001b[0m\u001b[0;32mTrue\u001b[0m\u001b[0;34m)\u001b[0m  \u001b[0;31m# collapse for single neuroid dim\u001b[0m\u001b[0;34m\u001b[0m\u001b[0;34m\u001b[0m\u001b[0m\n\u001b[1;32m    196\u001b[0m         \u001b[0;32massert\u001b[0m \u001b[0mflatten_indices\u001b[0m\u001b[0;34m.\u001b[0m\u001b[0mshape\u001b[0m\u001b[0;34m[\u001b[0m\u001b[0;36m1\u001b[0m\u001b[0;34m]\u001b[0m \u001b[0;32min\u001b[0m \u001b[0;34m[\u001b[0m\u001b[0;36m1\u001b[0m\u001b[0;34m,\u001b[0m \u001b[0;36m2\u001b[0m\u001b[0;34m,\u001b[0m \u001b[0;36m3\u001b[0m\u001b[0;34m]\u001b[0m\u001b[0;34m\u001b[0m\u001b[0;34m\u001b[0m\u001b[0m\n",
      "\u001b[0;31mAssertionError\u001b[0m: "
     ]
    }
   ],
   "source": [
    "output = wrapper(image_filepaths[:1], layers=['encoder.blocks.0.1.act'])"
   ]
  },
  {
   "cell_type": "code",
   "execution_count": null,
   "id": "1ef0a916",
   "metadata": {},
   "outputs": [],
   "source": []
  }
 ],
 "metadata": {
  "kernelspec": {
   "display_name": "Python 3 (ipykernel)",
   "language": "python",
   "name": "python3"
  },
  "language_info": {
   "codemirror_mode": {
    "name": "ipython",
    "version": 3
   },
   "file_extension": ".py",
   "mimetype": "text/x-python",
   "name": "python",
   "nbconvert_exporter": "python",
   "pygments_lexer": "ipython3",
   "version": "3.7.5"
  }
 },
 "nbformat": 4,
 "nbformat_minor": 5
}
