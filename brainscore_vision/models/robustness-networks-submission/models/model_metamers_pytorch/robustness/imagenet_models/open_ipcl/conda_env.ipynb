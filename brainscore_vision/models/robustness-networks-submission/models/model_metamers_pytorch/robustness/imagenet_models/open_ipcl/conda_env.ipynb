{
 "cells": [
  {
   "cell_type": "markdown",
   "metadata": {},
   "source": [
    "```\n",
    "conda create -n ipcl python=3.6 mamba -c conda-forge -y\n",
    "source activate ipcl\n",
    "\n",
    "conda config --env --add channels anaconda \n",
    "conda config --env --add channels conda-forge\n",
    "\n",
    "mamba uninstall -y --force pillow pil jpeg libtiff libjpeg-turbo\n",
    "pip   uninstall -y         pillow pil jpeg libtiff libjpeg-turbo\n",
    "mamba install -yc conda-forge libjpeg-turbo\n",
    "CFLAGS=\"${CFLAGS} -mavx2\" pip install --upgrade --no-cache-dir --force-reinstall --no-binary :all: --compile pillow-simd\n",
    "mamba install -y jpeg libtiff\n",
    "mamba install -c conda-forge packaging\n",
    "mamba install pytorch=0.4.1 cuda92 -c pytorch\n",
    "mamba install -c anaconda pytz -y\n",
    "mamba install -c fastai fastprogress -y\n",
    "mamba install -c menpo opencv -y\n",
    "mamba install -c conda-forge qt -y\n",
    "mamba install -c conda-forge albumentations -y\n",
    "mamba install -c anaconda psutil\n",
    "mamba install -c anaconda joblib\n",
    "mamba install -c conda-forge kornia\n",
    "\n",
    "mamba install ipykernel -y\n",
    "ipython kernel install --user --name=ipcl\n",
    "\n",
    "pip install -U addict==2.3.0 --user\n",
    "pip install kornia==0.2.0 --user\n",
    "pip install pyrtools --user\n",
    "pip install git+https://github.com/rwightman/pytorch-image-models.git -U\n",
    "\n",
    "conda deactivate\n",
    "```"
   ]
  },
  {
   "cell_type": "code",
   "execution_count": 1,
   "metadata": {},
   "outputs": [
    {
     "name": "stdout",
     "output_type": "stream",
     "text": [
      "libjpeg-turbo is on\n"
     ]
    }
   ],
   "source": [
    "from PIL import features, Image\n",
    "from packaging import version\n",
    "\n",
    "try:    ver = Image.__version__     # PIL >= 7\n",
    "except: ver = Image.PILLOW_VERSION  # PIL <  7\n",
    "\n",
    "if version.parse(ver) >= version.parse(\"5.4.0\"):\n",
    "    if features.check_feature('libjpeg_turbo'):\n",
    "        print(\"libjpeg-turbo is on\")\n",
    "    else:\n",
    "        print(\"libjpeg-turbo is not on\")\n",
    "else:\n",
    "    print(f\"libjpeg-turbo' status can't be derived - need Pillow(-SIMD)? >= 5.4.0 to tell, current version {ver}\")"
   ]
  },
  {
   "cell_type": "markdown",
   "metadata": {},
   "source": [
    "## setup new augs to run in old codebase\n",
    "\n",
    "output img batch: torch.Size([640, 3, 224, 224])  \n",
    "labels: torch.Size([640])  \n",
    "indexes: torch.Size([640])  "
   ]
  },
  {
   "cell_type": "code",
   "execution_count": null,
   "metadata": {},
   "outputs": [],
   "source": []
  }
 ],
 "metadata": {
  "kernelspec": {
   "display_name": "ipcl",
   "language": "python",
   "name": "ipcl"
  },
  "language_info": {
   "codemirror_mode": {
    "name": "ipython",
    "version": 3
   },
   "file_extension": ".py",
   "mimetype": "text/x-python",
   "name": "python",
   "nbconvert_exporter": "python",
   "pygments_lexer": "ipython3",
   "version": "3.6.13"
  }
 },
 "nbformat": 4,
 "nbformat_minor": 4
}
