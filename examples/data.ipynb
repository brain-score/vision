{
 "cells": [
  {
   "cell_type": "markdown",
   "metadata": {},
   "source": [
    "This example is primarily concerned with loading raw data. This data is often not fully pre-processed (e.g. neuroids that we don't trust are not filtered, repetitions are not averaged, hard stimuli are not pre-selected etc.).\n",
    "\n",
    "If you only want to compare data with each other, you are probably better off \n",
    "using benchmarks directly (e.g. `from brainscore import benchmarks; benchmarks.load('dicarlo.MajajHong2015')`) or\n",
    "loading the data through benchmarks (e.g. `from brainscore import benchmarks; benchmarks.load_assembly('dicarlo.MajajHong2015')`)."
   ]
  },
  {
   "cell_type": "markdown",
   "metadata": {},
   "source": [
    "### Neural assembly"
   ]
  },
  {
   "cell_type": "markdown",
   "metadata": {},
   "source": [
    "We can load data (called \"assembly\") using the `get_assembly` method.\n",
    "In the following, we load neural data from the DiCarlo lab, published in Majaj, Hong et al. 2015.\n"
   ]
  },
  {
   "cell_type": "code",
   "execution_count": null,
   "metadata": {
    "collapsed": true,
    "inputHidden": false,
    "outputHidden": false
   },
   "outputs": [],
   "source": [
    "import brainscore\n",
    "neural_data = brainscore.get_assembly(name=\"dicarlo.MajajHong2015.public\")\n",
    "neural_data"
   ]
  },
  {
   "cell_type": "markdown",
   "metadata": {},
   "source": [
    "This gives us a NeuronRecordingAssembly, a sub-class of xarray DataArray.\n",
    "The behavioral and neural assemblies are always handled with the xarray framework.\n",
    "xarray data is basically a multi-dimensional table with annotating coordinates, similar to pandas. \n",
    "More info here: http://xarray.pydata.org.\n",
    "\n",
    "The neural assembly `dicarlo.MajajHong2015.public`\n",
    "is structured into the dimensions `neuroid x presentation`.\n",
    "`neuroid` is a MultiIndex containing information about the recording site, such as the animal and the region.\n",
    "`presentation` refers to the single presentation of a stimulus with coords annotating \n",
    "e.g. the image_id and the repetition.\n",
    "Finally, `time_bin` informs us about the time in milliseconds from when neural responses were collected. \n",
    "This assembly contains averaged spike rates in the 70-170ms window."
   ]
  },
  {
   "cell_type": "markdown",
   "metadata": {},
   "source": [
    "The data is in a raw format, but typically we use a pre-processed version.\n",
    "We can further process the data e.g. as follows: \n",
    "\n",
    "1. average across repetitions,\n",
    "\n",
    "2. filter neuroids from the IT region,\n",
    "\n",
    "3. get rid of the scalar time_bin dimension,\n",
    "\n",
    "4. and reshape into `presentation x neuroid`."
   ]
  },
  {
   "cell_type": "code",
   "execution_count": null,
   "metadata": {},
   "outputs": [],
   "source": [
    "compact_data = neural_data.multi_groupby(['category_name', 'object_name', 'image_id']).mean(dim='presentation')  # (1)\n",
    "compact_data = compact_data.sel(region='IT')  # (2)\n",
    "compact_data = compact_data.squeeze('time_bin')  # (3)\n",
    "compact_data = compact_data.transpose('presentation', 'neuroid')  # (4)\n",
    "compact_data"
   ]
  },
  {
   "cell_type": "markdown",
   "metadata": {},
   "source": [
    "The data now contains 3200 images and the responses of 168 neuroids."
   ]
  },
  {
   "cell_type": "code",
   "execution_count": null,
   "metadata": {},
   "outputs": [],
   "source": [
    "print(compact_data.shape)"
   ]
  },
  {
   "cell_type": "markdown",
   "metadata": {},
   "source": [
    "Note that the data used for benchmarking is typically already pre-processed.\n",
    "For instance, the target assembly for the public benchmark `MajajITPublicBenchmark`  \n",
    "is the same as our pre-processed version here:"
   ]
  },
  {
   "cell_type": "code",
   "execution_count": null,
   "metadata": {},
   "outputs": [],
   "source": [
    "from brainscore.benchmarks.public_benchmarks import MajajHongITPublicBenchmark\n",
    "\n",
    "benchmark = MajajHongITPublicBenchmark()\n",
    "benchmark_assembly = benchmark._assembly\n",
    "print(benchmark_assembly.shape)\n"
   ]
  },
  {
   "cell_type": "markdown",
   "metadata": {},
   "source": [
    "### Stimulus Set"
   ]
  },
  {
   "cell_type": "markdown",
   "metadata": {},
   "source": [
    "You may have noticed the attribute `stimulus_set` in the previous assembly.\n",
    "A stimulus set contains the stimuli that were shown to measure the neural recordings.\n",
    "Specifically, this entails e.g. the image_id and the object_name, packaged in a pandas DataFrame."
   ]
  },
  {
   "cell_type": "code",
   "execution_count": null,
   "metadata": {
    "collapsed": true
   },
   "outputs": [],
   "source": [
    "stimulus_set = neural_data.attrs['stimulus_set']\n",
    "print(stimulus_set[:3])"
   ]
  },
  {
   "cell_type": "markdown",
   "metadata": {},
   "source": [
    "We can also directly retrieve any image using the `get_image` method."
   ]
  },
  {
   "cell_type": "code",
   "execution_count": null,
   "metadata": {
    "collapsed": true
   },
   "outputs": [],
   "source": [
    "image_path = stimulus_set.get_image(stimulus_set['image_id'][0])\n",
    "print(image_path)\n"
   ]
  },
  {
   "cell_type": "markdown",
   "metadata": {},
   "source": [
    "Images are automatically downloaded locally and can thus be loaded and displayed directly."
   ]
  },
  {
   "cell_type": "code",
   "execution_count": null,
   "metadata": {},
   "outputs": [],
   "source": [
    "%matplotlib inline\n",
    "from matplotlib import pyplot, image\n",
    "img = image.imread(image_path)\n",
    "pyplot.imshow(img)\n",
    "pyplot.show()"
   ]
  }
 ],
 "metadata": {
  "kernel_info": {
   "name": "mkgu"
  },
  "kernelspec": {
   "name": "python3",
   "language": "python",
   "display_name": "Python 3"
  },
  "language_info": {
   "codemirror_mode": {
    "name": "ipython",
    "version": 3
   },
   "file_extension": ".py",
   "mimetype": "text/x-python",
   "name": "python",
   "nbconvert_exporter": "python",
   "pygments_lexer": "ipython3",
   "version": "3.6.3"
  },
  "nteract": {
   "version": "0.3.4"
  }
 },
 "nbformat": 4,
 "nbformat_minor": 4
}