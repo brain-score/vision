{
 "cells": [
  {
   "cell_type": "markdown",
   "metadata": {},
   "source": [
    "This example is primarily concerned with loading raw data. This data is often not fully pre-processed (e.g. neuroids that we don't trust are not filtered, repetitions are not averaged, hard stimuli are not pre-selected etc.).\n",
    "\n",
    "If you only want to compare data with each other, you are probably better off \n",
    "using benchmarks directly (e.g. `from brainscore import benchmarks; benchmarks.load('dicarlo.Majaj2015')`) or\n",
    "loading the data through benchmarks (e.g. `from brainscore import benchmarks; benchmarks.load_assembly('dicarlo.Majaj2015')`)."
   ]
  },
  {
   "cell_type": "markdown",
   "metadata": {},
   "source": [
    "### Neural assembly"
   ]
  },
  {
   "cell_type": "markdown",
   "metadata": {},
   "source": [
    "We can load data (called \"assembly\") using the `get_assembly` method.\n",
    "In the following, we load neural data from the DiCarlo lab, published in Majaj2015.\n"
   ]
  },
  {
   "cell_type": "code",
   "execution_count": 4,
   "metadata": {
    "collapsed": true,
    "inputHidden": false,
    "outputHidden": false
   },
   "outputs": [
    {
     "data": {
      "text/plain": [
       "<xarray.NeuronRecordingAssembly 'dicarlo.Majaj2015' (neuroid: 296, presentation: 268800, time_bin: 1)>\narray([[[ 0.060929],\n        [-0.686162],\n        ...,\n        [-0.968256],\n        [ 0.183887]],\n\n       [[-0.725592],\n        [ 0.292777],\n        ...,\n        [ 2.449372],\n        [ 0.401197]],\n\n       ...,\n\n       [[ 1.121319],\n        [ 1.719423],\n        ...,\n        [ 0.800551],\n        [-0.019874]],\n\n       [[-0.518903],\n        [ 0.696196],\n        ...,\n        [-0.603347],\n        [-0.175979]]], dtype=float32)\nCoordinates:\n  * neuroid          (neuroid) MultiIndex\n  - neuroid_id       (neuroid) object 'Chabo_L_M_5_9' 'Chabo_L_M_6_9' ...\n  - arr              (neuroid) object 'M' 'M' 'M' 'M' 'M' 'M' 'M' 'M' 'M' ...\n  - col              (neuroid) int64 9 9 8 9 8 8 7 7 5 6 4 9 9 9 9 9 8 7 9 6 ...\n  - hemisphere       (neuroid) object 'L' 'L' 'L' 'L' 'L' 'L' 'L' 'L' 'L' ...\n  - subregion        (neuroid) object 'cIT' 'cIT' 'cIT' 'cIT' 'cIT' 'cIT' ...\n  - animal           (neuroid) object 'Chabo' 'Chabo' 'Chabo' 'Chabo' ...\n  - y                (neuroid) float64 0.2 0.6 0.2 1.0 0.6 1.0 1.8 1.0 1.8 ...\n  - x                (neuroid) float64 1.8 1.8 1.4 1.8 1.4 1.4 1.0 1.0 0.2 ...\n  - region           (neuroid) object 'IT' 'IT' 'IT' 'IT' 'IT' 'IT' 'IT' ...\n  - row              (neuroid) int64 5 6 5 7 6 7 9 7 9 8 9 2 1 3 6 7 6 6 8 5 ...\n  * presentation     (presentation) MultiIndex\n  - image_id         (presentation) object '8a72e2bfdb8c267b57232bf96f069374d5b21832' ...\n  - repetition       (presentation) int64 0 0 0 0 0 0 0 0 0 0 0 0 0 0 0 0 0 ...\n  - stimulus         (presentation) int64 0 1 2 3 4 5 6 7 8 9 10 11 12 13 14 ...\n  - id               (presentation) int64 1 2 3 4 5 6 7 8 9 10 11 12 13 14 ...\n  - image_file_name  (presentation) object 'astra_rx+00.000_ry+00.000_rz+00.000_tx+00.000_ty+00.000_s+01.000_ecd40f3f6d7a4d6d88134d648884e0b9b364efc9_256x256.png' ...\n  - object_name      (presentation) object 'car_astra' 'table3' 'face2' ...\n  - category_name    (presentation) object 'Cars' 'Tables' 'Faces' 'Fruits' ...\n  - background_id    (presentation) object 'ecd40f3f6d7a4d6d88134d648884e0b9b364efc9' ...\n  - variation        (presentation) int64 0 0 0 0 0 0 0 0 0 0 0 0 0 0 0 0 0 ...\n  - ty               (presentation) float64 0.0 0.0 0.0 0.0 0.0 0.0 0.0 0.0 ...\n  - tz               (presentation) float64 0.0 0.0 0.0 0.0 0.0 0.0 0.0 0.0 ...\n  - rxy              (presentation) float64 -0.0 -0.0 -0.0 -0.0 -0.0 -0.0 ...\n  - rxz              (presentation) float64 0.0 0.0 0.0 0.0 0.0 0.0 0.0 0.0 ...\n  - ryz              (presentation) float64 -0.0 -0.0 -0.0 -0.0 -0.0 -0.0 ...\n  - rxy_semantic     (presentation) float64 90.0 -0.0 -0.0 -0.0 -0.0 90.0 ...\n  - rxz_semantic     (presentation) float64 0.0 0.0 0.0 0.0 0.0 0.0 0.0 0.0 ...\n  - ryz_semantic     (presentation) float64 -0.0 -0.0 -0.0 -0.0 -0.0 -0.0 ...\n  - size             (presentation) float64 256.0 256.0 256.0 256.0 256.0 ...\n  - s                (presentation) float64 1.0 1.0 1.0 1.0 1.0 1.0 1.0 1.0 ...\n  * time_bin         (time_bin) MultiIndex\n  - time_bin_start   (time_bin) int64 70\n  - time_bin_end     (time_bin) int64 170\nAttributes:\n    stimulus_set_name:  dicarlo.hvm\n    stimulus_set:               id                                  image_id ..."
      ]
     },
     "execution_count": 4,
     "metadata": {},
     "output_type": "execute_result"
    }
   ],
   "source": [
    "import brainscore\n",
    "neural_data = brainscore.get_assembly(name=\"dicarlo.Majaj2015\")\n",
    "neural_data.load()"
   ]
  },
  {
   "cell_type": "markdown",
   "metadata": {},
   "source": [
    "This gives us a NeuronRecordingAssembly, a sub-class of xarray DataArray.\n",
    "The behavioral and neural assemblies are always handled with the xarray framework.\n",
    "xarray data is basically a multi-dimensional table with annotating coordinates, similar to pandas. \n",
    "More info here: http://xarray.pydata.org.\n",
    "Coming back to the neural assembly `dicarlo.Majaj2015`, \n",
    "it is structured into the dimensions `neuroid x presentation x time_bin`.\n",
    "`neuroid` is a MultiIndex containing information about the recording site, such as the animal and the region.\n",
    "`presentation` refers to the single presentation of a stimulus with coords annotating \n",
    "e.g. the image_id and the repetition.\n",
    "Finally, `time_bin` informs us about the time in milliseconds from when neural responses were collected.\n",
    "At the current stage, `dicarlo.Majaj2015` contains only the 70-170 ms time bin."
   ]
  },
  {
   "cell_type": "markdown",
   "metadata": {},
   "source": [
    "The data is in a raw format, but typically we use a pre-processed version.\n",
    "We want to: \n",
    "\n",
    "(1) select only hard images with a variation of 6,\n",
    "\n",
    "(2) average across repetitions,\n",
    "\n",
    "(3) get rid of the scalar time_bin dimension,\n",
    "\n",
    "(4) and reshape into presentation x neuroid."
   ]
  },
  {
   "cell_type": "code",
   "execution_count": 5,
   "metadata": {},
   "outputs": [],
   "source": [
    "compact_data = neural_data.sel(variation=6)  # (1)\n",
    "compact_data = compact_data.multi_groupby(['category_name', 'object_name', 'image_id'])  # (2)\n",
    "compact_data = compact_data.mean(dim='presentation')\n",
    "compact_data = compact_data.squeeze('time_bin')  # (3)\n",
    "compact_data = compact_data.T  # (4)"
   ]
  },
  {
   "cell_type": "markdown",
   "metadata": {},
   "source": [
    "The data now contains 2560 images and the responses of 296 neuroids."
   ]
  },
  {
   "cell_type": "code",
   "execution_count": 6,
   "metadata": {},
   "outputs": [
    {
     "name": "stdout",
     "output_type": "stream",
     "text": [
      "(2560, 296)\n"
     ]
    }
   ],
   "source": [
    "print(compact_data.shape)"
   ]
  },
  {
   "cell_type": "markdown",
   "metadata": {},
   "source": [
    "Note that the data used for benchmarking is typically already pre-processed.\n",
    "For instance, the target assembly for the `dicarlo.Majaj2015` benchmark is the same as our pre-processed version here:"
   ]
  },
  {
   "cell_type": "code",
   "execution_count": 2,
   "metadata": {},
   "outputs": [
    {
     "name": "stdout",
     "output_type": "stream",
     "text": [
      "(2560, 256)\n"
     ]
    }
   ],
   "source": [
    "from brainscore import benchmarks\n",
    "\n",
    "benchmark_assembly = benchmarks.load_assembly('dicarlo.Majaj2015')\n",
    "print(benchmark_assembly.shape)"
   ]
  },
  {
   "cell_type": "markdown",
   "metadata": {},
   "source": [
    "We can also easily filter neuroids from a specific region, such as IT.\n",
    "By selecting only that region, we keep only the 168 neuroids from that region."
   ]
  },
  {
   "cell_type": "code",
   "execution_count": 7,
   "metadata": {},
   "outputs": [
    {
     "name": "stdout",
     "output_type": "stream",
     "text": [
      "(2560, 168)\n"
     ]
    }
   ],
   "source": [
    "print(compact_data.sel(region='IT').shape)"
   ]
  },
  {
   "cell_type": "markdown",
   "metadata": {},
   "source": [
    "### Stimulus Set"
   ]
  },
  {
   "cell_type": "markdown",
   "metadata": {},
   "source": [
    "You may have noticed the attribute `stimulus_set` in the previous assembly.\n",
    "A stimulus set contains the stimuli that were shown to measure the neural recordings.\n",
    "Specifically, this entails e.g. the image_id and the object_name, packaged in a pandas DataFrame."
   ]
  },
  {
   "cell_type": "code",
   "execution_count": 8,
   "metadata": {
    "collapsed": true
   },
   "outputs": [
    {
     "name": "stdout",
     "output_type": "stream",
     "text": [
      "   id                                  image_id  \\\n0   1  8a72e2bfdb8c267b57232bf96f069374d5b21832   \n1   2  27f69468c9d6019ed0d22b9583c94c5b58198c1c   \n2   3  6af1cbb28aacea6c582faa07e92d8325fa7a29d7   \n\n                                     image_file_name object_name  \\\n0  astra_rx+00.000_ry+00.000_rz+00.000_tx+00.000_...   car_astra   \n1  _12_rx+00.000_ry+00.000_rz+00.000_tx+00.000_ty...      table3   \n2  face0003_rx+00.000_ry+00.000_rz+00.000_tx+00.0...       face2   \n\n  category_name                             background_id  variation   ty  \\\n0          Cars  ecd40f3f6d7a4d6d88134d648884e0b9b364efc9          0  0.0   \n1        Tables  006d66c207c6417574f62f0560c6b2b40a9ec5a1          0  0.0   \n2         Faces  3b3c1d65865028d0fad0b0bf8f305098db717e7f          0  0.0   \n\n    tz  rxy  rxz  ryz  rxy_semantic  rxz_semantic  ryz_semantic   size    s  \n0  0.0 -0.0  0.0 -0.0          90.0           0.0          -0.0  256.0  1.0  \n1  0.0 -0.0  0.0 -0.0          -0.0           0.0          -0.0  256.0  1.0  \n2  0.0 -0.0  0.0 -0.0          -0.0           0.0          -0.0  256.0  1.0  \n"
     ]
    }
   ],
   "source": [
    "stimulus_set = neural_data.attrs[\"stimulus_set\"]\n",
    "print(stimulus_set[:3])"
   ]
  },
  {
   "cell_type": "markdown",
   "metadata": {},
   "source": [
    "We can also directly retrieve the image using the `get_image` method."
   ]
  },
  {
   "cell_type": "code",
   "execution_count": 9,
   "metadata": {
    "collapsed": true
   },
   "outputs": [
    {
     "name": "stdout",
     "output_type": "stream",
     "text": [
      "/home/martin/.brainscore/data/dicarlo.hvm/Variation00_20110203/astra_rx+00.000_ry+00.000_rz+00.000_tx+00.000_ty+00.000_s+01.000_ecd40f3f6d7a4d6d88134d648884e0b9b364efc9_256x256.png\n"
     ]
    }
   ],
   "source": [
    "image_path = stimulus_set.get_image(stimulus_set['image_id'][0])\n",
    "print(image_path)\n"
   ]
  },
  {
   "cell_type": "markdown",
   "metadata": {},
   "source": [
    "Images are automatically downloaded locally and can thus be loaded and displayed directly."
   ]
  },
  {
   "cell_type": "code",
   "execution_count": 11,
   "metadata": {},
   "outputs": [
    {
     "data": {
      "image/png": "[encoded data removed]",
      "text/plain": [
       "<Figure size 432x288 with 1 Axes>"
      ]
     },
     "metadata": {},
     "output_type": "display_data"
    }
   ],
   "source": [
    "%matplotlib inline\n",
    "from matplotlib import pyplot, image\n",
    "img = image.imread(image_path)\n",
    "pyplot.imshow(img)\n",
    "pyplot.show()"
   ]
  }
 ],
 "metadata": {
  "kernel_info": {
   "name": "mkgu"
  },
  "kernelspec": {
   "display_name": "mkgu",
   "language": "python",
   "name": "mkgu"
  },
  "language_info": {
   "codemirror_mode": {
    "name": "ipython",
    "version": 3
   },
   "file_extension": ".py",
   "mimetype": "text/x-python",
   "name": "python",
   "nbconvert_exporter": "python",
   "pygments_lexer": "ipython3",
   "version": "3.6.3"
  },
  "nteract": {
   "version": "0.3.4"
  }
 },
 "nbformat": 4,
 "nbformat_minor": 4
}
