{
 "cells": [
  {
   "cell_type": "markdown",
   "metadata": {},
   "source": [
    "This example is primarily concerned with loading raw data. This data is often not fully pre-processed (e.g. neuroids that we don't trust are not filtered, repetitions are not averaged, hard stimuli are not pre-selected etc.).\n",
    "\n",
    "If you only want to compare data with each other, you are probably better off \n",
    "using benchmarks directly (e.g. `from brainscore import benchmarks; benchmarks.load('dicarlo.MajajHong2015')`) or\n",
    "loading the data through benchmarks (e.g. `from brainscore import benchmarks; benchmarks.load_assembly('dicarlo.MajajHong2015')`)."
   ]
  },
  {
   "cell_type": "markdown",
   "metadata": {},
   "source": [
    "### Neural assembly"
   ]
  },
  {
   "cell_type": "markdown",
   "metadata": {},
   "source": [
    "We can load data (called \"assembly\") using the `get_assembly` method.\n",
    "In the following, we load neural data from the DiCarlo lab, published in Majaj, Hong et al. 2015.\n"
   ]
  },
  {
   "cell_type": "code",
   "execution_count": 1,
   "metadata": {
    "collapsed": true,
    "inputHidden": false,
    "outputHidden": false,
    "pycharm": {
     "is_executing": false
    }
   },
   "outputs": [
    {
     "data": {
      "text/plain": "<xarray.NeuronRecordingAssembly 'dicarlo.Majaj2015.public' (neuroid: 256, presentation: 148480, time_bin: 1)>\narray([[[ 0.060929],\n        [-0.847906],\n        ...,\n        [-0.832111],\n        [-0.832111]],\n\n       [[-0.725592],\n        [ 0.895499],\n        ...,\n        [-1.158598],\n        [-0.795479]],\n\n       ...,\n\n       [[ 0.280502],\n        [-1.18722 ],\n        ...,\n        [ 0.077538],\n        [-0.614134]],\n\n       [[ 0.307263],\n        [ 0.353218],\n        ...,\n        [ 1.005235],\n        [-0.298961]]], dtype=float32)\nCoordinates:\n  * neuroid          (neuroid) MultiIndex\n  - neuroid_id       (neuroid) object 'Chabo_L_M_5_9' ... 'Tito_L_M_8_0'\n  - arr              (neuroid) object 'M' 'M' 'M' 'M' 'M' ... 'M' 'M' 'M' 'M'\n  - col              (neuroid) int64 9 9 8 9 8 8 7 7 5 6 ... 1 0 1 0 1 0 0 1 1 0\n  - hemisphere       (neuroid) object 'L' 'L' 'L' 'L' 'L' ... 'L' 'L' 'L' 'L'\n  - subregion        (neuroid) object 'cIT' 'cIT' 'cIT' ... 'pIT' 'pIT' 'pIT'\n  - animal           (neuroid) object 'Chabo' 'Chabo' 'Chabo' ... 'Tito' 'Tito'\n  - y                (neuroid) float64 0.2 0.6 0.2 1.0 0.6 ... 1.0 1.0 1.8 1.4\n  - x                (neuroid) float64 1.8 1.8 1.4 1.8 ... -1.8 -1.4 -1.4 -1.8\n  - region           (neuroid) object 'IT' 'IT' 'IT' 'IT' ... 'IT' 'IT' 'IT'\n  - row              (neuroid) int64 5 6 5 7 6 7 9 7 9 8 ... 4 4 5 5 6 6 7 7 9 8\n  * presentation     (presentation) MultiIndex\n  - image_id         (presentation) object '8a72e2bfdb8c267b57232bf96f069374d5b21832' ... '6b834433a431c9e59c1cd0f0c3af79aa6093dfcb'\n  - repetition       (presentation) int64 0 18 18 18 18 18 ... 16 16 16 17 17 17\n  - stimulus         (presentation) int64 0 426 427 428 429 ... 2569 2566 0 1 2\n  - id               (presentation) int64 1 418 419 420 421 ... 3197 641 642 643\n  - image_file_name  (presentation) object 'astra_rx+00.000_ry+00.000_rz+00.000_tx+00.000_ty+00.000_s+01.000_ecd40f3f6d7a4d6d88134d648884e0b9b364efc9_256x256.png' ... 'Apple_Fruit_obj_rx-107.960_ry+34.497_rz+35.639_tx+00.277_ty+00.211_s+00.638_dd611f4df5e53376da5d45c79a2ea0f886814c09_256x256.png'\n  - object_name      (presentation) object 'car_astra' 'face0' ... 'apple'\n  - category_name    (presentation) object 'Cars' 'Faces' ... 'Fruits' 'Fruits'\n  - background_id    (presentation) object 'ecd40f3f6d7a4d6d88134d648884e0b9b364efc9' ... 'dd611f4df5e53376da5d45c79a2ea0f886814c09'\n  - variation        (presentation) int64 0 0 0 0 0 0 0 0 0 ... 3 3 3 3 3 3 3 3\n  - ty               (presentation) float64 0.0 0.0 0.0 ... -0.191 -0.213 0.277\n  - tz               (presentation) float64 0.0 0.0 0.0 ... -0.269 -0.599 0.211\n  - rxy              (presentation) float64 -0.0 -0.0 -0.0 ... 0.02724 -10.4\n  - rxz              (presentation) float64 0.0 0.0 0.0 ... 13.22 -2.621 -14.72\n  - ryz              (presentation) float64 -0.0 -0.0 -0.0 ... -16.89 -0.2055\n  - rxy_semantic     (presentation) float64 90.0 -0.0 -0.0 ... 0.02724 -10.4\n  - rxz_semantic     (presentation) float64 0.0 0.0 0.0 ... 13.22 -2.621 -14.72\n  - ryz_semantic     (presentation) float64 -0.0 -0.0 -0.0 ... -16.89 -0.2055\n  - size             (presentation) float64 256.0 256.0 256.0 ... 256.0 256.0\n  - s                (presentation) float64 1.0 1.0 1.0 ... 1.246 1.296 0.9114\n  * time_bin         (time_bin) MultiIndex\n  - time_bin_start   (time_bin) int64 70\n  - time_bin_end     (time_bin) int64 170\nAttributes:\n    stimulus_set_name:  dicarlo.hvm-public\n    stimulus_set:               id                                  image_id ..."
     },
     "metadata": {},
     "output_type": "execute_result",
     "execution_count": 1
    }
   ],
   "source": [
    "import brainscore\n",
    "neural_data = brainscore.get_assembly(name=\"dicarlo.MajajHong2015.public\")\n",
    "neural_data"
   ]
  },
  {
   "cell_type": "markdown",
   "metadata": {},
   "source": [
    "This gives us a NeuronRecordingAssembly, a sub-class of xarray DataArray.\n",
    "The behavioral and neural assemblies are always handled with the xarray framework.\n",
    "xarray data is basically a multi-dimensional table with annotating coordinates, similar to pandas. \n",
    "More info here: http://xarray.pydata.org.\n",
    "\n",
    "The neural assembly `dicarlo.MajajHong2015.public`\n",
    "is structured into the dimensions `neuroid x presentation`.\n",
    "`neuroid` is a MultiIndex containing information about the recording site, such as the animal and the region.\n",
    "`presentation` refers to the single presentation of a stimulus with coords annotating \n",
    "e.g. the image_id and the repetition.\n",
    "Finally, `time_bin` informs us about the time in milliseconds from when neural responses were collected. \n",
    "This assembly contains averaged spike rates in the 70-170ms window."
   ]
  },
  {
   "cell_type": "markdown",
   "metadata": {},
   "source": [
    "The data is in a raw format, but typically we use a pre-processed version.\n",
    "We can further process the data e.g. as follows: \n",
    "\n",
    "1. average across repetitions,\n",
    "\n",
    "2. filter neuroids from the IT region,\n",
    "\n",
    "3. get rid of the scalar time_bin dimension,\n",
    "\n",
    "4. and reshape into `presentation x neuroid`."
   ]
  },
  {
   "cell_type": "code",
   "execution_count": 2,
   "metadata": {
    "pycharm": {
     "is_executing": false
    }
   },
   "outputs": [
    {
     "data": {
      "text/plain": "<xarray.NeuronRecordingAssembly 'dicarlo.Majaj2015.public' (presentation: 3200, neuroid: 168)>\narray([[ 0.1962  ,  0.10559 ,  0.430899, ...,  0.254563, -0.103698,  0.400337],\n       [-0.188017, -0.599624, -0.02469 , ...,  0.108069,  0.243771,  0.13458 ],\n       [ 0.576654,  0.242336, -0.229085, ...,  0.312417, -0.155798,  0.012417],\n       ...,\n       [ 0.608051,  0.17681 , -0.110604, ...,  0.123359,  0.14819 ,  0.076451],\n       [ 0.014948, -0.243371, -0.238544, ...,  0.593095,  0.112013, -0.267446],\n       [-0.107264, -0.029414, -0.074609, ..., -0.297466,  0.482114,  0.243566]],\n      dtype=float32)\nCoordinates:\n  * neuroid        (neuroid) MultiIndex\n  - neuroid_id     (neuroid) object 'Chabo_L_M_5_9' ... 'Tito_L_M_8_0'\n  - arr            (neuroid) object 'M' 'M' 'M' 'M' 'M' ... 'M' 'M' 'M' 'M' 'M'\n  - col            (neuroid) int64 9 9 8 9 8 8 7 7 5 6 4 ... 1 0 1 0 1 0 0 1 1 0\n  - hemisphere     (neuroid) object 'L' 'L' 'L' 'L' 'L' ... 'L' 'L' 'L' 'L' 'L'\n  - subregion      (neuroid) object 'cIT' 'cIT' 'cIT' ... 'pIT' 'pIT' 'pIT'\n  - animal         (neuroid) object 'Chabo' 'Chabo' 'Chabo' ... 'Tito' 'Tito'\n  - y              (neuroid) float64 0.2 0.6 0.2 1.0 0.6 ... 0.6 1.0 1.0 1.8 1.4\n  - x              (neuroid) float64 1.8 1.8 1.4 1.8 1.4 ... -1.8 -1.4 -1.4 -1.8\n  - row            (neuroid) int64 5 6 5 7 6 7 9 7 9 8 9 ... 4 4 5 5 6 6 7 7 9 8\n    time_bin       object (70, 170)\n  * presentation   (presentation) MultiIndex\n  - category_name  (presentation) object 'Animals' 'Animals' ... 'Tables'\n  - object_name    (presentation) object 'bear' 'bear' ... 'table7' 'table7'\n  - image_id       (presentation) object '00487445258f44c4de1c0a681a21e618c9e148f8' ... 'ffd5542719aa9fe98c47235c58849843176557af'"
     },
     "metadata": {},
     "output_type": "execute_result",
     "execution_count": 2
    }
   ],
   "source": [
    "compact_data = neural_data.multi_groupby(['category_name', 'object_name', 'image_id']).mean(dim='presentation')  # (1)\n",
    "compact_data = compact_data.sel(region='IT')  # (2)\n",
    "compact_data = compact_data.squeeze('time_bin')  # (3)\n",
    "compact_data = compact_data.transpose('presentation', 'neuroid')  # (4)\n",
    "compact_data"
   ]
  },
  {
   "cell_type": "markdown",
   "metadata": {},
   "source": [
    "The data now contains 3200 images and the responses of 168 neuroids."
   ]
  },
  {
   "cell_type": "code",
   "execution_count": 3,
   "metadata": {
    "pycharm": {
     "is_executing": false
    }
   },
   "outputs": [
    {
     "name": "stdout",
     "text": [
      "(3200, 168)\n"
     ],
     "output_type": "stream"
    }
   ],
   "source": [
    "print(compact_data.shape)"
   ]
  },
  {
   "cell_type": "markdown",
   "metadata": {},
   "source": [
    "Note that the data used for benchmarking is typically already pre-processed.\n",
    "For instance, the target assembly for the public benchmark `MajajITPublicBenchmark`  \n",
    "is the same as our pre-processed version here:"
   ]
  },
  {
   "cell_type": "code",
   "execution_count": 4,
   "metadata": {
    "pycharm": {
     "is_executing": false
    }
   },
   "outputs": [
    {
     "name": "stdout",
     "text": [
      "(3200, 168)\n"
     ],
     "output_type": "stream"
    }
   ],
   "source": [
    "from brainscore.public_benchmarks import MajajITPublicBenchmark\n",
    "\n",
    "benchmark = MajajITPublicBenchmark()\n",
    "benchmark_assembly = benchmark._assembly\n",
    "print(benchmark_assembly.shape)\n"
   ]
  },
  {
   "cell_type": "markdown",
   "metadata": {},
   "source": [
    "### Stimulus Set"
   ]
  },
  {
   "cell_type": "markdown",
   "metadata": {},
   "source": [
    "You may have noticed the attribute `stimulus_set` in the previous assembly.\n",
    "A stimulus set contains the stimuli that were shown to measure the neural recordings.\n",
    "Specifically, this entails e.g. the image_id and the object_name, packaged in a pandas DataFrame."
   ]
  },
  {
   "cell_type": "code",
   "execution_count": 5,
   "metadata": {
    "collapsed": true,
    "pycharm": {
     "is_executing": false
    }
   },
   "outputs": [
    {
     "name": "stdout",
     "text": [
      "   id                                  image_id  \\\n0   1  8a72e2bfdb8c267b57232bf96f069374d5b21832   \n1   2  27f69468c9d6019ed0d22b9583c94c5b58198c1c   \n2   3  6af1cbb28aacea6c582faa07e92d8325fa7a29d7   \n\n                                     image_file_name object_name  \\\n0  astra_rx+00.000_ry+00.000_rz+00.000_tx+00.000_...   car_astra   \n1  _12_rx+00.000_ry+00.000_rz+00.000_tx+00.000_ty...      table3   \n2  face0003_rx+00.000_ry+00.000_rz+00.000_tx+00.0...       face2   \n\n  category_name                             background_id  variation   ty  \\\n0          Cars  ecd40f3f6d7a4d6d88134d648884e0b9b364efc9          0  0.0   \n1        Tables  006d66c207c6417574f62f0560c6b2b40a9ec5a1          0  0.0   \n2         Faces  3b3c1d65865028d0fad0b0bf8f305098db717e7f          0  0.0   \n\n    tz  rxy  rxz  ryz  rxy_semantic  rxz_semantic  ryz_semantic   size    s  \n0  0.0 -0.0  0.0 -0.0          90.0           0.0          -0.0  256.0  1.0  \n1  0.0 -0.0  0.0 -0.0          -0.0           0.0          -0.0  256.0  1.0  \n2  0.0 -0.0  0.0 -0.0          -0.0           0.0          -0.0  256.0  1.0  \n"
     ],
     "output_type": "stream"
    }
   ],
   "source": [
    "stimulus_set = neural_data.attrs['stimulus_set']\n",
    "print(stimulus_set[:3])"
   ]
  },
  {
   "cell_type": "markdown",
   "metadata": {},
   "source": [
    "We can also directly retrieve any image using the `get_image` method."
   ]
  },
  {
   "cell_type": "code",
   "execution_count": 6,
   "metadata": {
    "collapsed": true,
    "pycharm": {
     "is_executing": false
    }
   },
   "outputs": [
    {
     "name": "stdout",
     "text": [
      "/braintree/home/msch/.brainio/image_hvm_with_discfade/Variation00_20110203/astra_rx+00.000_ry+00.000_rz+00.000_tx+00.000_ty+00.000_s+01.000_ecd40f3f6d7a4d6d88134d648884e0b9b364efc9_256x256.png\n"
     ],
     "output_type": "stream"
    }
   ],
   "source": [
    "image_path = stimulus_set.get_image(stimulus_set['image_id'][0])\n",
    "print(image_path)\n"
   ]
  },
  {
   "cell_type": "markdown",
   "metadata": {},
   "source": [
    "Images are automatically downloaded locally and can thus be loaded and displayed directly."
   ]
  },
  {
   "cell_type": "code",
   "execution_count": 7,
   "metadata": {
    "pycharm": {
     "is_executing": false
    }
   },
   "outputs": [
    {
     "data": {
      "text/plain": "<Figure size 432x288 with 1 Axes>",
      "image/png": "[encoded data removed]"
     },
     "metadata": {
      "needs_background": "light"
     },
     "output_type": "display_data"
    }
   ],
   "source": [
    "%matplotlib inline\n",
    "from matplotlib import pyplot, image\n",
    "img = image.imread(image_path)\n",
    "pyplot.imshow(img)\n",
    "pyplot.show()"
   ]
  }
 ],
 "metadata": {
  "kernel_info": {
   "name": "mkgu"
  },
  "kernelspec": {
   "name": "python3",
   "language": "python",
   "display_name": "Python 3"
  },
  "language_info": {
   "codemirror_mode": {
    "name": "ipython",
    "version": 3
   },
   "file_extension": ".py",
   "mimetype": "text/x-python",
   "name": "python",
   "nbconvert_exporter": "python",
   "pygments_lexer": "ipython3",
   "version": "3.6.3"
  },
  "nteract": {
   "version": "0.3.4"
  }
 },
 "nbformat": 4,
 "nbformat_minor": 4
}