{
 "cells": [
  {
   "cell_type": "markdown",
   "metadata": {},
   "source": [
    "# Metrics\n",
    "To compare two datasets (e.g. brain recordings and model predictions), we use *metrics* that compute a similarity score."
   ]
  },
  {
   "cell_type": "markdown",
   "metadata": {},
   "source": [
    "### Pre-defined metrics\n",
    "\n",
    "Brain-Score comes with many standard metrics used in the field.\n",
    "For instance, the *neural predictivity metric* (here with `ridge` regression)\n",
    "(1) uses linear regression to map between two matrices (e.g. from model activations to neural firing rates),\n",
    "(2) computes the correlation between predicted and actual firing rates on held-out images, and\n",
    "(3) cross-validates 1 and 2 to estimate a generalization error."
   ]
  },
  {
   "cell_type": "code",
   "execution_count": 1,
   "metadata": {
    "ExecuteTime": {
     "end_time": "2023-12-31T19:29:32.493107400Z",
     "start_time": "2023-12-31T19:29:28.302836800Z"
    }
   },
   "outputs": [
    {
     "name": "stdout",
     "output_type": "stream",
     "text": [
      "Requirement already satisfied: numpy in /braintree/home/msch/miniconda3/lib/python3.6/site-packages (from -r /braintree/home/msch/brain-score_vision/brainscore_vision/metrics/regression_correlation/requirements.txt (line 1)) (1.19.2)\n",
      "Requirement already satisfied: scipy in /braintree/home/msch/miniconda3/lib/python3.6/site-packages (from -r /braintree/home/msch/brain-score_vision/brainscore_vision/metrics/regression_correlation/requirements.txt (line 2)) (1.3.1)\n",
      "Requirement already satisfied: scikit-learn in /braintree/home/msch/miniconda3/lib/python3.6/site-packages (from -r /braintree/home/msch/brain-score_vision/brainscore_vision/metrics/regression_correlation/requirements.txt (line 3)) (0.21.3)\n",
      "Requirement already satisfied: joblib>=0.11 in /braintree/home/msch/miniconda3/lib/python3.6/site-packages (from scikit-learn->-r /braintree/home/msch/brain-score_vision/brainscore_vision/metrics/regression_correlation/requirements.txt (line 3)) (0.14.0)\n"
     ]
    }
   ],
   "source": [
    "from brainscore_vision import load_metric\n",
    "\n",
    "metric = load_metric('ridge')"
   ]
  },
  {
   "cell_type": "markdown",
   "metadata": {},
   "source": [
    "All metrics have a `__call__` method which takes as input two sets of measurements and produces a score.\n",
    "See e.g. below for the result of running the `ridge` neural predictivity metric on \"two\" dummy datasets."
   ]
  },
  {
   "cell_type": "code",
   "execution_count": 2,
   "metadata": {
    "ExecuteTime": {
     "end_time": "2023-12-31T19:29:33.093256900Z",
     "start_time": "2023-12-31T19:29:32.493107400Z"
    }
   },
   "outputs": [
    {
     "name": "stderr",
     "output_type": "stream",
     "text": [
      "cross-validation: 100%|██████████| 10/10 [00:00<00:00, 14.42it/s]"
     ]
    },
    {
     "name": "stdout",
     "output_type": "stream",
     "text": [
      "<xarray.Score ()>\n",
      "array(0.99999893)\n",
      "Attributes:\n",
      "    raw:      <xarray.Score (split: 10, neuroid: 25)>\\narray([[0.99999998, 0....\n",
      "    error:    <xarray.Score ()>\\narray(7.31630414e-07)\n"
     ]
    },
    {
     "name": "stderr",
     "output_type": "stream",
     "text": [
      "\n"
     ]
    }
   ],
   "source": [
    "import numpy as np\n",
    "from numpy.random import RandomState\n",
    "\n",
    "from brainio.assemblies import NeuroidAssembly\n",
    "\n",
    "rnd = RandomState(0)  # seed for reproducibility\n",
    "assembly = NeuroidAssembly((np.arange(30 * 25) + rnd.standard_normal(30 * 25)).reshape((30, 25)),\n",
    "                           coords={'stimulus_id': ('presentation', np.arange(30)),\n",
    "                                   'object_name': ('presentation', ['a', 'b', 'c'] * 10),\n",
    "                                   'neuroid_id': ('neuroid', np.arange(25)),\n",
    "                                   'region': ('neuroid', ['V1'] * 25)},\n",
    "                           dims=['presentation', 'neuroid'])\n",
    "source, target = assembly, assembly  # we're testing how well the metric can predict the dataset itself\n",
    "score = metric(source=source, target=target)\n",
    "print(score)"
   ]
  },
  {
   "cell_type": "markdown",
   "metadata": {},
   "source": [
    "The overall result here is a score close to 1. Note that this aggregate score averages over cross-validation splits as well as neural sites (`neuroids`).\n",
    "We can also check the raw values, i.e. the value per split and per neuroid."
   ]
  },
  {
   "cell_type": "code",
   "execution_count": 3,
   "metadata": {
    "ExecuteTime": {
     "end_time": "2023-12-31T19:29:33.094238600Z",
     "start_time": "2023-12-31T19:29:33.079238700Z"
    }
   },
   "outputs": [
    {
     "name": "stdout",
     "output_type": "stream",
     "text": [
      "<xarray.Score (split: 10, neuroid: 25)>\n",
      "array([[0.99999998, 0.99999989, 0.99999983, 1.        , 0.99999891,\n",
      "        0.99999917, 0.99999993, 0.99999956, 0.99999942, 0.99999974,\n",
      "        0.99999999, 0.99999915, 0.99999879, 0.9999982 , 0.99999911,\n",
      "        0.99999877, 0.99999991, 0.9999998 , 0.99999998, 0.99999958,\n",
      "        0.99999993, 0.99999995, 1.        , 0.99999968, 0.99999995],\n",
      "       [1.        , 0.99999993, 0.99999997, 0.99999814, 0.9999966 ,\n",
      "        0.99999999, 0.99999991, 0.99999896, 0.99999927, 0.9999978 ,\n",
      "        0.99999992, 0.99999877, 0.9999997 , 0.99999992, 0.99999817,\n",
      "        1.        , 0.99999991, 0.99999991, 1.        , 0.99999989,\n",
      "        0.99999844, 0.99999981, 0.99999797, 0.99999852, 0.99999998],\n",
      "       [0.99999995, 0.99999718, 0.99999993, 0.99999825, 0.99999958,\n",
      "        0.9999935 , 0.99999814, 0.99999991, 0.99999363, 0.99999946,\n",
      "        0.99999964, 0.99999453, 0.99999994, 0.9999985 , 0.99999443,\n",
      "        0.99999939, 0.99999995, 0.99999222, 0.99999255, 0.99999937,\n",
      "        0.99999488, 0.99998227, 0.99999921, 0.99999573, 0.99999844],\n",
      "       [0.99999999, 0.99999997, 0.99999981, 0.99999707, 0.99999995,\n",
      "        0.99999999, 0.99999915, 0.9999993 , 0.99999983, 0.99999995,\n",
      "        1.        , 0.99999999, 0.9999998 , 0.99999988, 0.99999929,\n",
      "        0.99999957, 0.99999999, 0.99999935, 0.99999906, 1.        ,\n",
      "        0.99999941, 0.99999981, 0.99999951, 0.999999  , 0.99999893],\n",
      "...\n",
      "       [1.        , 0.99999976, 1.        , 0.99999984, 0.99999949,\n",
      "        0.99999963, 0.99999918, 0.99999976, 0.99999995, 0.99999998,\n",
      "        0.99999999, 0.9999998 , 0.99999868, 1.        , 0.99999913,\n",
      "        0.99999961, 0.99999989, 0.99999997, 0.99999971, 0.99999992,\n",
      "        1.        , 0.99999987, 0.99999905, 0.99999968, 0.99999992],\n",
      "       [0.99999999, 0.99999996, 0.99999998, 0.99999991, 0.99999996,\n",
      "        0.99999988, 0.99999999, 0.99999999, 0.9999998 , 0.99999996,\n",
      "        1.        , 0.99999981, 0.99999994, 0.99999972, 0.99999996,\n",
      "        0.99999995, 0.99999999, 0.99999941, 0.99999957, 0.99999999,\n",
      "        0.99999993, 0.9999999 , 0.99999968, 0.99999997, 1.        ],\n",
      "       [1.        , 0.99999991, 1.        , 0.9999998 , 0.99999973,\n",
      "        0.99999958, 0.99999999, 0.99999994, 0.99999998, 0.99999865,\n",
      "        0.99999945, 0.99999968, 0.99999966, 0.99999898, 0.9999999 ,\n",
      "        0.99999979, 0.99999995, 0.99999947, 0.99999944, 0.99999998,\n",
      "        0.99999875, 0.99999999, 0.99999875, 0.99999974, 0.99999896],\n",
      "       [0.99999989, 0.99999981, 0.99999979, 0.99999843, 0.99999984,\n",
      "        0.99999994, 0.99999995, 0.99999982, 0.99999942, 0.99999998,\n",
      "        0.99999993, 0.99999978, 0.99999969, 0.99999993, 0.99999957,\n",
      "        0.99999972, 0.99999941, 0.99999927, 0.99999976, 0.99999982,\n",
      "        0.99999999, 0.99999996, 0.99999975, 0.99999832, 0.99999972]])\n",
      "Coordinates:\n",
      "  * split       (split) int64 0 1 2 3 4 5 6 7 8 9\n",
      "  * neuroid     (neuroid) MultiIndex\n",
      "  - neuroid_id  (neuroid) int64 0 1 2 3 4 5 6 7 8 ... 16 17 18 19 20 21 22 23 24\n",
      "  - region      (neuroid) object 'V1' 'V1' 'V1' 'V1' ... 'V1' 'V1' 'V1' 'V1'\n"
     ]
    }
   ],
   "source": [
    "print(score.raw)"
   ]
  },
  {
   "cell_type": "markdown",
   "metadata": {},
   "source": [
    "#### RDM\n",
    "\n",
    "The RDM metric is another commonly used method which does not require any fitting."
   ]
  },
  {
   "cell_type": "code",
   "execution_count": 4,
   "metadata": {
    "inputHidden": false,
    "outputHidden": false,
    "ExecuteTime": {
     "end_time": "2023-12-31T19:29:34.747862400Z",
     "start_time": "2023-12-31T19:29:33.086233600Z"
    }
   },
   "outputs": [
    {
     "name": "stdout",
     "output_type": "stream",
     "text": [
      "Requirement already satisfied: numpy in /braintree/home/msch/miniconda3/lib/python3.6/site-packages (from -r /braintree/home/msch/brain-score_vision/brainscore_vision/metrics/rdm/requirements.txt (line 1)) (1.19.2)\n",
      "Requirement already satisfied: scipy in /braintree/home/msch/miniconda3/lib/python3.6/site-packages (from -r /braintree/home/msch/brain-score_vision/brainscore_vision/metrics/rdm/requirements.txt (line 2)) (1.3.1)\n",
      "<xarray.Score ()>\n",
      "array(1.)\n"
     ]
    }
   ],
   "source": [
    "from brainscore_vision import load_metric\n",
    "\n",
    "rdm_metric = load_metric('rdm')\n",
    "rdm_score = rdm_metric(assembly1=assembly, assembly2=assembly)\n",
    "print(rdm_score)"
   ]
  },
  {
   "cell_type": "markdown",
   "source": [
    "In practice, we recommend using the `rdm_cv` metric which includes cross-validation to estimate an error:"
   ],
   "metadata": {
    "collapsed": false
   }
  },
  {
   "cell_type": "code",
   "execution_count": 5,
   "outputs": [
    {
     "name": "stdout",
     "output_type": "stream",
     "text": [
      "Requirement already satisfied: numpy in /braintree/home/msch/miniconda3/lib/python3.6/site-packages (from -r /braintree/home/msch/brain-score_vision/brainscore_vision/metrics/rdm/requirements.txt (line 1)) (1.19.2)\n",
      "Requirement already satisfied: scipy in /braintree/home/msch/miniconda3/lib/python3.6/site-packages (from -r /braintree/home/msch/brain-score_vision/brainscore_vision/metrics/rdm/requirements.txt (line 2)) (1.3.1)\n"
     ]
    },
    {
     "name": "stderr",
     "output_type": "stream",
     "text": [
      "cross-validation: 100%|██████████| 10/10 [00:00<00:00, 39.78it/s]"
     ]
    },
    {
     "name": "stdout",
     "output_type": "stream",
     "text": [
      "<xarray.Score ()>\n",
      "array(1.)\n",
      "Attributes:\n",
      "    raw:      <xarray.Score (split: 10)>\\narray([1., 1., 1., 1., 1., 1., 1., ...\n",
      "    error:    <xarray.Score ()>\\narray(0.)\n"
     ]
    },
    {
     "name": "stderr",
     "output_type": "stream",
     "text": [
      "\n"
     ]
    }
   ],
   "source": [
    "rdm_cv = load_metric('rdm_cv')\n",
    "rdm_cv_score = rdm_cv(assembly1=assembly, assembly2=assembly)\n",
    "print(rdm_cv_score)"
   ],
   "metadata": {
    "collapsed": false,
    "ExecuteTime": {
     "end_time": "2023-12-31T19:29:36.564530800Z",
     "start_time": "2023-12-31T19:29:34.747862400Z"
    }
   }
  },
  {
   "cell_type": "markdown",
   "metadata": {},
   "source": [
    "### Custom metrics\n",
    "\n",
    "It is relatively straight-forward to define your own metrics. All that is required is to implement the [`Metric` interface](https://brain-score-core.readthedocs.io/en/latest/modules/metrics.html#brainscore_core.metrics.Metric). Specifically, every metric needs to implement a `__call__` method which accepts two data assemblies and outputs a [`Score`](https://brain-score-core.readthedocs.io/en/latest/modules/metrics.html#brainscore_core.metrics.Score).\n",
    "\n",
    "For instance, here is a metric that computes the Euclidean distance of regressed and target neural sites."
   ]
  },
  {
   "cell_type": "code",
   "execution_count": 6,
   "metadata": {
    "ExecuteTime": {
     "end_time": "2023-12-31T19:29:36.689595500Z",
     "start_time": "2023-12-31T19:29:36.579597400Z"
    }
   },
   "outputs": [
    {
     "name": "stdout",
     "output_type": "stream",
     "text": [
      "<xarray.Score ()>\n",
      "array(1.)\n"
     ]
    }
   ],
   "source": [
    "from brainscore_core import Metric, Score\n",
    "from brainio.assemblies import DataAssembly\n",
    "\n",
    "\n",
    "class DistanceMetric(Metric):\n",
    "    def __call__(self, source: DataAssembly, target: DataAssembly) -> Score:\n",
    "        # ensure metadata is aligned\n",
    "        source = source.sortby('stimulus_id').sortby('neuroid_id')\n",
    "        target = target.sortby('stimulus_id').sortby('neuroid_id')\n",
    "        assert (source['stimulus_id'].values == target['stimulus_id'].values).all()\n",
    "        assert (source['neuroid_id'].values == target['neuroid_id'].values).all()\n",
    "        # compute distance\n",
    "        difference = np.abs(target.values - source.values)  # lower is better\n",
    "        score = Score(difference, coords=target.coords, dims=target.dims)  # include metadata\n",
    "        score = score.mean('presentation').median('neuroid')  # aggregate over stimuli and neural sites\n",
    "        score = 1 - score  # invert so that higher is better (note that we would also need to define a floor so that the score is ∈[0,1]\n",
    "        return score\n",
    "\n",
    "\n",
    "metric = DistanceMetric()\n",
    "score = metric(assembly, assembly)\n",
    "print(score)"
   ]
  }
 ],
 "metadata": {
  "kernel_info": {
   "name": "mkgu"
  },
  "kernelspec": {
   "display_name": "Python 3",
   "language": "python",
   "name": "python3"
  },
  "language_info": {
   "codemirror_mode": {
    "name": "ipython",
    "version": 3
   },
   "file_extension": ".py",
   "mimetype": "text/x-python",
   "name": "python",
   "nbconvert_exporter": "python",
   "pygments_lexer": "ipython3",
   "version": "3.7.3"
  },
  "nteract": {
   "version": "0.3.4"
  }
 },
 "nbformat": 4,
 "nbformat_minor": 4
}
