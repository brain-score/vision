{
 "cells": [
  {
   "cell_type": "markdown",
   "metadata": {
    "collapsed": true
   },
   "source": [
    "You can run an existing model on an existing benchmark by calling a single function, e.g. here `alexnet` on the behavioral benchmark `Rajalingham2018-i2n`."
   ]
  },
  {
   "cell_type": "code",
   "execution_count": 1,
   "outputs": [
    {
     "name": "stdout",
     "output_type": "stream",
     "text": [
      "Requirement already satisfied: numpy in /braintree/home/msch/miniconda3/lib/python3.6/site-packages (from -r /braintree/home/msch/brain-score_vision/brainscore_vision/metrics/i1i2/requirements.txt (line 1)) (1.19.2)\n",
      "Requirement already satisfied: scipy in /braintree/home/msch/miniconda3/lib/python3.6/site-packages (from -r /braintree/home/msch/brain-score_vision/brainscore_vision/metrics/i1i2/requirements.txt (line 2)) (1.3.1)\n",
      "<xarray.Score ()>\n",
      "array(0.37020821)\n",
      "Attributes:\n",
      "    error:                 <xarray.Score ()>\\narray(0.01112536)\n",
      "    raw:                   <xarray.Score ()>\\narray(0.25774391)\\nAttributes:\\...\n",
      "    ceiling:               <xarray.Score ()>\\narray(0.48483986)\\nAttributes:\\...\n",
      "    model_identifier:      alexnet\n",
      "    benchmark_identifier:  Rajalingham2018-i2n\n",
      "    comment:               layers: {}\n"
     ]
    }
   ],
   "source": [
    "from brainscore_vision import score\n",
    "\n",
    "model_score = score(model_identifier='alexnet', benchmark_identifier='Rajalingham2018-i2n')\n",
    "print(model_score)"
   ],
   "metadata": {
    "collapsed": false,
    "ExecuteTime": {
     "end_time": "2024-01-02T14:45:03.035305500Z",
     "start_time": "2024-01-02T14:43:49.235387Z"
    }
   }
  },
  {
   "cell_type": "markdown",
   "source": [
    "We can also run a baseline model such as `pixels` on a neural benchmark `FreemanZiemba2013public.V1-pls`:"
   ],
   "metadata": {
    "collapsed": false
   }
  },
  {
   "cell_type": "code",
   "execution_count": 2,
   "outputs": [
    {
     "name": "stdout",
     "output_type": "stream",
     "text": [
      "Requirement already satisfied: numpy in /braintree/home/msch/miniconda3/lib/python3.6/site-packages (from -r /braintree/home/msch/brain-score_vision/brainscore_vision/metrics/regression_correlation/requirements.txt (line 1)) (1.19.2)\n",
      "Requirement already satisfied: scipy in /braintree/home/msch/miniconda3/lib/python3.6/site-packages (from -r /braintree/home/msch/brain-score_vision/brainscore_vision/metrics/regression_correlation/requirements.txt (line 2)) (1.3.1)\n",
      "Requirement already satisfied: scikit-learn in /braintree/home/msch/miniconda3/lib/python3.6/site-packages (from -r /braintree/home/msch/brain-score_vision/brainscore_vision/metrics/regression_correlation/requirements.txt (line 3)) (0.21.3)\n",
      "Requirement already satisfied: joblib>=0.11 in /braintree/home/msch/miniconda3/lib/python3.6/site-packages (from scikit-learn->-r /braintree/home/msch/brain-score_vision/brainscore_vision/metrics/regression_correlation/requirements.txt (line 3)) (0.14.0)\n",
      "Requirement already satisfied: scipy in /braintree/home/msch/miniconda3/lib/python3.6/site-packages (from -r /braintree/home/msch/brain-score_vision/brainscore_vision/metrics/internal_consistency/requirements.txt (line 1)) (1.3.1)\n",
      "Requirement already satisfied: numpy>=1.13.3 in /braintree/home/msch/miniconda3/lib/python3.6/site-packages (from scipy->-r /braintree/home/msch/brain-score_vision/brainscore_vision/metrics/internal_consistency/requirements.txt (line 1)) (1.19.2)\n"
     ]
    },
    {
     "name": "stderr",
     "output_type": "stream",
     "text": [
      "cross-validation: 100%|██████████| 10/10 [04:35<00:00, 27.52s/it]\n"
     ]
    },
    {
     "name": "stdout",
     "output_type": "stream",
     "text": [
      "<xarray.Score ()>\n",
      "array(0.04261842)\n",
      "Attributes:\n",
      "    error:                 <xarray.Score ()>\\narray(0.01319437)\n",
      "    raw:                   <xarray.Score ()>\\narray(0.18182658)\\nAttributes:\\...\n",
      "    ceiling:               <xarray.DataArray ()>\\narray(0.88076227)\\nAttribut...\n",
      "    model_identifier:      pixels\n",
      "    benchmark_identifier:  FreemanZiemba2013public.V1-pls\n",
      "    comment:               layers: {'V1': 'pixels'}\n"
     ]
    }
   ],
   "source": [
    "from brainscore_vision import score\n",
    "\n",
    "model_score = score(model_identifier='pixels', benchmark_identifier='FreemanZiemba2013public.V1-pls')\n",
    "print(model_score)"
   ],
   "metadata": {
    "collapsed": false,
    "ExecuteTime": {
     "end_time": "2024-01-02T15:10:21.856570100Z",
     "start_time": "2024-01-02T15:05:34.504027200Z"
    }
   }
  },
  {
   "cell_type": "markdown",
   "source": [
    "Note that dependencies for the plugins (data, metrics, benchmarks, models) are automatically installed.\n",
    "\n",
    "We can also look at more detailed information, e.g. the per-split and per-neural-site predictivity. Note that `model_score.raw` is the unceiled score, and `model_score.raw.raw` are then the non-aggregated scores over splits and neuroids."
   ],
   "metadata": {
    "collapsed": false
   }
  },
  {
   "cell_type": "code",
   "execution_count": 3,
   "outputs": [
    {
     "name": "stdout",
     "output_type": "stream",
     "text": [
      "<xarray.Score (split: 10, neuroid: 102)>\n",
      "array([[-0.25345534,  0.01303586,  0.30828754, ...,  0.0223306 ,\n",
      "         0.30102909,  0.4920528 ],\n",
      "       [-0.05482497,  0.11002886,  0.14841954, ...,  0.55572781,\n",
      "        -0.04430274, -0.1642436 ],\n",
      "       [-0.06318995,  0.42114568,  0.45946783, ...,  0.18981179,\n",
      "         0.18145958,  0.33394005],\n",
      "       ...,\n",
      "       [-0.19257993,  0.23620396,  0.08730516, ...,  0.64914574,\n",
      "        -0.07092989,  0.09267104],\n",
      "       [-0.57049518, -0.01451499,  0.22357373, ..., -0.26036976,\n",
      "        -0.15267769,  0.05370434],\n",
      "       [ 0.11202058,  0.29133752,  0.39093855, ...,  0.5619918 ,\n",
      "         0.09093059,  0.51135041]])\n",
      "Coordinates:\n",
      "  * split       (split) int64 0 1 2 3 4 5 6 7 8 9\n",
      "  * neuroid     (neuroid) MultiIndex\n",
      "  - neuroid_id  (neuroid) int64 1 2 3 4 5 6 7 8 9 ... 95 96 97 98 99 100 101 102\n",
      "  - region      (neuroid) object 'V1' 'V1' 'V1' 'V1' ... 'V1' 'V1' 'V1' 'V1'\n"
     ]
    }
   ],
   "source": [
    "print(model_score.raw.raw)"
   ],
   "metadata": {
    "collapsed": false,
    "ExecuteTime": {
     "end_time": "2024-01-02T15:10:21.859569100Z",
     "start_time": "2024-01-02T15:10:21.848574800Z"
    }
   }
  }
 ],
 "metadata": {
  "kernelspec": {
   "display_name": "Python 3",
   "language": "python",
   "name": "python3"
  },
  "language_info": {
   "codemirror_mode": {
    "name": "ipython",
    "version": 2
   },
   "file_extension": ".py",
   "mimetype": "text/x-python",
   "name": "python",
   "nbconvert_exporter": "python",
   "pygments_lexer": "ipython2",
   "version": "2.7.6"
  }
 },
 "nbformat": 4,
 "nbformat_minor": 0
}
