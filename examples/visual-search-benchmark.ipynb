{
 "cells": [
  {
   "cell_type": "code",
   "execution_count": 1,
   "metadata": {},
   "outputs": [],
   "source": [
    "import warnings\n",
    "warnings.simplefilter(\"ignore\")\n",
    "\n",
    "try:\n",
    "    from tensorflow.python.util import module_wrapper as deprecation\n",
    "except ImportError:\n",
    "    from tensorflow.python.util import deprecation_wrapper as deprecation\n",
    "deprecation._PER_MODULE_WARNING_LIMIT = 0"
   ]
  },
  {
   "cell_type": "code",
   "execution_count": 2,
   "metadata": {},
   "outputs": [
    {
     "name": "stdout",
     "output_type": "stream",
     "text": [
      "WARNING:tensorflow:\n",
      "The TensorFlow contrib module will not be included in TensorFlow 2.0.\n",
      "For more information, please see:\n",
      "  * https://github.com/tensorflow/community/blob/master/rfcs/20180907-contrib-sunset.md\n",
      "  * https://github.com/tensorflow/addons\n",
      "  * https://github.com/tensorflow/io (for I/O related ops)\n",
      "If you depend on functionality not listed there, please file an issue.\n",
      "\n"
     ]
    }
   ],
   "source": [
    "from candidate_models.model_commitments import brain_translated_pool\n",
    "from brainscore.benchmarks import benchmark_pool\n",
    "import numpy as np\n",
    "import matplotlib.pyplot as plt\n",
    "import brainscore"
   ]
  },
  {
   "cell_type": "code",
   "execution_count": 3,
   "metadata": {},
   "outputs": [
    {
     "name": "stdout",
     "output_type": "stream",
     "text": [
      "## Starting visual search task...\n"
     ]
    },
    {
     "name": "stderr",
     "output_type": "stream",
     "text": [
      "Using TensorFlow backend.\n",
      "activations: 100%|██████████| 320/320 [00:03<00:00, 100.82it/s]\n",
      "layer packaging: 100%|██████████| 1/1 [00:00<00:00, 48.96it/s]\n",
      "activations: 100%|██████████| 320/320 [01:26<00:00,  3.68it/s]\n",
      "layer packaging: 100%|██████████| 1/1 [00:00<00:00,  2.13it/s]\n",
      "visual search stimuli: 100%|██████████| 300/300 [00:53<00:00,  5.65it/s]\n",
      "comparing with human data:   0%|          | 0/15 [00:00<?, ?it/s]"
     ]
    },
    {
     "name": "stdout",
     "output_type": "stream",
     "text": [
      "## Search task done...\n",
      "\n",
      "## Calculating score...\n"
     ]
    },
    {
     "name": "stderr",
     "output_type": "stream",
     "text": [
      "comparing with human data: 100%|██████████| 15/15 [00:10<00:00,  1.45it/s]"
     ]
    },
    {
     "name": "stdout",
     "output_type": "stream",
     "text": [
      "## Score calculated...\n",
      "\n",
      "<xarray.Score (aggregation: 2)>\n",
      "array([0.923438, 0.005427])\n",
      "Coordinates:\n",
      "  * aggregation  (aggregation) <U6 'center' 'error'\n",
      "Attributes:\n",
      "    raw:      <xarray.Score (aggregation: 2)>\\narray([0.407328, 0.005427])\\nC...\n",
      "    ceiling:  <xarray.Score (aggregation: 2)>\\narray([0.4411,    nan])\\nCoord...\n"
     ]
    },
    {
     "name": "stderr",
     "output_type": "stream",
     "text": [
      "\n"
     ]
    }
   ],
   "source": [
    "identifier = 'vgg-16'\n",
    "model = brain_translated_pool[identifier]\n",
    "benchmark = benchmark_pool['klab.Zhang2018-ObjArray']\n",
    "score = benchmark(model)\n",
    "print(score)"
   ]
  },
  {
   "cell_type": "code",
   "execution_count": null,
   "metadata": {},
   "outputs": [],
   "source": []
  }
 ],
 "metadata": {
  "kernelspec": {
   "display_name": "Python 3",
   "language": "python",
   "name": "python3"
  },
  "language_info": {
   "codemirror_mode": {
    "name": "ipython",
    "version": 3
   },
   "file_extension": ".py",
   "mimetype": "text/x-python",
   "name": "python",
   "nbconvert_exporter": "python",
   "pygments_lexer": "ipython3",
   "version": "3.7.6"
  }
 },
 "nbformat": 4,
 "nbformat_minor": 2
}
