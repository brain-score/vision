{
 "cells": [
  {
   "cell_type": "markdown",
   "metadata": {},
   "source": [
    "## MERGED ASSEMBLY CREATION"
   ]
  },
  {
   "cell_type": "code",
   "execution_count": null,
   "metadata": {},
   "outputs": [],
   "source": [
    "# import libraries\n",
    "\n",
    "# general\n",
    "import numpy as np\n",
    "import pandas as pd\n",
    "import xarray as xr\n",
    "import tqdm as tqdm\n",
    "\n",
    "\n",
    "# brain-score specific\n",
    "import brainscore\n",
    "import brainio \n",
    "from brainscore.benchmarks._neural_common import average_repetition\n",
    "from brainio.assemblies import NeuroidAssembly\n",
    "from brainio.packaging import write_netcdf # use this function to save it locally\n",
    "from brainio.packaging import package_data_assembly # use this function to push to S3\n",
    "from brainio.stimuli import StimulusSet\n",
    "from brainio.packaging import package_stimulus_set"
   ]
  },
  {
   "cell_type": "markdown",
   "metadata": {},
   "source": [
    "## 1. Load Oleo and Pico data"
   ]
  },
  {
   "cell_type": "code",
   "execution_count": 2,
   "metadata": {},
   "outputs": [],
   "source": [
    "imgs_dir_path = '../images'\n",
    "dependencies_dir_path = '../dependencies'"
   ]
  },
  {
   "cell_type": "markdown",
   "metadata": {},
   "source": [
    "### 1.1 Load Oleo's DATA"
   ]
  },
  {
   "cell_type": "code",
   "execution_count": 3,
   "metadata": {},
   "outputs": [
    {
     "name": "stdout",
     "output_type": "stream",
     "text": [
      "Loading catalog from entrypoints\n",
      "Loading lookup from /home/bocini/miniconda3/envs/brainscore/lib/python3.6/site-packages/brainscore/lookup.csv\n"
     ]
    },
    {
     "name": "stderr",
     "output_type": "stream",
     "text": [
      "/home/bocini/miniconda3/envs/brainscore/lib/python3.6/site-packages/boto3/compat.py:88: PythonDeprecationWarning: Boto3 will no longer support Python 3.6 starting May 30, 2022. To continue receiving service updates, bug fixes, and security updates please upgrade to Python 3.7 or later. More information can be found here: https://aws.amazon.com/blogs/developer/python-support-policy-updates-for-aws-sdks-and-tools/\n",
      "  warnings.warn(warning, PythonDeprecationWarning)\n",
      "brainio.dicarlo/assy_dicarlo_Sanghavi2021_domain_transfer.nc: 100%|██████████| 1.29G/1.29G [00:10<00:00, 118MB/s] \n",
      "brainio.dicarlo/image_dicarlo_domain_transfer.csv: 100%|██████████| 517k/517k [00:00<00:00, 661kB/s]\n",
      "brainio.dicarlo/image_dicarlo_domain_transfer.zip: 100%|██████████| 198M/198M [00:13<00:00, 15.2MB/s] \n"
     ]
    }
   ],
   "source": [
    "# oleo is already on S3\n",
    "assembly_oleo = brainscore.get_assembly('dicarlo.Sanghavi2021.domain_transfer')"
   ]
  },
  {
   "cell_type": "markdown",
   "metadata": {},
   "source": [
    "### 1.2 Load Pico's DATA"
   ]
  },
  {
   "cell_type": "code",
   "execution_count": 4,
   "metadata": {},
   "outputs": [],
   "source": [
    "# pico is not on S3 yet, we load it from local \n",
    "file_path = dependencies_dir_path + '/data_pico/assy_dicarlo_pico_domain_transfer.nc'\n",
    "assembly_pico = brainio.assemblies.DataAssembly.from_files(file_path)"
   ]
  },
  {
   "cell_type": "markdown",
   "metadata": {},
   "source": [
    "### 1.3 Common Shared Stimulus Set (with background ids)\n"
   ]
  },
  {
   "cell_type": "code",
   "execution_count": null,
   "metadata": {},
   "outputs": [],
   "source": [
    "!python create_stimulus_set_with_background-id.py"
   ]
  },
  {
   "cell_type": "code",
   "execution_count": 6,
   "metadata": {},
   "outputs": [],
   "source": [
    "# stimulus set with background id\n",
    "csv_path = './merged_stimulus_set.csv'\n",
    "merged_stimulus_set = pd.read_csv(csv_path)"
   ]
  },
  {
   "cell_type": "markdown",
   "metadata": {},
   "source": [
    "## MERGING DATA ASSEMBLIES"
   ]
  },
  {
   "cell_type": "code",
   "execution_count": 11,
   "metadata": {},
   "outputs": [
    {
     "name": "stdout",
     "output_type": "stream",
     "text": [
      "Is the order of presented stimuli the same for both the assemblies?  True\n"
     ]
    }
   ],
   "source": [
    "# First of all, we need to make sure that the order of presentation of the images is the same. To do so we average out the repetitions and then compare them:\n",
    "oleo_avg = average_repetition(assembly_oleo)\n",
    "pico_avg = average_repetition(assembly_pico)\n",
    "print('Is the order of presented stimuli the same for both the assemblies? ', np.all(oleo_avg.stimulus_id.values == pico_avg.stimulus_id.values))"
   ]
  },
  {
   "cell_type": "code",
   "execution_count": 18,
   "metadata": {},
   "outputs": [
    {
     "name": "stdout",
     "output_type": "stream",
     "text": [
      "Each number is repeated the same number of times.\n"
     ]
    }
   ],
   "source": [
    "# now check if whithin oleo assembly images have always the same number of repetitions\n",
    "from collections import Counter\n",
    "\n",
    "repetition_values = assembly_oleo.repetition.values  # Replace with your actual array\n",
    "counts = Counter(repetition_values)\n",
    "first_count = counts[repetition_values[0]]\n",
    "are_all_same = all(count == first_count for count in counts.values())\n",
    "if are_all_same:\n",
    "    print(\"Each number is repeated the same number of times.\")\n",
    "else:\n",
    "    print(\"Numbers are not repeated the same number of times.\")"
   ]
  },
  {
   "cell_type": "code",
   "execution_count": 19,
   "metadata": {},
   "outputs": [
    {
     "name": "stdout",
     "output_type": "stream",
     "text": [
      "Each number is repeated the same number of times.\n"
     ]
    }
   ],
   "source": [
    "repetition_values = assembly_pico.repetition.values  # Replace with your actual array\n",
    "counts = Counter(repetition_values)\n",
    "first_count = counts[repetition_values[0]]\n",
    "are_all_same = all(count == first_count for count in counts.values())\n",
    "if are_all_same:\n",
    "    print(\"Each number is repeated the same number of times.\")\n",
    "else:\n",
    "    print(\"Numbers are not repeated the same number of times.\")"
   ]
  },
  {
   "cell_type": "code",
   "execution_count": 24,
   "metadata": {},
   "outputs": [
    {
     "data": {
      "text/html": [
       "<div>\n",
       "<style scoped>\n",
       "    .dataframe tbody tr th:only-of-type {\n",
       "        vertical-align: middle;\n",
       "    }\n",
       "\n",
       "    .dataframe tbody tr th {\n",
       "        vertical-align: top;\n",
       "    }\n",
       "\n",
       "    .dataframe thead th {\n",
       "        text-align: right;\n",
       "    }\n",
       "</style>\n",
       "<table border=\"1\" class=\"dataframe\">\n",
       "  <thead>\n",
       "    <tr style=\"text-align: right;\">\n",
       "      <th></th>\n",
       "      <th>filepath</th>\n",
       "      <th>object_label</th>\n",
       "      <th>image_file_name</th>\n",
       "      <th>object_style</th>\n",
       "      <th>stimulus_source</th>\n",
       "      <th>filename</th>\n",
       "      <th>image_id</th>\n",
       "      <th>stimulus_id</th>\n",
       "      <th>background_id</th>\n",
       "    </tr>\n",
       "  </thead>\n",
       "  <tbody>\n",
       "    <tr>\n",
       "      <th>0</th>\n",
       "      <td>from_ko/04-art-4/im60.png</td>\n",
       "      <td>apple</td>\n",
       "      <td>im0.png</td>\n",
       "      <td>cartoon</td>\n",
       "      <td>Art</td>\n",
       "      <td>b0f59906243e042456b315475f987291aa665774.png</td>\n",
       "      <td>b0f59906243e042456b315475f987291aa665774</td>\n",
       "      <td>b0f59906243e042456b315475f987291aa665774</td>\n",
       "      <td>0</td>\n",
       "    </tr>\n",
       "    <tr>\n",
       "      <th>1</th>\n",
       "      <td>from_ko/04-art-0/im61.png</td>\n",
       "      <td>apple</td>\n",
       "      <td>im1.png</td>\n",
       "      <td>cartoon</td>\n",
       "      <td>Art</td>\n",
       "      <td>7ab65cd6d6b0b8399d070a541a0234c8836e1e8b.png</td>\n",
       "      <td>7ab65cd6d6b0b8399d070a541a0234c8836e1e8b</td>\n",
       "      <td>7ab65cd6d6b0b8399d070a541a0234c8836e1e8b</td>\n",
       "      <td>0</td>\n",
       "    </tr>\n",
       "    <tr>\n",
       "      <th>2</th>\n",
       "      <td>from_ko/04-art-3/im50.png</td>\n",
       "      <td>apple</td>\n",
       "      <td>im2.png</td>\n",
       "      <td>cartoon</td>\n",
       "      <td>Art</td>\n",
       "      <td>9ac7accbe9bdb749efd9604c16cfe52015c976d6.png</td>\n",
       "      <td>9ac7accbe9bdb749efd9604c16cfe52015c976d6</td>\n",
       "      <td>9ac7accbe9bdb749efd9604c16cfe52015c976d6</td>\n",
       "      <td>0</td>\n",
       "    </tr>\n",
       "    <tr>\n",
       "      <th>3</th>\n",
       "      <td>from_ko/04-art-4/im61.png</td>\n",
       "      <td>apple</td>\n",
       "      <td>im3.png</td>\n",
       "      <td>cartoon</td>\n",
       "      <td>Art</td>\n",
       "      <td>247ceb4c3e17f3bb6b661abf2b9497004116efb3.png</td>\n",
       "      <td>247ceb4c3e17f3bb6b661abf2b9497004116efb3</td>\n",
       "      <td>247ceb4c3e17f3bb6b661abf2b9497004116efb3</td>\n",
       "      <td>0</td>\n",
       "    </tr>\n",
       "    <tr>\n",
       "      <th>4</th>\n",
       "      <td>from_ko/04-art-0/im62.png</td>\n",
       "      <td>apple</td>\n",
       "      <td>im4.png</td>\n",
       "      <td>cartoon</td>\n",
       "      <td>Art</td>\n",
       "      <td>e7e9e6ad6c6935818e1910f1f45bc8a2be606f24.png</td>\n",
       "      <td>e7e9e6ad6c6935818e1910f1f45bc8a2be606f24</td>\n",
       "      <td>e7e9e6ad6c6935818e1910f1f45bc8a2be606f24</td>\n",
       "      <td>0</td>\n",
       "    </tr>\n",
       "    <tr>\n",
       "      <th>...</th>\n",
       "      <td>...</td>\n",
       "      <td>...</td>\n",
       "      <td>...</td>\n",
       "      <td>...</td>\n",
       "      <td>...</td>\n",
       "      <td>...</td>\n",
       "      <td>...</td>\n",
       "      <td>...</td>\n",
       "      <td>...</td>\n",
       "    </tr>\n",
       "    <tr>\n",
       "      <th>3133</th>\n",
       "      <td>from_ko/03-sils-0/im107.png</td>\n",
       "      <td>zebra</td>\n",
       "      <td>im3133.png</td>\n",
       "      <td>skeleton</td>\n",
       "      <td>Silhouette</td>\n",
       "      <td>3925265837668ccf0655b9b669c6640a1ab357fe.png</td>\n",
       "      <td>3925265837668ccf0655b9b669c6640a1ab357fe</td>\n",
       "      <td>3925265837668ccf0655b9b669c6640a1ab357fe</td>\n",
       "      <td>116</td>\n",
       "    </tr>\n",
       "    <tr>\n",
       "      <th>3134</th>\n",
       "      <td>from_ko/03-sils-1/im106.png</td>\n",
       "      <td>zebra</td>\n",
       "      <td>im3134.png</td>\n",
       "      <td>skeleton</td>\n",
       "      <td>Silhouette</td>\n",
       "      <td>1c4b44fa576b23a2fc37fa49972343617efb3f7c.png</td>\n",
       "      <td>1c4b44fa576b23a2fc37fa49972343617efb3f7c</td>\n",
       "      <td>1c4b44fa576b23a2fc37fa49972343617efb3f7c</td>\n",
       "      <td>117</td>\n",
       "    </tr>\n",
       "    <tr>\n",
       "      <th>3135</th>\n",
       "      <td>from_ko/03-sils-2/im107.png</td>\n",
       "      <td>zebra</td>\n",
       "      <td>im3135.png</td>\n",
       "      <td>skeleton</td>\n",
       "      <td>Silhouette</td>\n",
       "      <td>877addd4d9ff7004abd7689b257e0fb74a0fd300.png</td>\n",
       "      <td>877addd4d9ff7004abd7689b257e0fb74a0fd300</td>\n",
       "      <td>877addd4d9ff7004abd7689b257e0fb74a0fd300</td>\n",
       "      <td>120</td>\n",
       "    </tr>\n",
       "    <tr>\n",
       "      <th>3136</th>\n",
       "      <td>from_ko/03-sils-4/im105.png</td>\n",
       "      <td>zebra</td>\n",
       "      <td>im3136.png</td>\n",
       "      <td>skeleton</td>\n",
       "      <td>Silhouette</td>\n",
       "      <td>8ca46d5b61975cc6ba6eaf9a542867ac22672cd5.png</td>\n",
       "      <td>8ca46d5b61975cc6ba6eaf9a542867ac22672cd5</td>\n",
       "      <td>8ca46d5b61975cc6ba6eaf9a542867ac22672cd5</td>\n",
       "      <td>112</td>\n",
       "    </tr>\n",
       "    <tr>\n",
       "      <th>3137</th>\n",
       "      <td>from_ko/03-sils-4/im107.png</td>\n",
       "      <td>zebra</td>\n",
       "      <td>im3137.png</td>\n",
       "      <td>skeleton</td>\n",
       "      <td>Silhouette</td>\n",
       "      <td>5e73ee2535808cfe18b6006d3d251330c818c81c.png</td>\n",
       "      <td>5e73ee2535808cfe18b6006d3d251330c818c81c</td>\n",
       "      <td>5e73ee2535808cfe18b6006d3d251330c818c81c</td>\n",
       "      <td>114</td>\n",
       "    </tr>\n",
       "  </tbody>\n",
       "</table>\n",
       "<p>3138 rows × 9 columns</p>\n",
       "</div>"
      ],
      "text/plain": [
       "                         filepath object_label image_file_name object_style  \\\n",
       "0       from_ko/04-art-4/im60.png        apple         im0.png      cartoon   \n",
       "1       from_ko/04-art-0/im61.png        apple         im1.png      cartoon   \n",
       "2       from_ko/04-art-3/im50.png        apple         im2.png      cartoon   \n",
       "3       from_ko/04-art-4/im61.png        apple         im3.png      cartoon   \n",
       "4       from_ko/04-art-0/im62.png        apple         im4.png      cartoon   \n",
       "...                           ...          ...             ...          ...   \n",
       "3133  from_ko/03-sils-0/im107.png        zebra      im3133.png     skeleton   \n",
       "3134  from_ko/03-sils-1/im106.png        zebra      im3134.png     skeleton   \n",
       "3135  from_ko/03-sils-2/im107.png        zebra      im3135.png     skeleton   \n",
       "3136  from_ko/03-sils-4/im105.png        zebra      im3136.png     skeleton   \n",
       "3137  from_ko/03-sils-4/im107.png        zebra      im3137.png     skeleton   \n",
       "\n",
       "     stimulus_source                                      filename  \\\n",
       "0                Art  b0f59906243e042456b315475f987291aa665774.png   \n",
       "1                Art  7ab65cd6d6b0b8399d070a541a0234c8836e1e8b.png   \n",
       "2                Art  9ac7accbe9bdb749efd9604c16cfe52015c976d6.png   \n",
       "3                Art  247ceb4c3e17f3bb6b661abf2b9497004116efb3.png   \n",
       "4                Art  e7e9e6ad6c6935818e1910f1f45bc8a2be606f24.png   \n",
       "...              ...                                           ...   \n",
       "3133      Silhouette  3925265837668ccf0655b9b669c6640a1ab357fe.png   \n",
       "3134      Silhouette  1c4b44fa576b23a2fc37fa49972343617efb3f7c.png   \n",
       "3135      Silhouette  877addd4d9ff7004abd7689b257e0fb74a0fd300.png   \n",
       "3136      Silhouette  8ca46d5b61975cc6ba6eaf9a542867ac22672cd5.png   \n",
       "3137      Silhouette  5e73ee2535808cfe18b6006d3d251330c818c81c.png   \n",
       "\n",
       "                                      image_id  \\\n",
       "0     b0f59906243e042456b315475f987291aa665774   \n",
       "1     7ab65cd6d6b0b8399d070a541a0234c8836e1e8b   \n",
       "2     9ac7accbe9bdb749efd9604c16cfe52015c976d6   \n",
       "3     247ceb4c3e17f3bb6b661abf2b9497004116efb3   \n",
       "4     e7e9e6ad6c6935818e1910f1f45bc8a2be606f24   \n",
       "...                                        ...   \n",
       "3133  3925265837668ccf0655b9b669c6640a1ab357fe   \n",
       "3134  1c4b44fa576b23a2fc37fa49972343617efb3f7c   \n",
       "3135  877addd4d9ff7004abd7689b257e0fb74a0fd300   \n",
       "3136  8ca46d5b61975cc6ba6eaf9a542867ac22672cd5   \n",
       "3137  5e73ee2535808cfe18b6006d3d251330c818c81c   \n",
       "\n",
       "                                   stimulus_id  background_id  \n",
       "0     b0f59906243e042456b315475f987291aa665774              0  \n",
       "1     7ab65cd6d6b0b8399d070a541a0234c8836e1e8b              0  \n",
       "2     9ac7accbe9bdb749efd9604c16cfe52015c976d6              0  \n",
       "3     247ceb4c3e17f3bb6b661abf2b9497004116efb3              0  \n",
       "4     e7e9e6ad6c6935818e1910f1f45bc8a2be606f24              0  \n",
       "...                                        ...            ...  \n",
       "3133  3925265837668ccf0655b9b669c6640a1ab357fe            116  \n",
       "3134  1c4b44fa576b23a2fc37fa49972343617efb3f7c            117  \n",
       "3135  877addd4d9ff7004abd7689b257e0fb74a0fd300            120  \n",
       "3136  8ca46d5b61975cc6ba6eaf9a542867ac22672cd5            112  \n",
       "3137  5e73ee2535808cfe18b6006d3d251330c818c81c            114  \n",
       "\n",
       "[3138 rows x 9 columns]"
      ]
     },
     "execution_count": 24,
     "metadata": {},
     "output_type": "execute_result"
    }
   ],
   "source": [
    "merged_stimulus_set"
   ]
  },
  {
   "cell_type": "code",
   "execution_count": 7,
   "metadata": {},
   "outputs": [],
   "source": [
    "# need to add background id to the presentation dimension of oleo assembly\n",
    "assembly_oleo['background_id'] = ('presentation', \n",
    "                                  np.array([merged_stimulus_set.background_id[merged_stimulus_set.stimulus_id == stim_id].values[0] \n",
    "                                        for stim_id in assembly_oleo['stimulus_id'].values]))"
   ]
  },
  {
   "cell_type": "code",
   "execution_count": 8,
   "metadata": {},
   "outputs": [],
   "source": [
    "# small renaming and reordering of presentation and neuroid for assembly pico, to make it compatible with oleo\n",
    "# we also add the backgroud_id to the presentation\n",
    "data = assembly_pico.values\n",
    "coords = {\n",
    "    # selection of presentaiton\n",
    "    'object_label': ('presentation', assembly_pico['object_label'].values),\n",
    "    'object_style': ('presentation', assembly_pico['object_style'].values),\n",
    "    'filepath': ('presentation', assembly_pico['filepath'].values),\n",
    "    'stimulus_source': ('presentation', assembly_pico['identifier'].values),\n",
    "    'image_file_name': ('presentation', assembly_pico['image_file_name'].values),\n",
    "    'image_current_local_file_path': ('presentation', assembly_pico['image_current_local_file_path'].values),\n",
    "    'image_id': ('presentation', assembly_pico['stimulus_id'].values),\n",
    "    'repetition': ('presentation', assembly_pico['repetition'].values),\n",
    "    'stimulus_id': ('presentation', assembly_pico['stimulus_id'].values),\n",
    "    'filename': ('presentation', [assembly_pico['stimulus_id'].values[i] + '.png' for i in range(len(assembly_pico['stimulus_id'].values))]),\n",
    "    'background_id' : ('presentation',\n",
    "                    np.array([merged_stimulus_set.background_id[merged_stimulus_set.stimulus_id == stim_id].values[0] \n",
    "                              for stim_id in assembly_pico['stimulus_id'].values])),\n",
    "    # selection of neuroid\n",
    "    'col' : ('neuroid', assembly_pico['col'].values),\n",
    "    'row' : ('neuroid', assembly_pico['row'].values),\n",
    "    'bank' : ('neuroid', assembly_pico['bank'].values),\n",
    "    'elec' : ('neuroid', assembly_pico['elec'].values),\n",
    "    'label' : ('neuroid', assembly_pico['label'].values),\n",
    "    'arr' : ('neuroid', assembly_pico['arr'].values),\n",
    "    'hemisphere' : ('neuroid', assembly_pico['hemisphere'].values),\n",
    "    'subregion' : ('neuroid', assembly_pico['subregion'].values),\n",
    "    'region' : ('neuroid', assembly_pico['region'].values),\n",
    "    'animal' : ('neuroid', assembly_pico['animal'].values),\n",
    "    'neuroid_id' : ('neuroid', assembly_pico['neuroid_id'].values),\n",
    "    # entire time_bin\n",
    "    'time_bin' : assembly_pico.time_bin\n",
    "}\n",
    "assembly_pico = xr.DataArray(data, dims=['presentation', 'neuroid', 'time_bin'],\n",
    "                        coords = coords)\n",
    "\n",
    "assembly_pico = NeuroidAssembly(assembly_pico)"
   ]
  },
  {
   "cell_type": "code",
   "execution_count": 9,
   "metadata": {},
   "outputs": [
    {
     "name": "stderr",
     "output_type": "stream",
     "text": [
      "merging: 100%|██████████| 109830/109830 [17:48<00:00, 102.82it/s]\n"
     ]
    }
   ],
   "source": [
    "# some other operations for compatibility: we pad nans in Pico presentation coordinate to make sure that the number of repetitions is the same.:\n",
    "new_data = np.empty((197694, 75, 7))\n",
    "new_data[:] = np.nan\n",
    "\n",
    "new_assembly_pico = xr.DataArray(new_data, dims=['presentation', 'neuroid', 'time_bin'],\n",
    "                        coords = {\n",
    "                            'presentation': assembly_oleo.presentation,\n",
    "                            'neuroid' : assembly_pico.neuroid,\n",
    "                            'time_bin' : assembly_pico.time_bin\n",
    "                            })\n",
    "\n",
    "for i in tqdm.tqdm(range(len(assembly_pico)), desc='merging'): # \n",
    "\n",
    "    r = i//35*28 +i\n",
    "    assert assembly_pico.stimulus_id[i] == new_assembly_pico.stimulus_id[r]\n",
    "    assert assembly_pico.repetition[i] == new_assembly_pico.repetition[r]\n",
    "    new_assembly_pico[r] = assembly_pico[i]"
   ]
  },
  {
   "cell_type": "code",
   "execution_count": 10,
   "metadata": {},
   "outputs": [],
   "source": [
    "# now we can finally merge the data:\n",
    "merged_data = np.concatenate((assembly_oleo.values, new_assembly_pico.values), axis=1)\n",
    "\n",
    "coords = {\n",
    "    # entire presentation\n",
    "    'presentation' : new_assembly_pico.presentation,\n",
    "    # selection of neuroid\n",
    "    'col' : ('neuroid', list(assembly_oleo['col'].values) + list(assembly_pico['col'].values)),\n",
    "    'row' : ('neuroid', list(assembly_oleo['row'].values) + list(assembly_pico['row'].values)),\n",
    "    'bank' : ('neuroid', list(assembly_oleo['bank'].values) + list(assembly_pico['bank'].values)),\n",
    "    'elec' : ('neuroid', list(assembly_oleo['elec'].values)+ list(assembly_pico['elec'].values)),\n",
    "    'label' : ('neuroid', list(assembly_oleo['label'].values) + list(assembly_pico['label'].values)),\n",
    "    'arr' : ('neuroid', list(assembly_oleo['arr'].values) + list(assembly_pico['arr'].values)),\n",
    "    'hemisphere' : ('neuroid', list(assembly_oleo['hemisphere'].values) + list(assembly_pico['hemisphere'].values)),\n",
    "    'subregion' : ('neuroid', list(assembly_oleo['subregion'].values) + list(assembly_pico['subregion'].values)),\n",
    "    'region' : ('neuroid', list(assembly_oleo['region'].values) + list(assembly_pico['region'].values)),\n",
    "    'animal' : ('neuroid', list(assembly_oleo['animal'].values) + list(assembly_pico['animal'].values)),\n",
    "    'electrode_id' : ('neuroid', list(assembly_oleo['neuroid_id'].values )+ list(assembly_pico['neuroid_id'].values)),\n",
    "    'neuroid_id' : ('neuroid', list(assembly_oleo['animal'].values + '_' + assembly_oleo['neuroid_id'].values) + list(assembly_pico['animal'].values + '_' + assembly_pico['neuroid_id'].values)),\n",
    "    \n",
    "    # entire time_bin\n",
    "    'time_bin' : assembly_oleo.time_bin\n",
    "}\n",
    "\n",
    "merged_assembly = xr.DataArray(merged_data,dims=['presentation', 'neuroid', 'time_bin'],\n",
    "                            coords=coords)\n",
    "   "
   ]
  },
  {
   "cell_type": "code",
   "execution_count": 12,
   "metadata": {},
   "outputs": [],
   "source": [
    "merged_assembly = NeuroidAssembly(merged_assembly)\n",
    "merged_assembly = merged_assembly.transpose('presentation', 'neuroid', 'time_bin')\n",
    "\n",
    "merged_assembly.attrs = assembly_oleo.attrs\n",
    "\n",
    "merged_assembly.attrs['identifier']='Igustibagus2024'\n",
    "merged_assembly.attrs['stimulus_set']=merged_stimulus_set\n",
    "\n",
    "merged_assembly.name = 'Igustibagus2024'"
   ]
  },
  {
   "cell_type": "code",
   "execution_count": null,
   "metadata": {},
   "outputs": [],
   "source": [
    "# package stimuli\n",
    "stimuli = StimulusSet(merged_stimulus_set)\n",
    "stimuli.stimulus_paths = {row['stimulus_id']: imgs_dir_path + '/' +  row['filename'] for _, row in stimuli.iterrows()}\n",
    "\n",
    "stimuli.drop('filename', axis=1, inplace=True)\n",
    "\n",
    "stimuli.name = 'Igustibagus2024' \n",
    "\n",
    "assert len(stimuli) == 3138 \n",
    "\n",
    "package_stimulus_set(catalog_name='brainio_brainscore', proto_stimulus_set=stimuli, stimulus_set_identifier=stimuli.name,\n",
    "                     bucket_name=\"brainio-brainscore\") # upload to S3"
   ]
  },
  {
   "cell_type": "code",
   "execution_count": null,
   "metadata": {},
   "outputs": [],
   "source": [
    "# upload to S3\n",
    "package_data_assembly('brainio_brainscore', merged_assembly, assembly_identifier=merged_assembly.name,\n",
    "        stimulus_set_identifier=stimuli.name, assembly_class_name=\"NeuronRecordingAssembly\", \n",
    "        bucket_name=\"brainio-brainscore\")"
   ]
  }
 ],
 "metadata": {
  "kernelspec": {
   "display_name": "brainscore",
   "language": "python",
   "name": "python3"
  },
  "language_info": {
   "codemirror_mode": {
    "name": "ipython",
    "version": 3
   },
   "file_extension": ".py",
   "mimetype": "text/x-python",
   "name": "python",
   "nbconvert_exporter": "python",
   "pygments_lexer": "ipython3",
   "version": "3.6.13"
  }
 },
 "nbformat": 4,
 "nbformat_minor": 2
}
