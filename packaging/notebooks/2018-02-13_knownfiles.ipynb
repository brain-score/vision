{
 "cells": [
  {
   "cell_type": "code",
   "execution_count": 2,
   "metadata": {},
   "outputs": [],
   "source": [
    "import os\n",
    "import hashlib"
   ]
  },
  {
   "cell_type": "code",
   "execution_count": 5,
   "metadata": {},
   "outputs": [],
   "source": [
    "import mkgu"
   ]
  },
  {
   "cell_type": "code",
   "execution_count": 1,
   "metadata": {},
   "outputs": [
    {
     "ename": "ModuleNotFoundError",
     "evalue": "No module named 'dataset'",
     "output_type": "error",
     "traceback": [
      "\u001b[0;31m---------------------------------------------------------------------------\u001b[0m",
      "\u001b[0;31mModuleNotFoundError\u001b[0m                       Traceback (most recent call last)",
      "\u001b[0;32m<ipython-input-1-0de0e80e35c4>\u001b[0m in \u001b[0;36m<module>\u001b[0;34m()\u001b[0m\n\u001b[1;32m      1\u001b[0m \u001b[0;32mimport\u001b[0m \u001b[0mos\u001b[0m\u001b[0;34m\u001b[0m\u001b[0m\n\u001b[1;32m      2\u001b[0m \u001b[0;32mimport\u001b[0m \u001b[0mhashlib\u001b[0m\u001b[0;34m\u001b[0m\u001b[0m\n\u001b[0;32m----> 3\u001b[0;31m \u001b[0;32mimport\u001b[0m \u001b[0mdataset\u001b[0m\u001b[0;34m\u001b[0m\u001b[0m\n\u001b[0m",
      "\u001b[0;31mModuleNotFoundError\u001b[0m: No module named 'dataset'"
     ]
    }
   ],
   "source": [
    "import dataset"
   ]
  },
  {
   "cell_type": "code",
   "execution_count": 3,
   "metadata": {},
   "outputs": [],
   "source": [
    "def hash(path, buffer_size=64*2**10):\n",
    "    sha1 = hashlib.sha1()\n",
    "    with open(path, \"rb\") as f:\n",
    "        buffer = f.read(buffer_size)\n",
    "        while len(buffer) > 0:\n",
    "            sha1.update(buffer)\n",
    "            buffer = f.read(buffer_size)\n",
    "    return sha1.hexdigest()"
   ]
  },
  {
   "cell_type": "code",
   "execution_count": 20,
   "metadata": {},
   "outputs": [],
   "source": [
    "class KnownFile(object):\n",
    "    def __init__(self, path, persister=None):\n",
    "        self.path = path\n",
    "        self.exists = os.path.exists(path)\n",
    "        if self.exists:\n",
    "            self.realpath = os.path.realpath(path)\n",
    "            self.isfile = os.path.isfile(self.realpath)\n",
    "            if self.isfile:\n",
    "                self.sha1 = hash(self.realpath)\n",
    "                if persister is not None:\n",
    "                    self.persister = persister\n",
    "                    persister.persist(self)\n",
    "                    \n",
    "    def __repr__(self):\n",
    "        return str((self.__class__.__name__, vars(self)))"
   ]
  },
  {
   "cell_type": "code",
   "execution_count": 14,
   "metadata": {},
   "outputs": [],
   "source": [
    "test_dir = \"/braintree/data2/active/common/for_jjpr\""
   ]
  },
  {
   "cell_type": "code",
   "execution_count": 15,
   "metadata": {},
   "outputs": [],
   "source": [
    "test_not_exists = \"/braintree/data2/active/common/for_jjpr/foobar\""
   ]
  },
  {
   "cell_type": "code",
   "execution_count": 16,
   "metadata": {},
   "outputs": [],
   "source": [
    "xls_files = [\n",
    "    \"/braintree/data2/active/users/darren/mindhive/dicarlolab/u/darren/mworks_array_xmls/preproc/orig_hvm/array_maps_from_blackrock/Mapping and Impedance - 1025-000936/5602-2 SN1025-000936.xls\",\n",
    "    \"/braintree/data2/active/users/darren/mindhive/dicarlolab/u/darren/mworks_array_xmls/preproc/orig_hvm/array_maps_from_blackrock/Mapping and Impedance - 1025-0547,548,549/090609B-5E.xls\",\n",
    "    \"/braintree/data2/active/users/darren/mindhive/dicarlolab/u/darren/mworks_array_xmls/preproc/orig_hvm/array_maps_from_blackrock/Mapping and Impedance - 1025-0547,548,549/090609B-5F.xls\",\n",
    "    \"/braintree/data2/active/users/darren/mindhive/dicarlolab/u/darren/mworks_array_xmls/preproc/orig_hvm/array_maps_from_blackrock/Mapping and Impedance - 1025-0547,548,549/090609B-5H.xls\",\n",
    "    \"/braintree/data2/active/users/darren/mindhive/dicarlolab/u/darren/mworks_array_xmls/preproc/orig_hvm/array_maps_from_blackrock/Mapping and Impedance - 1025-0658, 0656, 0657/2132-5-SN0656.xls\",\n",
    "    \"/braintree/data2/active/users/darren/mindhive/dicarlolab/u/darren/mworks_array_xmls/preproc/orig_hvm/array_maps_from_blackrock/Mapping and Impedance - 1025-0658, 0656, 0657/2132-8-SN0657.xls\",\n",
    "    \"/braintree/data2/active/users/darren/mindhive/dicarlolab/u/darren/mworks_array_xmls/preproc/orig_hvm/array_maps_from_blackrock/Mapping and Impedance - 1025-0658, 0656, 0657/2466-1-SN0658.xls\",\n",
    "    \"/braintree/data2/active/users/darren/mindhive/dicarlolab/u/darren/mworks_array_xmls/preproc/orig_hvm/array_maps_from_blackrock/Mapping and Impedance - 1025-552,559,649/090609B-4F.xls\",\n",
    "    \"/braintree/data2/active/users/darren/mindhive/dicarlolab/u/darren/mworks_array_xmls/preproc/orig_hvm/array_maps_from_blackrock/Mapping and Impedance - 1025-552,559,649/090609B-8E.xls\",\n",
    "    \"/braintree/data2/active/users/darren/mindhive/dicarlolab/u/darren/mworks_array_xmls/preproc/orig_hvm/array_maps_from_blackrock/Mapping and Impedance - 1025-552,559,649/2467-6_SN0649.xls\"    \n",
    "]"
   ]
  },
  {
   "cell_type": "code",
   "execution_count": 17,
   "metadata": {},
   "outputs": [],
   "source": [
    "# Tito IT A is 657 per /braintree/data1/archive/animals/Tito/mindhive/dicarlolab/data/Animals/07-01 Tito/20110628_implant_left_hemisphere/surgery_note/surgery_note.pages\n",
    "tito_it_a_xls_file = \"/braintree/data2/active/users/darren/mindhive/dicarlolab/u/darren/mworks_array_xmls/preproc/orig_hvm/array_maps_from_blackrock/Mapping and Impedance - 1025-0658, 0656, 0657/2132-8-SN0657.xls\""
   ]
  },
  {
   "cell_type": "code",
   "execution_count": 21,
   "metadata": {},
   "outputs": [],
   "source": [
    "kf_xls = KnownFile(tito_it_a_xls_file)"
   ]
  },
  {
   "cell_type": "code",
   "execution_count": 22,
   "metadata": {},
   "outputs": [
    {
     "data": {
      "text/plain": [
       "('KnownFile', {'path': '/braintree/data2/active/users/darren/mindhive/dicarlolab/u/darren/mworks_array_xmls/preproc/orig_hvm/array_maps_from_blackrock/Mapping and Impedance - 1025-0658, 0656, 0657/2132-8-SN0657.xls', 'exists': True, 'realpath': '/braintree/data2/active/users/darren/mindhive/dicarlolab/u/darren/mworks_array_xmls/preproc/orig_hvm/array_maps_from_blackrock/Mapping and Impedance - 1025-0658, 0656, 0657/2132-8-SN0657.xls', 'isfile': True, 'sha1': '7d705186a726776e9517269dafd01d6407d0ce2e'})"
      ]
     },
     "execution_count": 22,
     "metadata": {},
     "output_type": "execute_result"
    }
   ],
   "source": [
    "kf_xls"
   ]
  },
  {
   "cell_type": "code",
   "execution_count": null,
   "metadata": {},
   "outputs": [],
   "source": []
  },
  {
   "cell_type": "code",
   "execution_count": 11,
   "metadata": {},
   "outputs": [],
   "source": [
    "def persister_setup(persister_class):\n",
    "    db = persister_db()\n",
    "    return persister_class(db)"
   ]
  },
  {
   "cell_type": "code",
   "execution_count": 12,
   "metadata": {},
   "outputs": [],
   "source": [
    "def persister_db(db_file_path=None): \n",
    "    if db_file_path is None:\n",
    "        db_file_path = os.path.join(os.path.dirname(mkgu.__file__), \"knownfile.db\")\n",
    "    db_url = \"sqlite:///\" + db_file_path\n",
    "    db = dataset.connect(db_url)\n",
    "    return db"
   ]
  },
  {
   "cell_type": "code",
   "execution_count": 8,
   "metadata": {},
   "outputs": [],
   "source": [
    "class Persister(object):\n",
    "    def __init__(self, db):\n",
    "        self.db = db\n",
    " \n",
    "    def persist(self):\n",
    "        raise NotImplementedError()\n",
    "\n",
    "    def keyed_upsert(self, tbl_name, keys, data):\n",
    "        tbl = self.db[tbl_name]\n",
    "        record_id = tbl.upsert(data, keys=keys)\n",
    "        if type(record_id) == bool:\n",
    "            record_id = tbl.find_one(**{key: data[key] for key in keys})[\"id\"]\n",
    "        return record_id                "
   ]
  },
  {
   "cell_type": "code",
   "execution_count": 9,
   "metadata": {},
   "outputs": [],
   "source": [
    "class KnownFilePersister(Persister):\n",
    "    def persist(self, knownfile):\n",
    "        data = {\n",
    "            \"realpath\": knownfile.realpath,\n",
    "            \"sha1\": knownfile.sha1\n",
    "        }\n",
    "        self.id = self.keyed_upsert(\"file\", [\"sha1\"], data)"
   ]
  },
  {
   "cell_type": "code",
   "execution_count": null,
   "metadata": {},
   "outputs": [],
   "source": []
  }
 ],
 "metadata": {
  "kernelspec": {
   "display_name": "mkgu_packaging",
   "language": "python",
   "name": "mkgu_packaging"
  },
  "language_info": {
   "codemirror_mode": {
    "name": "ipython",
    "version": 3
   },
   "file_extension": ".py",
   "mimetype": "text/x-python",
   "name": "python",
   "nbconvert_exporter": "python",
   "pygments_lexer": "ipython3",
   "version": "3.6.4"
  }
 },
 "nbformat": 4,
 "nbformat_minor": 2
}
