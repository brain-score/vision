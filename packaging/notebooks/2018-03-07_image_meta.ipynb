{
  "cells": [
    {
      "cell_type": "code",
      "source": [
        "import os\n",
        "import numpy as np\n",
        "import pandas as pd\n",
        "import xarray as xr\n",
        "import scipy.io as sio\n",
        "import matplotlib.pyplot as plt\n",
        "import mkgu\n",
        "import dataset\n",
        "import peewee"
      ],
      "outputs": [],
      "execution_count": null,
      "metadata": {}
    },
    {
      "cell_type": "code",
      "source": [
        "hvm = mkgu.get_assembly(\"HvM\")\n",
        "hvm"
      ],
      "outputs": [],
      "execution_count": null,
      "metadata": {
        "scrolled": true
      }
    },
    {
      "cell_type": "code",
      "source": [
        "hvm.indexes[\"presentation\"].names"
      ],
      "outputs": [],
      "execution_count": null,
      "metadata": {}
    },
    {
      "cell_type": "code",
      "source": [
        "hvm_stripped = hvm.copy()\n",
        "hvm_stripped"
      ],
      "outputs": [],
      "execution_count": null,
      "metadata": {
        "collapsed": true
      }
    },
    {
      "cell_type": "code",
      "source": [
        "hvm_stripped.reset_index(\"object\", inplace=True)\n",
        "hvm_stripped"
      ],
      "outputs": [],
      "execution_count": null,
      "metadata": {
        "scrolled": true
      }
    },
    {
      "cell_type": "code",
      "source": [
        "hvm_stripped.reset_coords(\"object\", inplace=True, drop=True)\n",
        "hvm_stripped"
      ],
      "outputs": [],
      "execution_count": null,
      "metadata": {
        "scrolled": true
      }
    },
    {
      "cell_type": "code",
      "source": [
        "hvm_stripped.indexes[\"presentation\"].names"
      ],
      "outputs": [],
      "execution_count": null,
      "metadata": {}
    },
    {
      "cell_type": "code",
      "source": [
        "to_remove = ['ryz_semantic', 'variation', 'image_file_name', 'rxy_semantic', 'size', 'category', 'object', 'tz', 'ty', 'rxz_semantic', 'rxy', 'background_id', 's', 'rxz', 'ryz']\n",
        "for level in to_remove:\n",
        "    if level in hvm_stripped.indexes[\"presentation\"].names:\n",
        "        hvm_stripped.reset_index(level, inplace=True)\n",
        "        hvm_stripped.reset_coords(level, inplace=True, drop=True)\n",
        "hvm_stripped"
      ],
      "outputs": [],
      "execution_count": null,
      "metadata": {
        "collapsed": true
      }
    },
    {
      "cell_type": "code",
      "source": [
        "presentation_index = hvm.indexes[\"presentation\"]"
      ],
      "outputs": [],
      "execution_count": null,
      "metadata": {}
    },
    {
      "cell_type": "code",
      "source": [
        "presentation_index"
      ],
      "outputs": [],
      "execution_count": null,
      "metadata": {
        "collapsed": true
      }
    },
    {
      "cell_type": "code",
      "source": [
        "type(presentation_index)"
      ],
      "outputs": [],
      "execution_count": null,
      "metadata": {}
    },
    {
      "cell_type": "code",
      "source": [
        "to_keep = set(presentation_index.names).difference(to_remove)\n",
        "to_keep"
      ],
      "outputs": [],
      "execution_count": null,
      "metadata": {}
    },
    {
      "cell_type": "code",
      "source": [],
      "outputs": [],
      "execution_count": null,
      "metadata": {}
    },
    {
      "cell_type": "code",
      "source": [
        "lookup = mkgu.fetch.SQLiteLookup()\n",
        "lookup"
      ],
      "outputs": [],
      "execution_count": null,
      "metadata": {}
    },
    {
      "cell_type": "code",
      "source": [
        "lookup.db_file"
      ],
      "outputs": [],
      "execution_count": null,
      "metadata": {}
    },
    {
      "cell_type": "code",
      "source": [
        "def resolve(table, record_dict, keys):\n",
        "    record_id = table.upsert(record_dict, keys=keys)\n",
        "    if type(record_id) == bool:\n",
        "        record_id = table.find_one(**{key: record_dict[key] for key in keys})[\"id\"]\n",
        "    return record_id"
      ],
      "outputs": [],
      "execution_count": null,
      "metadata": {}
    },
    {
      "cell_type": "code",
      "source": [
        "pwd"
      ],
      "outputs": [],
      "execution_count": null,
      "metadata": {}
    },
    {
      "cell_type": "code",
      "source": [
        "pwdb = peewee.SqliteDatabase(\"image_meta_scratch.db\")"
      ],
      "outputs": [],
      "execution_count": null,
      "metadata": {}
    },
    {
      "cell_type": "code",
      "source": [
        "class Foo(peewee.Model):\n",
        "    bar = peewee.CharField()\n",
        "    baz = peewee.IntegerField()\n",
        "    class Meta:\n",
        "        database = pwdb"
      ],
      "outputs": [],
      "execution_count": null,
      "metadata": {}
    },
    {
      "cell_type": "code",
      "source": [
        "pwdb.connect()"
      ],
      "outputs": [],
      "execution_count": null,
      "metadata": {}
    },
    {
      "cell_type": "code",
      "source": [
        "pwdb.create_tables([Foo])"
      ],
      "outputs": [],
      "execution_count": null,
      "metadata": {}
    },
    {
      "cell_type": "code",
      "source": [
        "pwdb.database"
      ],
      "outputs": [],
      "execution_count": null,
      "metadata": {}
    },
    {
      "cell_type": "code",
      "source": [
        "foo_first = Foo(bar=\"Wow!\", baz=4)\n",
        "foo_first.save()"
      ],
      "outputs": [],
      "execution_count": null,
      "metadata": {}
    },
    {
      "cell_type": "code",
      "source": [
        "for fields in [\n",
        "    (\"Zoom!\", 27),\n",
        "    (\"Bam!\", 777),\n",
        "    (\"Whoosh!\", 1000000002)\n",
        "]:\n",
        "    Foo(**dict(zip((\"bar\", \"baz\"), fields))).save()"
      ],
      "outputs": [],
      "execution_count": null,
      "metadata": {}
    },
    {
      "cell_type": "code",
      "source": [
        "got = Foo.select()\n",
        "got"
      ],
      "outputs": [],
      "execution_count": null,
      "metadata": {}
    },
    {
      "cell_type": "code",
      "source": [
        "[(x.id, x.bar, x.baz) for x in got]"
      ],
      "outputs": [],
      "execution_count": null,
      "metadata": {}
    },
    {
      "cell_type": "code",
      "source": [
        "wow = got[0]"
      ],
      "outputs": [],
      "execution_count": null,
      "metadata": {}
    },
    {
      "cell_type": "code",
      "source": [
        "wow.id"
      ],
      "outputs": [],
      "execution_count": null,
      "metadata": {}
    },
    {
      "cell_type": "code",
      "source": [],
      "outputs": [],
      "execution_count": null,
      "metadata": {}
    },
    {
      "cell_type": "code",
      "source": [
        "class Image(peewee.Model):\n",
        "    hash_id = peewee.CharField()\n",
        "    object_name = peewee.CharField()\n",
        "    category_name = peewee.CharField()\n",
        "    background_id = peewee.CharField()\n",
        "    image_file_name = peewee.CharField()\n",
        "    variation = peewee.IntegerField()\n",
        "    ty = peewee.FloatField()\n",
        "    tz = peewee.FloatField()\n",
        "    rxy = peewee.FloatField()\n",
        "    rxz = peewee.FloatField()\n",
        "    ryz = peewee.FloatField()\n",
        "    rxy_semantic = peewee.FloatField()\n",
        "    rxz_semantic = peewee.FloatField()\n",
        "    ryz_semantic = peewee.FloatField()\n",
        "    size = peewee.FloatField()\n",
        "    s = peewee.FloatField()\n",
        "\n",
        "    class Meta:\n",
        "        database = pwdb"
      ],
      "outputs": [],
      "execution_count": null,
      "metadata": {}
    },
    {
      "cell_type": "code",
      "source": [
        "class StimulusSet(peewee.Model):\n",
        "    name = peewee.CharField()\n",
        "    \n",
        "    class Meta:\n",
        "        database = pwdb"
      ],
      "outputs": [],
      "execution_count": null,
      "metadata": {}
    },
    {
      "cell_type": "code",
      "source": [
        "class ImageStore(peewee.Model):\n",
        "    location = peewee.CharField()\n",
        "    location_type = peewee.CharField()\n",
        "    store_type = peewee.CharField()\n",
        "    \n",
        "    class Meta:\n",
        "        database = pwdb"
      ],
      "outputs": [],
      "execution_count": null,
      "metadata": {}
    },
    {
      "cell_type": "code",
      "source": [
        "class StimulusSetImageMap(peewee.Model):\n",
        "    stimulus_set = peewee.ForeignKeyField(StimulusSet, backref=\"stimulus_set_image_maps\")\n",
        "    image = peewee.ForeignKeyField(Image, backref=\"stimulus_set_image_maps\")\n",
        "   \n",
        "    class Meta:\n",
        "        database = pwdb"
      ],
      "outputs": [],
      "execution_count": null,
      "metadata": {}
    },
    {
      "cell_type": "code",
      "source": [
        "class ImageImageStoreMap(peewee.Model):\n",
        "    image_store = peewee.ForeignKeyField(ImageStore, backref=\"image_image_store_maps\")\n",
        "    image = peewee.ForeignKeyField(Image, backref=\"image_image_store_maps\")\n",
        "    path = peewee.CharField()\n",
        "   \n",
        "    class Meta:\n",
        "        database = pwdb    "
      ],
      "outputs": [],
      "execution_count": null,
      "metadata": {}
    },
    {
      "cell_type": "code",
      "source": [
        "pw_classes = [Image, StimulusSet, ImageStore, StimulusSetImageMap, ImageImageStoreMap]"
      ],
      "outputs": [],
      "execution_count": null,
      "metadata": {}
    },
    {
      "cell_type": "code",
      "source": [
        "pwdb.drop_tables(pw_classes)"
      ],
      "outputs": [],
      "execution_count": null,
      "metadata": {}
    },
    {
      "cell_type": "code",
      "source": [
        "pwdb.create_tables(pw_classes)"
      ],
      "outputs": [],
      "execution_count": null,
      "metadata": {}
    },
    {
      "cell_type": "code",
      "source": [
        "hvm_images = StimulusSet(name=\"HvM\")\n",
        "hvm_images.save()"
      ],
      "outputs": [],
      "execution_count": null,
      "metadata": {}
    },
    {
      "cell_type": "code",
      "source": [
        "df_stimulus = hvm.indexes[\"presentation\"].to_frame()\n",
        "df_stimulus"
      ],
      "outputs": [],
      "execution_count": null,
      "metadata": {
        "scrolled": true
      }
    },
    {
      "cell_type": "code",
      "source": [
        "import hashlib\n",
        "fn = b\"TURTLE_L_rx+69.658_ry+61.236_rz+07.161_tx+00.318_ty-01.053_s+00.921_5068064aee7a1831c3a5fe0f023b05cffca511e3_256x256\"\n",
        "# fn = b\"TURTLE_L_rx+69.658_ry+61.236_rz+07.161_tx+00.318_ty-01.053_s+00.921_5068064aee7a1831c3a5fe0f023b05cffca511e3\"\n",
        "# fn = b\"TURTLE_L_rx+69.658_ry+61.236_rz+07.161_tx+00.318_ty-01.053_s+00.921_5068064aee7a1831c3a5fe0f023b05cffca511e3_256x256.png\"\n",
        "fhash = \"d15aa059b0180b200fb82fb8039247c3b53f9d66\"\n",
        "hashlib.sha1(fn).hexdigest()"
      ],
      "outputs": [],
      "execution_count": null,
      "metadata": {}
    },
    {
      "cell_type": "code",
      "source": [
        "fpath = \"/braintree/home/jjpr/.skdata/HvMWithDiscfade_6eef6648406c333a4035cd5e60d0bf2ecf2606d7/Variation06_20110131/TURTLE_L_rx+69.658_ry+61.236_rz+07.161_tx+00.318_ty-01.053_s+00.921_5068064aee7a1831c3a5fe0f023b05cffca511e3_256x256.png\"\n",
        "hashlib.sha1(open(fpath, \"rb\").read()).hexdigest()"
      ],
      "outputs": [],
      "execution_count": null,
      "metadata": {}
    },
    {
      "cell_type": "code",
      "source": [
        "ls /braintree/home/jjpr/.skdata/HvMWithDiscfade_6eef6648406c333a4035cd5e60d0bf2ecf2606d7"
      ],
      "outputs": [],
      "execution_count": null,
      "metadata": {}
    },
    {
      "cell_type": "code",
      "source": [
        "path_map = {\"V0\": \"Variation00_20110203\", \"V3\": \"Variation03_20110128\", \"V6\": \"Variation06_20110131\"}"
      ],
      "outputs": [],
      "execution_count": null,
      "metadata": {}
    },
    {
      "cell_type": "code",
      "source": [
        "hvm_image_store = ImageStore(location_type=\"S3\", store_type=\"zip\", location=\"http://dicarlocox-datasets.s3.amazonaws.com/HvM_with_discfade.zip\")\n",
        "hvm_image_store.save()"
      ],
      "outputs": [],
      "execution_count": null,
      "metadata": {
        "scrolled": true
      }
    },
    {
      "cell_type": "code",
      "source": [
        "# pwdb.drop_tables([ImageStore])"
      ],
      "outputs": [],
      "execution_count": null,
      "metadata": {}
    },
    {
      "cell_type": "code",
      "source": [
        "df_images = df_stimulus[df_stimulus[\"variation\"]!=\"nan\"].drop(columns=[\"stimulus\", \"repetition\"]).drop_duplicates()\n",
        "df_images"
      ],
      "outputs": [],
      "execution_count": null,
      "metadata": {}
    },
    {
      "cell_type": "code",
      "source": [
        "len(df_images[\"image_id\"].unique())"
      ],
      "outputs": [],
      "execution_count": null,
      "metadata": {}
    },
    {
      "cell_type": "code",
      "source": [
        "pw_images = []\n",
        "for image in df_images.itertuples():\n",
        "    pw_image = Image(\n",
        "        hash_id=image.image_id,\n",
        "        object_name=image.object,\n",
        "        category_name=image.category,\n",
        "        background_id=image.background_id,\n",
        "        image_file_name=image.image_file_name,\n",
        "        variation=int(image.variation[-1]),\n",
        "        ty=image.ty,\n",
        "        tz=image.tz,\n",
        "        rxy=image.rxy,\n",
        "        rxz=image.rxz,\n",
        "        ryz=image.ryz,\n",
        "        rxy_semantic=image.rxy_semantic,\n",
        "        rxz_semantic=image.rxz_semantic,\n",
        "        ryz_semantic=image.ryz_semantic,\n",
        "        size=image.size,\n",
        "        s=image.s\n",
        "    )\n",
        "    pw_images.append(pw_image)\n",
        "    pw_image.save()\n",
        "    print(image.image_file_name, image.variation)"
      ],
      "outputs": [],
      "execution_count": null,
      "metadata": {
        "collapsed": true
      }
    },
    {
      "cell_type": "code",
      "source": [
        "images_query = Image.select()\n",
        "images_query"
      ],
      "outputs": [],
      "execution_count": null,
      "metadata": {}
    },
    {
      "cell_type": "code",
      "source": [
        "image_query_0 = images_query[0]"
      ],
      "outputs": [],
      "execution_count": null,
      "metadata": {}
    },
    {
      "cell_type": "code",
      "source": [
        "len(images_query)"
      ],
      "outputs": [],
      "execution_count": null,
      "metadata": {}
    },
    {
      "cell_type": "code",
      "source": [
        "image_query_0.object_name"
      ],
      "outputs": [],
      "execution_count": null,
      "metadata": {}
    },
    {
      "cell_type": "code",
      "source": [
        "df_images.columns"
      ],
      "outputs": [],
      "execution_count": null,
      "metadata": {}
    },
    {
      "cell_type": "code",
      "source": [
        "df_images[\"variation\"].unique()"
      ],
      "outputs": [],
      "execution_count": null,
      "metadata": {}
    },
    {
      "cell_type": "code",
      "source": [
        "df_stimulus[df_stimulus[\"variation\"]!=\"nan\"]"
      ],
      "outputs": [],
      "execution_count": null,
      "metadata": {
        "collapsed": true
      }
    },
    {
      "cell_type": "code",
      "source": [
        "hvm.sel(variation=\"nan\")"
      ],
      "outputs": [],
      "execution_count": null,
      "metadata": {
        "collapsed": true
      }
    },
    {
      "cell_type": "code",
      "source": [
        "np.unique(hvm[\"variation\"].values)"
      ],
      "outputs": [],
      "execution_count": null,
      "metadata": {}
    },
    {
      "cell_type": "code",
      "source": [
        "hvm.loc[xr.ufuncs.logical_or(hvm[\"region\"] == \"V4\", hvm[\"region\"] == \"IT\")]\n",
        "# xr.ufuncs.logical_or(hvm[\"region\"] == \"V4\", hvm[\"region\"] == \"IT\")"
      ],
      "outputs": [],
      "execution_count": null,
      "metadata": {
        "collapsed": true
      }
    },
    {
      "cell_type": "code",
      "source": [
        "Image.drop_table()\n",
        "list(Image.select())"
      ],
      "outputs": [],
      "execution_count": null,
      "metadata": {
        "collapsed": true
      }
    },
    {
      "cell_type": "code",
      "source": [
        "Image.create_table()\n",
        "list(Image.select())"
      ],
      "outputs": [],
      "execution_count": null,
      "metadata": {}
    },
    {
      "cell_type": "code",
      "source": [
        "pw_images = []\n",
        "pw_stimulus_set_image_maps = []\n",
        "pw_image_image_store_maps = []\n",
        "for image in df_images.itertuples():\n",
        "    pw_image = Image(\n",
        "        hash_id=image.image_id,\n",
        "        object_name=image.object,\n",
        "        category_name=image.category,\n",
        "        background_id=image.background_id,\n",
        "        image_file_name=image.image_file_name,\n",
        "        variation=int(image.variation[-1]),\n",
        "        ty=image.ty,\n",
        "        tz=image.tz,\n",
        "        rxy=image.rxy,\n",
        "        rxz=image.rxz,\n",
        "        ryz=image.ryz,\n",
        "        rxy_semantic=image.rxy_semantic,\n",
        "        rxz_semantic=image.rxz_semantic,\n",
        "        ryz_semantic=image.ryz_semantic,\n",
        "        size=image.size,\n",
        "        s=image.s\n",
        "    )\n",
        "    pw_stimulus_set_image_map = StimulusSetImageMap(stimulus_set=hvm_images, image=pw_image)\n",
        "    pw_image_image_store_map = ImageImageStoreMap(image=pw_image, image_store=hvm_image_store, \n",
        "                                                  path=path_map[image.variation])\n",
        "    \n",
        "    pw_images.append(pw_image)\n",
        "    pw_image.save()\n",
        "    \n",
        "    pw_stimulus_set_image_maps.append(pw_stimulus_set_image_map)\n",
        "    pw_stimulus_set_image_map.save()\n",
        "    \n",
        "    pw_image_image_store_maps.append(pw_image_image_store_map)\n",
        "    pw_image_image_store_map.save()\n",
        "    \n",
        "    print(image.image_file_name, image.variation)"
      ],
      "outputs": [],
      "execution_count": null,
      "metadata": {}
    },
    {
      "cell_type": "code",
      "source": [
        "pw_query = (StimulusSet\n",
        "           .select()\n",
        "           .join(StimulusSetImageMap)\n",
        "           .join(Image)\n",
        "           .join(ImageImageStoreMap)\n",
        "           .join(ImageStore))"
      ],
      "outputs": [],
      "execution_count": null,
      "metadata": {}
    },
    {
      "cell_type": "code",
      "source": [
        "list(pw_query)"
      ],
      "outputs": [],
      "execution_count": null,
      "metadata": {
        "scrolled": true
      }
    },
    {
      "cell_type": "code",
      "source": [
        "len(pw_query)"
      ],
      "outputs": [],
      "execution_count": null,
      "metadata": {}
    },
    {
      "cell_type": "code",
      "source": [
        "pw_hvm = StimulusSet.get(StimulusSet.name == \"HvM\")\n",
        "pw_hvm"
      ],
      "outputs": [],
      "execution_count": null,
      "metadata": {}
    },
    {
      "cell_type": "code",
      "source": [
        "[(x.image.hash_id, x.image.image_image_store_maps[0].image_store.location) for x in pw_hvm.stimulus_set_image_maps]"
      ],
      "outputs": [],
      "execution_count": null,
      "metadata": {}
    },
    {
      "cell_type": "code",
      "source": [
        "len(pw_hvm.stimulus_set_image_maps)"
      ],
      "outputs": [],
      "execution_count": null,
      "metadata": {}
    },
    {
      "cell_type": "code",
      "source": [
        "[(x.__name__, x.select().count()) for x in pw_classes]"
      ],
      "outputs": [],
      "execution_count": null,
      "metadata": {}
    },
    {
      "cell_type": "code",
      "source": [
        "pw_query.sql()"
      ],
      "outputs": [],
      "execution_count": null,
      "metadata": {}
    },
    {
      "cell_type": "code",
      "source": [
        "dir()"
      ],
      "outputs": [],
      "execution_count": null,
      "metadata": {}
    },
    {
      "cell_type": "code",
      "source": [
        "df_images.to_pickle(\"image_meta_dataframe.pkl\")"
      ],
      "outputs": [],
      "execution_count": null,
      "metadata": {}
    },
    {
      "cell_type": "code",
      "source": [],
      "outputs": [],
      "execution_count": null,
      "metadata": {}
    }
  ],
  "metadata": {
    "kernelspec": {
      "display_name": "mkgu_packaging",
      "language": "python",
      "name": "mkgu_packaging"
    },
    "language_info": {
      "codemirror_mode": {
        "name": "ipython",
        "version": 3
      },
      "file_extension": ".py",
      "mimetype": "text/x-python",
      "name": "python",
      "nbconvert_exporter": "python",
      "pygments_lexer": "ipython3",
      "version": "3.6.4"
    },
    "nteract": {
      "version": "0.28.0"
    }
  },
  "nbformat": 4,
  "nbformat_minor": 2
}