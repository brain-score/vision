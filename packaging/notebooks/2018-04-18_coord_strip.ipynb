{
  "cells": [
    {
      "cell_type": "code",
      "source": [
        "import os\n",
        "import xarray as xr"
      ],
      "outputs": [],
      "execution_count": 2,
      "metadata": {
        "collapsed": false,
        "outputHidden": false,
        "inputHidden": false
      }
    },
    {
      "cell_type": "code",
      "source": [
        "path = \"/Users/jjpr/.mkgu/data/dicarlo.Hong2011/hvm_neuronal_features.nc\""
      ],
      "outputs": [],
      "execution_count": 3,
      "metadata": {
        "collapsed": false,
        "outputHidden": false,
        "inputHidden": false
      }
    },
    {
      "cell_type": "code",
      "source": [
        "bak_path = \"/Users/jjpr/.mkgu/data/dicarlo.Hong2011/hvm_neuronal_features.nc.bak\""
      ],
      "outputs": [],
      "execution_count": 4,
      "metadata": {
        "collapsed": false,
        "outputHidden": false,
        "inputHidden": false
      }
    },
    {
      "cell_type": "code",
      "source": [
        "da_current = xr.open_dataarray(path)\n",
        "da_current"
      ],
      "outputs": [
        {
          "output_type": "execute_result",
          "execution_count": 5,
          "data": {
            "text/plain": [
              "<xarray.DataArray (neuroid: 296, presentation: 270060, time_bin: 1)>\n",
              "[79937760 values with dtype=float32]\n",
              "Coordinates:\n",
              "    image_id        (presentation) object '8a72e2bfdb8c267b57232bf96f069374d5b21832' ...\n",
              "    repetition      (presentation) int64 0 0 0 0 0 0 0 0 0 0 0 0 0 0 0 0 0 0 ...\n",
              "    stimulus        (presentation) int64 0 1 2 3 4 5 6 7 8 9 10 11 12 13 14 ...\n",
              "    neuroid_id      (neuroid) object 'Chabo_L_M_5_9' 'Chabo_L_M_6_9' ...\n",
              "    arr             (neuroid) object 'M' 'M' 'M' 'M' 'M' 'M' 'M' 'M' 'M' 'M' ...\n",
              "    col             (neuroid) int64 9 9 8 9 8 8 7 7 5 6 4 9 9 9 9 9 8 7 9 6 ...\n",
              "    hemisphere      (neuroid) object 'L' 'L' 'L' 'L' 'L' 'L' 'L' 'L' 'L' 'L' ...\n",
              "    subregion       (neuroid) object 'cIT' 'cIT' 'cIT' 'cIT' 'cIT' 'cIT' ...\n",
              "    animal          (neuroid) object 'Chabo' 'Chabo' 'Chabo' 'Chabo' 'Chabo' ...\n",
              "    y               (neuroid) float64 0.2 0.6 0.2 1.0 0.6 1.0 1.8 1.0 1.8 ...\n",
              "    x               (neuroid) float64 1.8 1.8 1.4 1.8 1.4 1.4 1.0 1.0 0.2 ...\n",
              "    row             (neuroid) int64 5 6 5 7 6 7 9 7 9 8 9 2 1 3 6 7 6 6 8 5 ...\n",
              "    region          (neuroid) object 'IT' 'IT' 'IT' 'IT' 'IT' 'IT' 'IT' 'IT' ...\n",
              "    time_bin_end    (time_bin) int64 170\n",
              "    time_bin_start  (time_bin) int64 70\n",
              "Dimensions without coordinates: neuroid, presentation, time_bin"
            ]
          },
          "metadata": {}
        }
      ],
      "execution_count": 5,
      "metadata": {
        "collapsed": false,
        "outputHidden": false,
        "inputHidden": false
      }
    },
    {
      "cell_type": "code",
      "source": [
        "da = xr.open_dataarray(bak_path)\n",
        "da"
      ],
      "outputs": [
        {
          "output_type": "execute_result",
          "execution_count": 6,
          "data": {
            "text/plain": [
              "<xarray.DataArray 'dataset_hvm' (neuroid: 296, presentation: 268800, time_bin: 1)>\n",
              "[79564800 values with dtype=float32]\n",
              "Coordinates:\n",
              "    arr             (neuroid) object 'M' 'M' 'M' 'M' 'M' 'M' 'M' 'M' 'M' 'M' ...\n",
              "    y               (neuroid) float64 0.2 0.6 0.2 1.0 0.6 1.0 1.8 1.0 1.8 ...\n",
              "    col             (neuroid) int64 9 9 8 9 8 8 7 7 5 6 4 9 9 9 9 9 8 7 9 6 ...\n",
              "    time_bin_end    (time_bin) int64 170\n",
              "    row             (neuroid) int64 5 6 5 7 6 7 9 7 9 8 9 2 1 3 6 7 6 6 8 5 ...\n",
              "    time_bin_start  (time_bin) int64 70\n",
              "    animal          (neuroid) object 'Chabo' 'Chabo' 'Chabo' 'Chabo' 'Chabo' ...\n",
              "    x               (neuroid) float64 1.8 1.8 1.4 1.8 1.4 1.4 1.0 1.0 0.2 ...\n",
              "    region          (neuroid) object 'IT' 'IT' 'IT' 'IT' 'IT' 'IT' 'IT' 'IT' ...\n",
              "    ryz_semantic    (presentation) float64 -0.0 -0.0 -0.0 -0.0 -0.0 -0.0 ...\n",
              "    bg_id           (presentation) object '01c0425e982e4edc276fe5373dbf8e5e49bd9a16' ...\n",
              "    tz              (presentation) float64 0.0 0.0 0.0 0.0 0.0 0.0 0.0 0.0 ...\n",
              "    rxy_semantic    (presentation) float64 -0.0 -0.0 -0.0 -0.0 -0.0 -0.0 ...\n",
              "    id              (presentation) object 'f1ae7c2160c6cbb309b940a0dc127a8aa1060e5d' ...\n",
              "    size            (presentation) int64 256 256 256 256 256 256 256 256 256 ...\n",
              "    category        (presentation) object 'Fruits' 'Fruits' 'Fruits' ...\n",
              "    obj             (presentation) object 'Apple_Fruit_obj' ...\n",
              "    ty              (presentation) float64 0.0 0.0 0.0 0.0 0.0 0.0 0.0 0.0 ...\n",
              "    filename        (presentation) object '/Users/jjpr/.skdata/HvMWithDiscfade_6eef6648406c333a4035cd5e60d0bf2ecf2606d7/Variation00_20110203/Apple_Fruit_obj_rx-90.000_ry+00.000_rz+00.000_tx+00.000_ty+00.000_s+00.700_01c0425e982e4edc276fe5373dbf8e5e49bd9a16_256x256.png' ...\n",
              "    rxz_semantic    (presentation) float64 0.0 0.0 0.0 0.0 0.0 0.0 0.0 0.0 ...\n",
              "    rxy             (presentation) float64 -0.0 -0.0 -0.0 -0.0 -0.0 -0.0 ...\n",
              "    s               (presentation) float64 1.0 1.0 1.0 1.0 1.0 1.0 1.0 1.0 ...\n",
              "    rxz             (presentation) float64 0.0 0.0 0.0 0.0 0.0 0.0 0.0 0.0 ...\n",
              "    ryz             (presentation) float64 -0.0 -0.0 -0.0 -0.0 -0.0 -0.0 ...\n",
              "    var             (presentation) object 'V0' 'V0' 'V0' 'V0' 'V0' 'V0' 'V0' ...\n",
              "    _id             (presentation) object '01c0425e982e4edc276fe5373dbf8e5e49bd9a16_V0' ...\n",
              "    repetition      (presentation) int64 0 0 0 0 0 0 0 0 0 0 0 0 0 0 0 0 0 0 ...\n",
              "    stimulus        (presentation) int64 0 1 2 3 4 5 6 7 8 9 10 11 12 13 14 ...\n",
              "Dimensions without coordinates: neuroid, presentation, time_bin"
            ]
          },
          "metadata": {}
        }
      ],
      "execution_count": 6,
      "metadata": {
        "collapsed": false,
        "outputHidden": false,
        "inputHidden": false
      }
    },
    {
      "cell_type": "code",
      "source": [
        "path_out = \"/Users/jjpr/.mkgu/data/dicarlo.Hong2011/hvm_neuronal_features_stripped.nc\""
      ],
      "outputs": [],
      "execution_count": 7,
      "metadata": {
        "collapsed": false,
        "outputHidden": false,
        "inputHidden": false
      }
    },
    {
      "cell_type": "code",
      "source": [
        "list(da.coords.keys())"
      ],
      "outputs": [
        {
          "output_type": "execute_result",
          "execution_count": 9,
          "data": {
            "text/plain": [
              "['arr',\n",
              " 'y',\n",
              " 'col',\n",
              " 'time_bin_end',\n",
              " 'row',\n",
              " 'time_bin_start',\n",
              " 'animal',\n",
              " 'x',\n",
              " 'region',\n",
              " 'ryz_semantic',\n",
              " 'bg_id',\n",
              " 'tz',\n",
              " 'rxy_semantic',\n",
              " 'id',\n",
              " 'size',\n",
              " 'category',\n",
              " 'obj',\n",
              " 'ty',\n",
              " 'filename',\n",
              " 'rxz_semantic',\n",
              " 'rxy',\n",
              " 's',\n",
              " 'rxz',\n",
              " 'ryz',\n",
              " 'var',\n",
              " '_id',\n",
              " 'repetition',\n",
              " 'stimulus']"
            ]
          },
          "metadata": {}
        }
      ],
      "execution_count": 9,
      "metadata": {
        "collapsed": false,
        "outputHidden": false,
        "inputHidden": false
      }
    },
    {
      "cell_type": "code",
      "source": [
        "da[\"image_id\"] = da[\"id\"]\n",
        "da"
      ],
      "outputs": [
        {
          "output_type": "execute_result",
          "execution_count": 10,
          "data": {
            "text/plain": [
              "<xarray.DataArray 'dataset_hvm' (neuroid: 296, presentation: 268800, time_bin: 1)>\n",
              "array([[[ 0.808021],\n",
              "        [ 1.555112],\n",
              "        ..., \n",
              "        [-0.200395],\n",
              "        [ 0.951983]],\n",
              "\n",
              "       [[-0.386136],\n",
              "        [-0.725592],\n",
              "        ..., \n",
              "        [ 0.050503],\n",
              "        [ 0.742559]],\n",
              "\n",
              "       ..., \n",
              "       [[ 0.822267],\n",
              "        [ 0.224162],\n",
              "        ..., \n",
              "        [ 1.634816],\n",
              "        [ 0.800551]],\n",
              "\n",
              "       [[-0.923935],\n",
              "        [-0.923935],\n",
              "        ..., \n",
              "        [ 0.265927],\n",
              "        [-0.603347]]], dtype=float32)\n",
              "Coordinates:\n",
              "    arr             (neuroid) object 'M' 'M' 'M' 'M' 'M' 'M' 'M' 'M' 'M' 'M' ...\n",
              "    y               (neuroid) float64 0.2 0.6 0.2 1.0 0.6 1.0 1.8 1.0 1.8 ...\n",
              "    col             (neuroid) int64 9 9 8 9 8 8 7 7 5 6 4 9 9 9 9 9 8 7 9 6 ...\n",
              "    time_bin_end    (time_bin) int64 170\n",
              "    row             (neuroid) int64 5 6 5 7 6 7 9 7 9 8 9 2 1 3 6 7 6 6 8 5 ...\n",
              "    time_bin_start  (time_bin) int64 70\n",
              "    animal          (neuroid) object 'Chabo' 'Chabo' 'Chabo' 'Chabo' 'Chabo' ...\n",
              "    x               (neuroid) float64 1.8 1.8 1.4 1.8 1.4 1.4 1.0 1.0 0.2 ...\n",
              "    region          (neuroid) object 'IT' 'IT' 'IT' 'IT' 'IT' 'IT' 'IT' 'IT' ...\n",
              "    ryz_semantic    (presentation) float64 -0.0 -0.0 -0.0 -0.0 -0.0 -0.0 ...\n",
              "    bg_id           (presentation) object '01c0425e982e4edc276fe5373dbf8e5e49bd9a16' ...\n",
              "    tz              (presentation) float64 0.0 0.0 0.0 0.0 0.0 0.0 0.0 0.0 ...\n",
              "    rxy_semantic    (presentation) float64 -0.0 -0.0 -0.0 -0.0 -0.0 -0.0 ...\n",
              "    id              (presentation) object 'f1ae7c2160c6cbb309b940a0dc127a8aa1060e5d' ...\n",
              "    size            (presentation) int64 256 256 256 256 256 256 256 256 256 ...\n",
              "    category        (presentation) object 'Fruits' 'Fruits' 'Fruits' ...\n",
              "    obj             (presentation) object 'Apple_Fruit_obj' ...\n",
              "    ty              (presentation) float64 0.0 0.0 0.0 0.0 0.0 0.0 0.0 0.0 ...\n",
              "    filename        (presentation) object '/Users/jjpr/.skdata/HvMWithDiscfade_6eef6648406c333a4035cd5e60d0bf2ecf2606d7/Variation00_20110203/Apple_Fruit_obj_rx-90.000_ry+00.000_rz+00.000_tx+00.000_ty+00.000_s+00.700_01c0425e982e4edc276fe5373dbf8e5e49bd9a16_256x256.png' ...\n",
              "    rxz_semantic    (presentation) float64 0.0 0.0 0.0 0.0 0.0 0.0 0.0 0.0 ...\n",
              "    rxy             (presentation) float64 -0.0 -0.0 -0.0 -0.0 -0.0 -0.0 ...\n",
              "    s               (presentation) float64 1.0 1.0 1.0 1.0 1.0 1.0 1.0 1.0 ...\n",
              "    rxz             (presentation) float64 0.0 0.0 0.0 0.0 0.0 0.0 0.0 0.0 ...\n",
              "    ryz             (presentation) float64 -0.0 -0.0 -0.0 -0.0 -0.0 -0.0 ...\n",
              "    var             (presentation) object 'V0' 'V0' 'V0' 'V0' 'V0' 'V0' 'V0' ...\n",
              "    _id             (presentation) object '01c0425e982e4edc276fe5373dbf8e5e49bd9a16_V0' ...\n",
              "    repetition      (presentation) int64 0 0 0 0 0 0 0 0 0 0 0 0 0 0 0 0 0 0 ...\n",
              "    stimulus        (presentation) int64 0 1 2 3 4 5 6 7 8 9 10 11 12 13 14 ...\n",
              "    image_id        (presentation) object 'f1ae7c2160c6cbb309b940a0dc127a8aa1060e5d' ...\n",
              "Dimensions without coordinates: neuroid, presentation, time_bin"
            ]
          },
          "metadata": {}
        }
      ],
      "execution_count": 10,
      "metadata": {
        "collapsed": false,
        "outputHidden": false,
        "inputHidden": false
      }
    },
    {
      "cell_type": "code",
      "source": [
        "to_remove = ['ryz_semantic',\n",
        " 'bg_id',\n",
        " 'tz',\n",
        " 'rxy_semantic',\n",
        " 'id',\n",
        " 'size',\n",
        " 'category',\n",
        " 'obj',\n",
        " 'ty',\n",
        " 'filename',\n",
        " 'rxz_semantic',\n",
        " 'rxy',\n",
        " 's',\n",
        " 'rxz',\n",
        " 'ryz',\n",
        " 'var',\n",
        " '_id']"
      ],
      "outputs": [],
      "execution_count": 11,
      "metadata": {
        "collapsed": false,
        "outputHidden": false,
        "inputHidden": false
      }
    },
    {
      "cell_type": "code",
      "source": [
        "for coord in to_remove:\n",
        "    da.reset_coords(coord, inplace=True, drop=True)\n",
        "da"
      ],
      "outputs": [
        {
          "output_type": "execute_result",
          "execution_count": 12,
          "data": {
            "text/plain": [
              "<xarray.DataArray 'dataset_hvm' (neuroid: 296, presentation: 268800, time_bin: 1)>\n",
              "array([[[ 0.808021],\n",
              "        [ 1.555112],\n",
              "        ..., \n",
              "        [-0.200395],\n",
              "        [ 0.951983]],\n",
              "\n",
              "       [[-0.386136],\n",
              "        [-0.725592],\n",
              "        ..., \n",
              "        [ 0.050503],\n",
              "        [ 0.742559]],\n",
              "\n",
              "       ..., \n",
              "       [[ 0.822267],\n",
              "        [ 0.224162],\n",
              "        ..., \n",
              "        [ 1.634816],\n",
              "        [ 0.800551]],\n",
              "\n",
              "       [[-0.923935],\n",
              "        [-0.923935],\n",
              "        ..., \n",
              "        [ 0.265927],\n",
              "        [-0.603347]]], dtype=float32)\n",
              "Coordinates:\n",
              "    arr             (neuroid) object 'M' 'M' 'M' 'M' 'M' 'M' 'M' 'M' 'M' 'M' ...\n",
              "    y               (neuroid) float64 0.2 0.6 0.2 1.0 0.6 1.0 1.8 1.0 1.8 ...\n",
              "    col             (neuroid) int64 9 9 8 9 8 8 7 7 5 6 4 9 9 9 9 9 8 7 9 6 ...\n",
              "    time_bin_end    (time_bin) int64 170\n",
              "    row             (neuroid) int64 5 6 5 7 6 7 9 7 9 8 9 2 1 3 6 7 6 6 8 5 ...\n",
              "    time_bin_start  (time_bin) int64 70\n",
              "    animal          (neuroid) object 'Chabo' 'Chabo' 'Chabo' 'Chabo' 'Chabo' ...\n",
              "    x               (neuroid) float64 1.8 1.8 1.4 1.8 1.4 1.4 1.0 1.0 0.2 ...\n",
              "    region          (neuroid) object 'IT' 'IT' 'IT' 'IT' 'IT' 'IT' 'IT' 'IT' ...\n",
              "    repetition      (presentation) int64 0 0 0 0 0 0 0 0 0 0 0 0 0 0 0 0 0 0 ...\n",
              "    stimulus        (presentation) int64 0 1 2 3 4 5 6 7 8 9 10 11 12 13 14 ...\n",
              "    image_id        (presentation) object 'f1ae7c2160c6cbb309b940a0dc127a8aa1060e5d' ...\n",
              "Dimensions without coordinates: neuroid, presentation, time_bin"
            ]
          },
          "metadata": {}
        }
      ],
      "execution_count": 12,
      "metadata": {
        "collapsed": false,
        "outputHidden": false,
        "inputHidden": false
      }
    },
    {
      "cell_type": "code",
      "source": [
        "da.to_netcdf(path_out)"
      ],
      "outputs": [],
      "execution_count": 13,
      "metadata": {
        "collapsed": false,
        "outputHidden": false,
        "inputHidden": false
      }
    },
    {
      "cell_type": "code",
      "source": [],
      "outputs": [],
      "execution_count": null,
      "metadata": {
        "collapsed": false,
        "outputHidden": false,
        "inputHidden": false
      }
    }
  ],
  "metadata": {
    "kernel_info": {
      "name": "mkgu_packaging"
    },
    "kernelspec": {
      "name": "mkgu_packaging",
      "language": "python",
      "display_name": "mkgu_packaging"
    },
    "language_info": {
      "name": "python",
      "version": "3.6.3",
      "mimetype": "text/x-python",
      "codemirror_mode": {
        "name": "ipython",
        "version": 3
      },
      "pygments_lexer": "ipython3",
      "nbconvert_exporter": "python",
      "file_extension": ".py"
    },
    "nteract": {
      "version": "0.8.4"
    }
  },
  "nbformat": 4,
  "nbformat_minor": 4
}