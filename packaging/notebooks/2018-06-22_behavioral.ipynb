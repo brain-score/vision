{
 "cells": [
  {
   "cell_type": "code",
   "execution_count": null,
   "metadata": {},
   "outputs": [],
   "source": [
    "import random"
   ]
  },
  {
   "cell_type": "code",
   "execution_count": null,
   "metadata": {},
   "outputs": [],
   "source": [
    "import pymongo"
   ]
  },
  {
   "cell_type": "code",
   "execution_count": null,
   "metadata": {},
   "outputs": [],
   "source": [
    "import numpy as np"
   ]
  },
  {
   "cell_type": "code",
   "execution_count": null,
   "metadata": {},
   "outputs": [],
   "source": [
    "import pandas as pd"
   ]
  },
  {
   "cell_type": "code",
   "execution_count": null,
   "metadata": {},
   "outputs": [],
   "source": [
    "import xarray as xr"
   ]
  },
  {
   "cell_type": "code",
   "execution_count": null,
   "metadata": {},
   "outputs": [],
   "source": [
    "client = pymongo.MongoClient(\"localhost\", 22334)\n",
    "client"
   ]
  },
  {
   "cell_type": "code",
   "execution_count": null,
   "metadata": {},
   "outputs": [],
   "source": [
    "client.database_names()"
   ]
  },
  {
   "cell_type": "code",
   "execution_count": null,
   "metadata": {},
   "outputs": [],
   "source": [
    "db = client.mturk\n",
    "db"
   ]
  },
  {
   "cell_type": "code",
   "execution_count": null,
   "metadata": {},
   "outputs": [],
   "source": [
    "db.collection_names()"
   ]
  },
  {
   "cell_type": "code",
   "execution_count": null,
   "metadata": {},
   "outputs": [],
   "source": [
    "coll_names = ['objectome64', 'objectome_imglvl', 'ko_obj24_basic_2ways', 'monkobjectome', 'ko_obj24_basic_2ways_mod_ver2']"
   ]
  },
  {
   "cell_type": "code",
   "execution_count": null,
   "metadata": {},
   "outputs": [],
   "source": [
    "client.server_info()"
   ]
  },
  {
   "cell_type": "code",
   "execution_count": null,
   "metadata": {},
   "outputs": [],
   "source": [
    "trial_level = [\n",
    "    'ImgData',\n",
    "    'RT',\n",
    "    'Response',\n",
    "    'StimDuration',\n",
    "    'StimShown'\n",
    "]"
   ]
  },
  {
   "cell_type": "code",
   "execution_count": null,
   "metadata": {},
   "outputs": [],
   "source": [
    "document_level = [\n",
    "    'AcceptTime',\n",
    "    'AssignmentID',\n",
    "    'Browser',\n",
    "    'Comment',\n",
    "    'Condition',\n",
    "    'CreationTime',\n",
    "    'Description',\n",
    "    'Duration',\n",
    "    'HITTypeID',\n",
    "    'HITid',\n",
    "    'IPaddress',\n",
    "    'Keywords',\n",
    "    'OpSys',\n",
    "    'Reward',\n",
    "    'ScreenHeight',\n",
    "    'ScreenWidth',\n",
    "    'Timestamp',\n",
    "    'Title',\n",
    "    'URL',\n",
    "    'Version',\n",
    "    'WindowHeight',\n",
    "    'WindowWidth',\n",
    "    'WorkerID',\n",
    "    'Zoom'\n",
    "]"
   ]
  },
  {
   "cell_type": "code",
   "execution_count": null,
   "metadata": {},
   "outputs": [],
   "source": [
    "countings_select = {}\n",
    "for db_name in ['mturk']:\n",
    "    db = client[db_name]\n",
    "    db_counting = {}\n",
    "    for coll_name in coll_names:\n",
    "        coll = db[coll_name]\n",
    "        coll_d = {}\n",
    "        for doc in coll.find():\n",
    "            trial_count = len(doc['Response'])\n",
    "            coll_d[doc['AssignmentID']] = trial_count\n",
    "        db_counting[coll_name] = coll_d\n",
    "    countings_select[db_name] = db_counting\n",
    "\n",
    "countings_select"
   ]
  },
  {
   "cell_type": "code",
   "execution_count": null,
   "metadata": {},
   "outputs": [],
   "source": [
    "for db_k in countings_select:\n",
    "    db_v = countings_select[db_k]\n",
    "    for coll_k in db_v:\n",
    "        coll_v = db_v[coll_k]\n",
    "        coll_trials_count = 0\n",
    "        for doc_k in coll_v:\n",
    "            doc_v = coll_v[doc_k]\n",
    "            coll_trials_count = coll_trials_count + doc_v\n",
    "        print('    {}: {} trials'.format(coll_k, coll_trials_count))"
   ]
  },
  {
   "cell_type": "code",
   "execution_count": null,
   "metadata": {},
   "outputs": [],
   "source": [
    "mome = db.monkobjectome\n",
    "mome"
   ]
  },
  {
   "cell_type": "code",
   "execution_count": null,
   "metadata": {},
   "outputs": [],
   "source": [
    "mome.count()"
   ]
  },
  {
   "cell_type": "code",
   "execution_count": null,
   "metadata": {},
   "outputs": [],
   "source": [
    "momerand_index = random.randrange(mome.count())\n",
    "momerand = mome.find()[momerand_index]\n",
    "momerand"
   ]
  },
  {
   "cell_type": "code",
   "execution_count": null,
   "metadata": {},
   "outputs": [],
   "source": [
    "momerand_index"
   ]
  },
  {
   "cell_type": "code",
   "execution_count": null,
   "metadata": {},
   "outputs": [],
   "source": [
    "len(momerand[\"ImgData\"])"
   ]
  },
  {
   "cell_type": "code",
   "execution_count": null,
   "metadata": {},
   "outputs": [],
   "source": [
    "momerand.keys()"
   ]
  },
  {
   "cell_type": "code",
   "execution_count": null,
   "metadata": {},
   "outputs": [],
   "source": [
    "type(momerand)"
   ]
  },
  {
   "cell_type": "code",
   "execution_count": null,
   "metadata": {},
   "outputs": [],
   "source": [
    "[(k, type(momerand[k])) for k in momerand]"
   ]
  },
  {
   "cell_type": "code",
   "execution_count": null,
   "metadata": {},
   "outputs": [],
   "source": [
    "momerand[\"Qualification\"]"
   ]
  },
  {
   "cell_type": "code",
   "execution_count": null,
   "metadata": {},
   "outputs": [],
   "source": [
    "momerand[\"RT\"][:5]"
   ]
  },
  {
   "cell_type": "code",
   "execution_count": null,
   "metadata": {},
   "outputs": [],
   "source": [
    "momerand[\"Response\"][:5]"
   ]
  },
  {
   "cell_type": "code",
   "execution_count": null,
   "metadata": {},
   "outputs": [],
   "source": [
    "momerand[\"StimShown\"][:5]"
   ]
  },
  {
   "cell_type": "code",
   "execution_count": null,
   "metadata": {},
   "outputs": [],
   "source": [
    "momerand[\"ImgData\"][:5]"
   ]
  },
  {
   "cell_type": "code",
   "execution_count": null,
   "metadata": {},
   "outputs": [],
   "source": [
    "[len(momerand[k]) for k in trial_level]"
   ]
  },
  {
   "cell_type": "code",
   "execution_count": null,
   "metadata": {},
   "outputs": [],
   "source": [
    "sample_index = 123\n",
    "[momerand[k][sample_index] for k in trial_level]"
   ]
  },
  {
   "cell_type": "code",
   "execution_count": null,
   "metadata": {},
   "outputs": [],
   "source": [
    "def strip_response(response):\n",
    "    return response.replace(\"_label\", \"\")\n",
    "\n",
    "strip_response(momerand[\"Response\"][sample_index])"
   ]
  },
  {
   "cell_type": "code",
   "execution_count": null,
   "metadata": {},
   "outputs": [],
   "source": [
    "momerand[\"ImgData\"][sample_index][0][\"obj\"]"
   ]
  },
  {
   "cell_type": "code",
   "execution_count": null,
   "metadata": {},
   "outputs": [],
   "source": [
    "momerand[\"ImgData\"][sample_index][0][\"obj\"] == strip_response(momerand[\"Response\"][sample_index])"
   ]
  },
  {
   "cell_type": "code",
   "execution_count": null,
   "metadata": {},
   "outputs": [],
   "source": [
    "def correct_response(doc, trial_index):\n",
    "    target = doc[\"ImgData\"][trial_index][0][\"obj\"]\n",
    "    response = strip_response(doc[\"Response\"][trial_index])\n",
    "    return target == response\n",
    "\n",
    "correct_response(momerand, sample_index)"
   ]
  },
  {
   "cell_type": "code",
   "execution_count": null,
   "metadata": {},
   "outputs": [],
   "source": [
    "names_simple_trial_level = [\"RT\", \"Response\", \"StimDuration\"]"
   ]
  },
  {
   "cell_type": "code",
   "execution_count": null,
   "metadata": {},
   "outputs": [],
   "source": [
    "names_stim_shown = [\"Stimulus\", \"Choice_1\", \"Choice_2\"]"
   ]
  },
  {
   "cell_type": "code",
   "execution_count": null,
   "metadata": {},
   "outputs": [],
   "source": [
    "def df_from_doc(doc):\n",
    "    df_doc = pd.DataFrame([x[0] for x in doc[\"ImgData\"]])\n",
    "    for name in names_simple_trial_level:\n",
    "        df_doc[name] = doc[name]\n",
    "    for i, name in enumerate(names_stim_shown):\n",
    "        df_doc[name] = [x[i] for x in doc[\"StimShown\"]]\n",
    "    for name in document_level:\n",
    "        df_doc[name] = [doc[name]] * len(df_doc)\n",
    "    return df_doc"
   ]
  },
  {
   "cell_type": "code",
   "execution_count": null,
   "metadata": {},
   "outputs": [],
   "source": [
    "df_momerand = df_from_doc(momerand)\n",
    "df_momerand"
   ]
  },
  {
   "cell_type": "code",
   "execution_count": null,
   "metadata": {},
   "outputs": [],
   "source": [
    "def s_from_doc(doc):\n",
    "    l_correct = [correct_response(doc, i) for i in range(len(doc[\"ImgData\"]))]\n",
    "    df_doc = df_from_doc(doc)\n",
    "    levels = [df_doc[name] for name in df_doc.columns]\n",
    "    mi_doc = pd.MultiIndex.from_arrays(arrays=levels, names=df_doc.columns)\n",
    "    s_doc = pd.Series(data=l_correct, index=mi_doc)\n",
    "    return s_doc"
   ]
  },
  {
   "cell_type": "code",
   "execution_count": null,
   "metadata": {},
   "outputs": [],
   "source": [
    "s_momerand = s_from_doc(momerand)\n",
    "s_momerand"
   ]
  },
  {
   "cell_type": "code",
   "execution_count": null,
   "metadata": {},
   "outputs": [],
   "source": [
    "s_mome = pd.concat([s_from_doc(doc) for doc in mome.find()])\n",
    "s_mome"
   ]
  },
  {
   "cell_type": "code",
   "execution_count": null,
   "metadata": {},
   "outputs": [],
   "source": [
    "len(s_mome)"
   ]
  },
  {
   "cell_type": "code",
   "execution_count": null,
   "metadata": {},
   "outputs": [],
   "source": [
    "s_mome.index"
   ]
  },
  {
   "cell_type": "code",
   "execution_count": null,
   "metadata": {},
   "outputs": [],
   "source": [
    "type(s_mome.index)"
   ]
  },
  {
   "cell_type": "code",
   "execution_count": null,
   "metadata": {},
   "outputs": [],
   "source": [
    "da_mome = xr.DataArray(s_mome)\n",
    "da_mome"
   ]
  },
  {
   "cell_type": "code",
   "execution_count": null,
   "metadata": {},
   "outputs": [],
   "source": [
    "da_mome.to_netcdf(\"monkobjectome_behavior.nc\")"
   ]
  }
 ],
 "metadata": {
  "kernelspec": {
   "display_name": "mkgu_packaging",
   "language": "python",
   "name": "mkgu_packaging"
  },
  "language_info": {
   "codemirror_mode": {
    "name": "ipython",
    "version": 3
   },
   "file_extension": ".py",
   "mimetype": "text/x-python",
   "name": "python",
   "nbconvert_exporter": "python",
   "pygments_lexer": "ipython3",
   "version": "3.6.3"
  }
 },
 "nbformat": 4,
 "nbformat_minor": 2
}
