{
 "cells": [
  {
   "cell_type": "code",
   "execution_count": 1,
   "metadata": {},
   "outputs": [],
   "source": [
    "import numpy as np"
   ]
  },
  {
   "cell_type": "code",
   "execution_count": 2,
   "metadata": {},
   "outputs": [],
   "source": [
    "import pandas as pd"
   ]
  },
  {
   "cell_type": "code",
   "execution_count": 3,
   "metadata": {},
   "outputs": [],
   "source": [
    "import xarray as xr"
   ]
  },
  {
   "cell_type": "code",
   "execution_count": 15,
   "metadata": {},
   "outputs": [],
   "source": [
    "import brainscore"
   ]
  },
  {
   "cell_type": "code",
   "execution_count": 4,
   "metadata": {},
   "outputs": [],
   "source": [
    "from brainscore.assemblies import AssemblyModel, AssemblyStoreMap, AssemblyStoreModel"
   ]
  },
  {
   "cell_type": "code",
   "execution_count": 6,
   "metadata": {},
   "outputs": [],
   "source": [
    "from brainscore.stimuli import StimulusSetModel"
   ]
  },
  {
   "cell_type": "code",
   "execution_count": 14,
   "metadata": {},
   "outputs": [],
   "source": [
    "from brainscore.lookup import pwdb"
   ]
  },
  {
   "cell_type": "code",
   "execution_count": 7,
   "metadata": {},
   "outputs": [
    {
     "data": {
      "text/plain": [
       "<xarray.DataArray (neuroid: 296, presentation: 270710, time_bin: 39)>\n",
       "[3125076240 values with dtype=float32]\n",
       "Coordinates:\n",
       "    neuroid_id      (neuroid) object ...\n",
       "    arr             (neuroid) object ...\n",
       "    time_bin_start  (time_bin) int64 ...\n",
       "    col             (neuroid) int64 ...\n",
       "    hemisphere      (neuroid) object ...\n",
       "    subregion       (neuroid) object ...\n",
       "    animal          (neuroid) object ...\n",
       "    y               (neuroid) float64 ...\n",
       "    x               (neuroid) float64 ...\n",
       "    time_bin_end    (time_bin) int64 ...\n",
       "    region          (neuroid) object ...\n",
       "    row             (neuroid) int64 ...\n",
       "    image_id        (presentation) object ...\n",
       "    repetition      (presentation) int64 ...\n",
       "    stimulus        (presentation) int64 ...\n",
       "Dimensions without coordinates: neuroid, presentation, time_bin"
      ]
     },
     "execution_count": 7,
     "metadata": {},
     "output_type": "execute_result"
    }
   ],
   "source": [
    "hvmt = xr.open_dataarray(\"/braintree/home/jjpr/dev_remote/dldata/hvm_temporal_neuronal_features.nc\")\n",
    "hvmt"
   ]
  },
  {
   "cell_type": "markdown",
   "metadata": {},
   "source": [
    "## Make the DataAssembly lookup meta"
   ]
  },
  {
   "cell_type": "code",
   "execution_count": 10,
   "metadata": {},
   "outputs": [
    {
     "data": {
      "text/plain": [
       "<brainscore.stimuli.StimulusSetModel at 0x7fe88f139588>"
      ]
     },
     "execution_count": 10,
     "metadata": {},
     "output_type": "execute_result"
    }
   ],
   "source": [
    "stim = StimulusSetModel.get(StimulusSetModel.name==\"dicarlo.hvm\")\n",
    "stim"
   ]
  },
  {
   "cell_type": "code",
   "execution_count": 11,
   "metadata": {},
   "outputs": [
    {
     "data": {
      "text/plain": [
       "1"
      ]
     },
     "execution_count": 11,
     "metadata": {},
     "output_type": "execute_result"
    }
   ],
   "source": [
    "assy = AssemblyModel(name=\"dicarlo.Majaj2015.temporal\", assembly_class=\"NeuronRecordingAssembly\",\n",
    "                     stimulus_set=stim)\n",
    "assy.save()"
   ]
  },
  {
   "cell_type": "code",
   "execution_count": 12,
   "metadata": {},
   "outputs": [
    {
     "data": {
      "text/plain": [
       "1"
      ]
     },
     "execution_count": 12,
     "metadata": {},
     "output_type": "execute_result"
    }
   ],
   "source": [
    "store = AssemblyStoreModel(assembly_type=\"netCDF\",\n",
    "                           location_type=\"S3\",\n",
    "                           location=\"https://mkgu-dicarlolab-hvm.s3.amazonaws.com/hvm_temporal_neuronal_features.nc\")\n",
    "store.save()"
   ]
  },
  {
   "cell_type": "code",
   "execution_count": 13,
   "metadata": {},
   "outputs": [
    {
     "data": {
      "text/plain": [
       "1"
      ]
     },
     "execution_count": 13,
     "metadata": {},
     "output_type": "execute_result"
    }
   ],
   "source": [
    "assy_store_map = AssemblyStoreMap(assembly_model=assy, assembly_store_model=store, role=\"dicarlo.Majaj2015.temporal\")\n",
    "assy_store_map.save()"
   ]
  },
  {
   "cell_type": "code",
   "execution_count": 18,
   "metadata": {},
   "outputs": [
    {
     "data": {
      "text/plain": [
       "'dicarlo.Majaj2015.temporal'"
      ]
     },
     "execution_count": 18,
     "metadata": {},
     "output_type": "execute_result"
    }
   ],
   "source": [
    "assy_model = brainscore.assemblies.lookup_assembly(\"dicarlo.Majaj2015.temporal\")\n",
    "assy_model.name"
   ]
  },
  {
   "cell_type": "code",
   "execution_count": 23,
   "metadata": {},
   "outputs": [
    {
     "data": {
      "text/plain": [
       "<brainscore.assemblies.AssemblyStoreMap at 0x7fe88d619eb8>"
      ]
     },
     "execution_count": 23,
     "metadata": {},
     "output_type": "execute_result"
    }
   ],
   "source": [
    "asm = assy_model.assembly_store_maps[0]\n",
    "asm"
   ]
  },
  {
   "cell_type": "code",
   "execution_count": 25,
   "metadata": {},
   "outputs": [
    {
     "data": {
      "text/plain": [
       "'https://mkgu-dicarlolab-hvm.s3.amazonaws.com/hvm_temporal_neuronal_features.nc'"
      ]
     },
     "execution_count": 25,
     "metadata": {},
     "output_type": "execute_result"
    }
   ],
   "source": [
    "asm.assembly_store_model.location"
   ]
  },
  {
   "cell_type": "code",
   "execution_count": 26,
   "metadata": {},
   "outputs": [
    {
     "data": {
      "text/plain": [
       "<brainscore.fetch.BotoFetcher at 0x7fe88d103320>"
      ]
     },
     "execution_count": 26,
     "metadata": {},
     "output_type": "execute_result"
    }
   ],
   "source": [
    "bf = brainscore.fetch.BotoFetcher(asm.assembly_store_model.location, \"dicarlo.Majaj2015.temporal\")\n",
    "bf"
   ]
  },
  {
   "cell_type": "code",
   "execution_count": 27,
   "metadata": {},
   "outputs": [
    {
     "data": {
      "text/plain": [
       "'/braintree/home/jjpr/.brainscore/data/dicarlo.Majaj2015.temporal/hvm_temporal_neuronal_features.nc'"
      ]
     },
     "execution_count": 27,
     "metadata": {},
     "output_type": "execute_result"
    }
   ],
   "source": [
    "bf.output_filename"
   ]
  },
  {
   "cell_type": "code",
   "execution_count": 29,
   "metadata": {},
   "outputs": [
    {
     "name": "stdout",
     "output_type": "stream",
     "text": [
      "getting HvM_with_discfade.zip\n"
     ]
    },
    {
     "data": {
      "text/plain": [
       "<xarray.NeuronRecordingAssembly (neuroid: 296, presentation: 270710, time_bin: 39)>\n",
       "array([[[ 1.34598 , -0.673589, ..., -0.325305, -1.456868],\n",
       "        [ 2.2433  ,  0.205005, ..., -0.325305,  1.165494],\n",
       "        ...,\n",
       "        [-1.872702, -1.347117, ...,  0.46407 ,  0.093515],\n",
       "        [ 3.003558,  3.020907, ..., -0.37123 , -0.180458]],\n",
       "\n",
       "       [[ 0.841973,  1.818767, ..., -1.061501, -0.24362 ],\n",
       "        [ 0.841973,  1.01637 , ..., -0.265375, -1.055688],\n",
       "        ...,\n",
       "        [ 1.784337,  1.089535, ..., -1.370883, -1.295151],\n",
       "        [ 0.842859, -0.330911, ...,  2.118782,  1.031901]],\n",
       "\n",
       "       ...,\n",
       "\n",
       "       [[-0.089697, -1.042081, ..., -1.008055,  0.97547 ],\n",
       "        [ 0.807276,  1.637556, ...,  0.882048,  0.97547 ],\n",
       "        ...,\n",
       "        [ 0.796412,  0.559612, ...,  0.      ,  0.330872],\n",
       "        [ 1.592824, -0.239833, ...,  1.628444,  1.158051]],\n",
       "\n",
       "       [[ 0.582239, -0.420673, ...,  0.841737,  1.731793],\n",
       "        [ 0.582239,  1.382211, ..., -0.129498, -1.265541],\n",
       "        ...,\n",
       "        [ 0.242736,  0.411805, ..., -0.673322, -1.876212],\n",
       "        [-0.566383, -1.235414, ...,  0.168331, -1.023389]]], dtype=float32)\n",
       "Coordinates:\n",
       "  * neuroid          (neuroid) MultiIndex\n",
       "  - neuroid_id       (neuroid) object 'Chabo_L_M_5_9' 'Chabo_L_M_6_9' ...\n",
       "  - arr              (neuroid) object 'M' 'M' 'M' 'M' 'M' 'M' 'M' 'M' 'M' ...\n",
       "  - col              (neuroid) int64 9 9 8 9 8 8 7 7 5 6 4 9 9 9 9 9 8 7 9 6 ...\n",
       "  - hemisphere       (neuroid) object 'L' 'L' 'L' 'L' 'L' 'L' 'L' 'L' 'L' ...\n",
       "  - subregion        (neuroid) object 'cIT' 'cIT' 'cIT' 'cIT' 'cIT' 'cIT' ...\n",
       "  - animal           (neuroid) object 'Chabo' 'Chabo' 'Chabo' 'Chabo' ...\n",
       "  - y                (neuroid) float64 0.2 0.6 0.2 1.0 0.6 1.0 1.8 1.0 1.8 ...\n",
       "  - x                (neuroid) float64 1.8 1.8 1.4 1.8 1.4 1.4 1.0 1.0 0.2 ...\n",
       "  - region           (neuroid) object 'IT' 'IT' 'IT' 'IT' 'IT' 'IT' 'IT' ...\n",
       "  - row              (neuroid) int64 5 6 5 7 6 7 9 7 9 8 9 2 1 3 6 7 6 6 8 5 ...\n",
       "  * presentation     (presentation) MultiIndex\n",
       "  - image_id         (presentation) object 'f1ae7c2160c6cbb309b940a0dc127a8aa1060e5d' ...\n",
       "  - repetition       (presentation) int64 0 0 0 0 0 0 0 0 0 0 0 0 0 0 0 0 0 ...\n",
       "  - stimulus         (presentation) int64 0 1 2 3 4 5 6 7 8 9 10 11 12 13 14 ...\n",
       "  - id               (presentation) float64 610.0 224.0 185.0 522.0 523.0 ...\n",
       "  - image_file_name  (presentation) object 'Apple_Fruit_obj_rx-90.000_ry+00.000_rz+00.000_tx+00.000_ty+00.000_s+00.700_01c0425e982e4edc276fe5373dbf8e5e49bd9a16_256x256.png' ...\n",
       "  - object_name      (presentation) object 'apple' 'apple' 'apple' 'apple' ...\n",
       "  - category_name    (presentation) object 'Fruits' 'Fruits' 'Fruits' ...\n",
       "  - background_id    (presentation) object '01c0425e982e4edc276fe5373dbf8e5e49bd9a16' ...\n",
       "  - variation        (presentation) float64 0.0 0.0 0.0 0.0 0.0 0.0 0.0 0.0 ...\n",
       "  - ty               (presentation) float64 0.0 0.0 0.0 0.0 0.0 0.0 0.0 0.0 ...\n",
       "  - tz               (presentation) float64 0.0 0.0 0.0 0.0 0.0 0.0 0.0 0.0 ...\n",
       "  - rxy              (presentation) float64 -0.0 -0.0 -0.0 -0.0 -0.0 -0.0 ...\n",
       "  - rxz              (presentation) float64 0.0 0.0 0.0 0.0 0.0 0.0 0.0 0.0 ...\n",
       "  - ryz              (presentation) float64 -0.0 -0.0 -0.0 -0.0 -0.0 -0.0 ...\n",
       "  - rxy_semantic     (presentation) float64 -0.0 -0.0 -0.0 -0.0 -0.0 -0.0 ...\n",
       "  - rxz_semantic     (presentation) float64 0.0 0.0 0.0 0.0 0.0 0.0 0.0 0.0 ...\n",
       "  - ryz_semantic     (presentation) float64 -0.0 -0.0 -0.0 -0.0 -0.0 -0.0 ...\n",
       "  - size             (presentation) float64 256.0 256.0 256.0 256.0 256.0 ...\n",
       "  - s                (presentation) float64 1.0 1.0 1.0 1.0 1.0 1.0 1.0 1.0 ...\n",
       "  * time_bin         (time_bin) MultiIndex\n",
       "  - time_bin_start   (time_bin) int64 -100 -90 -80 -70 -60 -50 -40 -30 -20 ...\n",
       "  - time_bin_end     (time_bin) int64 -80 -70 -60 -50 -40 -30 -20 -10 0 10 ...\n",
       "Attributes:\n",
       "    stimulus_set_name:  dicarlo.hvm\n",
       "    stimulus_set:               id                                  image_id ..."
      ]
     },
     "execution_count": 29,
     "metadata": {},
     "output_type": "execute_result"
    }
   ],
   "source": [
    "assy_t = brainscore.get_assembly(\"dicarlo.Majaj2015.temporal\")\n",
    "assy_t"
   ]
  },
  {
   "cell_type": "code",
   "execution_count": null,
   "metadata": {},
   "outputs": [],
   "source": []
  }
 ],
 "metadata": {
  "kernelspec": {
   "display_name": "mkgu_packaging",
   "language": "python",
   "name": "mkgu_packaging"
  },
  "language_info": {
   "codemirror_mode": {
    "name": "ipython",
    "version": 3
   },
   "file_extension": ".py",
   "mimetype": "text/x-python",
   "name": "python",
   "nbconvert_exporter": "python",
   "pygments_lexer": "ipython3",
   "version": "3.6.4"
  }
 },
 "nbformat": 4,
 "nbformat_minor": 2
}
