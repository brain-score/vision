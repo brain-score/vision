{
 "cells": [
  {
   "cell_type": "code",
   "execution_count": 1,
   "metadata": {},
   "outputs": [
    {
     "data": {
      "text/html": [
       "<div id=\"glowscript\" class=\"glowscript\"></div>"
      ],
      "text/plain": [
       "<IPython.core.display.HTML object>"
      ]
     },
     "metadata": {},
     "output_type": "display_data"
    },
    {
     "data": {
      "application/javascript": [
       "if (typeof Jupyter !== \"undefined\") { window.__context = { glowscript_container: $(\"#glowscript\").removeAttr(\"id\")};}else{ element.textContent = ' ';}"
      ],
      "text/plain": [
       "<IPython.core.display.Javascript object>"
      ]
     },
     "metadata": {},
     "output_type": "display_data"
    }
   ],
   "source": [
    "from vpython import canvas, vector, color, label, box, sphere, arrow"
   ]
  },
  {
   "cell_type": "code",
   "execution_count": 2,
   "metadata": {
    "scrolled": false
   },
   "outputs": [
    {
     "data": {
      "text/html": [
       "<div id=\"glowscript\" class=\"glowscript\"></div>"
      ],
      "text/plain": [
       "<IPython.core.display.HTML object>"
      ]
     },
     "metadata": {},
     "output_type": "display_data"
    },
    {
     "data": {
      "application/javascript": [
       "if (typeof Jupyter !== \"undefined\") { window.__context = { glowscript_container: $(\"#glowscript\").removeAttr(\"id\")};}else{ element.textContent = ' ';}"
      ],
      "text/plain": [
       "<IPython.core.display.Javascript object>"
      ]
     },
     "metadata": {},
     "output_type": "display_data"
    }
   ],
   "source": [
    "scene = canvas()"
   ]
  },
  {
   "cell_type": "code",
   "execution_count": 3,
   "metadata": {},
   "outputs": [
    {
     "data": {
      "application/javascript": [
       "if (typeof Jupyter !== \"undefined\") {require.undef(\"nbextensions/vpython_libraries/glow.min\");}else{element.textContent = ' ';}"
      ],
      "text/plain": [
       "<IPython.core.display.Javascript object>"
      ]
     },
     "metadata": {},
     "output_type": "display_data"
    },
    {
     "data": {
      "application/javascript": [
       "if (typeof Jupyter !== \"undefined\") {require.undef(\"nbextensions/vpython_libraries/glowcomm\");}else{element.textContent = ' ';}"
      ],
      "text/plain": [
       "<IPython.core.display.Javascript object>"
      ]
     },
     "metadata": {},
     "output_type": "display_data"
    },
    {
     "data": {
      "application/javascript": [
       "if (typeof Jupyter !== \"undefined\") {require.undef(\"nbextensions/vpython_libraries/jquery-ui.custom.min\");}else{element.textContent = ' ';}"
      ],
      "text/plain": [
       "<IPython.core.display.Javascript object>"
      ]
     },
     "metadata": {},
     "output_type": "display_data"
    },
    {
     "data": {
      "application/javascript": [
       "if (typeof Jupyter !== \"undefined\") {require([\"nbextensions/vpython_libraries/glow.min\"], function(){console.log(\"GLOW LOADED\");});}else{element.textContent = ' ';}"
      ],
      "text/plain": [
       "<IPython.core.display.Javascript object>"
      ]
     },
     "metadata": {},
     "output_type": "display_data"
    },
    {
     "data": {
      "application/javascript": [
       "if (typeof Jupyter !== \"undefined\") {require([\"nbextensions/vpython_libraries/glowcomm\"], function(){console.log(\"GLOWCOMM LOADED\");});}else{element.textContent = ' ';}"
      ],
      "text/plain": [
       "<IPython.core.display.Javascript object>"
      ]
     },
     "metadata": {},
     "output_type": "display_data"
    },
    {
     "data": {
      "application/javascript": [
       "if (typeof Jupyter !== \"undefined\") {require([\"nbextensions/vpython_libraries/jquery-ui.custom.min\"], function(){console.log(\"JQUERY LOADED\");});}else{element.textContent = ' ';}"
      ],
      "text/plain": [
       "<IPython.core.display.Javascript object>"
      ]
     },
     "metadata": {},
     "output_type": "display_data"
    }
   ],
   "source": [
    "box()"
   ]
  },
  {
   "cell_type": "code",
   "execution_count": 4,
   "metadata": {},
   "outputs": [],
   "source": [
    "sphere()"
   ]
  },
  {
   "cell_type": "code",
   "execution_count": 7,
   "metadata": {},
   "outputs": [],
   "source": [
    "mybox = box(pos=vector(0,0,0), length=51, height=50, width=39)"
   ]
  },
  {
   "cell_type": "code",
   "execution_count": 4,
   "metadata": {},
   "outputs": [],
   "source": [
    "import tables"
   ]
  },
  {
   "cell_type": "code",
   "execution_count": 5,
   "metadata": {},
   "outputs": [
    {
     "data": {
      "text/plain": [
       "'/Users/jjpr/Downloads/DiCarlo Lab/npc_v4_data.h5'"
      ]
     },
     "execution_count": 5,
     "metadata": {},
     "output_type": "execute_result"
    }
   ],
   "source": [
    "h5 = tables.open_file(\"/Users/jjpr/Downloads/DiCarlo Lab/npc_v4_data.h5\")\n",
    "h5.filename"
   ]
  },
  {
   "cell_type": "code",
   "execution_count": 10,
   "metadata": {},
   "outputs": [
    {
     "name": "stdout",
     "output_type": "stream",
     "text": [
      "synthetic_monkey_m_ohp_session_1\n",
      "(51, 50, 39)\n",
      "synthetic_monkey_m_ohp_session_2\n",
      "(40, 45, 38)\n",
      "synthetic_monkey_m_stretch_session_1\n",
      "(51, 50, 39)\n",
      "synthetic_monkey_m_stretch_session_2\n",
      "(33, 80, 52)\n",
      "synthetic_monkey_n_stretch_session_1\n",
      "(31, 90, 20)\n",
      "synthetic_monkey_n_stretch_session_2\n",
      "(20, 5, 1)\n",
      "synthetic_monkey_s_ohp_session_1\n",
      "(47, 95, 22)\n",
      "synthetic_monkey_s_stretch_session_1\n",
      "(47, 95, 22)\n"
     ]
    }
   ],
   "source": [
    "for monkey in h5.root.neural.synthetic:\n",
    "  for setting in monkey:\n",
    "    for session in setting: \n",
    "        print(f\"synthetic_{monkey._v_name}_{setting._v_name}_{session._v_name}\")\n",
    "        print(session.shape)"
   ]
  },
  {
   "cell_type": "code",
   "execution_count": 5,
   "metadata": {},
   "outputs": [
    {
     "name": "stdout",
     "output_type": "stream",
     "text": [
      "synthetic_monkey_m_ohp_session_1\n",
      "(51, 50, 39)\n"
     ]
    },
    {
     "data": {
      "application/javascript": [
       "if (typeof Jupyter !== \"undefined\") {require.undef(\"nbextensions/vpython_libraries/glow.min\");}else{element.textContent = ' ';}"
      ],
      "text/plain": [
       "<IPython.core.display.Javascript object>"
      ]
     },
     "metadata": {},
     "output_type": "display_data"
    },
    {
     "data": {
      "application/javascript": [
       "if (typeof Jupyter !== \"undefined\") {require.undef(\"nbextensions/vpython_libraries/glowcomm\");}else{element.textContent = ' ';}"
      ],
      "text/plain": [
       "<IPython.core.display.Javascript object>"
      ]
     },
     "metadata": {},
     "output_type": "display_data"
    },
    {
     "data": {
      "application/javascript": [
       "if (typeof Jupyter !== \"undefined\") {require.undef(\"nbextensions/vpython_libraries/jquery-ui.custom.min\");}else{element.textContent = ' ';}"
      ],
      "text/plain": [
       "<IPython.core.display.Javascript object>"
      ]
     },
     "metadata": {},
     "output_type": "display_data"
    },
    {
     "data": {
      "application/javascript": [
       "if (typeof Jupyter !== \"undefined\") {require([\"nbextensions/vpython_libraries/glow.min\"], function(){console.log(\"GLOW LOADED\");});}else{element.textContent = ' ';}"
      ],
      "text/plain": [
       "<IPython.core.display.Javascript object>"
      ]
     },
     "metadata": {},
     "output_type": "display_data"
    },
    {
     "data": {
      "application/javascript": [
       "if (typeof Jupyter !== \"undefined\") {require([\"nbextensions/vpython_libraries/glowcomm\"], function(){console.log(\"GLOWCOMM LOADED\");});}else{element.textContent = ' ';}"
      ],
      "text/plain": [
       "<IPython.core.display.Javascript object>"
      ]
     },
     "metadata": {},
     "output_type": "display_data"
    },
    {
     "data": {
      "application/javascript": [
       "if (typeof Jupyter !== \"undefined\") {require([\"nbextensions/vpython_libraries/jquery-ui.custom.min\"], function(){console.log(\"JQUERY LOADED\");});}else{element.textContent = ' ';}"
      ],
      "text/plain": [
       "<IPython.core.display.Javascript object>"
      ]
     },
     "metadata": {},
     "output_type": "display_data"
    },
    {
     "name": "stdout",
     "output_type": "stream",
     "text": [
      "synthetic_monkey_m_ohp_session_2\n",
      "(40, 45, 38)\n",
      "synthetic_monkey_m_stretch_session_1\n",
      "(51, 50, 39)\n",
      "synthetic_monkey_m_stretch_session_2\n",
      "(33, 80, 52)\n",
      "synthetic_monkey_n_stretch_session_1\n",
      "(31, 90, 20)\n",
      "synthetic_monkey_n_stretch_session_2\n",
      "(20, 5, 1)\n",
      "synthetic_monkey_s_ohp_session_1\n",
      "(47, 95, 22)\n",
      "synthetic_monkey_s_stretch_session_1\n",
      "(47, 95, 22)\n"
     ]
    }
   ],
   "source": [
    "x_offset = 0\n",
    "for monkey in h5.root.neural.synthetic:\n",
    "  for setting in monkey:\n",
    "    for session in setting: \n",
    "        sh = session.shape\n",
    "        print(f\"synthetic_{monkey._v_name}_{setting._v_name}_{session._v_name}\")\n",
    "        print(sh)\n",
    "        box(pos=vector(x_offset, 0, 0), length=sh[2], height=sh[1], width=sh[0])\n",
    "        x_offset += 60"
   ]
  },
  {
   "cell_type": "code",
   "execution_count": 6,
   "metadata": {},
   "outputs": [
    {
     "data": {
      "text/plain": [
       "[<vpython.vpython.box at 0x7fee72c1ee20>,\n",
       " <vpython.vpython.box at 0x7fee72bfcc70>,\n",
       " <vpython.vpython.box at 0x7fee72c1e0d0>,\n",
       " <vpython.vpython.box at 0x7fee72c1e310>,\n",
       " <vpython.vpython.box at 0x7fee72844520>,\n",
       " <vpython.vpython.box at 0x7fee72c1e760>,\n",
       " <vpython.vpython.box at 0x7fee72c1e9a0>,\n",
       " <vpython.vpython.box at 0x7fee72c281c0>]"
      ]
     },
     "execution_count": 6,
     "metadata": {},
     "output_type": "execute_result"
    }
   ],
   "source": [
    "scene.objects"
   ]
  },
  {
   "cell_type": "code",
   "execution_count": 16,
   "metadata": {},
   "outputs": [
    {
     "data": {
      "text/plain": [
       "list"
      ]
     },
     "execution_count": 16,
     "metadata": {},
     "output_type": "execute_result"
    }
   ],
   "source": [
    "type(scene.objects)"
   ]
  },
  {
   "cell_type": "code",
   "execution_count": 17,
   "metadata": {},
   "outputs": [
    {
     "ename": "AttributeError",
     "evalue": "objects is read-only",
     "output_type": "error",
     "traceback": [
      "\u001b[0;31m---------------------------------------------------------------------------\u001b[0m",
      "\u001b[0;31mAttributeError\u001b[0m                            Traceback (most recent call last)",
      "\u001b[0;32m<ipython-input-17-0463ffb0407f>\u001b[0m in \u001b[0;36m<module>\u001b[0;34m\u001b[0m\n\u001b[0;32m----> 1\u001b[0;31m \u001b[0mscene\u001b[0m\u001b[0;34m.\u001b[0m\u001b[0mobjects\u001b[0m \u001b[0;34m=\u001b[0m \u001b[0;34m[\u001b[0m\u001b[0;34m]\u001b[0m\u001b[0;34m\u001b[0m\u001b[0;34m\u001b[0m\u001b[0m\n\u001b[0m",
      "\u001b[0;32m~/anaconda/envs/dlvisuals/lib/python3.8/site-packages/vpython/vpython.py\u001b[0m in \u001b[0;36mobjects\u001b[0;34m(self, *args1, **args)\u001b[0m\n\u001b[1;32m   3069\u001b[0m     \u001b[0;34m@\u001b[0m\u001b[0mobjects\u001b[0m\u001b[0;34m.\u001b[0m\u001b[0msetter\u001b[0m\u001b[0;34m\u001b[0m\u001b[0;34m\u001b[0m\u001b[0m\n\u001b[1;32m   3070\u001b[0m     \u001b[0;32mdef\u001b[0m \u001b[0mobjects\u001b[0m\u001b[0;34m(\u001b[0m\u001b[0mself\u001b[0m\u001b[0;34m,\u001b[0m \u001b[0;34m*\u001b[0m\u001b[0margs1\u001b[0m\u001b[0;34m,\u001b[0m \u001b[0;34m**\u001b[0m\u001b[0margs\u001b[0m \u001b[0;34m)\u001b[0m\u001b[0;34m:\u001b[0m\u001b[0;34m\u001b[0m\u001b[0;34m\u001b[0m\u001b[0m\n\u001b[0;32m-> 3071\u001b[0;31m         \u001b[0;32mraise\u001b[0m \u001b[0mAttributeError\u001b[0m\u001b[0;34m(\u001b[0m\u001b[0;34m'objects is read-only'\u001b[0m\u001b[0;34m)\u001b[0m\u001b[0;34m\u001b[0m\u001b[0;34m\u001b[0m\u001b[0m\n\u001b[0m\u001b[1;32m   3072\u001b[0m \u001b[0;34m\u001b[0m\u001b[0m\n\u001b[1;32m   3073\u001b[0m     \u001b[0;32mdef\u001b[0m \u001b[0mobjz\u001b[0m\u001b[0;34m(\u001b[0m\u001b[0mself\u001b[0m\u001b[0;34m,\u001b[0m \u001b[0mobj\u001b[0m\u001b[0;34m,\u001b[0m \u001b[0moperation\u001b[0m\u001b[0;34m)\u001b[0m\u001b[0;34m:\u001b[0m\u001b[0;34m\u001b[0m\u001b[0;34m\u001b[0m\u001b[0m\n",
      "\u001b[0;31mAttributeError\u001b[0m: objects is read-only"
     ]
    }
   ],
   "source": [
    "scene.objects = []"
   ]
  },
  {
   "cell_type": "code",
   "execution_count": 19,
   "metadata": {},
   "outputs": [],
   "source": [
    "mybox.delete()"
   ]
  },
  {
   "cell_type": "code",
   "execution_count": 21,
   "metadata": {},
   "outputs": [
    {
     "data": {
      "text/plain": [
       "[(<60, 0, 0>, <38, 45, 40>),\n",
       " (<240, 0, 0>, <20, 90, 31>),\n",
       " (<360, 0, 0>, <22, 95, 47>),\n",
       " (<420, 0, 0>, <22, 95, 47>),\n",
       " (<300, 0, 0>, <1, 5, 20>),\n",
       " (<180, 0, 0>, <52, 80, 33>),\n",
       " (<0, 0, 0>, <39, 50, 51>),\n",
       " (<0, 0, 0>, <51, 50, 39>),\n",
       " (<0, 0, 0>, <1, 1, 1>),\n",
       " (<120, 0, 0>, <39, 50, 51>),\n",
       " (<0, 0, 0>, <2, 2, 2>)]"
      ]
     },
     "execution_count": 21,
     "metadata": {},
     "output_type": "execute_result"
    }
   ],
   "source": [
    "[(x.pos, x.size) for x in scene.objects]"
   ]
  },
  {
   "cell_type": "code",
   "execution_count": 22,
   "metadata": {},
   "outputs": [],
   "source": [
    "scene.objects[-1].delete()"
   ]
  },
  {
   "cell_type": "code",
   "execution_count": 23,
   "metadata": {},
   "outputs": [],
   "source": [
    "scene.objects[-3].delete()"
   ]
  },
  {
   "cell_type": "code",
   "execution_count": 24,
   "metadata": {},
   "outputs": [],
   "source": [
    "scene.objects[-4].delete()"
   ]
  },
  {
   "cell_type": "code",
   "execution_count": 25,
   "metadata": {},
   "outputs": [],
   "source": [
    "scene.delete()"
   ]
  },
  {
   "cell_type": "code",
   "execution_count": 8,
   "metadata": {},
   "outputs": [
    {
     "name": "stdout",
     "output_type": "stream",
     "text": [
      "naturalistic_monkey_m_ohp_session_1\n",
      "(38, 640, 39)\n",
      "naturalistic_monkey_m_ohp_session_2\n",
      "(36, 640, 38)\n",
      "naturalistic_monkey_m_stretch_session_1\n",
      "(38, 640, 39)\n",
      "naturalistic_monkey_m_stretch_session_2\n",
      "(36, 640, 52)\n",
      "naturalistic_monkey_n_stretch_session_1\n",
      "(34, 640, 20)\n",
      "naturalistic_monkey_n_stretch_session_2\n",
      "(34, 640, 1)\n",
      "naturalistic_monkey_s_ohp_session_1\n",
      "(33, 640, 22)\n",
      "naturalistic_monkey_s_stretch_session_1\n",
      "(33, 640, 22)\n"
     ]
    }
   ],
   "source": [
    "x_offset = 0\n",
    "z_offset = 60\n",
    "for monkey in h5.root.neural.naturalistic:\n",
    "  for setting in monkey:\n",
    "    for session in setting: \n",
    "        sh = session.shape\n",
    "        print(f\"naturalistic_{monkey._v_name}_{setting._v_name}_{session._v_name}\")\n",
    "        print(sh)\n",
    "        box(pos=vector(x_offset, 0, z_offset), length=sh[2], height=sh[1], width=sh[0])\n",
    "        x_offset += 60"
   ]
  },
  {
   "cell_type": "code",
   "execution_count": 10,
   "metadata": {},
   "outputs": [
    {
     "name": "stdout",
     "output_type": "stream",
     "text": [
      "naturalistic_monkey_m_ohp_session_1\n",
      "(38, 640, 39)\n",
      "naturalistic_monkey_m_ohp_session_2\n",
      "(36, 640, 38)\n",
      "naturalistic_monkey_m_stretch_session_1\n",
      "(38, 640, 39)\n",
      "naturalistic_monkey_m_stretch_session_2\n",
      "(36, 640, 52)\n",
      "naturalistic_monkey_n_stretch_session_1\n",
      "(34, 640, 20)\n",
      "naturalistic_monkey_n_stretch_session_2\n",
      "(34, 640, 1)\n",
      "naturalistic_monkey_s_ohp_session_1\n",
      "(33, 640, 22)\n",
      "naturalistic_monkey_s_stretch_session_1\n",
      "(33, 640, 22)\n",
      "synthetic_monkey_m_ohp_session_1\n",
      "(51, 50, 39)\n",
      "synthetic_monkey_m_ohp_session_2\n",
      "(40, 45, 38)\n",
      "synthetic_monkey_m_stretch_session_1\n",
      "(51, 50, 39)\n",
      "synthetic_monkey_m_stretch_session_2\n",
      "(33, 80, 52)\n",
      "synthetic_monkey_n_stretch_session_1\n",
      "(31, 90, 20)\n",
      "synthetic_monkey_n_stretch_session_2\n",
      "(20, 5, 1)\n",
      "synthetic_monkey_s_ohp_session_1\n",
      "(47, 95, 22)\n",
      "synthetic_monkey_s_stretch_session_1\n",
      "(47, 95, 22)\n"
     ]
    }
   ],
   "source": [
    "x_offset = 0\n",
    "z_offset = 60\n",
    "for monkey in h5.root.neural.naturalistic:\n",
    "  for setting in monkey:\n",
    "    for session in setting: \n",
    "        sh = session.shape\n",
    "        print(f\"naturalistic_{monkey._v_name}_{setting._v_name}_{session._v_name}\")\n",
    "        print(sh)\n",
    "        box(pos=vector(x_offset, 0, 0), length=sh[2], height=sh[1], width=sh[0])\n",
    "        x_offset += 60\n",
    "x_offset = 0\n",
    "for monkey in h5.root.neural.synthetic:\n",
    "  for setting in monkey:\n",
    "    for session in setting: \n",
    "        sh = session.shape\n",
    "        print(f\"synthetic_{monkey._v_name}_{setting._v_name}_{session._v_name}\")\n",
    "        print(sh)\n",
    "        box(pos=vector(x_offset, 0, z_offset), length=sh[2], height=sh[1], width=sh[0])\n",
    "        x_offset += 60"
   ]
  },
  {
   "cell_type": "code",
   "execution_count": 37,
   "metadata": {},
   "outputs": [],
   "source": [
    "for o in scene.objects:\n",
    "    o.visible = False\n",
    "    del o"
   ]
  },
  {
   "cell_type": "code",
   "execution_count": 11,
   "metadata": {},
   "outputs": [],
   "source": [
    "b = scene.objects[0]"
   ]
  },
  {
   "cell_type": "code",
   "execution_count": 13,
   "metadata": {},
   "outputs": [
    {
     "data": {
      "text/plain": [
       "(<360, 0, 60>, <22, 95, 47>)"
      ]
     },
     "execution_count": 13,
     "metadata": {},
     "output_type": "execute_result"
    }
   ],
   "source": [
    "(b.pos, b.size)"
   ]
  },
  {
   "cell_type": "code",
   "execution_count": 14,
   "metadata": {},
   "outputs": [
    {
     "data": {
      "text/plain": [
       "<11, 47.5, 23.5>"
      ]
     },
     "execution_count": 14,
     "metadata": {},
     "output_type": "execute_result"
    }
   ],
   "source": [
    "b.size / 2"
   ]
  },
  {
   "cell_type": "code",
   "execution_count": 19,
   "metadata": {},
   "outputs": [
    {
     "data": {
      "text/plain": [
       "22.0"
      ]
     },
     "execution_count": 19,
     "metadata": {},
     "output_type": "execute_result"
    }
   ],
   "source": [
    "b.size.x"
   ]
  },
  {
   "cell_type": "code",
   "execution_count": 6,
   "metadata": {},
   "outputs": [],
   "source": [
    "def databox(*args, **kwargs):\n",
    "    b = box(*args, **kwargs)\n",
    "    b.pos = vector(b.pos + (b.size / 2))\n",
    "    return b"
   ]
  },
  {
   "cell_type": "code",
   "execution_count": 9,
   "metadata": {},
   "outputs": [
    {
     "name": "stdout",
     "output_type": "stream",
     "text": [
      "naturalistic_monkey_m_ohp_session_1: (38, 640, 39)\n",
      "naturalistic_monkey_m_ohp_session_2: (36, 640, 38)\n",
      "naturalistic_monkey_m_stretch_session_1: (38, 640, 39)\n",
      "naturalistic_monkey_m_stretch_session_2: (36, 640, 52)\n",
      "naturalistic_monkey_n_stretch_session_1: (34, 640, 20)\n",
      "naturalistic_monkey_n_stretch_session_2: (34, 640, 1)\n",
      "naturalistic_monkey_s_ohp_session_1: (33, 640, 22)\n",
      "naturalistic_monkey_s_stretch_session_1: (33, 640, 22)\n",
      "synthetic_monkey_m_ohp_session_1: (51, 50, 39)\n",
      "synthetic_monkey_m_ohp_session_2: (40, 45, 38)\n",
      "synthetic_monkey_m_stretch_session_1: (51, 50, 39)\n",
      "synthetic_monkey_m_stretch_session_2: (33, 80, 52)\n",
      "synthetic_monkey_n_stretch_session_1: (31, 90, 20)\n",
      "synthetic_monkey_n_stretch_session_2: (20, 5, 1)\n",
      "synthetic_monkey_s_ohp_session_1: (47, 95, 22)\n",
      "synthetic_monkey_s_stretch_session_1: (47, 95, 22)\n"
     ]
    }
   ],
   "source": [
    "for o in scene.objects:\n",
    "    o.visible = False\n",
    "    del o\n",
    "    \n",
    "# dimensions in H5:  (repetition, image, neuroid)\n",
    "# dimensions in diagram:  (x: neuroid, y: image, z: repetition)\n",
    "axes = [\n",
    "    arrow(axis=vector(200,0,0), color=color.red), \n",
    "    arrow(axis=vector(0,200,0), color=color.green), \n",
    "    arrow(axis=vector(0,0,200), color=color.blue)\n",
    "]\n",
    "axis_labels = [label(text=name, pos=axis.axis) for axis, name in zip(axes, [\"neuroid\", \"image\", \"repetition\"])]\n",
    "x_offset = 0\n",
    "for monkey in h5.root.neural.naturalistic:\n",
    "  for setting in monkey:\n",
    "    for session in setting: \n",
    "        sh = session.shape\n",
    "        size = vector(sh[2], sh[1], sh[0])\n",
    "        text = f\"naturalistic_{monkey._v_name}_{setting._v_name}_{session._v_name}: {sh}\"\n",
    "        print(text)\n",
    "        pos = vector(x_offset, 0, 0)\n",
    "        b = databox(pos=pos, size=size, color=color.cyan, opacity=0.5)\n",
    "        x_offset += b.size.x + 20\n",
    "#         l = label(pos=pos, text=text, pixel_pos=False)\n",
    "x_offset = 0\n",
    "y_offset = 0\n",
    "z_offset = 60\n",
    "for monkey in h5.root.neural.synthetic:\n",
    "  for setting in monkey:\n",
    "    for session in setting: \n",
    "        sh = session.shape\n",
    "        size = vector(sh[2], sh[1], sh[0])\n",
    "        text = f\"synthetic_{monkey._v_name}_{setting._v_name}_{session._v_name}: {sh}\"\n",
    "        print(text)\n",
    "        pos = vector(x_offset, y_offset, z_offset)\n",
    "        b = databox(pos=pos, size=size, color=color.magenta, opacity=0.5)\n",
    "        x_offset += b.size.x + 20\n",
    "        y_offset += b.size.y\n",
    "#         l = label(pos=pos, text=text, pixel_pos=False)        "
   ]
  },
  {
   "cell_type": "code",
   "execution_count": 53,
   "metadata": {},
   "outputs": [
    {
     "data": {
      "text/plain": [
       "True"
      ]
     },
     "execution_count": 53,
     "metadata": {},
     "output_type": "execute_result"
    }
   ],
   "source": [
    "scene.visible"
   ]
  },
  {
   "cell_type": "code",
   "execution_count": null,
   "metadata": {},
   "outputs": [],
   "source": []
  },
  {
   "cell_type": "code",
   "execution_count": null,
   "metadata": {},
   "outputs": [],
   "source": []
  }
 ],
 "metadata": {
  "kernelspec": {
   "display_name": "dlvisuals",
   "language": "python",
   "name": "dlvisuals"
  },
  "language_info": {
   "codemirror_mode": {
    "name": "ipython",
    "version": 3
   },
   "file_extension": ".py",
   "mimetype": "text/x-python",
   "name": "python",
   "nbconvert_exporter": "python",
   "pygments_lexer": "ipython3",
   "version": "3.8.5"
  }
 },
 "nbformat": 4,
 "nbformat_minor": 4
}
