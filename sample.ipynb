{
 "cells": [
  {
   "cell_type": "code",
   "execution_count": 1,
   "metadata": {},
   "outputs": [
    {
     "name": "stderr",
     "output_type": "stream",
     "text": [
      "/Users/linussommer/miniforge3/envs/bs_old/lib/python3.7/site-packages/brainscore_core/metrics/__init__.py:16: FutureWarning: xarray subclass Score should explicitly define __slots__\n",
      "  class Score(DataAssembly):\n"
     ]
    }
   ],
   "source": [
    "import functools\n",
    "\n",
    "import numpy as np\n",
    "\n",
    "import brainscore_vision\n",
    "from brainio.assemblies import BehavioralAssembly, DataAssembly, walk_coords\n",
    "from brainio.stimuli import StimulusSet\n",
    "from brainscore_vision.model_helpers.utils import make_list\n",
    "from brainscore_vision.benchmark_helpers.screen import place_on_screen\n",
    "from brainscore_vision.model_helpers.activations import PytorchWrapper\n",
    "from brainscore_vision.model_helpers.brain_transformation import ModelCommitment\n",
    "from brainscore_vision.model_interface import BrainModel"
   ]
  },
  {
   "cell_type": "code",
   "execution_count": 2,
   "metadata": {},
   "outputs": [],
   "source": [
    "def pytorch_custom():\n",
    "    import torch\n",
    "    from torch import nn\n",
    "    from brainscore_vision.model_helpers.activations.pytorch import load_preprocess_images\n",
    "\n",
    "    class MyModel(nn.Module):\n",
    "        def __init__(self):\n",
    "            super(MyModel, self).__init__()\n",
    "            np.random.seed(0)\n",
    "            torch.random.manual_seed(0)\n",
    "            self.conv1 = torch.nn.Conv2d(in_channels=3, out_channels=2, kernel_size=3)\n",
    "            self.relu1 = torch.nn.ReLU()\n",
    "            linear_input_size = np.power((224 - 3 + 2 * 0) / 1 + 1, 2) * 2\n",
    "            self.linear = torch.nn.Linear(int(linear_input_size), 1000)\n",
    "            self.relu2 = torch.nn.ReLU()\n",
    "\n",
    "        def forward(self, x):\n",
    "            x = self.conv1(x)\n",
    "            x = self.relu1(x)\n",
    "            x = x.view(x.size(0), -1)\n",
    "            x = self.linear(x)\n",
    "            x = self.relu2(x)\n",
    "            return x\n",
    "\n",
    "    preprocessing = functools.partial(load_preprocess_images, image_size=224)\n",
    "    return PytorchWrapper(model=MyModel(), preprocessing=preprocessing)"
   ]
  },
  {
   "cell_type": "code",
   "execution_count": 3,
   "metadata": {},
   "outputs": [],
   "source": [
    "# create model\n",
    "activations_model = pytorch_custom()\n",
    "layers = [\"relu2\"]\n",
    "\n",
    "# create brain model\n",
    "brain_model = ModelCommitment(\n",
    "    identifier=activations_model.identifier, \n",
    "    activations_model=activations_model, \n",
    "    layers=[None], \n",
    "    behavioral_readout_layer='relu2')\n",
    "\n",
    "assy = brainscore_vision.load_dataset(f'Hebart2023')\n",
    "triplets = place_on_screen(\n",
    "    stimulus_set=assy.stimulus_set,\n",
    "    target_visual_degrees=brain_model.visual_degrees(),\n",
    "    source_visual_degrees=8)\n",
    "    \n",
    "features = activations_model(triplets, layers=layers)\n",
    "features = features.transpose('presentation', 'neuroid')"
   ]
  },
  {
   "cell_type": "code",
   "execution_count": 4,
   "metadata": {},
   "outputs": [],
   "source": [
    "def calculate_similarity_matrix(features, similarity_measure='dot'):\n",
    "   features = features.transpose('presentation', 'neuroid')\n",
    "   values = features.values\n",
    "   if similarity_measure == 'dot':\n",
    "      similarity_matrix = np.dot(values, np.transpose(values))\n",
    "   elif similarity_measure == 'cosine':\n",
    "      row_norms = np.linalg.norm(values, axis=1).reshape(-1, 1)\n",
    "      norm_product = np.dot(row_norms, row_norms.T)\n",
    "      dot_product = np.dot(values, np.transpose(values))\n",
    "      similarity_matrix = dot_product / norm_product\n",
    "   else:\n",
    "      raise ValueError(\n",
    "      f\"Unknown similarity_measure {similarity_measure} -- expected one of 'dot' or 'cosine'\")\n",
    "\n",
    "   similarity_matrix = DataAssembly(similarity_matrix, coords={\n",
    "        **{f\"{coord}_left\": ('presentation_left', values) for coord, _, values in\n",
    "           walk_coords(features['presentation'])},\n",
    "        **{f\"{coord}_right\": ('presentation_right', values) for coord, _, values in\n",
    "           walk_coords(features['presentation'])}\n",
    "   }, dims=['presentation_left', 'presentation_right'])\n",
    "   return similarity_matrix"
   ]
  },
  {
   "cell_type": "code",
   "execution_count": 5,
   "metadata": {},
   "outputs": [],
   "source": [
    "def calculate_choices(similarity_matrix, triplets):\n",
    "    choice_predictions = []\n",
    "    for triplet in triplets:\n",
    "        i, j, k = triplet\n",
    "        sims = similarity_matrix[i, j], similarity_matrix[i, k],  similarity_matrix[j, k]\n",
    "        idx = triplet[2 - np.argmax(sims)]\n",
    "        choice_predictions.append(idx)\n",
    "    # TODO return as DataAssembly\n",
    "    return choice_predictions"
   ]
  },
  {
   "cell_type": "code",
   "execution_count": 6,
   "metadata": {},
   "outputs": [],
   "source": [
    "triplets = brainscore_vision.load_dataset(f'Hebart2023')\n",
    "triplets = np.array([triplets['image_1'], triplets['image_2'], triplets['image_3']]).T\n",
    "sample = triplets[:10]\n",
    "sim = calculate_similarity_matrix(features, similarity_measure='cosine')\n",
    "choices = calculate_choices(similarity_matrix=sim, triplets=sample)"
   ]
  },
  {
   "cell_type": "code",
   "execution_count": 9,
   "metadata": {},
   "outputs": [
    {
     "name": "stdout",
     "output_type": "stream",
     "text": [
      "[[ 112 1459  632]\n",
      " [1278 1561  792]\n",
      " [ 796 1660  413]\n",
      " [  27  671  320]\n",
      " [1448 1531  324]\n",
      " [1594  280 1825]\n",
      " [1381 1522   14]\n",
      " [1528  526  208]\n",
      " [1491 1336 1850]\n",
      " [1494  171 1113]]\n",
      "[1459, 1278, 1660, 320, 1531, 1825, 14, 1528, 1850, 1113]\n"
     ]
    }
   ],
   "source": [
    "print(sample)\n",
    "print(choices)"
   ]
  }
 ],
 "metadata": {
  "kernelspec": {
   "display_name": "bs_old",
   "language": "python",
   "name": "python3"
  },
  "language_info": {
   "codemirror_mode": {
    "name": "ipython",
    "version": 3
   },
   "file_extension": ".py",
   "mimetype": "text/x-python",
   "name": "python",
   "nbconvert_exporter": "python",
   "pygments_lexer": "ipython3",
   "version": "3.7.12"
  }
 },
 "nbformat": 4,
 "nbformat_minor": 2
}
